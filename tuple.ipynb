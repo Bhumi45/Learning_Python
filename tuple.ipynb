{
 "cells": [
  {
   "cell_type": "markdown",
   "id": "bad014bb-4692-4196-8e80-49b4cb737402",
   "metadata": {},
   "source": [
    "# <b>TUPLE<b>\n",
    "- Tuples are used to store multiple items in a single variable of different types.\n",
    "- Tuples are immutable i.e. you cannot change the elements of a tuple in place, python will\n",
    "  create a fresh tuple when you make changes to an element of a tuple.\n",
    "- Tuple is a type of sequence like strings and list but it differes from them in the way \n",
    "   that lists are mutable but strings and tuple are immutable.\n",
    "- Tuple items are ordered, unchangeable, and allow duplicate values.\n",
    "- Tuple items are indexed, the first item has index [0], the second item has index [] et\n",
    "- Ordered: When we say that tuples are ordered, it means that the items have a defined     order, and that order will not change.\n",
    "- Indexed: Since tuples are indexed, they can have items with the same value.\n",
    "- To determine how many items a tuple has, use the len() function"
   ]
  },
  {
   "cell_type": "code",
   "execution_count": null,
   "id": "4efd9ce6-a4fa-45dd-a1d7-af4aedd7cf30",
   "metadata": {},
   "outputs": [],
   "source": [
    "# empty tuple\n",
    "t=tuple()"
   ]
  },
  {
   "cell_type": "code",
   "execution_count": null,
   "id": "7f9dc679-f630-43a4-a100-051c07fff29f",
   "metadata": {},
   "outputs": [],
   "source": [
    "# tuple with one element.\n",
    "tup=('apple')\n",
    "len(tup) # giving wrong answers."
   ]
  },
  {
   "cell_type": "code",
   "execution_count": null,
   "id": "ccdb24a2-4e88-4dc2-8b42-e2fba2328976",
   "metadata": {},
   "outputs": [],
   "source": [
    "tup=('apple',)\n",
    "len(tup)"
   ]
  },
  {
   "cell_type": "code",
   "execution_count": null,
   "id": "5a5ca180-7f0b-49e6-bbad-c03bf233f87f",
   "metadata": {},
   "outputs": [],
   "source": [
    "# long tuples: if a tuple contains many element , then split it across several lines\n",
    "tup=(1,2,3,4,5,6,7,8,9,11,2,34,667,8,,99,00,55"
   ]
  },
  {
   "cell_type": "code",
   "execution_count": null,
   "id": "802dd607-48b6-404a-9175-9b337a2ffc3e",
   "metadata": {},
   "outputs": [],
   "source": [
    "# nested tuple\n",
    "t1=(1,2,3,(2,3))"
   ]
  },
  {
   "cell_type": "markdown",
   "id": "7897cc27-be7a-4ca5-906a-788a4a059ea0",
   "metadata": {},
   "source": [
    "### <b> Creating Tuple from existing sequences:\n",
    "- you can also use the built-in type object (tuple()) to create tuples from sequences.\n",
    "- syntax: T=tuple(<sequence>) <sequence> can be any kind of sequence object including strings,list and tuples."
   ]
  },
  {
   "cell_type": "code",
   "execution_count": null,
   "id": "4b438fa7-cf66-4636-8a74-1bbeba567c9c",
   "metadata": {},
   "outputs": [],
   "source": [
    "t1=tuple('hello')\n",
    "t1\n",
    "# it generated individual elements from the individual."
   ]
  },
  {
   "cell_type": "code",
   "execution_count": null,
   "id": "59c81184-3b93-4da8-a2f8-edf48380ce68",
   "metadata": {},
   "outputs": [],
   "source": [
    "l=['write']\n",
    "t2=tuple(l)\n",
    "t2"
   ]
  },
  {
   "cell_type": "code",
   "execution_count": null,
   "id": "08152772-8780-4416-ab83-fd3a00d3e689",
   "metadata": {},
   "outputs": [],
   "source": [
    "l=['w','r','i','t','e']\n",
    "t3=tuple(l)\n",
    "t3"
   ]
  },
  {
   "cell_type": "code",
   "execution_count": null,
   "id": "dee0c4fb-d94c-483e-bdbc-67326d7ea8b0",
   "metadata": {},
   "outputs": [],
   "source": [
    "#we can use this method of creating tuples of single characters or single digits through keyboard input.\n",
    "t1=tuple(input('enter the elements'))\n",
    "print(t1)\n",
    "t2=eval(input('enter the tuple'))\n",
    "print(t2) # while using eval make sure to enclose tuple elements in parenthesis."
   ]
  },
  {
   "cell_type": "code",
   "execution_count": null,
   "id": "3311ad32-2b78-4e49-bc06-15c509be1c40",
   "metadata": {},
   "outputs": [],
   "source": []
  },
  {
   "cell_type": "markdown",
   "id": "30ecc8a3-08f0-4761-b9d2-3abc0642a861",
   "metadata": {},
   "source": [
    "## Access Tuple Items\n",
    "- Other then editing items,you can do all that you can do with lists.\n",
    "- You can access tuple items by referring to the index number, inside square brackets.\n",
    "- Negative indexing means start from the end.\r\n",
    "-\n",
    "-1 refers to the last item, -2 refers to the second last item et\n",
    "- similarities in list and tuple:\n",
    "    - length function\n",
    "    - indexing and slicing\n",
    "    - membership operator\n",
    "    - concatenation operators(+)c."
   ]
  },
  {
   "cell_type": "code",
   "execution_count": null,
   "id": "97cc697c-d160-464e-a7a5-bad32575c489",
   "metadata": {},
   "outputs": [],
   "source": [
    "tup=(3,4,56,78)\n",
    "print(tup[1])\n",
    "print(tup[-3])\n",
    "# while accessing tuple elements if you pass in a negative index ,python adds the length\n",
    "#of the index to get element's forward index"
   ]
  },
  {
   "cell_type": "code",
   "execution_count": null,
   "id": "554a1178-04e6-4b66-b626-b2b8673c9533",
   "metadata": {},
   "outputs": [],
   "source": []
  },
  {
   "cell_type": "code",
   "execution_count": null,
   "id": "16b2e38e-befe-4a64-9edf-01261fd464d7",
   "metadata": {},
   "outputs": [],
   "source": [
    "# difference between list and tuple\n",
    "l=[1,2,3]\n",
    "l[2]=4\n",
    "print(l)\n",
    "tup=(1,2,3)\n",
    "tup[2]=4\n",
    "# you cannot perform item-reassignment in immutable datatypes."
   ]
  },
  {
   "cell_type": "code",
   "execution_count": null,
   "id": "9e3162ff-2bdc-4096-8d9a-738e287231d5",
   "metadata": {},
   "outputs": [],
   "source": [
    "tup=(3,4,5,6)\n",
    "print(list(tup))\n",
    "print(tup)"
   ]
  },
  {
   "cell_type": "code",
   "execution_count": null,
   "id": "350c9beb-f1d5-47e9-aed4-7b6b7dc82745",
   "metadata": {},
   "outputs": [],
   "source": [
    "# traversing a list\n",
    "tup=(2,3,44,5,6,8)\n",
    "for i in tup:\n",
    "    print(i)"
   ]
  },
  {
   "cell_type": "code",
   "execution_count": 9,
   "id": "d2d91c72-ee2d-4fb3-b6a7-bd7440be74f6",
   "metadata": {},
   "outputs": [
    {
     "ename": "TypeError",
     "evalue": "tuple indices must be integers or slices, not str",
     "output_type": "error",
     "traceback": [
      "\u001b[1;31m---------------------------------------------------------------------------\u001b[0m",
      "\u001b[1;31mTypeError\u001b[0m                                 Traceback (most recent call last)",
      "Cell \u001b[1;32mIn[9], line 3\u001b[0m\n\u001b[0;32m      1\u001b[0m tup\u001b[38;5;241m=\u001b[39m(\u001b[38;5;124m'\u001b[39m\u001b[38;5;124mP\u001b[39m\u001b[38;5;124m'\u001b[39m,\u001b[38;5;124m'\u001b[39m\u001b[38;5;124mY\u001b[39m\u001b[38;5;124m'\u001b[39m,\u001b[38;5;124m'\u001b[39m\u001b[38;5;124mT\u001b[39m\u001b[38;5;124m'\u001b[39m,\u001b[38;5;124m'\u001b[39m\u001b[38;5;124mH\u001b[39m\u001b[38;5;124m'\u001b[39m,\u001b[38;5;124m'\u001b[39m\u001b[38;5;124mO\u001b[39m\u001b[38;5;124m'\u001b[39m,\u001b[38;5;124m'\u001b[39m\u001b[38;5;124mN\u001b[39m\u001b[38;5;124m'\u001b[39m)\n\u001b[0;32m      2\u001b[0m \u001b[38;5;28;01mfor\u001b[39;00m i \u001b[38;5;129;01min\u001b[39;00m tup:\n\u001b[1;32m----> 3\u001b[0m     \u001b[38;5;28mprint\u001b[39m(tup[i])\n",
      "\u001b[1;31mTypeError\u001b[0m: tuple indices must be integers or slices, not str"
     ]
    }
   ],
   "source": []
  },
  {
   "cell_type": "code",
   "execution_count": null,
   "id": "2941f02d-c632-4f36-8c37-7cdbfc0100be",
   "metadata": {},
   "outputs": [],
   "source": [
    "tup=(1,2,'hello',[1,3])\n",
    "for i in range(len(tup)):\n",
    "    print(tup[i])"
   ]
  },
  {
   "cell_type": "code",
   "execution_count": null,
   "id": "9d774586-9307-47b5-a938-33e49cfa9cec",
   "metadata": {},
   "outputs": [],
   "source": [
    "tup=(2,4,5,6,7)\n",
    "l1=list(tup)\n",
    "print(l1)"
   ]
  },
  {
   "cell_type": "code",
   "execution_count": null,
   "id": "404cff8a-eb1b-4394-9e89-17869c94437d",
   "metadata": {},
   "outputs": [],
   "source": [
    "list1=[2,3,4]\n",
    "tuple(list1)"
   ]
  },
  {
   "cell_type": "code",
   "execution_count": null,
   "id": "b9515d2b-7392-40cf-9f89-86b030e4486f",
   "metadata": {},
   "outputs": [],
   "source": [
    "print(list1)"
   ]
  },
  {
   "cell_type": "code",
   "execution_count": null,
   "id": "356fc15b-a4e6-4b08-99d2-92a290a39b8d",
   "metadata": {},
   "outputs": [],
   "source": [
    "tup[-1]"
   ]
  },
  {
   "cell_type": "code",
   "execution_count": null,
   "id": "556bca5f-6475-4c85-b489-7352bcd7eeae",
   "metadata": {},
   "outputs": [],
   "source": [
    "l1=['apple','banana','grape']\n",
    "print('apple' in l1)"
   ]
  },
  {
   "cell_type": "code",
   "execution_count": null,
   "id": "be43f114-2f9c-4099-9c4c-669f49f0d7c4",
   "metadata": {},
   "outputs": [],
   "source": [
    "tup=('riya','banana','grape')\n",
    "print('riya' in tup)"
   ]
  },
  {
   "cell_type": "code",
   "execution_count": null,
   "id": "6fdb7e4c-1274-4a13-855b-30529c97d165",
   "metadata": {},
   "outputs": [],
   "source": []
  },
  {
   "cell_type": "markdown",
   "id": "d6f4e68b-5a55-4f28-8c69-e3fff7cc508e",
   "metadata": {},
   "source": [
    "# Update Tuple:\n",
    "- Once a tuple is created, you cannot change its values. Tuples are unchangeable, or immutable as it also is called.\r\n",
    "- \r\n",
    "But there is a workaround. You can convert the tuple into a list, change the list, and convert the list back into a tuple."
   ]
  },
  {
   "cell_type": "markdown",
   "id": "98d5f6bb-a0a8-4e45-8080-e3c48444f47e",
   "metadata": {},
   "source": [
    "# Add Items\n",
    "- Since tuples are immutable, they do not have a built-in append() method, but there are other ways to add items to a tuple.\n",
    "\n",
    "- 1. Convert into a list: Just like the workaround for changing a tuple \n",
    "   you can convert it into a list, add your item(s), and convert it back into a tuple."
   ]
  },
  {
   "cell_type": "code",
   "execution_count": null,
   "id": "013fc554-efbb-410a-9027-f8bc643b72ff",
   "metadata": {},
   "outputs": [],
   "source": [
    "tup=('apple','banana','orange')\n",
    "tup.add('grape')"
   ]
  },
  {
   "cell_type": "code",
   "execution_count": null,
   "id": "76d2fd07-e77a-42bd-a08e-ad3d1b1e0921",
   "metadata": {},
   "outputs": [],
   "source": [
    "tup=('apple','banana','orange')\n",
    "tup[1]='grape'"
   ]
  },
  {
   "cell_type": "code",
   "execution_count": null,
   "id": "44994fdb-11d0-4601-8bea-fd9f9efe96b0",
   "metadata": {},
   "outputs": [],
   "source": [
    "tup+='grape'"
   ]
  },
  {
   "cell_type": "code",
   "execution_count": null,
   "id": "f0d5d2ad-9a72-4c29-ac29-3421b40e3ff9",
   "metadata": {},
   "outputs": [],
   "source": [
    "fruits=('apple','mango','grape')\n",
    "y=list(fruits)\n",
    "y.append('banana')\n",
    "fruits=tuple(y)\n",
    "\n",
    "print(fruits)"
   ]
  },
  {
   "cell_type": "markdown",
   "id": "2bdb78c6-1b28-469f-ad8b-3933fbd3d8d4",
   "metadata": {},
   "source": [
    "#### Add tuple to a tuple. \n",
    "- You are allowed to add tuples to tuples, so if you want to add one item, (or many), create a new tuple with the item(s), and add it to the existing     tuple"
   ]
  },
  {
   "cell_type": "code",
   "execution_count": null,
   "id": "9fa96658-f53c-488a-b8b6-f0b581c3eb89",
   "metadata": {},
   "outputs": [],
   "source": [
    "fruits=('apple','banana','orange')\n",
    "fruit=('strawberry',)\n",
    "fruits+=fruit\n",
    "print(fruits)"
   ]
  },
  {
   "cell_type": "markdown",
   "id": "9bdc274b-a10b-4655-a824-8d5999ab19a9",
   "metadata": {},
   "source": [
    "# Item of a tuple cannot be deleted directly :\n",
    "- first convert it into list then remove its item.\n",
    "- you can del the entire tuple using del "
   ]
  },
  {
   "cell_type": "code",
   "execution_count": null,
   "id": "8fcf6d05-bb02-4929-a3ab-66708cbad3ae",
   "metadata": {},
   "outputs": [],
   "source": [
    "tup1=(2,3,4,5)\n",
    "del(tup1)\n",
    "print(tup1)"
   ]
  },
  {
   "cell_type": "markdown",
   "id": "6887163b-f27e-4433-8a33-055e72f17101",
   "metadata": {},
   "source": [
    "## <b> Joining Tuples\n",
    "- To perform joining two tuples just simply add both the tuples. use '+' operator"
   ]
  },
  {
   "cell_type": "code",
   "execution_count": 12,
   "id": "2904d539-df8e-4ea9-a9df-89ddb5ef3096",
   "metadata": {},
   "outputs": [
    {
     "data": {
      "text/plain": [
       "(1, 2, 4, 4, 5, 6)"
      ]
     },
     "execution_count": 12,
     "metadata": {},
     "output_type": "execute_result"
    }
   ],
   "source": [
    "tp1=(1,2,4)\n",
    "tp2=(4,5,6)\n",
    "tp1+tp2\n",
    "# '+' operstor concatenate two tuples and created a new tuple.we can also join two or more tuples."
   ]
  },
  {
   "cell_type": "code",
   "execution_count": 14,
   "id": "fbdb0cf6-025e-492d-bc54-682aa3e86e4d",
   "metadata": {},
   "outputs": [
    {
     "ename": "TypeError",
     "evalue": "can only concatenate tuple (not \"int\") to tuple",
     "output_type": "error",
     "traceback": [
      "\u001b[1;31m---------------------------------------------------------------------------\u001b[0m",
      "\u001b[1;31mTypeError\u001b[0m                                 Traceback (most recent call last)",
      "Cell \u001b[1;32mIn[14], line 2\u001b[0m\n\u001b[0;32m      1\u001b[0m \u001b[38;5;66;03m#'+' operator when used with tuples requires that both the operands must be of tuple types.\u001b[39;00m\n\u001b[1;32m----> 2\u001b[0m tp1\u001b[38;5;241m+\u001b[39m\u001b[38;5;241m2\u001b[39m\n",
      "\u001b[1;31mTypeError\u001b[0m: can only concatenate tuple (not \"int\") to tuple"
     ]
    }
   ],
   "source": [
    "#'+' operator when used with tuples requires that both the operands must be of tuple types.\n",
    "tp1+2"
   ]
  },
  {
   "cell_type": "code",
   "execution_count": 26,
   "id": "70b652d7-f03b-442e-8832-5406edbda183",
   "metadata": {},
   "outputs": [
    {
     "data": {
      "text/plain": [
       "('a', 1)"
      ]
     },
     "execution_count": 26,
     "metadata": {},
     "output_type": "execute_result"
    }
   ],
   "source": [
    "# Note : a single values in () is treated as single values\n",
    "tp1=('a',)\n",
    "# tp2=(1,)\n",
    "tp1+(1,)"
   ]
  },
  {
   "cell_type": "code",
   "execution_count": 28,
   "id": "ed53a192-6439-4da4-95a4-0fdb73301763",
   "metadata": {},
   "outputs": [
    {
     "data": {
      "text/plain": [
       "(1, 2, 3, 4, 5, 6, 7, 8, 9, 10, 11, 12, 13, 20)"
      ]
     },
     "execution_count": 28,
     "metadata": {},
     "output_type": "execute_result"
    }
   ],
   "source": [
    "tp1=(1,2,3,4,5,6,7,8,9,10,11,12,13)\n",
    "tp1+(20,)"
   ]
  },
  {
   "cell_type": "markdown",
   "id": "c7bd32a3-c738-488e-99d6-434aeffb69a3",
   "metadata": {},
   "source": [
    "### <b> Slicing the tuples\n",
    "- tuple slices, like list or string .\n",
    "- syntax: seq=tuple[start:stop]"
   ]
  },
  {
   "cell_type": "code",
   "execution_count": 48,
   "id": "237a284e-a82f-42e2-af2c-764ede4821fe",
   "metadata": {},
   "outputs": [
    {
     "ename": "IndexError",
     "evalue": "tuple index out of range",
     "output_type": "error",
     "traceback": [
      "\u001b[1;31m---------------------------------------------------------------------------\u001b[0m",
      "\u001b[1;31mIndexError\u001b[0m                                Traceback (most recent call last)",
      "Cell \u001b[1;32mIn[48], line 3\u001b[0m\n\u001b[0;32m      1\u001b[0m \u001b[38;5;66;03m## for normal indexig, if the  resulting index is outside of tuple, python rises an indexerror exception\u001b[39;00m\n\u001b[0;32m      2\u001b[0m \u001b[38;5;28mtuple\u001b[39m\u001b[38;5;241m=\u001b[39m(\u001b[38;5;241m1\u001b[39m,\u001b[38;5;241m2\u001b[39m,\u001b[38;5;241m4\u001b[39m,\u001b[38;5;241m5\u001b[39m,\u001b[38;5;241m6\u001b[39m,\u001b[38;5;241m7\u001b[39m,\u001b[38;5;241m8\u001b[39m,\u001b[38;5;241m9\u001b[39m)\n\u001b[1;32m----> 3\u001b[0m \u001b[38;5;28mtuple\u001b[39m[\u001b[38;5;241m10\u001b[39m]\n",
      "\u001b[1;31mIndexError\u001b[0m: tuple index out of range"
     ]
    }
   ],
   "source": [
    "## for normal indexig, if the  resulting index is outside of tuple, python rises an indexerror exception\n",
    "tuple=(1,2,4,5,6,7,8,9)\n",
    "tuple[10]"
   ]
  },
  {
   "cell_type": "code",
   "execution_count": 46,
   "id": "4f733bf0-d57a-42cd-ba1c-ff8ad20e8b4b",
   "metadata": {},
   "outputs": [
    {
     "data": {
      "text/plain": [
       "(2, 4, 5, 6, 7, 8, 9)"
      ]
     },
     "execution_count": 46,
     "metadata": {},
     "output_type": "execute_result"
    }
   ],
   "source": [
    "tpl=(1,2,4,5,6,7,8,9)\n",
    "seq=tpl[1:30]\n",
    "seq\n",
    "# but in slicing the result will simply contain all items berween the boundaries.\n",
    "#for the start and stop given beyond tuple limits in a tuple slice,python simply returns \n",
    "#the elements that fall between specific boundaries."
   ]
  },
  {
   "cell_type": "code",
   "execution_count": 54,
   "id": "cf3756ac-2b18-4397-acc5-d28e8a28ad64",
   "metadata": {},
   "outputs": [
    {
     "data": {
      "text/plain": [
       "(1, 4)"
      ]
     },
     "execution_count": 54,
     "metadata": {},
     "output_type": "execute_result"
    }
   ],
   "source": [
    "# tuple also support steps too\n",
    "tpl=(1,2,4,5,6,7,8,9)\n",
    "seq=tpl[0:4:2]\n",
    "seq"
   ]
  },
  {
   "cell_type": "markdown",
   "id": "23e75fca-7a7b-4e1b-8ae2-7ea8d3fca1ab",
   "metadata": {},
   "source": [
    "## <b> Comparing Tuples\n",
    "- you can compare tuples without having to write code with loops for it.\n",
    "- for compairing we can use  comparision operator i.e, <,>,==,!=.\n",
    "- python compare individual elements of two tuples.\n",
    "- for two tuples to be equal they must have same number of elements and matching values\n",
    "  are considered equal."
   ]
  },
  {
   "cell_type": "code",
   "execution_count": 59,
   "id": "6508e55d-3165-428d-8752-7f2b6ad0df83",
   "metadata": {},
   "outputs": [
    {
     "name": "stdout",
     "output_type": "stream",
     "text": [
      "True\n",
      "False\n"
     ]
    }
   ],
   "source": [
    "a=(1,2,3,4)\n",
    "b=(1,2,3,4)\n",
    "print(a==b)\n",
    "c=(1,2,3,4,5)\n",
    "print(a==b==c)"
   ]
  },
  {
   "cell_type": "markdown",
   "id": "911a3fdb-c2f2-4129-90e5-9188f7c836ce",
   "metadata": {},
   "source": [
    "# Unpacking a Tuple\n",
    "- When we create a tuple, we normally assign values to it. This is called \"packing\" a tuple\n",
    "- But, in Python, we are also allowed to extract the values back into variables. This is called \"unpacking\".\n",
    "- The number of variables must match the number of values in the tuple, if not, you must use an asterisk to collect the remaining values as a list."
   ]
  },
  {
   "cell_type": "code",
   "execution_count": 66,
   "id": "4807c9f2-334f-4559-aa83-90af43f8b9a9",
   "metadata": {},
   "outputs": [
    {
     "name": "stdout",
     "output_type": "stream",
     "text": [
      "apple\n",
      "banana\n",
      "cherry\n"
     ]
    }
   ],
   "source": [
    "# unpacking a tuple:\n",
    "fruits=(\"riya\" ,\"diya\" ,\"siya\")\n",
    "fruits=name1,name2,name3\n",
    "print(name1)\n",
    "print(name2)\n",
    "print(name3)\n",
    "\n",
    "\n",
    "\n"
   ]
  },
  {
   "cell_type": "code",
   "execution_count": 68,
   "id": "fd79c539-1f88-42a7-999f-dff5d1b81138",
   "metadata": {},
   "outputs": [
    {
     "name": "stdout",
     "output_type": "stream",
     "text": [
      "apple\n",
      "banana\n",
      "cherry\n"
     ]
    }
   ],
   "source": [
    "fruits = (\"apple\", \"banana\", \"cherry\")\n",
    "\n",
    "name1,name2,name3 = fruits\n",
    "print(name1)\n",
    "print(name2)\n",
    "print(name3)"
   ]
  },
  {
   "cell_type": "code",
   "execution_count": null,
   "id": "1ab0589f-dab6-4eb1-8e7f-5666f3a41d52",
   "metadata": {},
   "outputs": [],
   "source": [
    "fruits = (\"apple\", \"banana\", \"cherry\")\n",
    "\n",
    "fruits=(name1,name2,name3)\n",
    "\n",
    "print(name1)\n",
    "print(name2)\n",
    "print(name3)"
   ]
  },
  {
   "cell_type": "code",
   "execution_count": null,
   "id": "8a86b373-868f-4645-8892-3e90d3da11da",
   "metadata": {},
   "outputs": [],
   "source": [
    "tup1=('s','i')\n",
    "tup1=(e,f)\n",
    "print(f)\n",
    "# (e,f)=tup1\n",
    "# print(e)"
   ]
  },
  {
   "cell_type": "code",
   "execution_count": null,
   "id": "a564588b-2de9-4fe1-840a-1c24698a7410",
   "metadata": {},
   "outputs": [],
   "source": [
    "tup1=(e,f)\n",
    "print(e)"
   ]
  },
  {
   "cell_type": "markdown",
   "id": "6338f405-0af0-4e70-88d1-5dd5477228bf",
   "metadata": {},
   "source": [
    "## Deleting Tuples:\n",
    "- The del statement is used to delete elements and objects.\n",
    "- But since tuples are immutable,which also means that individual elements of a tuple\n",
    "  connot be deleted."
   ]
  },
  {
   "cell_type": "code",
   "execution_count": 71,
   "id": "190cb9c4-76a3-4329-b01f-06249509c244",
   "metadata": {},
   "outputs": [],
   "source": [
    "tup1=(3,4,5)\n",
    "del tup1"
   ]
  },
  {
   "cell_type": "code",
   "execution_count": 75,
   "id": "7ee57dd0-86bc-4354-bb9e-cce6d8ba9a5e",
   "metadata": {},
   "outputs": [
    {
     "ename": "TypeError",
     "evalue": "'tuple' object doesn't support item deletion",
     "output_type": "error",
     "traceback": [
      "\u001b[1;31m---------------------------------------------------------------------------\u001b[0m",
      "\u001b[1;31mTypeError\u001b[0m                                 Traceback (most recent call last)",
      "Cell \u001b[1;32mIn[75], line 2\u001b[0m\n\u001b[0;32m      1\u001b[0m tup2\u001b[38;5;241m=\u001b[39m(\u001b[38;5;241m12\u001b[39m,\u001b[38;5;241m3\u001b[39m)\n\u001b[1;32m----> 2\u001b[0m \u001b[38;5;28;01mdel\u001b[39;00m tup2[\u001b[38;5;241m0\u001b[39m]\n",
      "\u001b[1;31mTypeError\u001b[0m: 'tuple' object doesn't support item deletion"
     ]
    }
   ],
   "source": [
    "tup2=(12,3)\n",
    "del tup2[0]\n",
    "# only complete tuple can be deleted"
   ]
  },
  {
   "cell_type": "markdown",
   "id": "cb2f4f1b-b57a-483f-9115-9f2fb33dfe6b",
   "metadata": {},
   "source": [
    "# Tuple Methods\n",
    "- tuple has only two mehtods : count() , index() and rest are functions.\n",
    "- len():count the length of tup.\n",
    "- max():return max element in tuple.It will only return value if all elements are of\n",
    "        same type.\n",
    "- min():find the minimun value.\n",
    "- tuple(): this is constructor method that can be used to create tuples from different\n",
    "           types of values.\n",
    "- count():Returns the number of times a specified value occurs in a tuple.\n",
    "- index():Searches the tuple for a specified value and returns the position of where it was found"
   ]
  },
  {
   "cell_type": "code",
   "execution_count": 89,
   "id": "ef394c32-f52c-44a0-80d4-9648e0ad56b8",
   "metadata": {},
   "outputs": [
    {
     "name": "stdout",
     "output_type": "stream",
     "text": [
      "6\n"
     ]
    }
   ],
   "source": [
    "# len()\n",
    "tup1=(2,3,4,5,3,5)\n",
    "print(len(tup1))"
   ]
  },
  {
   "cell_type": "code",
   "execution_count": 91,
   "id": "2d625759-0483-4e55-857b-0213339c5676",
   "metadata": {},
   "outputs": [
    {
     "data": {
      "text/plain": [
       "5"
      ]
     },
     "execution_count": 91,
     "metadata": {},
     "output_type": "execute_result"
    }
   ],
   "source": [
    "# max\n",
    "max(tup1)"
   ]
  },
  {
   "cell_type": "code",
   "execution_count": 93,
   "id": "5553b5f7-4cc6-4162-85c0-6332f7acb892",
   "metadata": {},
   "outputs": [
    {
     "data": {
      "text/plain": [
       "2"
      ]
     },
     "execution_count": 93,
     "metadata": {},
     "output_type": "execute_result"
    }
   ],
   "source": [
    "#min\n",
    "min(tup1)"
   ]
  },
  {
   "cell_type": "code",
   "execution_count": 95,
   "id": "c5f5390b-1a18-4e05-9390-0fb76e18f75e",
   "metadata": {},
   "outputs": [
    {
     "data": {
      "text/plain": [
       "1"
      ]
     },
     "execution_count": 95,
     "metadata": {},
     "output_type": "execute_result"
    }
   ],
   "source": [
    "tup1.index(3) # element is passed"
   ]
  },
  {
   "cell_type": "code",
   "execution_count": 99,
   "id": "5f498d8e-c5dd-4901-85a1-58c9da382f96",
   "metadata": {},
   "outputs": [
    {
     "data": {
      "text/plain": [
       "1"
      ]
     },
     "execution_count": 99,
     "metadata": {},
     "output_type": "execute_result"
    }
   ],
   "source": [
    "tup1.count(2) # element is passed"
   ]
  },
  {
   "cell_type": "code",
   "execution_count": 105,
   "id": "de3529ae-6fff-4258-90c8-463e7eda2a5b",
   "metadata": {},
   "outputs": [
    {
     "ename": "TypeError",
     "evalue": "'tuple' object is not callable",
     "output_type": "error",
     "traceback": [
      "\u001b[1;31m---------------------------------------------------------------------------\u001b[0m",
      "\u001b[1;31mTypeError\u001b[0m                                 Traceback (most recent call last)",
      "Cell \u001b[1;32mIn[105], line 2\u001b[0m\n\u001b[0;32m      1\u001b[0m l\u001b[38;5;241m=\u001b[39m[\u001b[38;5;241m1\u001b[39m,\u001b[38;5;241m2\u001b[39m,\u001b[38;5;241m3\u001b[39m,\u001b[38;5;241m4\u001b[39m,\u001b[38;5;241m5\u001b[39m]\n\u001b[1;32m----> 2\u001b[0m s\u001b[38;5;241m=\u001b[39m\u001b[38;5;28mtuple\u001b[39m(l)\n\u001b[0;32m      3\u001b[0m \u001b[38;5;28mprint\u001b[39m(s)\n",
      "\u001b[1;31mTypeError\u001b[0m: 'tuple' object is not callable"
     ]
    }
   ],
   "source": [
    "l=[1,2,3,4,5]\n",
    "s=tuple(l)\n",
    "print(s)"
   ]
  },
  {
   "cell_type": "code",
   "execution_count": null,
   "id": "5be5f0b3-4553-49b8-8bf0-2104b59de36d",
   "metadata": {},
   "outputs": [],
   "source": []
  }
 ],
 "metadata": {
  "kernelspec": {
   "display_name": "Python 3 (ipykernel)",
   "language": "python",
   "name": "python3"
  },
  "language_info": {
   "codemirror_mode": {
    "name": "ipython",
    "version": 3
   },
   "file_extension": ".py",
   "mimetype": "text/x-python",
   "name": "python",
   "nbconvert_exporter": "python",
   "pygments_lexer": "ipython3",
   "version": "3.12.4"
  }
 },
 "nbformat": 4,
 "nbformat_minor": 5
}
