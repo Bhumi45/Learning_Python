{
 "cells": [
  {
   "cell_type": "markdown",
   "id": "091b1fc8-1722-41d6-8dc6-3802ce08ed67",
   "metadata": {},
   "source": [
    "# For Loops :\n",
    "- used to itereate over a sequence of iterable objects in python(stirngs,list,tuple,set).\n",
    "- A for loop is used when you know in advance how many times you want to execute a statement or a block of statements."
   ]
  },
  {
   "cell_type": "code",
   "execution_count": 11,
   "id": "e04dc148-06ab-4f54-8fa6-33f81ebfd891",
   "metadata": {},
   "outputs": [
    {
     "name": "stdout",
     "output_type": "stream",
     "text": [
      "r\n",
      "i\n",
      "y\n",
      "a\n"
     ]
    }
   ],
   "source": [
    "a=\"riya\"\n",
    "for i in a:\n",
    "    print(i)"
   ]
  },
  {
   "cell_type": "code",
   "execution_count": 13,
   "id": "9879de44-7409-4f9b-b949-7e67b881ccd3",
   "metadata": {},
   "outputs": [
    {
     "name": "stdout",
     "output_type": "stream",
     "text": [
      "riya\n",
      "diya\n",
      "siya\n",
      "rita\n"
     ]
    }
   ],
   "source": [
    "list=['riya','diya','siya','rita']\n",
    "for name in list:  \n",
    "    print(name)"
   ]
  },
  {
   "cell_type": "code",
   "execution_count": 15,
   "id": "58412d6d-e685-4122-a69b-cf7221144500",
   "metadata": {},
   "outputs": [
    {
     "name": "stdout",
     "output_type": "stream",
     "text": [
      "riya\n",
      "r\n",
      "i\n",
      "y\n",
      "a\n",
      "diya\n",
      "d\n",
      "i\n",
      "y\n",
      "a\n",
      "siya\n",
      "s\n",
      "i\n",
      "y\n",
      "a\n",
      "rita\n",
      "r\n",
      "i\n",
      "t\n",
      "a\n"
     ]
    }
   ],
   "source": [
    "list=['riya','diya','siya','rita']\n",
    "for name in list:  \n",
    "    print(name)\n",
    "    for i in name:\n",
    "        print(i)"
   ]
  },
  {
   "cell_type": "code",
   "execution_count": 19,
   "id": "100de603-a2b9-4aff-a666-828e650635a3",
   "metadata": {},
   "outputs": [
    {
     "ename": "NameError",
     "evalue": "name 'roll' is not defined",
     "output_type": "error",
     "traceback": [
      "\u001b[1;31m---------------------------------------------------------------------------\u001b[0m",
      "\u001b[1;31mNameError\u001b[0m                                 Traceback (most recent call last)",
      "Cell \u001b[1;32mIn[19], line 4\u001b[0m\n\u001b[0;32m      2\u001b[0m rollno\u001b[38;5;241m=\u001b[39m[\u001b[38;5;241m1\u001b[39m,\u001b[38;5;241m2\u001b[39m,\u001b[38;5;241m3\u001b[39m,\u001b[38;5;241m4\u001b[39m,]\n\u001b[0;32m      3\u001b[0m section\u001b[38;5;241m=\u001b[39m[\u001b[38;5;124m'\u001b[39m\u001b[38;5;124mA\u001b[39m\u001b[38;5;124m'\u001b[39m,\u001b[38;5;124m'\u001b[39m\u001b[38;5;124mB\u001b[39m\u001b[38;5;124m'\u001b[39m,\u001b[38;5;124m'\u001b[39m\u001b[38;5;124mC\u001b[39m\u001b[38;5;124m'\u001b[39m,\u001b[38;5;124m'\u001b[39m\u001b[38;5;124mD\u001b[39m\u001b[38;5;124m'\u001b[39m]\n\u001b[1;32m----> 4\u001b[0m \u001b[38;5;28;01mfor\u001b[39;00m name \u001b[38;5;129;01min\u001b[39;00m names,roll \u001b[38;5;129;01min\u001b[39;00m rollno:\n\u001b[0;32m      5\u001b[0m     \u001b[38;5;28mprint\u001b[39m(name)\n\u001b[0;32m      6\u001b[0m     \u001b[38;5;28mprint\u001b[39m(roll)\n",
      "\u001b[1;31mNameError\u001b[0m: name 'roll' is not defined"
     ]
    }
   ],
   "source": [
    "names=['riya','diya','siya','kartik']\n",
    "rollno=[1,2,3,4,]\n",
    "section=['A','B','C','D']\n",
    "for name in names,roll in rollno:\n",
    "    print(name)\n",
    "    print(roll)"
   ]
  },
  {
   "cell_type": "markdown",
   "id": "978f0ea8-e0b7-4ff1-b7be-f530a5cae31a",
   "metadata": {},
   "source": [
    "## <span style='color:green'>Zip()</span>\n",
    "- Python zip() method takes iterable containers and returns a single iterator object, having mapped values from all the containers.\n",
    "- It is used to map the similar index of multiple containers so that they can be used just using a single entity.\n",
    "- In Python, the zip() function is used to combine two or more lists (or any other iterables) into a single iterable, where elements from corresponding   positions are paired together. The resulting iterable contains tuples, where the first element from each list is paired together, the second element    from each list is paired together, and so on.\n",
    "- Syntax :  zip(*iterators)\n",
    "- \r\n",
    "Parameters : Python iterables or containers ( list, string et )c\n",
    "- When you want to iterate over multiple lists in parallel, the zip function is very handy.) \r\n",
    "\r\n"
   ]
  },
  {
   "cell_type": "code",
   "execution_count": 8,
   "id": "72a24745-998b-40ba-8c21-10162e1d8acc",
   "metadata": {},
   "outputs": [
    {
     "name": "stdout",
     "output_type": "stream",
     "text": [
      "1 riya A\n",
      "2 diya B\n",
      "3 siya C\n",
      "4 kartik D\n"
     ]
    }
   ],
   "source": [
    "names=['riya','diya','siya','kartik']\n",
    "rollno=[1,2,3,4,]\n",
    "section=['A','B','C','D']\n",
    "for name,rollno,section in zip(names,rollno,section):\n",
    "    print(rollno,name,section)\n"
   ]
  },
  {
   "cell_type": "code",
   "execution_count": 10,
   "id": "396d1cab-d195-4a26-aefc-9ba055d4bf95",
   "metadata": {},
   "outputs": [
    {
     "name": "stdout",
     "output_type": "stream",
     "text": [
      "1\n",
      "3\n",
      "6\n",
      "7\n",
      "8\n",
      "2\n",
      "3\n",
      "6\n",
      "7\n",
      "8\n",
      "3\n",
      "3\n",
      "6\n",
      "7\n",
      "8\n",
      "4\n",
      "3\n",
      "6\n",
      "7\n",
      "8\n"
     ]
    }
   ],
   "source": [
    "list1=[1,2,3,4]\n",
    "list2=[3,6,7,8]\n",
    "for i in list1:\n",
    "    print(i)\n",
    "    for j in list2:\n",
    "        print(j)"
   ]
  },
  {
   "cell_type": "code",
   "execution_count": 5,
   "id": "284bf858-562e-4f96-864b-f42241eb6514",
   "metadata": {},
   "outputs": [
    {
     "name": "stdout",
     "output_type": "stream",
     "text": [
      "1 24\n",
      "2 25\n",
      "3 20\n"
     ]
    }
   ],
   "source": [
    "set1={1,2,3}\n",
    "set2={20,24,25}\n",
    "for i,j in zip(set1,set2):\n",
    "    print(i,j)\n"
   ]
  },
  {
   "cell_type": "markdown",
   "id": "779e3110-82d3-49c0-9d30-57db5a216c0b",
   "metadata": {},
   "source": [
    "# <span style='color: green'>range()</style>\n",
    "- It is used when we want to iterate over a specific number of times.\n",
    "- Syntax of range: range(start, stop, step)\n",
    "- By default start value is 0\n",
    "- By default step value is 1"
   ]
  },
  {
   "cell_type": "code",
   "execution_count": 23,
   "id": "975f2f46-4ecf-4686-9e86-96c7e1fc1235",
   "metadata": {},
   "outputs": [
    {
     "name": "stdout",
     "output_type": "stream",
     "text": [
      "0\n",
      "1\n",
      "2\n",
      "3\n",
      "4\n"
     ]
    }
   ],
   "source": [
    "for i in range(5):\n",
    "    print(i)"
   ]
  },
  {
   "cell_type": "code",
   "execution_count": 20,
   "id": "37ba14c8-e291-420f-b9f2-d03ecfc4f8a5",
   "metadata": {},
   "outputs": [
    {
     "name": "stdout",
     "output_type": "stream",
     "text": [
      "1\n",
      "2\n",
      "4\n",
      "5\n"
     ]
    }
   ],
   "source": [
    "list1=[1,2,4,5]\n",
    "l=len(list1)\n",
    "for i in range(4):\n",
    "    print(list1[i])"
   ]
  },
  {
   "cell_type": "code",
   "execution_count": 30,
   "id": "d539308c-3dd0-4586-a7af-9f08036647ce",
   "metadata": {},
   "outputs": [
    {
     "name": "stdout",
     "output_type": "stream",
     "text": [
      "*\n",
      "**\n",
      "***\n",
      "****\n",
      "*****\n",
      "******\n",
      "*******\n",
      "********\n",
      "*********\n"
     ]
    }
   ],
   "source": [
    "for i in range(1,10):\n",
    "    print(i*'*')"
   ]
  },
  {
   "cell_type": "code",
   "execution_count": 1,
   "id": "176ef8a9-21aa-4e26-ad6b-7574224cdc4f",
   "metadata": {},
   "outputs": [
    {
     "name": "stdin",
     "output_type": "stream",
     "text": [
      "enter no of digits 3\n",
      "enter your number 145\n"
     ]
    },
    {
     "name": "stdout",
     "output_type": "stream",
     "text": [
      "its not a armstrong number\n"
     ]
    }
   ],
   "source": [
    "# write a program to check if a number is armstrong number or not\n",
    "#eg:153\n",
    "n=int(input('enter no of digits'))\n",
    "num=int(input('enter your number'))\n",
    "original=num\n",
    "sum=0\n",
    "for i  in range(n):\n",
    "        d=num%10\n",
    "        sum+=d**n\n",
    "        num=int(num)//10\n",
    "if(sum==original):\n",
    "    print('its a armstrong number')\n",
    "else: print('its not a armstrong number')"
   ]
  },
  {
   "cell_type": "code",
   "execution_count": 3,
   "id": "2fd6ab8d-6a6f-443a-b170-87528add5185",
   "metadata": {},
   "outputs": [
    {
     "name": "stdin",
     "output_type": "stream",
     "text": [
      "enter the digits of your number 3\n",
      "enter your number 121\n"
     ]
    },
    {
     "name": "stdout",
     "output_type": "stream",
     "text": [
      "number is palindrome\n"
     ]
    }
   ],
   "source": [
    "# check a given number is palindrome or not\n",
    "n=int(input('enter the digits of your number'))\n",
    "num=int(input('enter your number'))\n",
    "original=num\n",
    "temp=0\n",
    "for i in range(n):\n",
    "    d=num%10\n",
    "    temp=temp*10+d\n",
    "    num=num//10\n",
    "if(temp==original):\n",
    "    print('number is palindrome')\n",
    "else:\n",
    "    print('number is not palindrome')\n"
   ]
  },
  {
   "cell_type": "code",
   "execution_count": 7,
   "id": "c035eaaa-40aa-43d8-9316-ef7683a7a95d",
   "metadata": {},
   "outputs": [
    {
     "name": "stdin",
     "output_type": "stream",
     "text": [
      "enter the total numbers 3\n",
      " 1\n"
     ]
    },
    {
     "ename": "IndexError",
     "evalue": "list assignment index out of range",
     "output_type": "error",
     "traceback": [
      "\u001b[1;31m---------------------------------------------------------------------------\u001b[0m",
      "\u001b[1;31mIndexError\u001b[0m                                Traceback (most recent call last)",
      "Cell \u001b[1;32mIn[7], line 6\u001b[0m\n\u001b[0;32m      4\u001b[0m \u001b[38;5;28msum\u001b[39m\u001b[38;5;241m=\u001b[39m\u001b[38;5;241m0\u001b[39m\n\u001b[0;32m      5\u001b[0m \u001b[38;5;28;01mfor\u001b[39;00m i \u001b[38;5;129;01min\u001b[39;00m \u001b[38;5;28mrange\u001b[39m(n):\n\u001b[1;32m----> 6\u001b[0m     \u001b[38;5;28mlist\u001b[39m[i]\u001b[38;5;241m=\u001b[39m\u001b[38;5;28mint\u001b[39m (\u001b[38;5;28minput\u001b[39m())\n\u001b[0;32m      7\u001b[0m     \u001b[38;5;66;03m# list.append(int(input())) \u001b[39;00m\n\u001b[0;32m      8\u001b[0m \u001b[38;5;28;01mfor\u001b[39;00m j \u001b[38;5;129;01min\u001b[39;00m \u001b[38;5;28mlist\u001b[39m:\n",
      "\u001b[1;31mIndexError\u001b[0m: list assignment index out of range"
     ]
    }
   ],
   "source": [
    "#write a program to add all the even numbers from a list using for loop\n",
    "n =int(input('enter the total numbers'))\n",
    "list=[]\n",
    "sum=0\n",
    "for i in range(n):\n",
    "    list.append(int(input())) \n",
    "for j in list:\n",
    "    if j%2==0:\n",
    "        sum=sum+j\n",
    "print(\"sum is:\",sum)"
   ]
  },
  {
   "cell_type": "code",
   "execution_count": null,
   "id": "82587b9c-91d4-42a1-9980-c2eaa4744e75",
   "metadata": {},
   "outputs": [],
   "source": []
  },
  {
   "cell_type": "code",
   "execution_count": null,
   "id": "85c2ff93-2e24-4f85-ac9a-853708dcb1f2",
   "metadata": {},
   "outputs": [],
   "source": []
  },
  {
   "cell_type": "code",
   "execution_count": null,
   "id": "95019e4b-b09b-4c6c-956f-3d79174b1cad",
   "metadata": {},
   "outputs": [],
   "source": []
  },
  {
   "cell_type": "code",
   "execution_count": null,
   "id": "7b8dd7ea-e96c-40c7-acb4-6ce83c49cb81",
   "metadata": {},
   "outputs": [],
   "source": []
  },
  {
   "cell_type": "code",
   "execution_count": null,
   "id": "0dee32c8-c1ea-49be-8df6-da4d8d09ee67",
   "metadata": {},
   "outputs": [],
   "source": []
  },
  {
   "cell_type": "code",
   "execution_count": null,
   "id": "42cd1ba9-f5c0-4011-8180-bb7357a7466a",
   "metadata": {},
   "outputs": [],
   "source": []
  },
  {
   "cell_type": "code",
   "execution_count": null,
   "id": "4fd2a05c-55c4-459b-8aa3-f79c0b02e165",
   "metadata": {},
   "outputs": [],
   "source": []
  },
  {
   "cell_type": "markdown",
   "id": "144dca21-37ee-4685-87be-27fab7ba0bd8",
   "metadata": {},
   "source": [
    "# While Loop\n",
    "- While loop executes the statements when condition true. As soonas condition become false while loop stops.\n",
    "- syntax: while condition\n"
   ]
  },
  {
   "cell_type": "code",
   "execution_count": 16,
   "id": "4ce15742-44ae-456f-840b-8f4d5b7a6ecc",
   "metadata": {},
   "outputs": [
    {
     "name": "stdout",
     "output_type": "stream",
     "text": [
      "hello\n",
      "hello\n",
      "hello\n",
      "hello\n",
      "hello\n"
     ]
    }
   ],
   "source": [
    "a=1\n",
    "while a<6:\n",
    "    print('hello')\n",
    "    a+=1"
   ]
  },
  {
   "cell_type": "code",
   "execution_count": 20,
   "id": "01f73522-7f28-47f6-8842-007e8d5801b4",
   "metadata": {},
   "outputs": [
    {
     "name": "stdout",
     "output_type": "stream",
     "text": [
      "1\n",
      "2\n",
      "4\n"
     ]
    }
   ],
   "source": [
    "list=[1,2,4]\n",
    "i=0\n",
    "while(i<len(list)):\n",
    "    print(list[i])\n",
    "    i+=1"
   ]
  },
  {
   "cell_type": "code",
   "execution_count": 38,
   "id": "a14a0761-205f-427b-9a6b-6a9410a58d2b",
   "metadata": {},
   "outputs": [
    {
     "name": "stdout",
     "output_type": "stream",
     "text": [
      "bhumika bill is: free\n",
      "riya bill is: 600\n",
      "diya bill is: 1250\n",
      "siya bill is: free\n"
     ]
    }
   ],
   "source": [
    "l1=['bhumika','riya','diya','siya']\n",
    "l2=[50,120,250,100]\n",
    "i=0\n",
    "while(i<len(l2)):\n",
    "    if(l2[i]<=100):\n",
    "        bill='free'\n",
    "    elif(l2[i]>100):\n",
    "        bill=l2[i]*5\n",
    "    elif(l2[i]<=200):\n",
    "        bill=l2[i]*10\n",
    "    else:\n",
    "        bill=l2[i]*20\n",
    "    print(l1[i],'bill is:',bill)\n",
    "    i+=1"
   ]
  },
  {
   "cell_type": "code",
   "execution_count": 47,
   "id": "5ce52ba8-bd26-40d0-8757-e9695dff2fb6",
   "metadata": {},
   "outputs": [
    {
     "name": "stdin",
     "output_type": "stream",
     "text": [
      "enter the digits of your number 3\n",
      "enter your number 121\n"
     ]
    },
    {
     "name": "stdout",
     "output_type": "stream",
     "text": [
      "number is palindrome\n"
     ]
    }
   ],
   "source": [
    "# check a given number is palindrome or not\n",
    "n=int(input('enter the digits of your number'))\n",
    "num=int(input('enter your number'))\n",
    "original=num\n",
    "temp=0\n",
    "i=0\n",
    "while i<n:\n",
    "    d=num%10\n",
    "    temp=temp*10+d\n",
    "    num=num//10\n",
    "    i+=1\n",
    "if(temp==original):\n",
    "    print('number is palindrome')\n",
    "else:\n",
    "    print('number is not palindrome')\n"
   ]
  },
  {
   "cell_type": "code",
   "execution_count": 49,
   "id": "5d313664-583a-4589-a676-e3828511612c",
   "metadata": {},
   "outputs": [
    {
     "name": "stdout",
     "output_type": "stream",
     "text": [
      "1 1\n",
      "2 4\n",
      "3 9\n",
      "4 16\n",
      "5 25\n",
      "6 36\n",
      "7 49\n",
      "8 64\n",
      "9 81\n",
      "10 100\n"
     ]
    }
   ],
   "source": [
    "# write a program to print first 10 numbers with there squares.\n",
    "i=1\n",
    "while(i<=10):\n",
    "    print(i,i*i)\n",
    "    i+=1"
   ]
  },
  {
   "cell_type": "code",
   "execution_count": 59,
   "id": "bb6cb7b1-3146-4005-88d0-027678cf2124",
   "metadata": {},
   "outputs": [
    {
     "name": "stdin",
     "output_type": "stream",
     "text": [
      " 8\n"
     ]
    },
    {
     "name": "stdout",
     "output_type": "stream",
     "text": [
      "8\n",
      "16\n",
      "24\n",
      "32\n",
      "40\n",
      "48\n",
      "56\n",
      "64\n",
      "72\n",
      "80\n"
     ]
    }
   ],
   "source": [
    "n =int(input())\n",
    "i=1\n",
    "while i<=10:\n",
    "    print(i*n)\n",
    "    i+=1"
   ]
  },
  {
   "cell_type": "code",
   "execution_count": 11,
   "id": "c1f689f3-c73e-4eff-abe0-c99045876e6e",
   "metadata": {},
   "outputs": [
    {
     "name": "stdin",
     "output_type": "stream",
     "text": [
      "enter the total no. of numbers 5\n"
     ]
    },
    {
     "name": "stdout",
     "output_type": "stream",
     "text": [
      "1 is prime\n",
      "2 is even\n",
      "3 is prime\n",
      "4 is even\n",
      "5 is prime\n"
     ]
    }
   ],
   "source": [
    "# check the number is prime or even.\n",
    "n= int(input('enter the total no. of numbers'))\n",
    "i=1\n",
    "while i<=n:\n",
    "    if(i%2==0):\n",
    "        print(i,'is even')\n",
    "    else:\n",
    "        print(i,'is prime')\n",
    "    i+=1"
   ]
  },
  {
   "cell_type": "code",
   "execution_count": 33,
   "id": "81bf6d7b-26c9-4146-a7a0-509abe343712",
   "metadata": {},
   "outputs": [
    {
     "name": "stdin",
     "output_type": "stream",
     "text": [
      "enter the number 123\n"
     ]
    },
    {
     "name": "stdout",
     "output_type": "stream",
     "text": [
      "one\n",
      "two\n",
      "three\n"
     ]
    }
   ],
   "source": [
    "num=input('enter the number')\n",
    "l1=list(num)\n",
    "l=len(l1)\n",
    "i=0\n",
    "n={0:'one',1:'one',2:'two',3:'three',4:'four',5:'five',6:'six',7:'seven',8:'eight',9:'nine'}\n",
    "while i<l:\n",
    "    print(n[int(l1[i])]);\n",
    "    i+=1\n",
    "    "
   ]
  },
  {
   "cell_type": "code",
   "execution_count": 85,
   "id": "bef57c1d-91d7-4b47-9833-b887c7945a71",
   "metadata": {},
   "outputs": [
    {
     "name": "stdin",
     "output_type": "stream",
     "text": [
      "enter the no. of terms 5\n"
     ]
    },
    {
     "name": "stdout",
     "output_type": "stream",
     "text": [
      "1\n",
      "1\n",
      "1\n",
      "3\n",
      "5\n"
     ]
    }
   ],
   "source": [
    "# fabonacci series\n",
    "n= int(input('enter the no. of terms'))\n",
    "i=0;\n",
    "while i<n:\n",
    "    if(i==0 or i==1):\n",
    "        print(1)\n",
    "    else:\n",
    "        print(i-1+i-2)\n",
    "    i+=1"
   ]
  },
  {
   "cell_type": "code",
   "execution_count": 9,
   "id": "8b41eaff-bc7f-43d4-bcbf-d026517c5ffa",
   "metadata": {},
   "outputs": [
    {
     "name": "stdin",
     "output_type": "stream",
     "text": [
      "enter the name riya\n",
      "enter the name riya\n"
     ]
    },
    {
     "name": "stdout",
     "output_type": "stream",
     "text": [
      "hello riya\n"
     ]
    },
    {
     "name": "stdin",
     "output_type": "stream",
     "text": [
      "enter the name riya\n"
     ]
    },
    {
     "name": "stdout",
     "output_type": "stream",
     "text": [
      "hello riya\n"
     ]
    },
    {
     "name": "stdin",
     "output_type": "stream",
     "text": [
      "enter the name riya\n"
     ]
    },
    {
     "name": "stdout",
     "output_type": "stream",
     "text": [
      "hello riya\n"
     ]
    },
    {
     "name": "stdin",
     "output_type": "stream",
     "text": [
      "enter the name quit\n"
     ]
    },
    {
     "name": "stdout",
     "output_type": "stream",
     "text": [
      "terminated......\n"
     ]
    }
   ],
   "source": [
    "#  Create a while loop that asks the user for their name and greets them until they enter \"quit\".\n",
    "name=input('enter the name')\n",
    "while name!='quit':\n",
    "    name=input('enter the name')\n",
    "    if(name!='quit'):\n",
    "         print('hello',name)\n",
    "    else: print('terminated......')"
   ]
  },
  {
   "cell_type": "code",
   "execution_count": 11,
   "id": "8d838dc4-ae36-411c-9746-d702c965c8c5",
   "metadata": {},
   "outputs": [
    {
     "name": "stdout",
     "output_type": "stream",
     "text": [
      "tail\n"
     ]
    },
    {
     "name": "stdin",
     "output_type": "stream",
     "text": [
      "do you want to toss again? yes/no yes\n"
     ]
    },
    {
     "name": "stdout",
     "output_type": "stream",
     "text": [
      "tail\n"
     ]
    },
    {
     "name": "stdin",
     "output_type": "stream",
     "text": [
      "do you want to toss again? yes/no yes\n"
     ]
    },
    {
     "name": "stdout",
     "output_type": "stream",
     "text": [
      "tail\n"
     ]
    },
    {
     "name": "stdin",
     "output_type": "stream",
     "text": [
      "do you want to toss again? yes/no yes\n"
     ]
    },
    {
     "name": "stdout",
     "output_type": "stream",
     "text": [
      "head\n"
     ]
    },
    {
     "name": "stdin",
     "output_type": "stream",
     "text": [
      "do you want to toss again? yes/no yes\n"
     ]
    },
    {
     "name": "stdout",
     "output_type": "stream",
     "text": [
      "tail\n"
     ]
    },
    {
     "name": "stdin",
     "output_type": "stream",
     "text": [
      "do you want to toss again? yes/no no\n"
     ]
    },
    {
     "name": "stdout",
     "output_type": "stream",
     "text": [
      "no toss\n"
     ]
    }
   ],
   "source": [
    "#Create a while loop that simulates a coin toss, asking the user if they want to toss again.\n",
    "import random\n",
    "coin=['head','tail']\n",
    "t='yes'\n",
    "while(t=='yes'):\n",
    "    random_toss=random.choice(coin)\n",
    "    print(random_toss)\n",
    "    t=input('do you want to toss again? yes/no')\n",
    "print('no toss')\n",
    "    \n"
   ]
  },
  {
   "cell_type": "code",
   "execution_count": 27,
   "id": "19de8ab4-5cbd-4546-8d6f-604fe0556a65",
   "metadata": {},
   "outputs": [
    {
     "name": "stdout",
     "output_type": "stream",
     "text": [
      "A B C D E F G H I J K L M N O P Q R S T U V W X Y Z "
     ]
    }
   ],
   "source": [
    "#Write a while loop that prints the alphabet from A to Z.\n",
    "n =26\n",
    "i=0\n",
    "s='A'\n",
    "# b=ord(s)+1\n",
    "# print(chr(b))\n",
    "# print(s)\n",
    "while(i<n):\n",
    "    print(s,end=' ')\n",
    "    b=ord(s)+1\n",
    "    s=chr(b)\n",
    "    i+=1\n"
   ]
  },
  {
   "cell_type": "code",
   "execution_count": 33,
   "id": "b32bc122-dca8-4760-a243-3bf0b9d07025",
   "metadata": {},
   "outputs": [
    {
     "name": "stdout",
     "output_type": "stream",
     "text": [
      "average is : 30.0\n"
     ]
    }
   ],
   "source": [
    "# Use a while loop to calculate the average of a list of numbers.\n",
    "my_list=[10,20,30,40,50]\n",
    "n=len(my_list)\n",
    "sum=0\n",
    "for i in my_list:\n",
    "    sum+=i\n",
    "print('average is :',sum/n)"
   ]
  },
  {
   "cell_type": "code",
   "execution_count": 3,
   "id": "7036e7c9-c895-42a5-969b-e79a96850373",
   "metadata": {},
   "outputs": [
    {
     "name": "stdin",
     "output_type": "stream",
     "text": [
      "enter the number 7\n"
     ]
    },
    {
     "name": "stdout",
     "output_type": "stream",
     "text": [
      "5040\n"
     ]
    }
   ],
   "source": [
    "# factorial of a number\n",
    "n=int(input('enter the number'))\n",
    "i=n\n",
    "fact=1\n",
    "while i>0:\n",
    "    fact=fact*i\n",
    "    i-=1\n",
    "print(fact)"
   ]
  },
  {
   "cell_type": "code",
   "execution_count": 9,
   "id": "ce490809-3b73-4670-90f9-e885a7117902",
   "metadata": {},
   "outputs": [
    {
     "name": "stdin",
     "output_type": "stream",
     "text": [
      "enter the string riya\n"
     ]
    },
    {
     "name": "stdout",
     "output_type": "stream",
     "text": [
      "2\n"
     ]
    }
   ],
   "source": [
    "#Write a while loop that counts the number of vowels in a given string.\n",
    "str=input('enter the string')\n",
    "cnt=0\n",
    "i=0\n",
    "while(i<len(str)):\n",
    "    if str[i]=='a' or str[i]=='e' or str[i]=='i' or str[i]=='o' or str[i]=='u':\n",
    "        cnt+=1\n",
    "    i+=1\n",
    "print(cnt)"
   ]
  },
  {
   "cell_type": "code",
   "execution_count": 21,
   "id": "15ce4953-3324-4b0a-ad0d-68773605e3d9",
   "metadata": {},
   "outputs": [
    {
     "name": "stdin",
     "output_type": "stream",
     "text": [
      "enter the string riyaa\n"
     ]
    },
    {
     "name": "stdout",
     "output_type": "stream",
     "text": [
      "3\n"
     ]
    }
   ],
   "source": [
    "str=input('enter the string')\n",
    "cnt=0\n",
    "i=0\n",
    "vowels=['a','e','i','o','u','A','E','I','O','U']\n",
    "\n",
    "while(i<len(str)):\n",
    "    if str[i] in vowels:\n",
    "        cnt+=1\n",
    "    i+=1\n",
    "print(cnt)\n",
    "    "
   ]
  },
  {
   "cell_type": "code",
   "execution_count": 20,
   "id": "f803bb87-5829-456b-aa24-a3736a2ce225",
   "metadata": {},
   "outputs": [
    {
     "name": "stdout",
     "output_type": "stream",
     "text": [
      "paper\n"
     ]
    },
    {
     "name": "stdin",
     "output_type": "stream",
     "text": [
      "enter your choice lets play\n"
     ]
    },
    {
     "name": "stdout",
     "output_type": "stream",
     "text": [
      "scissors\n"
     ]
    },
    {
     "name": "stdin",
     "output_type": "stream",
     "text": [
      "enter your choice lets play\n"
     ]
    },
    {
     "name": "stdout",
     "output_type": "stream",
     "text": [
      "paper\n"
     ]
    },
    {
     "name": "stdin",
     "output_type": "stream",
     "text": [
      "enter your choice lets play\n"
     ]
    },
    {
     "name": "stdout",
     "output_type": "stream",
     "text": [
      "paper\n"
     ]
    },
    {
     "name": "stdin",
     "output_type": "stream",
     "text": [
      "enter your choice lets plat\n"
     ]
    },
    {
     "name": "stdout",
     "output_type": "stream",
     "text": [
      "thanks for playing ,game discontinued\n"
     ]
    }
   ],
   "source": [
    "#Write a while loop that simulates a game of rock-paper-scissors.\n",
    "import random\n",
    "game=['rock','paper','scissors']\n",
    "g='lets play'\n",
    "while(g=='lets play'):\n",
    "    random_play=random.choice(game)\n",
    "    print(random_play)\n",
    "    g=input('enter your choice')\n",
    "print('thanks for playing ,game discontinued')"
   ]
  },
  {
   "cell_type": "code",
   "execution_count": 15,
   "id": "e12530d7-a4ae-4591-a6a1-6003c3dff53e",
   "metadata": {},
   "outputs": [
    {
     "name": "stdout",
     "output_type": "stream",
     "text": [
      "77\n"
     ]
    }
   ],
   "source": [
    "# Use a while loop to find the minimum value in a list of numbers.\n",
    "num=[23,45,66,77]\n",
    "i=0\n",
    "large=num[0]\n",
    "while i<len(num):\n",
    "    if(num[i]>large):\n",
    "        large=num[i]\n",
    "    i+=1\n",
    "print(large)"
   ]
  },
  {
   "cell_type": "code",
   "execution_count": 19,
   "id": "30b29aa4-a89b-4977-a456-d13395f02706",
   "metadata": {},
   "outputs": [
    {
     "name": "stdout",
     "output_type": "stream",
     "text": [
      "standard deviation is: 125.0\n"
     ]
    }
   ],
   "source": [
    "#Create a while loop that calculates the standard deviation of a list of numbers.\n",
    "num=[20,30,40,50]\n",
    "i=0\n",
    "s=sum(num)\n",
    "l=len(num)\n",
    "avg=s/l\n",
    "n=0\n",
    "while i<len(num):\n",
    "    n+=((num[i]-avg)**2)\n",
    "    sd+=n/l\n",
    "    i+=1\n",
    "print('standard deviation is:',sd)\n",
    "    \n",
    "    "
   ]
  },
  {
   "cell_type": "code",
   "execution_count": null,
   "id": "44755e77-eb39-4ce6-bb1a-24a0bee5a4ff",
   "metadata": {},
   "outputs": [],
   "source": [
    "#Write a while loop that simulates a simple chatbot, responding to basic user queries."
   ]
  },
  {
   "cell_type": "code",
   "execution_count": 29,
   "id": "0ca0346d-5143-4973-a135-85e1f816069c",
   "metadata": {},
   "outputs": [
    {
     "name": "stdin",
     "output_type": "stream",
     "text": [
      "1.debit or 2.credit : credit\n",
      "enter the amount you want to credit 10000\n"
     ]
    },
    {
     "name": "stdout",
     "output_type": "stream",
     "text": [
      "Successfully credited 10000 total balance is: 210000\n"
     ]
    },
    {
     "name": "stdin",
     "output_type": "stream",
     "text": [
      " no\n"
     ]
    },
    {
     "name": "stdout",
     "output_type": "stream",
     "text": [
      "process end\n"
     ]
    }
   ],
   "source": [
    "#Create a while loop that simulates a simple banking system, allowing users to deposit and withdraw money.\n",
    "total_balance=200000\n",
    "n=input('1.debit or 2.credit :')\n",
    "while(n=='debit' or n=='credit'):\n",
    "    if(n=='debit'):\n",
    "        money=int(input('enter amount you want to debit'))\n",
    "        total_balance-=money\n",
    "        print('Successfully debited',money,'remaining balance is:',total_balance)\n",
    "    elif(n=='credit'):\n",
    "        money=int(input('enter the amount you want to credit'))\n",
    "        total_balance+=money\n",
    "        print('Successfully credited',money,'total balance is:',total_balance)\n",
    "    n=input()\n",
    "print('process end')"
   ]
  },
  {
   "cell_type": "code",
   "execution_count": 57,
   "id": "819a6d7c-af49-4b60-b3e4-2b2cfc39f371",
   "metadata": {},
   "outputs": [
    {
     "name": "stdin",
     "output_type": "stream",
     "text": [
      "enter list [1,2,3,4]\n"
     ]
    },
    {
     "name": "stdout",
     "output_type": "stream",
     "text": [
      "median is: 3.5\n"
     ]
    }
   ],
   "source": [
    "#Create a while loop that asks the user for a list of numbers and calculates their median.\n",
    "my_list=eval(input('enter list'))\n",
    "my_list.sort()\n",
    "n=len(my_list)\n",
    "if(n%2==0):\n",
    "    median=(my_list[(n-1)//2]+my_list[((n-1)//2)+1]/2)\n",
    "else:\n",
    "    n1=((n-1)+1)//2\n",
    "    median=my_list[n1]\n",
    "print('median is:',median)"
   ]
  },
  {
   "cell_type": "code",
   "execution_count": 17,
   "id": "9ea23208-0ac5-4777-85c1-d07adc8df012",
   "metadata": {},
   "outputs": [
    {
     "name": "stdin",
     "output_type": "stream",
     "text": [
      " hello\n"
     ]
    },
    {
     "name": "stdout",
     "output_type": "stream",
     "text": [
      "the number of consonants in hello  are  3\n"
     ]
    }
   ],
   "source": [
    "#  Create a while loop that asks the user for a string and counts the number of consonants.\n",
    "str= input()\n",
    "l=len(str)\n",
    "i=0\n",
    "cnt=0\n",
    "while(i<l):\n",
    "    if(str[i]=='a'or str[i]=='e'or str[i]=='i'or str[i]=='o'or str[i]=='u' or str[i]=='A' or str[i]=='E' or str[i]=='O' or str[i]=='U'or str[i]=='I'):\n",
    "        pass\n",
    "    else:\n",
    "        cnt+=1\n",
    "    i+=1\n",
    "print('the number of consonants in',str,' are ',cnt)"
   ]
  },
  {
   "cell_type": "code",
   "execution_count": 31,
   "id": "1f2aeced-15f2-42fa-8e23-aa92668f1f17",
   "metadata": {},
   "outputs": [
    {
     "name": "stdin",
     "output_type": "stream",
     "text": [
      "enter the number of operation you want to perform: 2\n",
      "enter first operand 5\n",
      "enter second operand 3\n",
      "enter the operation you want to perform:1.addition 2.subtraction 3.multiplication 4.division  multiplication\n"
     ]
    },
    {
     "name": "stdout",
     "output_type": "stream",
     "text": [
      "15\n"
     ]
    },
    {
     "name": "stdin",
     "output_type": "stream",
     "text": [
      "enter first operand 15\n",
      "enter second operand 2\n",
      "enter the operation you want to perform:1.addition 2.subtraction 3.multiplication 4.division  subtraction\n"
     ]
    },
    {
     "name": "stdout",
     "output_type": "stream",
     "text": [
      "13\n",
      "operation successfull\n"
     ]
    }
   ],
   "source": [
    "#Write a while loop that simulates a simple calculator, allowing users to perform basic arithmetic operations.\n",
    "n=int(input('enter the number of operation you want to perform:'))\n",
    "i=0\n",
    "while(i<n):\n",
    "    a=int(input('enter first operand'))\n",
    "    b=int(input('enter second operand'))\n",
    "    op=input('enter the operation you want to perform:1.addition 2.subtraction 3.multiplication 4.division ')\n",
    "    if(op=='addition'):\n",
    "        print(a+b)\n",
    "    elif(op=='subtraction'):\n",
    "        print(a-b)\n",
    "    elif(op=='multiplication'):\n",
    "        print(a*b)\n",
    "    elif(op=='division'):\n",
    "        print(a/b)\n",
    "    else:\n",
    "        print('invalid operator')\n",
    "    i+=1\n",
    "print('operation successfull')\n",
    "          "
   ]
  },
  {
   "cell_type": "code",
   "execution_count": 41,
   "id": "21558639-3975-408e-8b05-dc7e5690a25a",
   "metadata": {},
   "outputs": [
    {
     "name": "stdout",
     "output_type": "stream",
     "text": [
      "sum of cube of 1 to 5: 225\n"
     ]
    }
   ],
   "source": [
    "# Use a while loop to find the sum of the cubes of the numbers 1 to 5.\n",
    "i=1\n",
    "sum=0\n",
    "while(i<6):\n",
    "    cube=i**3\n",
    "    sum+=cube\n",
    "    i+=1\n",
    "print('sum of cube of 1 to 5:',sum)"
   ]
  },
  {
   "cell_type": "code",
   "execution_count": 75,
   "id": "c670050f-7afd-40a0-8acb-5e15cde8d4af",
   "metadata": {},
   "outputs": [
    {
     "name": "stdin",
     "output_type": "stream",
     "text": [
      "enter the number of strings in an list 2\n",
      " fh4\n",
      " gttt\n"
     ]
    },
    {
     "name": "stdout",
     "output_type": "stream",
     "text": [
      "the longest string in the list is: gttt\n"
     ]
    }
   ],
   "source": [
    "#  Create a while loop that asks the user for a list of strings and finds the longest one.\n",
    "n=int(input('enter the number of strings in an list'))\n",
    "i=0\n",
    "str=[]\n",
    "while i<n:\n",
    "    a=input()\n",
    "    str.append(a)\n",
    "    i+=1\n",
    "longest=len(str[0])\n",
    "j=1\n",
    "while(j<n):\n",
    "    if (len(str[j])>longest):\n",
    "        longest=str[j]\n",
    "    j+=1\n",
    "print('the longest string in the list is:',longest)\n",
    "    "
   ]
  },
  {
   "cell_type": "code",
   "execution_count": 83,
   "id": "168720c4-1ab4-4bb4-83dc-8d5f41ea491b",
   "metadata": {},
   "outputs": [
    {
     "name": "stdout",
     "output_type": "stream",
     "text": [
      "average is: 5.0\n"
     ]
    }
   ],
   "source": [
    "#Use a while loop to calculate the average of a 2D list of numbers.\n",
    "a=[\n",
    "    [1,2,3],\n",
    "    [4,5,6],\n",
    "    [7,8,9]\n",
    "]\n",
    "print(len(a))\n",
    "i=0\n",
    "avg=0\n",
    "cnt=0\n",
    "sum=0\n",
    "while(i<len(a)):\n",
    "    j=0\n",
    "    while(j<len(a)):\n",
    "        sum+=a[i][j]\n",
    "        cnt+=1\n",
    "        j+=1\n",
    "    i+=1\n",
    "avg=sum/cnt\n",
    "print('average is:',avg)\n",
    "    \n",
    "\n",
    "        \n"
   ]
  },
  {
   "cell_type": "code",
   "execution_count": 87,
   "id": "eb1d769e-b90f-42f0-848a-ac911352778c",
   "metadata": {},
   "outputs": [
    {
     "name": "stdout",
     "output_type": "stream",
     "text": [
      "3\n",
      "2\n",
      "1\n",
      "None\n"
     ]
    }
   ],
   "source": [
    "# Use a while loop to find the maximum value in a 2D list of numbers.\n",
    "a=[\n",
    "    [1,2,3],\n",
    "    [4,5,6],\n",
    "    [7,8,9]\n",
    "]\n",
    "large=a[0][0]\n",
    "while(i<len(a)):\n",
    "    j=0\n",
    "    h"
   ]
  },
  {
   "cell_type": "code",
   "execution_count": null,
   "id": "ae30c4d0-880f-40ac-8824-1fe191cdce82",
   "metadata": {},
   "outputs": [],
   "source": []
  },
  {
   "cell_type": "code",
   "execution_count": null,
   "id": "dd845351-dfc1-407e-9a78-46a767b3ffcd",
   "metadata": {},
   "outputs": [],
   "source": []
  },
  {
   "cell_type": "code",
   "execution_count": null,
   "id": "cb127e56-1f3a-4017-89d0-b9a5a04ce839",
   "metadata": {},
   "outputs": [],
   "source": []
  },
  {
   "cell_type": "code",
   "execution_count": null,
   "id": "0c059137-4a7c-40d0-92d6-64b7444c9c8b",
   "metadata": {},
   "outputs": [],
   "source": []
  },
  {
   "cell_type": "code",
   "execution_count": 51,
   "id": "814e7c8e-7090-4641-a19b-e75abc61417b",
   "metadata": {},
   "outputs": [
    {
     "data": {
      "text/plain": [
       "1"
      ]
     },
     "execution_count": 51,
     "metadata": {},
     "output_type": "execute_result"
    }
   ],
   "source": [
    "list=[1,2,3,4]\n",
    "list[0]"
   ]
  },
  {
   "cell_type": "markdown",
   "id": "83ec0f5b-5692-41d1-b3b5-e8d5db253845",
   "metadata": {},
   "source": [
    "# For Loops Questions"
   ]
  },
  {
   "cell_type": "code",
   "execution_count": 19,
   "id": "5c17b7a1-52d9-496b-8b92-2d633a2b4b51",
   "metadata": {},
   "outputs": [
    {
     "ename": "SyntaxError",
     "evalue": "incomplete input (3022122734.py, line 3)",
     "output_type": "error",
     "traceback": [
      "\u001b[1;36m  Cell \u001b[1;32mIn[19], line 3\u001b[1;36m\u001b[0m\n\u001b[1;33m    if(int(num)%3 and int(num)%13\u001b[0m\n\u001b[1;37m                                 ^\u001b[0m\n\u001b[1;31mSyntaxError\u001b[0m\u001b[1;31m:\u001b[0m incomplete input\n"
     ]
    }
   ],
   "source": [
    "num=input('enter the number between 100-500')\n",
    "if(int(num)>100 and int(num)<500):\n",
    "    if(int(num)%3 and int(num)%13"
   ]
  },
  {
   "cell_type": "code",
   "execution_count": 11,
   "id": "2795e916-b604-4f6b-9ec6-53285fc250b5",
   "metadata": {},
   "outputs": [
    {
     "name": "stdin",
     "output_type": "stream",
     "text": [
      "enter the value 5\n"
     ]
    },
    {
     "name": "stdout",
     "output_type": "stream",
     "text": [
      "factorial of 5 is 120\n"
     ]
    }
   ],
   "source": [
    "# Write a Python program to find the factorial of a given number using a for loop.\n",
    "n=int(input('enter the value'))\n",
    "fact=1\n",
    "for i in range(1,n+1):\n",
    "    fact=fact*i\n",
    "print('factorial of',n,'is',fact)"
   ]
  },
  {
   "cell_type": "code",
   "execution_count": 31,
   "id": "aed7500c-a69f-4c82-a2dc-6c1389f15f9d",
   "metadata": {},
   "outputs": [
    {
     "name": "stdin",
     "output_type": "stream",
     "text": [
      "enter the number 3\n"
     ]
    },
    {
     "name": "stdout",
     "output_type": "stream",
     "text": [
      "0\n",
      "1\n",
      "1\n"
     ]
    }
   ],
   "source": [
    "#Write a Python program to print the Fibonacci series up to `n` terms using a for loop.\n",
    "n=int(input('enter the number'))\n",
    "a=0\n",
    "b=1\n",
    "fab=0\n",
    "print(a)\n",
    "print(b)\n",
    "for i in range(2,n):\n",
    "    fab=a=b\n",
    "    print(fab)\n",
    "    a=b\n",
    "    b=fab\n",
    "    "
   ]
  },
  {
   "cell_type": "code",
   "execution_count": 37,
   "id": "da0e0909-5216-45ae-bd33-782db76fd500",
   "metadata": {},
   "outputs": [
    {
     "name": "stdin",
     "output_type": "stream",
     "text": [
      "enter the number 10\n"
     ]
    },
    {
     "name": "stdout",
     "output_type": "stream",
     "text": [
      "sum of 10 odd numbers 25\n"
     ]
    }
   ],
   "source": [
    "# Calculate the sum of all odd numbers between 1 and 50 using a for loop.\n",
    "n=int(input('enter the number'))\n",
    "sum=0\n",
    "for i in range(n):\n",
    "    if(i%2!=0):\n",
    "        sum+=i\n",
    "print('sum of',n,'odd numbers',sum)"
   ]
  },
  {
   "cell_type": "code",
   "execution_count": 242,
   "id": "7082385d-8f0b-4074-a8fd-69bcf9ecbf5e",
   "metadata": {},
   "outputs": [
    {
     "name": "stdin",
     "output_type": "stream",
     "text": [
      "enter the number 2\n"
     ]
    },
    {
     "name": "stdout",
     "output_type": "stream",
     "text": [
      "2 number is prime\n"
     ]
    }
   ],
   "source": [
    "#Check if a number is prime using a for loop.\n",
    "n=int(input('enter the number'))\n",
    "cnt=0\n",
    "for i in range(2,n):\n",
    "    if(n%i==0):\n",
    "        cnt+=1\n",
    "if(cnt==0):\n",
    "    print(n,'number is prime')\n",
    "else:\n",
    "    print(n,'number is not prime')"
   ]
  },
  {
   "cell_type": "code",
   "execution_count": 107,
   "id": "678f1535-5cc0-4ff4-b3c7-2aeb963beb2f",
   "metadata": {},
   "outputs": [
    {
     "name": "stdin",
     "output_type": "stream",
     "text": [
      "enter the string my name is riya\n"
     ]
    },
    {
     "name": "stdout",
     "output_type": "stream",
     "text": [
      "a y i r   s i   e m a n   y m "
     ]
    }
   ],
   "source": [
    "#Print the reverse of a given string using a for loop.\n",
    "str=input('enter the string')\n",
    "#print: ayir\n",
    "l=len(str)\n",
    "i=l\n",
    "for i in range(0,l):\n",
    "    print(str[l-i-1],end=\" \")"
   ]
  },
  {
   "cell_type": "code",
   "execution_count": 1,
   "id": "8527ebfc-f9c6-402a-a004-2181b5b6f1cf",
   "metadata": {},
   "outputs": [
    {
     "name": "stdin",
     "output_type": "stream",
     "text": [
      "number of elements in a list 4\n",
      "enter elements 999\n",
      "enter elements 67\n",
      "enter elements 88\n",
      "enter elements 9\n"
     ]
    },
    {
     "name": "stdout",
     "output_type": "stream",
     "text": [
      "[999, 67, 88, 9]\n",
      "999\n"
     ]
    }
   ],
   "source": [
    "# Find the largest element in a list using a for loop.\n",
    "my_list=[]\n",
    "n=int(input('number of elements in a list'))\n",
    "for i in  range(n):\n",
    "    j=int(input('enter elements'))\n",
    "    my_list.append(j)\n",
    "print(my_list)\n",
    "\n",
    "temp=my_list[0]\n",
    "for i in my_list:\n",
    "    if(i>temp):\n",
    "        temp=i\n",
    "print(temp)"
   ]
  },
  {
   "cell_type": "code",
   "execution_count": 173,
   "id": "d603941b-02ba-49dc-b597-df3d20fd0001",
   "metadata": {},
   "outputs": [
    {
     "name": "stdout",
     "output_type": "stream",
     "text": [
      "1 is a prime number\n",
      "2 is a prime number\n",
      "3 is a prime number\n",
      "4 is not a prime number\n",
      "5 is a prime number\n",
      "6 is not a prime number\n",
      "7 is a prime number\n",
      "8 is not a prime number\n",
      "9 is not a prime number\n",
      "10 is not a prime number\n",
      "11 is a prime number\n",
      "12 is not a prime number\n",
      "13 is a prime number\n",
      "14 is not a prime number\n",
      "15 is not a prime number\n",
      "16 is not a prime number\n",
      "17 is a prime number\n",
      "18 is not a prime number\n",
      "19 is a prime number\n",
      "20 is not a prime number\n",
      "21 is not a prime number\n",
      "22 is not a prime number\n",
      "23 is a prime number\n",
      "24 is not a prime number\n",
      "25 is not a prime number\n",
      "26 is not a prime number\n",
      "27 is not a prime number\n",
      "28 is not a prime number\n",
      "29 is a prime number\n",
      "30 is not a prime number\n",
      "31 is a prime number\n",
      "32 is not a prime number\n",
      "33 is not a prime number\n",
      "34 is not a prime number\n",
      "35 is not a prime number\n",
      "36 is not a prime number\n",
      "37 is a prime number\n",
      "38 is not a prime number\n",
      "39 is not a prime number\n",
      "40 is not a prime number\n",
      "41 is a prime number\n",
      "42 is not a prime number\n",
      "43 is a prime number\n",
      "44 is not a prime number\n",
      "45 is not a prime number\n",
      "46 is not a prime number\n",
      "47 is a prime number\n",
      "48 is not a prime number\n",
      "49 is not a prime number\n",
      "50 is not a prime number\n",
      "51 is not a prime number\n",
      "52 is not a prime number\n",
      "53 is a prime number\n",
      "54 is not a prime number\n",
      "55 is not a prime number\n",
      "56 is not a prime number\n",
      "57 is not a prime number\n",
      "58 is not a prime number\n",
      "59 is a prime number\n",
      "60 is not a prime number\n",
      "61 is a prime number\n",
      "62 is not a prime number\n",
      "63 is not a prime number\n",
      "64 is not a prime number\n",
      "65 is not a prime number\n",
      "66 is not a prime number\n",
      "67 is a prime number\n",
      "68 is not a prime number\n",
      "69 is not a prime number\n",
      "70 is not a prime number\n",
      "71 is a prime number\n",
      "72 is not a prime number\n",
      "73 is a prime number\n",
      "74 is not a prime number\n",
      "75 is not a prime number\n",
      "76 is not a prime number\n",
      "77 is not a prime number\n",
      "78 is not a prime number\n",
      "79 is a prime number\n",
      "80 is not a prime number\n",
      "81 is not a prime number\n",
      "82 is not a prime number\n",
      "83 is a prime number\n",
      "84 is not a prime number\n",
      "85 is not a prime number\n",
      "86 is not a prime number\n",
      "87 is not a prime number\n",
      "88 is not a prime number\n",
      "89 is a prime number\n",
      "90 is not a prime number\n",
      "91 is not a prime number\n",
      "92 is not a prime number\n",
      "93 is not a prime number\n",
      "94 is not a prime number\n",
      "95 is not a prime number\n",
      "96 is not a prime number\n",
      "97 is a prime number\n",
      "98 is not a prime number\n",
      "99 is not a prime number\n",
      "100 is not a prime number\n"
     ]
    }
   ],
   "source": [
    "# Print all prime numbers between 1 and 100 using a for loop.\n",
    "print('1 is a prime number')\n",
    "for i in range(2,101):\n",
    "    cnt=0\n",
    "    for j in range(1,101):\n",
    "        if(i%j==0):\n",
    "            cnt+=1\n",
    "    if(cnt==2):\n",
    "        print(i,'is a prime number')\n",
    "    else:\n",
    "        print(i,'is not a prime number')"
   ]
  },
  {
   "cell_type": "code",
   "execution_count": 175,
   "id": "67cd92e3-a755-44d4-b132-737ff2b94111",
   "metadata": {},
   "outputs": [
    {
     "name": "stdout",
     "output_type": "stream",
     "text": [
      "5 x 1 = 5\n",
      "5 x 2 = 10\n",
      "5 x 3 = 15\n",
      "5 x 4 = 20\n",
      "5 x 5 = 25\n",
      "5 x 6 = 30\n",
      "5 x 7 = 35\n",
      "5 x 8 = 40\n",
      "5 x 9 = 45\n",
      "5 x 10 = 50\n"
     ]
    }
   ],
   "source": [
    "n=5\n",
    "i=5\n",
    "for j in range(1,11):\n",
    "    m=n*j\n",
    "    print(n,'x',j,'=',m)"
   ]
  },
  {
   "cell_type": "code",
   "execution_count": 189,
   "id": "fabe3c65-a2b9-403f-85cc-1620c82b2937",
   "metadata": {},
   "outputs": [
    {
     "name": "stdin",
     "output_type": "stream",
     "text": [
      "enter the number 123\n"
     ]
    },
    {
     "name": "stdout",
     "output_type": "stream",
     "text": [
      "sum of all digits of  123 is: 6\n"
     ]
    }
   ],
   "source": [
    "#Print the sum of the digits of a given number using a for loop.\n",
    "n=(input('enter the number'))\n",
    "l=len(n)\n",
    "num=int(n)\n",
    "temp=num\n",
    "sum=0\n",
    "for i in range(0,l):\n",
    "    d=temp%10\n",
    "    sum+=d\n",
    "    temp=temp//10\n",
    "print('sum of all digits of ',num, 'is:',sum)\n",
    "    \n",
    "    "
   ]
  },
  {
   "cell_type": "code",
   "execution_count": 199,
   "id": "f4f21317-63e2-4abd-b15f-92dbda094f67",
   "metadata": {},
   "outputs": [
    {
     "name": "stdin",
     "output_type": "stream",
     "text": [
      "enter the string riii\n"
     ]
    },
    {
     "name": "stdout",
     "output_type": "stream",
     "text": [
      "number of vowels in riii is 3\n"
     ]
    }
   ],
   "source": [
    "#Count the number of vowels in a string using a for loop.\n",
    "str=input('enter the string')\n",
    "cnt=0\n",
    "for i in str:\n",
    "    if(i=='a' or i=='e' or i=='i' or i=='o' or i=='u' or i=='A' or i=='E'or i=='I' or i=='O' or i==\"U\"):\n",
    "        cnt+=1\n",
    "print('number of vowels in',str,'is',cnt)"
   ]
  },
  {
   "cell_type": "code",
   "execution_count": 191,
   "id": "6bf6074a-42d4-4b6b-84e9-0ee2c68c55dc",
   "metadata": {},
   "outputs": [
    {
     "name": "stdout",
     "output_type": "stream",
     "text": [
      "h\n",
      "e\n",
      "l\n",
      "l\n",
      "l\n",
      "o\n",
      "o\n",
      "o\n"
     ]
    }
   ],
   "source": []
  },
  {
   "cell_type": "code",
   "execution_count": 203,
   "id": "0ffb51f7-4756-418e-b4e2-b08afd61c6c4",
   "metadata": {},
   "outputs": [
    {
     "name": "stdin",
     "output_type": "stream",
     "text": [
      "enter the number 90\n"
     ]
    },
    {
     "name": "stdout",
     "output_type": "stream",
     "text": [
      "first 10 multiples of 90 are:\n",
      "90\n",
      "180\n",
      "270\n",
      "360\n",
      "450\n",
      "540\n",
      "630\n",
      "720\n",
      "810\n",
      "900\n"
     ]
    }
   ],
   "source": [
    "#Print the first 10 multiples of a given number using a for loop.\n",
    "n=int(input('enter the number'))\n",
    "print('first 10 multiples of',n,'are:')\n",
    "for i in range(1,11):\n",
    "    print(n*i)\n",
    "    "
   ]
  },
  {
   "cell_type": "code",
   "execution_count": 217,
   "id": "5e0e8bab-c914-40ed-b181-2b730a52d548",
   "metadata": {},
   "outputs": [
    {
     "name": "stdout",
     "output_type": "stream",
     "text": [
      "* \n",
      "* * \n",
      "* * * \n",
      "* * * * \n",
      "* * * * * \n",
      "* * * * * * \n"
     ]
    }
   ],
   "source": [
    "#Print a pattern of '*' in the form of a right triangle using a for loop.\n",
    "for i in range(0,6):\n",
    "    j=i+1\n",
    "    print('* '*j)    "
   ]
  },
  {
   "cell_type": "code",
   "execution_count": 234,
   "id": "9de32620-c827-45a2-a034-9164772eda69",
   "metadata": {},
   "outputs": [
    {
     "name": "stdin",
     "output_type": "stream",
     "text": [
      "enter the string riya\n"
     ]
    },
    {
     "name": "stdout",
     "output_type": "stream",
     "text": [
      "string is not palindrome\n"
     ]
    }
   ],
   "source": [
    "# Check if a string is a palindrome using a for loop.\n",
    "str=input('enter the string')\n",
    "temp=str\n",
    "l=len(str)\n",
    "cnt=0\n",
    "for i in range(len(temp)):\n",
    "    if str[i]==temp[l-i-1]:\n",
    "        cnt+=1\n",
    "if(cnt==l):\n",
    "    print('string is palindrome')\n",
    "else:\n",
    "    print('string is not palindrome')"
   ]
  },
  {
   "cell_type": "code",
   "execution_count": 240,
   "id": "b3c4e08b-8ebf-4f2b-8d44-e87c87686fb0",
   "metadata": {},
   "outputs": [
    {
     "name": "stdin",
     "output_type": "stream",
     "text": [
      "enter the string naman\n"
     ]
    },
    {
     "name": "stdout",
     "output_type": "stream",
     "text": [
      "string is palindrome\n"
     ]
    }
   ],
   "source": [
    "#short solution \n",
    "str=input('enter the string')\n",
    "temp=str[::-1]\n",
    "if(str==temp):\n",
    "    print('string is palindrome')\n",
    "else:\n",
    "    print('string is not palindrome')"
   ]
  },
  {
   "cell_type": "code",
   "execution_count": 11,
   "id": "438f58d5-78ba-41e0-8f5d-c59755568199",
   "metadata": {},
   "outputs": [
    {
     "name": "stdin",
     "output_type": "stream",
     "text": [
      "enter the first number 2\n",
      "enter the second number 3\n"
     ]
    },
    {
     "name": "stdout",
     "output_type": "stream",
     "text": [
      "gcd of 2 and 3 is: 1\n"
     ]
    }
   ],
   "source": [
    "#Find the GCD (Greatest Common Divisor) of two numbers using a for loop.\n",
    "n1=int(input('enter the first number'))\n",
    "n2=int(input('enter the second number'))\n",
    "for i in range(1,n1+1):\n",
    "    if(n1%i==0 and n2%i==0):\n",
    "        gcd=i\n",
    "print('gcd of',n1,'and',n2,'is:',gcd)\n"
   ]
  },
  {
   "cell_type": "code",
   "execution_count": 15,
   "id": "7f3c7723-d0b9-4ea3-85b9-b100a9dc8678",
   "metadata": {},
   "outputs": [
    {
     "name": "stdin",
     "output_type": "stream",
     "text": [
      "enter the string hello\n"
     ]
    },
    {
     "name": "stdout",
     "output_type": "stream",
     "text": [
      "ASCII of h is: 104\n",
      "ASCII of e is: 101\n",
      "ASCII of l is: 108\n",
      "ASCII of l is: 108\n",
      "ASCII of o is: 111\n"
     ]
    }
   ],
   "source": [
    "#Print the ASCII value of each character in a string using a for loop.\n",
    "str=input('enter the string')\n",
    "for i in str:\n",
    "    print('ASCII of',i,'is:',ord(i))"
   ]
  },
  {
   "cell_type": "code",
   "execution_count": 83,
   "id": "1b8933b9-eb2f-4912-8b93-59cae0a1b296",
   "metadata": {},
   "outputs": [
    {
     "name": "stdout",
     "output_type": "stream",
     "text": [
      "453\n"
     ]
    }
   ],
   "source": [
    "#Find the second largest element in a list using a for loop.\n",
    "my_list=[1,2,4,55,99,80]\n",
    "largest=my_list[0]\n",
    "slargest=my_list[0]\n",
    "for i in my_list:\n",
    "    if(i>largest and i>slargest):\n",
    "        slargest=largest\n",
    "        largest=i\n",
    "    if(i>slargest and i<largest):\n",
    "        slargest=i\n",
    "print(slargest)"
   ]
  },
  {
   "cell_type": "code",
   "execution_count": 89,
   "id": "b9458121-0900-49c7-8f98-bf8622cf700b",
   "metadata": {},
   "outputs": [
    {
     "name": "stdin",
     "output_type": "stream",
     "text": [
      "enter total numbers of numbers 4\n",
      " 22\n",
      " 3333\n",
      " 24\n",
      " 67\n"
     ]
    },
    {
     "name": "stdout",
     "output_type": "stream",
     "text": [
      "[22, 3333, 24, 67]\n",
      "second largest element of a list is: 67\n"
     ]
    }
   ],
   "source": [
    "# #Find the second largest element in a list using a for loop by user input.\n",
    "my_list1=[]\n",
    "n=int(input('enter total numbers of numbers'))\n",
    "for i in range(n):\n",
    "    j=int(input())\n",
    "    my_list1.append(j)\n",
    "print(my_list1)\n",
    "largest=my_list1[0]\n",
    "slargest=my_list1[0]\n",
    "for k in my_list1:\n",
    "    if(k>largest and k>=slargest):\n",
    "        slargest=largest\n",
    "        largest=k\n",
    "    if(k>slargest and k<largest):\n",
    "        slargest=k\n",
    "print('second largest element of a list is:',slargest)"
   ]
  },
  {
   "cell_type": "code",
   "execution_count": 123,
   "id": "9d71125f-e037-478e-8ac2-5b2fce289c97",
   "metadata": {},
   "outputs": [
    {
     "name": "stdin",
     "output_type": "stream",
     "text": [
      "enter the number 33\n"
     ]
    },
    {
     "name": "stdout",
     "output_type": "stream",
     "text": [
      "all factors of 33 are: [1, 3, 11, 33]\n"
     ]
    }
   ],
   "source": [
    "# Print all factors of a given number using a for loop.\n",
    "num=int(input('enter the number'))\n",
    "fact_list=[]\n",
    "for i in range(1,num+1):\n",
    "    if(num%i==0):\n",
    "        fact_list.append(i)\n",
    "        # or direct print(i)\n",
    "print('all factors of',num, 'are:',fact_list)\n"
   ]
  },
  {
   "cell_type": "code",
   "execution_count": 131,
   "id": "a95a32ed-0805-49cd-9c3f-4610d7e0a38d",
   "metadata": {},
   "outputs": [
    {
     "name": "stdin",
     "output_type": "stream",
     "text": [
      " 4\n",
      " 100\n",
      " 200\n",
      " 300\n",
      " 400\n"
     ]
    },
    {
     "name": "stdout",
     "output_type": "stream",
     "text": [
      "sum of all elements of list is: 1000\n"
     ]
    }
   ],
   "source": [
    "#Find the sum of all elements in a list using a for loop.\n",
    "my_num=[]\n",
    "n=int(input())\n",
    "for i in range(n):\n",
    "    j=int(input())\n",
    "    my_num.append(j)\n",
    "sum=0\n",
    "for i in my_num:\n",
    "    sum+=i\n",
    "print('sum of all elements of list is:',sum)"
   ]
  },
  {
   "cell_type": "code",
   "execution_count": 182,
   "id": "aac22edd-a0a6-46a6-9b15-cddd7a61d248",
   "metadata": {},
   "outputs": [
    {
     "name": "stdin",
     "output_type": "stream",
     "text": [
      " 44\n",
      " 55\n"
     ]
    },
    {
     "name": "stdout",
     "output_type": "stream",
     "text": [
      "lcm of 44 and 55 is: 220\n"
     ]
    }
   ],
   "source": [
    "#Find the LCM (Least Common Multiple) of two numbers using a for loop.\n",
    "n1=int(input())\n",
    "n2=int(input())\n",
    "for i in range(1,n1+1):\n",
    "    if(n1%i==0 and n2%i==0):\n",
    "        gcd=i\n",
    "lcm=n1*n2//gcd\n",
    "print('lcm of',n1,'and',n2,'is:',lcm)\n"
   ]
  },
  {
   "cell_type": "code",
   "execution_count": 190,
   "id": "5445ad91-904c-4f5c-aa59-ee6a3d143856",
   "metadata": {},
   "outputs": [
    {
     "name": "stdin",
     "output_type": "stream",
     "text": [
      "enter the number 12345678\n"
     ]
    },
    {
     "name": "stdout",
     "output_type": "stream",
     "text": [
      "number of digita in 12345678 is: 8\n"
     ]
    }
   ],
   "source": [
    "#Count the number of digits in a given number using a for loop.\n",
    "num=input('enter the number')\n",
    "l=len(num)\n",
    "j=int(num)\n",
    "cnt=0\n",
    "for i in range(0,l):\n",
    "    d=j%10\n",
    "    cnt+=1\n",
    "    j=j/10\n",
    "print('number of digita in',num,'is:',cnt)\n"
   ]
  },
  {
   "cell_type": "code",
   "execution_count": 27,
   "id": "b9e318b2-b4da-4791-a79b-b084a10716a0",
   "metadata": {},
   "outputs": [
    {
     "name": "stdin",
     "output_type": "stream",
     "text": [
      "enter the number 68\n"
     ]
    },
    {
     "name": "stdout",
     "output_type": "stream",
     "text": [
      "[1, 2, 4, 17, 34]\n",
      "[2]\n",
      "[2, 17]\n"
     ]
    }
   ],
   "source": [
    "num=int(input('enter the number'))\n",
    "temp=num\n",
    "factors=[]\n",
    "prime=[]\n",
    "for i in range(1,num):\n",
    "    if(num%i==0):\n",
    "        factors.append(i)\n",
    "print(factors)\n",
    "for j in range(0,len(factors)):\n",
    "    cnt=0\n",
    "    for k in range(1,temp):\n",
    "        if(factors[j]%k==0):\n",
    "            cnt+=1\n",
    "    if cnt==2:\n",
    "        prime.append(factors[j])\n",
    "        print(prime)\n",
    "    "
   ]
  },
  {
   "cell_type": "code",
   "execution_count": null,
   "id": "2961518e-22e7-4b0f-98b0-845f19faad37",
   "metadata": {},
   "outputs": [],
   "source": []
  },
  {
   "cell_type": "code",
   "execution_count": 31,
   "id": "3fb0c3a1-3826-432d-9f4c-a78c3ccd641d",
   "metadata": {},
   "outputs": [
    {
     "name": "stdout",
     "output_type": "stream",
     "text": [
      "[1, 2, 3]\n",
      "1420253271040\n",
      "[1, 2, 3, 4]\n",
      "1420253271040\n"
     ]
    }
   ],
   "source": [
    "a=[1,2,3]\n",
    "print(a)\n",
    "print(id(a))\n",
    "a+=[4]\n",
    "print(a)\n",
    "print(id(a))"
   ]
  },
  {
   "cell_type": "code",
   "execution_count": 42,
   "id": "aa06cdab-0872-4e38-b506-4216cde59ddb",
   "metadata": {},
   "outputs": [
    {
     "name": "stdout",
     "output_type": "stream",
     "text": [
      "....\n",
      ".  .\n",
      ".  .\n",
      "....\n"
     ]
    }
   ],
   "source": [
    "#Print a square pattern of stars: Write a Python program to print a square pattern of stars, where the size of the square is input by the user.\n",
    "print('....')\n",
    "print('.  .')\n",
    "print('.  .')\n",
    "print('....')"
   ]
  },
  {
   "cell_type": "code",
   "execution_count": 5,
   "id": "e895ea72-c993-4439-a739-d74510c750dd",
   "metadata": {},
   "outputs": [
    {
     "name": "stdout",
     "output_type": "stream",
     "text": [
      "****\n",
      "****\n",
      "****\n",
      "****\n"
     ]
    }
   ],
   "source": [
    "i=0\n",
    "while(i<4):\n",
    "    print('*'*4)\n",
    "    i+=1"
   ]
  },
  {
   "cell_type": "code",
   "execution_count": 7,
   "id": "16e3f15c-c8ee-47b5-8607-8e3e419f2b83",
   "metadata": {},
   "outputs": [
    {
     "name": "stdout",
     "output_type": "stream",
     "text": [
      "1\n",
      "2\n",
      "3\n",
      "4\n",
      "5\n"
     ]
    }
   ],
   "source": [
    "\"\"\" \n",
    "1 \n",
    "2 3 \n",
    "4 5 6 \n",
    "7 8 9 10 \n",
    "11 12 13 14 15 \n",
    "\"\"\"\n",
    "for i in range(1,6):\n",
    "    for j in range(\n"
   ]
  },
  {
   "cell_type": "code",
   "execution_count": null,
   "id": "ac4822a0-c6dd-4c35-9556-eb0027f98a86",
   "metadata": {},
   "outputs": [],
   "source": []
  },
  {
   "cell_type": "code",
   "execution_count": null,
   "id": "62335d8c-e800-4b0b-837d-161bd487b6cc",
   "metadata": {},
   "outputs": [],
   "source": []
  },
  {
   "cell_type": "code",
   "execution_count": null,
   "id": "411038d5-78de-45f0-9821-f004d96c46f7",
   "metadata": {},
   "outputs": [],
   "source": []
  }
 ],
 "metadata": {
  "kernelspec": {
   "display_name": "Python 3 (ipykernel)",
   "language": "python",
   "name": "python3"
  },
  "language_info": {
   "codemirror_mode": {
    "name": "ipython",
    "version": 3
   },
   "file_extension": ".py",
   "mimetype": "text/x-python",
   "name": "python",
   "nbconvert_exporter": "python",
   "pygments_lexer": "ipython3",
   "version": "3.12.4"
  }
 },
 "nbformat": 4,
 "nbformat_minor": 5
}
