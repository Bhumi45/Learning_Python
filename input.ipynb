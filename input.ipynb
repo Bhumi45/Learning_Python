{
 "cells": [
  {
   "cell_type": "markdown",
   "id": "e9bc29c4-6a68-4e64-8828-3c3d76a5c530",
   "metadata": {},
   "source": [
    "# Input\n",
    "- In python we can take input using input()"
   ]
  },
  {
   "cell_type": "code",
   "execution_count": 2,
   "id": "9db426a3-e092-48d7-9d66-1b17cb27995c",
   "metadata": {},
   "outputs": [
    {
     "name": "stdin",
     "output_type": "stream",
     "text": [
      "enter your name riya\n"
     ]
    }
   ],
   "source": [
    "var=input(\"enter your name :\")"
   ]
  },
  {
   "cell_type": "code",
   "execution_count": 6,
   "id": "8122daf3-0801-494a-a05b-a9099107ba52",
   "metadata": {},
   "outputs": [
    {
     "name": "stdin",
     "output_type": "stream",
     "text": [
      "enter your name riya\n"
     ]
    },
    {
     "name": "stdout",
     "output_type": "stream",
     "text": [
      "hello riya\n"
     ]
    }
   ],
   "source": [
    "var=input(\"enter your name\")\n",
    "print(\"hello\",var)"
   ]
  },
  {
   "cell_type": "code",
   "execution_count": 8,
   "id": "4520843a-dc33-4bf8-869f-2319b7b297e3",
   "metadata": {},
   "outputs": [
    {
     "name": "stdin",
     "output_type": "stream",
     "text": [
      "enter your name riya\n"
     ]
    },
    {
     "name": "stdout",
     "output_type": "stream",
     "text": [
      "hiiriya\n"
     ]
    }
   ],
   "source": [
    "a=input(\"enter your name\")\n",
    "print(\"hii\"+a)"
   ]
  },
  {
   "cell_type": "code",
   "execution_count": 10,
   "id": "66b7cf70-9601-4228-a427-ea410bcd08df",
   "metadata": {},
   "outputs": [
    {
     "name": "stdout",
     "output_type": "stream",
     "text": [
      "hii riya\n"
     ]
    }
   ],
   "source": [
    "print(\"hii\"+\" \"+a)"
   ]
  },
  {
   "cell_type": "code",
   "execution_count": 14,
   "id": "7f73ecb5-ab41-4fc3-9657-b7228cf913de",
   "metadata": {},
   "outputs": [
    {
     "name": "stdin",
     "output_type": "stream",
     "text": [
      "enter your first name riya\n",
      "enter your second name parihar\n"
     ]
    },
    {
     "name": "stdout",
     "output_type": "stream",
     "text": [
      "riya parihar\n"
     ]
    }
   ],
   "source": [
    "var1=input(\"enter your first name\")\n",
    "var2=input(\"enter your second name\")\n",
    "print(var1+\" \" +var2)"
   ]
  },
  {
   "cell_type": "code",
   "execution_count": 16,
   "id": "a3230935-5c56-424a-bde5-8ffdda2bdc79",
   "metadata": {},
   "outputs": [
    {
     "name": "stdin",
     "output_type": "stream",
     "text": [
      "enter first number 2\n",
      "enter second number 3\n"
     ]
    },
    {
     "name": "stdout",
     "output_type": "stream",
     "text": [
      "23\n"
     ]
    }
   ],
   "source": [
    "var1 =input(\"enter first number\")\n",
    "var2= input(\"enter second number\") ## it will not print the sum of two variable.\n",
    "print(var1+var2)\n"
   ]
  },
  {
   "cell_type": "markdown",
   "id": "9c853d08-125d-48b2-8420-b8f80e4bf845",
   "metadata": {},
   "source": [
    "- python input() returns the value as string. Hence we have to typecast it whenever required to another datatype."
   ]
  },
  {
   "cell_type": "code",
   "execution_count": 20,
   "id": "cbf20953-857f-4910-881c-fc39d30c7c80",
   "metadata": {},
   "outputs": [
    {
     "name": "stdin",
     "output_type": "stream",
     "text": [
      "enter first number \n"
     ]
    },
    {
     "ename": "ValueError",
     "evalue": "invalid literal for int() with base 10: ''",
     "output_type": "error",
     "traceback": [
      "\u001b[1;31m---------------------------------------------------------------------------\u001b[0m",
      "\u001b[1;31mValueError\u001b[0m                                Traceback (most recent call last)",
      "Cell \u001b[1;32mIn[20], line 1\u001b[0m\n\u001b[1;32m----> 1\u001b[0m var1\u001b[38;5;241m=\u001b[39m\u001b[38;5;28mint\u001b[39m(\u001b[38;5;28minput\u001b[39m(\u001b[38;5;124m\"\u001b[39m\u001b[38;5;124menter first number\u001b[39m\u001b[38;5;124m\"\u001b[39m))\n\u001b[0;32m      2\u001b[0m var2\u001b[38;5;241m=\u001b[39m\u001b[38;5;28mint\u001b[39m(\u001b[38;5;28minput\u001b[39m(\u001b[38;5;124m\"\u001b[39m\u001b[38;5;124menter second number\u001b[39m\u001b[38;5;124m\"\u001b[39m))\n\u001b[0;32m      3\u001b[0m \u001b[38;5;28mprint\u001b[39m(var1\u001b[38;5;241m+\u001b[39mvar2)\n",
      "\u001b[1;31mValueError\u001b[0m: invalid literal for int() with base 10: ''"
     ]
    }
   ],
   "source": [
    "var1=int(input(\"enter first number\"))\n",
    "var2=int(input(\"enter second number\"))\n",
    "print(var1+var2)"
   ]
  },
  {
   "cell_type": "code",
   "execution_count": 22,
   "id": "f8ec820e-144a-4b8f-9146-aa6dad9d4b17",
   "metadata": {},
   "outputs": [
    {
     "name": "stdin",
     "output_type": "stream",
     "text": [
      "enter first number 9\n",
      "enter second number 1\n"
     ]
    },
    {
     "name": "stdout",
     "output_type": "stream",
     "text": [
      "10\n"
     ]
    }
   ],
   "source": [
    "var1=input(\"enter first number\")\n",
    "var2=input(\"enter second number\")\n",
    "print(int(var1)+int(var2))"
   ]
  },
  {
   "cell_type": "code",
   "execution_count": 24,
   "id": "f8b42cbf-4a79-4fa3-9d63-e8559a692ab4",
   "metadata": {},
   "outputs": [
    {
     "ename": "ValueError",
     "evalue": "invalid literal for int() with base 10: 'riya'",
     "output_type": "error",
     "traceback": [
      "\u001b[1;31m---------------------------------------------------------------------------\u001b[0m",
      "\u001b[1;31mValueError\u001b[0m                                Traceback (most recent call last)",
      "Cell \u001b[1;32mIn[24], line 3\u001b[0m\n\u001b[0;32m      1\u001b[0m var1\u001b[38;5;241m=\u001b[39m\u001b[38;5;124m\"\u001b[39m\u001b[38;5;124mriya\u001b[39m\u001b[38;5;124m\"\u001b[39m\n\u001b[0;32m      2\u001b[0m var2\u001b[38;5;241m=\u001b[39m\u001b[38;5;241m10\u001b[39m\n\u001b[1;32m----> 3\u001b[0m \u001b[38;5;28mprint\u001b[39m(var2\u001b[38;5;241m+\u001b[39m\u001b[38;5;28mint\u001b[39m(var1))\n",
      "\u001b[1;31mValueError\u001b[0m: invalid literal for int() with base 10: 'riya'"
     ]
    }
   ],
   "source": [
    "var1=\"riya\"\n",
    "var2=10\n",
    "print(var2+int(var1))"
   ]
  },
  {
   "cell_type": "code",
   "execution_count": 1,
   "id": "044bceff-aac3-4c05-a669-a739751d27a9",
   "metadata": {},
   "outputs": [
    {
     "ename": "TypeError",
     "evalue": "unsupported operand type(s) for +: 'int' and 'str'",
     "output_type": "error",
     "traceback": [
      "\u001b[1;31m---------------------------------------------------------------------------\u001b[0m",
      "\u001b[1;31mTypeError\u001b[0m                                 Traceback (most recent call last)",
      "Cell \u001b[1;32mIn[1], line 3\u001b[0m\n\u001b[0;32m      1\u001b[0m var1\u001b[38;5;241m=\u001b[39m\u001b[38;5;124m\"\u001b[39m\u001b[38;5;124mriya\u001b[39m\u001b[38;5;124m\"\u001b[39m\n\u001b[0;32m      2\u001b[0m var2\u001b[38;5;241m=\u001b[39m\u001b[38;5;241m10\u001b[39m\n\u001b[1;32m----> 3\u001b[0m \u001b[38;5;28mprint\u001b[39m(var2\u001b[38;5;241m+\u001b[39mvar1)\n",
      "\u001b[1;31mTypeError\u001b[0m: unsupported operand type(s) for +: 'int' and 'str'"
     ]
    }
   ],
   "source": [
    "var1=\"riya\"\n",
    "var2=10\n",
    "print(var2+var1)"
   ]
  },
  {
   "cell_type": "code",
   "execution_count": 5,
   "id": "8e332c14-8347-41c4-ba46-f8e4f1d01a44",
   "metadata": {},
   "outputs": [
    {
     "name": "stdin",
     "output_type": "stream",
     "text": [
      "enter the value 9\n",
      "enter the valur riya\n"
     ]
    },
    {
     "name": "stdout",
     "output_type": "stream",
     "text": [
      "9riya\n"
     ]
    }
   ],
   "source": [
    "var1=input(\"enter the value\")\n",
    "var2=input(\"enter the valur\")\n",
    "print(var1+var2)"
   ]
  },
  {
   "cell_type": "code",
   "execution_count": 1,
   "id": "04c4ab3b-f5e6-491f-b109-1ae0fa010247",
   "metadata": {},
   "outputs": [],
   "source": []
  },
  {
   "cell_type": "code",
   "execution_count": null,
   "id": "9496b8d3-930e-439d-9b04-7d5c1803e991",
   "metadata": {},
   "outputs": [],
   "source": []
  }
 ],
 "metadata": {
  "kernelspec": {
   "display_name": "Python 3 (ipykernel)",
   "language": "python",
   "name": "python3"
  },
  "language_info": {
   "codemirror_mode": {
    "name": "ipython",
    "version": 3
   },
   "file_extension": ".py",
   "mimetype": "text/x-python",
   "name": "python",
   "nbconvert_exporter": "python",
   "pygments_lexer": "ipython3",
   "version": "3.12.4"
  }
 },
 "nbformat": 4,
 "nbformat_minor": 5
}
