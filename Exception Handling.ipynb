{
 "cells": [
  {
   "cell_type": "markdown",
   "id": "a59f7af2-3208-4f38-a5c5-1d9953b174be",
   "metadata": {},
   "source": [
    "# <span style=\"color: green;\">Exception Handling </span>\n",
    "- Exception handling is a mechanism that allows you to handle runtime errors so that the normal flow of the program can be maintained. It provides a   way to handle exceptions or errors that occur during the execution of a program.\n",
    "- With the help of exception we can handle the error in more generic way.\n",
    "- We can also custom exception.\n",
    "- Only developers can understand the error that occur during execution of code , so we use exception to make the non-developer user understands what error occured."
   ]
  },
  {
   "cell_type": "markdown",
   "id": "fe45e959-7a27-42da-9590-657799e305d0",
   "metadata": {},
   "source": [
    "### Difference between Errors and Exception:\n",
    "- <h3 style=\"color:red\">Errors:</h3>\n",
    " - Errors are usually problems in the code or the environment that cannot be easily fixed by the program.\n",
    " - These are not meant to be handled by the program and typically cause it to stop.\n",
    " - They often indicate serious issues like memory problems or system crashes.\n",
    " - Examples: Running out of memory, or trying to access an invalid system resource.\n",
    "\n",
    "- <h3 style=\"color:red\">Exception:</h3>\n",
    " - Exceptions are issues or unexpected situations that occur during the execution of a program.\n",
    " - They can be handled within the program using try-except blocks so that the program can recover and continue running.\n",
    " - Examples: Trying to divide by zero, accessing a file that doesn’t exist, or a failed API call."
   ]
  },
  {
   "cell_type": "code",
   "execution_count": 21,
   "id": "3c5d28f5-b8b5-416f-a9e7-6a0e3d2df092",
   "metadata": {},
   "outputs": [
    {
     "ename": "NameError",
     "evalue": "name 'k' is not defined",
     "output_type": "error",
     "traceback": [
      "\u001b[1;31m---------------------------------------------------------------------------\u001b[0m",
      "\u001b[1;31mNameError\u001b[0m                                 Traceback (most recent call last)",
      "Cell \u001b[1;32mIn[21], line 1\u001b[0m\n\u001b[1;32m----> 1\u001b[0m a\u001b[38;5;241m=\u001b[39mk\n",
      "\u001b[1;31mNameError\u001b[0m: name 'k' is not defined"
     ]
    }
   ],
   "source": [
    "a=k # generlly we get this error ."
   ]
  },
  {
   "cell_type": "code",
   "execution_count": 23,
   "id": "7a2d2adb-0e13-46e8-875f-bd0cc91ac2cf",
   "metadata": {},
   "outputs": [
    {
     "name": "stdout",
     "output_type": "stream",
     "text": [
      "error occured\n"
     ]
    }
   ],
   "source": [
    "try: ## the error is handles at except block\n",
    "    a=b\n",
    "except:\n",
    "    print('error occured')"
   ]
  },
  {
   "cell_type": "code",
   "execution_count": 41,
   "id": "af1f7f01-5522-4cd8-b88b-dfafb8e73198",
   "metadata": {},
   "outputs": [
    {
     "ename": "TypeError",
     "evalue": "unsupported operand type(s) for +: 'int' and 'str'",
     "output_type": "error",
     "traceback": [
      "\u001b[1;31m---------------------------------------------------------------------------\u001b[0m",
      "\u001b[1;31mTypeError\u001b[0m                                 Traceback (most recent call last)",
      "Cell \u001b[1;32mIn[41], line 3\u001b[0m\n\u001b[0;32m      1\u001b[0m a\u001b[38;5;241m=\u001b[39m\u001b[38;5;241m9\u001b[39m\n\u001b[0;32m      2\u001b[0m b\u001b[38;5;241m=\u001b[39m\u001b[38;5;124m\"\u001b[39m\u001b[38;5;124mhi\u001b[39m\u001b[38;5;124m\"\u001b[39m\n\u001b[1;32m----> 3\u001b[0m c\u001b[38;5;241m=\u001b[39ma\u001b[38;5;241m+\u001b[39mb\n",
      "\u001b[1;31mTypeError\u001b[0m: unsupported operand type(s) for +: 'int' and 'str'"
     ]
    }
   ],
   "source": [
    " a=9\n",
    " b=\"hi\"\n",
    " c=a+b"
   ]
  },
  {
   "cell_type": "code",
   "execution_count": 39,
   "id": "353d6756-0a78-453d-bdec-3fec2c7a5a93",
   "metadata": {},
   "outputs": [
    {
     "name": "stdout",
     "output_type": "stream",
     "text": [
      "two different datatypes cannot be added\n"
     ]
    }
   ],
   "source": [
    "try:\n",
    "    a=8\n",
    "    b='hii'\n",
    "    c=a+b\n",
    "    print(c)\n",
    "except:\n",
    "    print('two different datatypes cannot be added') # instead of getting an error like the above code we are getting error in more generic way."
   ]
  },
  {
   "cell_type": "markdown",
   "id": "6c235ecc-2a39-48ea-855b-09e48f5dcfaa",
   "metadata": {},
   "source": [
    "## <h2 style=color:red>Exception class:</h2>\n",
    "- The Exception class is like a \"container\" for all the problems that might happen in your program. \n",
    "- You can catch, handle, or even define your own exceptions using this class.\n",
    "- We can use exception class when we want to catch all exception in one block and don't want to make specific except block for each exception."
   ]
  },
  {
   "cell_type": "code",
   "execution_count": 59,
   "id": "93d4a21d-2753-4c35-9986-729fd82c254c",
   "metadata": {},
   "outputs": [
    {
     "name": "stdout",
     "output_type": "stream",
     "text": [
      "an error occured name 'y' is not defined\n"
     ]
    }
   ],
   "source": [
    "try:\n",
    "    x=y\n",
    "except Exception as e:  #here exception class contain all errors along its description.\n",
    "    print('an error occured',e)"
   ]
  },
  {
   "cell_type": "code",
   "execution_count": 63,
   "id": "c526c666-6b70-44b8-8c52-be3810a986b0",
   "metadata": {},
   "outputs": [
    {
     "name": "stdout",
     "output_type": "stream",
     "text": [
      "an error occured: unsupported operand type(s) for +: 'int' and 'str'\n"
     ]
    }
   ],
   "source": [
    "try:\n",
    "    a=8\n",
    "    b='hii'\n",
    "    c=a+b\n",
    "    print(c)\n",
    "except Exception as e:\n",
    "    print('an error occured:',e) "
   ]
  },
  {
   "cell_type": "code",
   "execution_count": 69,
   "id": "500fa392-294c-4ccb-8b4d-0d7c74eaf8cf",
   "metadata": {},
   "outputs": [
    {
     "name": "stdin",
     "output_type": "stream",
     "text": [
      " 4\n",
      " h\n"
     ]
    },
    {
     "name": "stdout",
     "output_type": "stream",
     "text": [
      "an error accured: invalid literal for int() with base 10: 'h'\n"
     ]
    }
   ],
   "source": [
    "try:\n",
    "    n1=int(input())\n",
    "    n2=int(input())\n",
    "    s=n1+n2\n",
    "    d=n1/n2\n",
    "    c=n1*n2\n",
    "except ZeroDivisionError:\n",
    "    print('n2 should be greater than 0')\n",
    "except Exception as e:\n",
    "    print('an error accured:',e)"
   ]
  },
  {
   "cell_type": "code",
   "execution_count": null,
   "id": "c4c11ff6-a60c-4aa2-b9a7-e1bca7cdca72",
   "metadata": {},
   "outputs": [],
   "source": []
  },
  {
   "cell_type": "markdown",
   "id": "f5402a0a-f49a-491e-9388-970e352b147f",
   "metadata": {},
   "source": [
    "<h2 style=\"color:red\">Components of Exception Handling:</h2>"
   ]
  },
  {
   "cell_type": "markdown",
   "id": "62827543-35e1-4182-8af2-4e2a8f4551ba",
   "metadata": {},
   "source": [
    "### Try:\n",
    "- code block where exception can occur\n",
    "### Except:\n",
    "- where we print the statement that we need to show in the output."
   ]
  },
  {
   "cell_type": "markdown",
   "id": "07f09ce5-751a-476e-b8de-86a34d209e18",
   "metadata": {},
   "source": [
    "<h2 style=\"color:red\">Else</h2>"
   ]
  },
  {
   "cell_type": "markdown",
   "id": "be2f5b27-c207-4691-99c8-057860bf24dd",
   "metadata": {},
   "source": [
    "- If no exception occur then the code inside this block will be exeuted.\n",
    "- This will tell the code inside try block is executed without any exception."
   ]
  },
  {
   "cell_type": "code",
   "execution_count": 75,
   "id": "5402700a-497a-403b-9461-034b598e4a3d",
   "metadata": {},
   "outputs": [
    {
     "name": "stdin",
     "output_type": "stream",
     "text": [
      " 4\n",
      " 6\n"
     ]
    },
    {
     "name": "stdout",
     "output_type": "stream",
     "text": [
      "10\n",
      "no exception occured\n"
     ]
    }
   ],
   "source": [
    "try:\n",
    "    a=int(input())\n",
    "    b=int(input())\n",
    "    print(a+b)\n",
    "except Exception as e:\n",
    "    print('an error occured:',e)\n",
    "else:\n",
    "    print('no exception occured')"
   ]
  },
  {
   "cell_type": "markdown",
   "id": "aa50612d-d403-4c94-9bc6-7d043973cb99",
   "metadata": {},
   "source": [
    "<h2 style=\"color:red\">Finally</h2>\n"
   ]
  },
  {
   "cell_type": "markdown",
   "id": "3ec2f5f2-90f9-4810-97a1-f4fd911e6aa0",
   "metadata": {},
   "source": [
    "- When exception will get executed , else block will not get executed.\n",
    "- But finally block get executed even if exception occur or code run succesfully.\n",
    "- 'Finally' is used when you want to execute a block of code irrespective of it is runnying successfully or caught an exception."
   ]
  },
  {
   "cell_type": "code",
   "execution_count": 79,
   "id": "fe65b934-44dd-4d16-9a47-898822a4cb23",
   "metadata": {},
   "outputs": [
    {
     "name": "stdin",
     "output_type": "stream",
     "text": [
      " 4\n",
      " 5\n"
     ]
    },
    {
     "name": "stdout",
     "output_type": "stream",
     "text": [
      "9\n",
      "0.8\n",
      "20\n",
      "executed\n"
     ]
    }
   ],
   "source": [
    "try:                   # both else and finally are used together.\n",
    "    a=int(input())\n",
    "    b=int(input())\n",
    "    c=a+b\n",
    "    d=a/b\n",
    "    e=a*b\n",
    "    # print(a-b # syntax error cannot be handled by exception handling.\n",
    "except TypeError:\n",
    "    print(\"cannot add two variables with different datatype\")\n",
    "except ZeroDivisionError:\n",
    "    print('number should be greater then 0')\n",
    "except Exception as e:\n",
    "    print('An error occured:',e)\n",
    "else:\n",
    "    print(c)\n",
    "    print(d)\n",
    "    print(e)\n",
    "finally:\n",
    "    print('executed')"
   ]
  },
  {
   "cell_type": "markdown",
   "id": "cf2412b4-37b5-4402-8d81-f1276ed1557a",
   "metadata": {},
   "source": [
    "<span style='color:red'><h2>Custom Exception Handling:</h2></span>\n",
    "- Custom exception handling in Python allows you to define your own exceptions that can provide more specific error handling tailored to your application's needs"
   ]
  },
  {
   "cell_type": "code",
   "execution_count": 84,
   "id": "5d735b2f-2d6a-45ae-b4a4-62c1613d6c04",
   "metadata": {},
   "outputs": [
    {
     "name": "stdin",
     "output_type": "stream",
     "text": [
      " 12\n"
     ]
    },
    {
     "name": "stdout",
     "output_type": "stream",
     "text": [
      "you are not eligible for driving lisence\n"
     ]
    }
   ],
   "source": [
    "class Error(Exception):\n",
    "    pass\n",
    "class eligibilityError(Error):\n",
    "    pass\n",
    "def check(value):\n",
    "    try:\n",
    "        if value<18:\n",
    "            raise eligibilityError ## custom exception \n",
    "            ## raise statement is used to trigger exception\n",
    "        else:\n",
    "            print(f\"you are eligible for driving lisence\")\n",
    "    except eligibilityError:\n",
    "        print(f\"you are not eligible for driving lisence\")\n",
    "a=int(input())\n",
    "check(a)"
   ]
  },
  {
   "cell_type": "code",
   "execution_count": null,
   "id": "05ce3bb6-493f-48e0-b08c-5fafa11030e5",
   "metadata": {},
   "outputs": [],
   "source": []
  }
 ],
 "metadata": {
  "kernelspec": {
   "display_name": "Python 3 (ipykernel)",
   "language": "python",
   "name": "python3"
  },
  "language_info": {
   "codemirror_mode": {
    "name": "ipython",
    "version": 3
   },
   "file_extension": ".py",
   "mimetype": "text/x-python",
   "name": "python",
   "nbconvert_exporter": "python",
   "pygments_lexer": "ipython3",
   "version": "3.12.4"
  }
 },
 "nbformat": 4,
 "nbformat_minor": 5
}
