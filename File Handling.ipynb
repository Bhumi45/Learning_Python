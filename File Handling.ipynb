{
 "cells": [
  {
   "cell_type": "markdown",
   "id": "ef509cdf-eb34-4f3b-8408-4e2bee0d6fb3",
   "metadata": {},
   "source": [
    "# <font color='green'><b>File Handling</font>\n",
    "- File handling is the process of working with files.\n",
    "- <h3>Types of Data Used In Input/Output:\n",
    " - 1. Text:'12345'as a sequence of unicode char.\n",
    "   2. Binary:12345 as a sequence of bytes of its equivalent binary.\n",
    "- <h3>Two Types of File to deal with:</h3>\n",
    " - 1. Text Files- all program files are text files.\n",
    "   2. Binary Files- images,music,videos,exe files.\n",
    "- <h3>How file I/O is done:\n",
    " - Open the file.\n",
    " - Read/Write data.\n",
    " - Close the file\n",
    "- syntax:\n",
    "   - f=open('file_name',mode (r/w))"
   ]
  },
  {
   "cell_type": "markdown",
   "id": "aa422e53-1056-4773-89c8-f3346c883ec9",
   "metadata": {},
   "source": [
    "<font color='red'><h2>Writing to File</font>"
   ]
  },
  {
   "cell_type": "markdown",
   "id": "5484e41b-31c6-417c-b24e-c9fb7530925b",
   "metadata": {},
   "source": [
    "<h4>Case 1: to write in a file which does not exist."
   ]
  },
  {
   "cell_type": "code",
   "execution_count": 25,
   "id": "04501fa4-5e53-468e-bc28-a09d7e81865b",
   "metadata": {},
   "outputs": [],
   "source": [
    "f=open('sample.txt','w') # 'f' is a file handler object,with the help of this we can read and write in our file.\n",
    "f.write('hello beautiful world')\n",
    "f.close()\n",
    "# since file is closed hence this will not work\n",
    "# f.write('hello')"
   ]
  },
  {
   "cell_type": "markdown",
   "id": "fcb05f52-070a-41f4-812c-91fd11a8482a",
   "metadata": {},
   "source": [
    "<h5>description of above code:</h5>\n",
    "\n",
    "- here we have created a new file which does not exist and we write into the file.\n",
    "- if we want we can create file at any location but if location not given then by default it create file in the directory where this particular notebook\n",
    "  is located.\n",
    "- once the file is closed we cannot write into it."
   ]
  },
  {
   "cell_type": "code",
   "execution_count": 29,
   "id": "1bae9802-af94-4ff1-9ae2-2cbcc822064e",
   "metadata": {},
   "outputs": [],
   "source": [
    "# write multiple lines\n",
    "f=open('sample1.txt','w')\n",
    "f.write('hello beautiful')\n",
    "f.write('\\nhow was your day')\n",
    "f.close()"
   ]
  },
  {
   "cell_type": "code",
   "execution_count": 40,
   "id": "13829e35-699f-4fc0-8984-4a72398a516f",
   "metadata": {},
   "outputs": [
    {
     "name": "stdin",
     "output_type": "stream",
     "text": [
      " hii\n",
      " riya\n",
      " how are you\n",
      " have a great day\n",
      " bonjour\n"
     ]
    }
   ],
   "source": [
    "f=open('sample1.txt','w') # if we want user to write in files.\n",
    "for i in range(0,5):\n",
    "    f.write(input())\n",
    "f.close()"
   ]
  },
  {
   "cell_type": "markdown",
   "id": "656e78a0-283d-4002-9cfa-06d8e06dcef0",
   "metadata": {},
   "source": [
    "<h4>Case2: if file already exist"
   ]
  },
  {
   "cell_type": "code",
   "execution_count": 36,
   "id": "31f9746c-78dc-4c23-a9fa-5ce61616988d",
   "metadata": {},
   "outputs": [],
   "source": [
    "f=open('sample.txt','w')\n",
    "f.write('look deep into nature')\n",
    "f.close()\n",
    "# after running this the previous content in the file is deleted ad this content is written"
   ]
  },
  {
   "cell_type": "markdown",
   "id": "b59815a6-80db-4a23-b282-192c1c45dafd",
   "metadata": {},
   "source": [
    "<h6>about the code:</h6>\n",
    "\n",
    "- after running this the previous content in the file is deleted ad this content is written.\n",
    "- therefore if we will try to write in a file that already exists,then previous all content written in that file is deleted or previous content is  \n",
    "  replaced with new content.\n"
   ]
  },
  {
   "cell_type": "markdown",
   "id": "ba94b43d-56d9-4df6-8e1e-bac3a9883714",
   "metadata": {},
   "source": [
    "<h4>How open() works?</h4>\n",
    "    \n",
    "- Python loads the file (whose path is given in the open()) into our RAM then it is loaded in a buffer memory(memory where file is read char by char)\n",
    "  inside the RAM.\n",
    "- Till the time operations are performed file is inside buffer where all operations are performed.\n",
    "- Then when we close the file,file exist from the memory and go back to hardrive.\n",
    "\n",
    "<h4>Why to close() file</h4>\n",
    "\n",
    "- There are two reasons:\n",
    "- 1. Memory: since when we open file it is loaded in RAM so to save memory.\n",
    "  2. Safety\n",
    "\n",
    "<h4>What is the problem with w mode</h4>\n",
    "\n",
    "- In w mode we are able to write in the file but the the previous content present in the file is deleted or replaced with the new content\n",
    "- We are not able to write alog with existing content.\n",
    "\n",
    "<h4><font color='pink'>append mode(a):</h4>\n",
    "\n",
    "- Using append mode we can add new content to the end of the file without overwriting the existing content.\n",
    "- When we open a file in append mode, the file pointer is moved to the end of the file."
   ]
  },
  {
   "cell_type": "code",
   "execution_count": 48,
   "id": "4aad0f73-ec90-46be-bca9-f09df95b72ae",
   "metadata": {},
   "outputs": [],
   "source": [
    "f=open('sample1.txt','a')\n",
    "f.write('we should always smile')\n",
    "f.close()"
   ]
  },
  {
   "cell_type": "markdown",
   "id": "844fe933-320b-40cc-a607-7d05fe275259",
   "metadata": {},
   "source": [
    "<h5>if we want to write multiple lines stored inside any list to a file.Then we will use <font color='red'>writelines('pass list')</font>to write in a file.It will alse replace the existing code</h5>\n",
    "<h5><font color='red'>Writelines</font> can be used with any iterable that yields strings, such as tuples, sets, or even generators. The key is that the iterable contains strings, as writelines simply writes each string in the iterable to the file.</h5>"
   ]
  },
  {
   "cell_type": "code",
   "execution_count": 67,
   "id": "4a5bb99b-37cf-46b4-ba24-031f701a965c",
   "metadata": {},
   "outputs": [],
   "source": [
    "my_ques=[\n",
    "    \"What motivates you to take action?\\n\",\n",
    "    \"How do you define success?\\n\",\n",
    "    \"What are your short-term and long-term goals?\\n\",\n",
    "    \"How do you handle setbacks and failures?\\n\",\n",
    "    \"What is your biggest source of inspiration?\\n\",\n",
    "    \"How do you maintain focus and discipline?\\n\",\n",
    "    \"What habits contribute to your personal growth?\"]\n",
    "\n",
    "f=open('sample.txt','w')\n",
    "f.writelines(my_ques)\n",
    "f.close()"
   ]
  },
  {
   "cell_type": "code",
   "execution_count": 61,
   "id": "50a72af5-fa1e-41c4-b524-1c5f70152f7c",
   "metadata": {},
   "outputs": [
    {
     "ename": "TypeError",
     "evalue": "write() argument must be str, not set",
     "output_type": "error",
     "traceback": [
      "\u001b[1;31m---------------------------------------------------------------------------\u001b[0m",
      "\u001b[1;31mTypeError\u001b[0m                                 Traceback (most recent call last)",
      "Cell \u001b[1;32mIn[61], line 3\u001b[0m\n\u001b[0;32m      1\u001b[0m \u001b[38;5;28mset\u001b[39m\u001b[38;5;241m=\u001b[39m{\u001b[38;5;124m'\u001b[39m\u001b[38;5;124mapple\u001b[39m\u001b[38;5;124m'\u001b[39m,\u001b[38;5;124m'\u001b[39m\u001b[38;5;124mbanana\u001b[39m\u001b[38;5;124m'\u001b[39m,\u001b[38;5;124m'\u001b[39m\u001b[38;5;124mgrapes\u001b[39m\u001b[38;5;124m'\u001b[39m}\n\u001b[0;32m      2\u001b[0m f\u001b[38;5;241m=\u001b[39m\u001b[38;5;28mopen\u001b[39m(\u001b[38;5;124m'\u001b[39m\u001b[38;5;124msample1.txt\u001b[39m\u001b[38;5;124m'\u001b[39m,\u001b[38;5;124m'\u001b[39m\u001b[38;5;124ma\u001b[39m\u001b[38;5;124m'\u001b[39m)\n\u001b[1;32m----> 3\u001b[0m f\u001b[38;5;241m.\u001b[39mwrite(\u001b[38;5;28mset\u001b[39m)\n\u001b[0;32m      4\u001b[0m f\u001b[38;5;241m.\u001b[39mclose()\n",
      "\u001b[1;31mTypeError\u001b[0m: write() argument must be str, not set"
     ]
    }
   ],
   "source": [
    "set={'apple','banana','grapes'}\n",
    "f=open('sample1.txt','a')\n",
    "f.write(set)\n",
    "f.close()\n",
    "# it will only work with list."
   ]
  },
  {
   "cell_type": "markdown",
   "id": "67875ed8-8ab8-4ae3-8b1d-20c6ca58276a",
   "metadata": {},
   "source": [
    "<font color='red'><h2>Reading to a file</h2>\n",
    "\n",
    "- For reading a file we use:\n",
    "   - 1.read():it read all the content of a file at once.\n",
    "   - 2.readline():it read one line at once.It read line by line."
   ]
  },
  {
   "cell_type": "code",
   "execution_count": 7,
   "id": "0a86349e-03c2-4974-99d3-f6f099bb6923",
   "metadata": {},
   "outputs": [
    {
     "name": "stdout",
     "output_type": "stream",
     "text": [
      "What motivates you to take action?\n",
      "How do you define success?\n",
      "What are your short-term and long-term goals?\n",
      "How do you handle setbacks and failures?\n",
      "What is your biggest source of inspiration?\n",
      "How do you maintain focus and discipline?\n",
      "What habits contribute to your personal growth?\n",
      "\n"
     ]
    }
   ],
   "source": [
    "f=open('sample.txt','r')\n",
    "s=f.read()\n",
    "print(s)\n",
    "f.close()"
   ]
  },
  {
   "cell_type": "code",
   "execution_count": 10,
   "id": "b0d36f53-13a3-4778-8984-0dc2ffb03c27",
   "metadata": {},
   "outputs": [
    {
     "name": "stdout",
     "output_type": "stream",
     "text": [
      "What motivates you to take action?\n",
      "How d\n"
     ]
    }
   ],
   "source": [
    "# if we do not want to read the entire file we just want to read particular number of characters we can give no. of character in the read method.\n",
    "f=open('sample.txt','r')\n",
    "s=f.read(40)\n",
    "print(s)\n",
    "f.close()"
   ]
  },
  {
   "cell_type": "code",
   "execution_count": 15,
   "id": "bc85cb63-e4ad-49f6-a465-6d8d3b7a31d1",
   "metadata": {},
   "outputs": [
    {
     "name": "stdout",
     "output_type": "stream",
     "text": [
      "What motivates you to take action?\n",
      "\n"
     ]
    }
   ],
   "source": [
    "# to read line by line use readline\n",
    "f=open('sample.txt','r')\n",
    "s=f.readline()\n",
    "print(s)\n",
    "f.close()\n",
    "# here first line is printed"
   ]
  },
  {
   "cell_type": "code",
   "execution_count": 19,
   "id": "1c545038-fff9-4218-bfc7-3b24e8774d1e",
   "metadata": {},
   "outputs": [
    {
     "name": "stdout",
     "output_type": "stream",
     "text": [
      "What motivates you to take action?\n",
      "\n",
      "How do you define success?\n",
      "\n"
     ]
    }
   ],
   "source": [
    "# to read multiple lines\n",
    "f=open('sample.txt','r')\n",
    "print(f.readline())\n",
    "print(f.readline())\n",
    "f.close()\n",
    "# the line gap is because readline() by default changes the line and since it is inside print so that gap is visible too."
   ]
  },
  {
   "cell_type": "code",
   "execution_count": 21,
   "id": "bb21d4aa-711c-4963-8a15-9ace461b0aa9",
   "metadata": {},
   "outputs": [
    {
     "name": "stdout",
     "output_type": "stream",
     "text": [
      "What motivates you to take action?\n",
      "How do you define success?\n"
     ]
    }
   ],
   "source": [
    "f=open('sample.txt','r')\n",
    "print(f.readline(),end='')\n",
    "print(f.readline(),end='')\n",
    "f.close()\n",
    "# by using end there is no gap betweeen lines\n"
   ]
  },
  {
   "cell_type": "markdown",
   "id": "7891a815-cd37-4643-99bf-94decbc96536",
   "metadata": {},
   "source": [
    "<h5>When to use read() and readline()</h5>\n",
    "\n",
    "- When there is a lot of content in a file and we don't want to load the entire content in the memory we use readline().\n",
    "- use readline() for large files.\n",
    "- for small files use read()."
   ]
  },
  {
   "cell_type": "code",
   "execution_count": 14,
   "id": "1caac634-07a3-48f6-9399-e006441b6e9b",
   "metadata": {},
   "outputs": [
    {
     "name": "stdout",
     "output_type": "stream",
     "text": [
      "What motivates you to take action?\n",
      "How do you define success?\n",
      "What are your short-term and long-term goals?\n",
      "How do you handle setbacks and failures?\n",
      "What is your biggest source of inspiration?\n",
      "How do you maintain focus and discipline?\n",
      "What habits contribute to your personal growth?\n"
     ]
    }
   ],
   "source": [
    "# how to print entire content using readline():\n",
    "f=open('sample.txt','r')\n",
    "while True:\n",
    "    data=f.readline()\n",
    "    if data=='':\n",
    "        break;\n",
    "    else:\n",
    "        print(data,end='')"
   ]
  },
  {
   "cell_type": "code",
   "execution_count": null,
   "id": "6eb58fb1-b985-4444-8256-dee9824f8556",
   "metadata": {},
   "outputs": [
    {
     "name": "stdout",
     "output_type": "stream",
     "text": [
      "How do you define success?\n",
      "How do you handle setbacks and failures?\n",
      "How do you maintain focus and discipline?\n"
     ]
    }
   ],
   "source": [
    "f=open('sample.txt','r')\n",
    "while f.readline()!='':\n",
    "    print(f.readline(),end='')\n",
    "f.close()\n",
    "# it is not printing the entire content of the file because here f.readline is called twice.which skips the alternative lines."
   ]
  },
  {
   "cell_type": "markdown",
   "id": "2ae3bc30-d43e-4d54-8051-3150638a5bb3",
   "metadata": {},
   "source": [
    "<h2>Using Context Manager (with)</h2>\n",
    "\n",
    "- It's a good idea to close a file after usage as it will free up the resources.\n",
    "- If we dont close it, garbage collector would close it.\r",
    "- \n",
    "wth  keyword closes the file as soon as the usage is oerv.\n",
    "- It is a replacement of f.close().\n",
    "- It is a shortcut syntaxr"
   ]
  },
  {
   "cell_type": "code",
   "execution_count": 11,
   "id": "3c11d965-7a0c-4e74-8f9e-24cb7b7afb6d",
   "metadata": {},
   "outputs": [],
   "source": [
    "with open('sample1.txt','a') as f:\n",
    "    f.write('\\nSoltitude')"
   ]
  },
  {
   "cell_type": "code",
   "execution_count": 13,
   "id": "26a5c426-a5b8-4b79-b134-87033c938b27",
   "metadata": {},
   "outputs": [
    {
     "ename": "ValueError",
     "evalue": "I/O operation on closed file.",
     "output_type": "error",
     "traceback": [
      "\u001b[1;31m---------------------------------------------------------------------------\u001b[0m",
      "\u001b[1;31mValueError\u001b[0m                                Traceback (most recent call last)",
      "Cell \u001b[1;32mIn[13], line 2\u001b[0m\n\u001b[0;32m      1\u001b[0m \u001b[38;5;66;03m# if i try to write again\u001b[39;00m\n\u001b[1;32m----> 2\u001b[0m f\u001b[38;5;241m.\u001b[39mwrite(\u001b[38;5;124m'\u001b[39m\u001b[38;5;124mhey\u001b[39m\u001b[38;5;124m'\u001b[39m)\n",
      "\u001b[1;31mValueError\u001b[0m: I/O operation on closed file."
     ]
    }
   ],
   "source": [
    "# if I try to write again\n",
    "f.write('hey')\n",
    "# here 'with' has automatically closed the file."
   ]
  },
  {
   "cell_type": "code",
   "execution_count": 17,
   "id": "281c8b45-c25b-4527-928b-136bccb85b78",
   "metadata": {},
   "outputs": [
    {
     "name": "stdout",
     "output_type": "stream",
     "text": [
      "What motivates you to take action?\n",
      "How do you define success?\n",
      "What are your short-term and long-term goals?\n",
      "How do you handle setbacks and failures?\n",
      "What is your biggest source of inspiration?\n",
      "How do you maintain focus and discipline?\n",
      "What habits contribute to your personal growth?\n",
      "\n"
     ]
    }
   ],
   "source": [
    "# read using with\n",
    "with open('sample.txt','r') as f:\n",
    "    print(f.read())"
   ]
  },
  {
   "cell_type": "code",
   "execution_count": 21,
   "id": "f25d5bfa-b18c-4b84-be8e-3fd5c81b6b74",
   "metadata": {},
   "outputs": [
    {
     "name": "stdout",
     "output_type": "stream",
     "text": [
      "What motiv\n",
      "ates you t\n",
      "o take act\n"
     ]
    }
   ],
   "source": [
    "# read in a file : 10 charc then 10 char\n",
    "with open('sample.txt','r') as f:\n",
    "    print(f.read(10))\n",
    "    print(f.read(10))\n",
    "    print(f.read(10))\n",
    "# here in the second print the next 10 characters are printed."
   ]
  },
  {
   "cell_type": "markdown",
   "id": "ee7f3953-e5eb-4bed-9761-d93015b90028",
   "metadata": {},
   "source": [
    "<h4><font color='red'>Note</font></h4>\n",
    "\n",
    "- In the above code the next 10 characters are printed. This is the benefit of buffer,buffer keeps the track of process and keeps the count.\n",
    "- Using this technique we can load any large file in chunks.\n",
    "- Suppose if our data is of 10gb and our ram is 5gb in that case we can read the file in chunks.\n",
    "- In python 'pandas' library internally work like this."
   ]
  },
  {
   "cell_type": "code",
   "execution_count": 28,
   "id": "95f7ea2f-84fd-4a5c-b4b9-f713385efa17",
   "metadata": {},
   "outputs": [],
   "source": [
    "# to learn to load a big file in memory\n",
    "big_data=['hello world'for i in range(0,1000)]\n",
    "with open('sample1.txt','w')as f:\n",
    "    f.writelines(big_data)"
   ]
  },
  {
   "cell_type": "code",
   "execution_count": 36,
   "id": "05d3898f-53e8-4cb6-8035-876d36dbe89d",
   "metadata": {},
   "outputs": [
    {
     "name": "stdout",
     "output_type": "stream",
     "text": [
      "ello worldhello worldhello worldhello worldhello worldhello worldhello worldhello worldhello worldhe*/*o worldhello worldhello worldhello worldhello worldhello worldhello worldhello worldhello worldhello*/*orldhello worldhello worldhello worldhello worldhello worldhello worldhello worldhello worldhello wo*/*dhello worldhello worldhello worldhello worldhello worldhello worldhello worldhello worldhello world*/*llo worldhello worldhello worldhello worldhello worldhello worldhello worldhello worldhello worldhel*/* worldhello worldhello worldhello worldhello worldhello worldhello worldhello worldhello worldhello */*rldhello worldhello worldhello worldhello worldhello worldhello worldhello worldhello worldhello wor*/*hello worldhello worldhello worldhello worldhello worldhello worldhello worldhello worldhello worldh*/*lo worldhello worldhello worldhello worldhello worldhello worldhello worldhello worldhello worldhell*/*worldhello worldhello worldhello worldhello worldhello worldhello worldhello worldhello worldhello w*/*ldhello worldhello worldhello worldhello worldhello worldhello worldhello worldhello worldhello worl*/*ello worldhello worldhello worldhello worldhello worldhello worldhello worldhello worldhello worldhe*/*o worldhello worldhello worldhello worldhello worldhello worldhello worldhello worldhello worldhello*/*orldhello worldhello worldhello worldhello worldhello worldhello worldhello worldhello worldhello wo*/*dhello worldhello worldhello worldhello worldhello worldhello worldhello worldhello worldhello world*/*llo worldhello worldhello worldhello worldhello worldhello worldhello worldhello worldhello worldhel*/* worldhello worldhello worldhello worldhello worldhello worldhello worldhello worldhello worldhello */*rldhello worldhello worldhello worldhello worldhello worldhello worldhello worldhello worldhello wor*/*hello worldhello worldhello worldhello worldhello worldhello worldhello worldhello worldhello worldh*/*lo worldhello worldhello worldhello worldhello worldhello worldhello worldhello worldhello worldhell*/*worldhello worldhello worldhello worldhello worldhello worldhello worldhello worldhello worldhello w*/*ldhello worldhello worldhello worldhello worldhello worldhello worldhello worldhello worldhello worl*/*ello worldhello worldhello worldhello worldhello worldhello worldhello worldhello worldhello worldhe*/*o worldhello worldhello worldhello worldhello worldhello worldhello worldhello worldhello worldhello*/*orldhello worldhello worldhello worldhello worldhello worldhello worldhello worldhello worldhello wo*/*dhello worldhello worldhello worldhello worldhello worldhello worldhello worldhello worldhello world*/*llo worldhello worldhello worldhello worldhello worldhello worldhello worldhello worldhello worldhel*/* worldhello worldhello worldhello worldhello worldhello worldhello worldhello worldhello worldhello */*rldhello worldhello worldhello worldhello worldhello worldhello worldhello worldhello worldhello wor*/*hello worldhello worldhello worldhello worldhello worldhello worldhello worldhello worldhello worldh*/*lo worldhello worldhello worldhello worldhello worldhello worldhello worldhello worldhello worldhell*/*worldhello worldhello worldhello worldhello worldhello worldhello worldhello worldhello worldhello w*/*ldhello worldhello worldhello worldhello worldhello worldhello worldhello worldhello worldhello worl*/*ello worldhello worldhello worldhello worldhello worldhello worldhello worldhello worldhello worldhe*/*o worldhello worldhello worldhello worldhello worldhello worldhello worldhello worldhello worldhello*/*orldhello worldhello worldhello worldhello worldhello worldhello worldhello worldhello worldhello wo*/*dhello worldhello worldhello worldhello worldhello worldhello worldhello worldhello worldhello world*/*"
     ]
    }
   ],
   "source": [
    "with open('sample1.txt','r') as f:\n",
    "    chunk=100\n",
    "    while len(f.read(chunk))>0:\n",
    "        print(f.read(chunk),end='*/*')\n",
    "        f.read(chunk) #if we will not load the next chunk it will run for infinite loop and it will load the same chunk for infinite time.\n",
    "                      # this will load nexrt 100 characters.\n",
    "                   #f.read(chunk) is same as second print(f.read(10))"
   ]
  },
  {
   "cell_type": "markdown",
   "id": "7828f7e7-1360-4506-b508-0b8debdd44c2",
   "metadata": {},
   "source": [
    "<h3><font color='pink'>Seek() And Tell()</font></h3>\n",
    "\n",
    "- <h5>Seek()</h5>\n",
    "\n",
    "   - seek() function is used to change the position of the file handler(cursor) to a specific location, which is helpful when you need to move to different parts of a file for reading or writing.\n",
    "  - with the help of this we can place our cursor at any postion (or at any char).\n",
    "      \n",
    "- <h5>Tell()</h5>\n",
    "\n",
    "    - The tell() function, on the other hand, returns the current position of the file handle.\n",
    "    - It basically tells the current position of cursor at which char the cursor is.\n",
    " "
   ]
  },
  {
   "cell_type": "code",
   "execution_count": 18,
   "id": "9e002133-a63e-4650-8c38-ae03b31c3676",
   "metadata": {},
   "outputs": [
    {
     "name": "stdout",
     "output_type": "stream",
     "text": [
      "What motivates you to take action?\n",
      "How do you define success?\n",
      "What are your short-term and long-term goals?\n",
      "How do you handle setbacks and failures?\n",
      "What is your biggest source of inspiration?\n",
      "How do you maintain focus and discipline?\n",
      "What habits contribute to your personal growth?\n",
      "\n",
      "290\n"
     ]
    }
   ],
   "source": [
    "with open('sample.txt','r') as f:\n",
    "    print(f.read())\n",
    "    print(f.tell())"
   ]
  },
  {
   "cell_type": "code",
   "execution_count": 32,
   "id": "648e971b-537d-46f7-be69-5ab69949e9ff",
   "metadata": {},
   "outputs": [
    {
     "name": "stdout",
     "output_type": "stream",
     "text": [
      "do you def\n",
      "50\n",
      "ine success?\n",
      "What ar\n",
      "71\n"
     ]
    }
   ],
   "source": [
    "with open('sample.txt','r') as f:\n",
    "    f.seek(40)\n",
    "    print(f.read(10))\n",
    "    print(f.tell())\n",
    "    print(f.read(20))\n",
    "    print(f.tell())"
   ]
  },
  {
   "cell_type": "code",
   "execution_count": 42,
   "id": "60b23238-04da-4260-915a-c7ea0133a494",
   "metadata": {},
   "outputs": [
    {
     "name": "stdout",
     "output_type": "stream",
     "text": [
      "51\n"
     ]
    }
   ],
   "source": [
    "# write using seek\n",
    "with open('sample2.txt','w') as f:\n",
    "    f.write('python is a simple language')\n",
    "    f.write('\\n it is object oriented')\n",
    "    print(f.tell())\n",
    "    f.seek(6)\n",
    "    f.write('hello')"
   ]
  },
  {
   "cell_type": "markdown",
   "id": "10f9672b-2787-4f4a-8d6d-535d5695cd6c",
   "metadata": {},
   "source": [
    "<h3>Problems with working in text mode</h3>\n",
    "\n",
    "- can't work with binary files like images\r",
    "- \n",
    "not good for other data types like int/float/list/tuples"
   ]
  },
  {
   "cell_type": "code",
   "execution_count": 47,
   "id": "714ab5e2-5f7d-445b-abc3-0af347bbb08c",
   "metadata": {},
   "outputs": [
    {
     "ename": "UnicodeDecodeError",
     "evalue": "'charmap' codec can't decode byte 0x8d in position 267: character maps to <undefined>",
     "output_type": "error",
     "traceback": [
      "\u001b[1;31m---------------------------------------------------------------------------\u001b[0m",
      "\u001b[1;31mUnicodeDecodeError\u001b[0m                        Traceback (most recent call last)",
      "Cell \u001b[1;32mIn[47], line 2\u001b[0m\n\u001b[0;32m      1\u001b[0m \u001b[38;5;28;01mwith\u001b[39;00m \u001b[38;5;28mopen\u001b[39m (\u001b[38;5;124m'\u001b[39m\u001b[38;5;124mWallpaper Aesthetic.jpeg\u001b[39m\u001b[38;5;124m'\u001b[39m,\u001b[38;5;124m'\u001b[39m\u001b[38;5;124mr\u001b[39m\u001b[38;5;124m'\u001b[39m) \u001b[38;5;28;01mas\u001b[39;00m f:\n\u001b[1;32m----> 2\u001b[0m     f\u001b[38;5;241m.\u001b[39mread()\n",
      "File \u001b[1;32mC:\\ProgramData\\anaconda3\\Lib\\encodings\\cp1252.py:23\u001b[0m, in \u001b[0;36mIncrementalDecoder.decode\u001b[1;34m(self, input, final)\u001b[0m\n\u001b[0;32m     22\u001b[0m \u001b[38;5;28;01mdef\u001b[39;00m \u001b[38;5;21mdecode\u001b[39m(\u001b[38;5;28mself\u001b[39m, \u001b[38;5;28minput\u001b[39m, final\u001b[38;5;241m=\u001b[39m\u001b[38;5;28;01mFalse\u001b[39;00m):\n\u001b[1;32m---> 23\u001b[0m     \u001b[38;5;28;01mreturn\u001b[39;00m codecs\u001b[38;5;241m.\u001b[39mcharmap_decode(\u001b[38;5;28minput\u001b[39m,\u001b[38;5;28mself\u001b[39m\u001b[38;5;241m.\u001b[39merrors,decoding_table)[\u001b[38;5;241m0\u001b[39m]\n",
      "\u001b[1;31mUnicodeDecodeError\u001b[0m: 'charmap' codec can't decode byte 0x8d in position 267: character maps to <undefined>"
     ]
    }
   ],
   "source": [
    "with open ('Wallpaper Aesthetic.jpeg','r') as f:\n",
    "    f.read()\n",
    "# here charmap is trying to find unicode"
   ]
  },
  {
   "cell_type": "markdown",
   "id": "b21d24ce-d242-41ba-9e46-b84b0d28fea0",
   "metadata": {},
   "source": [
    "### Working with Binary Files\r\n",
    "\r\n",
    "- When dealing with binary files in Python, you have several mode options:\r\n",
    "  - `'rb'`: Read a binary file.\r\n",
    "  - `'wb'`: Write to a binary file (truncating the file first).\r\n",
    "  - `'ab'`: Append to a binary file.\r\n",
    "  - `'rb+'`: Read and write to a binary file (starting at the beginning).\r\n",
    "  - `'wb+'`: Write and read a binary file (truncating the file first).\r\n",
    "  - `'ab+'`: Append and read a binary file.\r\n",
    "\r\n",
    "These modes ensure you handle binary data correctly, preserving its raw format without any automatic encoding conversions. Handy for working with bit, right?\r\n",
    "a. Neat, right?"
   ]
  },
  {
   "cell_type": "code",
   "execution_count": 50,
   "id": "f8572a9b-de9a-4d2a-8b94-25cd4304a016",
   "metadata": {},
   "outputs": [
    {
     "ename": "UnicodeDecodeError",
     "evalue": "'charmap' codec can't decode byte 0x8d in position 267: character maps to <undefined>",
     "output_type": "error",
     "traceback": [
      "\u001b[1;31m---------------------------------------------------------------------------\u001b[0m",
      "\u001b[1;31mUnicodeDecodeError\u001b[0m                        Traceback (most recent call last)",
      "Cell \u001b[1;32mIn[50], line 4\u001b[0m\n\u001b[0;32m      2\u001b[0m \u001b[38;5;28;01mwith\u001b[39;00m \u001b[38;5;28mopen\u001b[39m(\u001b[38;5;124m'\u001b[39m\u001b[38;5;124mWallpaper Aesthetic.jpeg\u001b[39m\u001b[38;5;124m'\u001b[39m,\u001b[38;5;124m'\u001b[39m\u001b[38;5;124mr\u001b[39m\u001b[38;5;124m'\u001b[39m) \u001b[38;5;28;01mas\u001b[39;00m f:\n\u001b[0;32m      3\u001b[0m     \u001b[38;5;28;01mwith\u001b[39;00m \u001b[38;5;28mopen\u001b[39m(\u001b[38;5;124m'\u001b[39m\u001b[38;5;124mwallpaper_copy\u001b[39m\u001b[38;5;124m'\u001b[39m,\u001b[38;5;124m'\u001b[39m\u001b[38;5;124mw\u001b[39m\u001b[38;5;124m'\u001b[39m) \u001b[38;5;28;01mas\u001b[39;00m wf:\n\u001b[1;32m----> 4\u001b[0m        wf\u001b[38;5;241m.\u001b[39mwrite( f\u001b[38;5;241m.\u001b[39mread())\n",
      "File \u001b[1;32mC:\\ProgramData\\anaconda3\\Lib\\encodings\\cp1252.py:23\u001b[0m, in \u001b[0;36mIncrementalDecoder.decode\u001b[1;34m(self, input, final)\u001b[0m\n\u001b[0;32m     22\u001b[0m \u001b[38;5;28;01mdef\u001b[39;00m \u001b[38;5;21mdecode\u001b[39m(\u001b[38;5;28mself\u001b[39m, \u001b[38;5;28minput\u001b[39m, final\u001b[38;5;241m=\u001b[39m\u001b[38;5;28;01mFalse\u001b[39;00m):\n\u001b[1;32m---> 23\u001b[0m     \u001b[38;5;28;01mreturn\u001b[39;00m codecs\u001b[38;5;241m.\u001b[39mcharmap_decode(\u001b[38;5;28minput\u001b[39m,\u001b[38;5;28mself\u001b[39m\u001b[38;5;241m.\u001b[39merrors,decoding_table)[\u001b[38;5;241m0\u001b[39m]\n",
      "\u001b[1;31mUnicodeDecodeError\u001b[0m: 'charmap' codec can't decode byte 0x8d in position 267: character maps to <undefined>"
     ]
    }
   ],
   "source": [
    "# create a copy of a binary file\n",
    "with open('Wallpaper Aesthetic.jpeg','r') as f:\n",
    "    with open('wallpaper_copy','w') as wf:\n",
    "       wf.write( f.read())"
   ]
  },
  {
   "cell_type": "code",
   "execution_count": 4,
   "id": "5a962ff2-c6ac-458b-9aa7-cc7b19d48511",
   "metadata": {},
   "outputs": [],
   "source": [
    "with open(r\"C:\\Users\\acer\\Downloads\\816949a6-c11a-41b7-b69d-d41ad21529da - Copy.jpeg\", 'rb') as f:\n",
    "    with open('wallpaper_copy.jpeg', 'wb') as wf:\n",
    "        wf.write(f.read())\n"
   ]
  },
  {
   "cell_type": "code",
   "execution_count": 8,
   "id": "23453eda-e4fc-4b29-b529-627a0564e0fb",
   "metadata": {},
   "outputs": [],
   "source": [
    "# this is also running fine.\n",
    "with open(\"C:\\\\Users\\\\acer\\\\Downloads\\\\816949a6-c11a-41b7-b69d-d41ad21529da - Copy.jpeg\", 'rb') as f:\n",
    "    with open('wallpaper_copy1.jpeg', 'wb') as wf:\n",
    "        wf.write(f.read())\n"
   ]
  },
  {
   "cell_type": "markdown",
   "id": "a1b73185-79e2-4e91-91b8-63ba3115638a",
   "metadata": {},
   "source": [
    "#### working with other datatype"
   ]
  },
  {
   "cell_type": "code",
   "execution_count": 13,
   "id": "d3acbd69-197d-4475-b100-2acd11c2df32",
   "metadata": {},
   "outputs": [
    {
     "ename": "TypeError",
     "evalue": "write() argument must be str, not int",
     "output_type": "error",
     "traceback": [
      "\u001b[1;31m---------------------------------------------------------------------------\u001b[0m",
      "\u001b[1;31mTypeError\u001b[0m                                 Traceback (most recent call last)",
      "Cell \u001b[1;32mIn[13], line 2\u001b[0m\n\u001b[0;32m      1\u001b[0m \u001b[38;5;28;01mwith\u001b[39;00m \u001b[38;5;28mopen\u001b[39m(\u001b[38;5;124m'\u001b[39m\u001b[38;5;124msample.txt\u001b[39m\u001b[38;5;124m'\u001b[39m,\u001b[38;5;124m'\u001b[39m\u001b[38;5;124ma\u001b[39m\u001b[38;5;124m'\u001b[39m) \u001b[38;5;28;01mas\u001b[39;00m f:\n\u001b[1;32m----> 2\u001b[0m     f\u001b[38;5;241m.\u001b[39mwrite(\u001b[38;5;241m5\u001b[39m)\n",
      "\u001b[1;31mTypeError\u001b[0m: write() argument must be str, not int"
     ]
    }
   ],
   "source": [
    "with open('sample.txt','a') as f:\n",
    "    f.write(5)"
   ]
  },
  {
   "cell_type": "code",
   "execution_count": 15,
   "id": "a0a1867c-fb68-49a7-b1ce-e3b5e6be22f6",
   "metadata": {},
   "outputs": [],
   "source": [
    "with open ('sample.txt','a') as f:\n",
    "    f.write('5')\n",
    "# now int is converted to string."
   ]
  },
  {
   "cell_type": "code",
   "execution_count": 17,
   "id": "18672720-8a27-465b-a4ba-f867f6841624",
   "metadata": {},
   "outputs": [
    {
     "ename": "TypeError",
     "evalue": "write() argument must be str, not dict",
     "output_type": "error",
     "traceback": [
      "\u001b[1;31m---------------------------------------------------------------------------\u001b[0m",
      "\u001b[1;31mTypeError\u001b[0m                                 Traceback (most recent call last)",
      "Cell \u001b[1;32mIn[17], line 6\u001b[0m\n\u001b[0;32m      1\u001b[0m a\u001b[38;5;241m=\u001b[39m{\u001b[38;5;124m'\u001b[39m\u001b[38;5;124mname\u001b[39m\u001b[38;5;124m'\u001b[39m:\u001b[38;5;124m'\u001b[39m\u001b[38;5;124mrohan\u001b[39m\u001b[38;5;124m'\u001b[39m,\n\u001b[0;32m      2\u001b[0m    \u001b[38;5;124m'\u001b[39m\u001b[38;5;124mage\u001b[39m\u001b[38;5;124m'\u001b[39m:\u001b[38;5;241m24\u001b[39m,\n\u001b[0;32m      3\u001b[0m    \u001b[38;5;124m'\u001b[39m\u001b[38;5;124mgender\u001b[39m\u001b[38;5;124m'\u001b[39m:\u001b[38;5;124m'\u001b[39m\u001b[38;5;124mmale\u001b[39m\u001b[38;5;124m'\u001b[39m,\n\u001b[0;32m      4\u001b[0m    \u001b[38;5;124m'\u001b[39m\u001b[38;5;124moccupation\u001b[39m\u001b[38;5;124m'\u001b[39m:\u001b[38;5;124m'\u001b[39m\u001b[38;5;124mengineer\u001b[39m\u001b[38;5;124m'\u001b[39m}\n\u001b[0;32m      5\u001b[0m \u001b[38;5;28;01mwith\u001b[39;00m \u001b[38;5;28mopen\u001b[39m (\u001b[38;5;124m'\u001b[39m\u001b[38;5;124msample.txt\u001b[39m\u001b[38;5;124m'\u001b[39m,\u001b[38;5;124m'\u001b[39m\u001b[38;5;124ma\u001b[39m\u001b[38;5;124m'\u001b[39m) \u001b[38;5;28;01mas\u001b[39;00m f:\n\u001b[1;32m----> 6\u001b[0m     f\u001b[38;5;241m.\u001b[39mwrite(a)\n",
      "\u001b[1;31mTypeError\u001b[0m: write() argument must be str, not dict"
     ]
    }
   ],
   "source": [
    "a={'name':'rohan',\n",
    "   'age':24,\n",
    "   'gender':'male',\n",
    "   'occupation':'engineer'}\n",
    "with open ('sample.txt','a') as f:\n",
    "    f.write(a)"
   ]
  },
  {
   "cell_type": "code",
   "execution_count": 19,
   "id": "13b796d5-cd01-4696-80d0-b217a1eab37c",
   "metadata": {},
   "outputs": [],
   "source": [
    "a={'name':'rohan',\n",
    "   'age':24,\n",
    "   'gender':'male',\n",
    "   'occupation':'engineer'}\n",
    "with open ('sample.txt','a') as f:\n",
    "    f.write(str(a))"
   ]
  },
  {
   "cell_type": "code",
   "execution_count": 27,
   "id": "4982e1d8-b168-4957-94dd-b5e271c897da",
   "metadata": {},
   "outputs": [
    {
     "name": "stdout",
     "output_type": "stream",
     "text": [
      "What motivates you to take action?\n",
      "How do you define success?\n",
      "What are your short-term and long-term goals?\n",
      "How do you handle setbacks and failures?\n",
      "What is your biggest source of inspiration?\n",
      "How do you maintain focus and discipline?\n",
      "What habits contribute to your personal growth?\n",
      "5{'name': 'rohan', 'age': 24, 'gender': 'male', 'occupation': 'engineer'}\n",
      "<class 'str'>\n"
     ]
    }
   ],
   "source": [
    "with open('sample.txt','r') as f:\n",
    "    print(f.read())\n",
    "    print(type(f.read()))"
   ]
  },
  {
   "cell_type": "markdown",
   "id": "e752fa6f-498d-4bdd-adb9-b004673307d2",
   "metadata": {},
   "source": [
    "#### Note:\n",
    "\n",
    "- you cannot store a complex datatype inside a file using text operation , because we cannot reterive it in the same format"
   ]
  },
  {
   "attachments": {
    "fd7bc098-fec7-4b34-bba1-9bd35f1ad87c.png": {
     "image/png": "[encoded data removed]"
    }
   },
   "cell_type": "markdown",
   "id": "7af1fc5f-d0ec-4cfb-adea-361f35f62af2",
   "metadata": {},
   "source": [
    "<h3>Serialization And Deserialization</h3>\n",
    "\n",
    "- Serialization :\n",
    "     - process of converting python data types to JSON format\r",
    "- \n",
    "Deserialization:\n",
    "    -   process of converting JSON to python data type\n",
    "- Always use JSON format of serialization and deserialization to store complex datatypes(list,tuple,set,dictionary etc.).\n",
    " \n",
    "<h3>What is JSON?</h3>\n",
    "\n",
    "- JavaScript Object Notation.\n",
    "- It is a universal data format which is understood by every language.\n",
    "- Every API is using json format.\n",
    "- It store values in key-value pair.\n",
    "\n",
    " ![image.png](attachment:fd7bc098-fec7-4b34-bba1-9bd35f1ad87c.png)s"
   ]
  },
  {
   "cell_type": "markdown",
   "id": "278c0214-ad7f-483b-91c2-49e929e9abdf",
   "metadata": {},
   "source": [
    "#### serailization using json module"
   ]
  },
  {
   "cell_type": "code",
   "execution_count": 38,
   "id": "c12075bd-623f-48aa-bfe0-510f1e3fa412",
   "metadata": {},
   "outputs": [],
   "source": [
    "import json\n",
    "l=[1,2,3,4,5,6]\n",
    "with open('demo.json','w') as f:\n",
    "    json.dump(l,f)"
   ]
  },
  {
   "cell_type": "code",
   "execution_count": 42,
   "id": "de4c3c3a-86c2-46e4-b7ae-ed453396ba91",
   "metadata": {},
   "outputs": [],
   "source": [
    "a={'name':'rohan',\n",
    "   'age':24,\n",
    "   'gender':'male',\n",
    "   'occupation':'engineer'}\n",
    "with open ('demo.json','w') as f:\n",
    "    json.dump(a,f)\n",
    "\n",
    "#While you can use append mode ('a' or 'ab') with text and binary files, it's not typically used with the JSON module in Python. \n",
    "#JSON data is usually written using 'w' or 'wb' modes to ensure the entire content is structured correctly as a single valid JSON object."
   ]
  },
  {
   "cell_type": "markdown",
   "id": "dc47d354-4760-4f14-8093-dea9c3cf2dfd",
   "metadata": {},
   "source": [
    "#### deserialization "
   ]
  },
  {
   "cell_type": "code",
   "execution_count": 7,
   "id": "ba8baeff-4860-4588-9890-096b0f0136a7",
   "metadata": {},
   "outputs": [
    {
     "name": "stdout",
     "output_type": "stream",
     "text": [
      "{'name': 'rohan', 'age': 24, 'gender': 'male', 'occupation': 'engineer'}\n"
     ]
    },
    {
     "ename": "TypeError",
     "evalue": "load() missing 1 required positional argument: 'fp'",
     "output_type": "error",
     "traceback": [
      "\u001b[1;31m---------------------------------------------------------------------------\u001b[0m",
      "\u001b[1;31mTypeError\u001b[0m                                 Traceback (most recent call last)",
      "Cell \u001b[1;32mIn[7], line 4\u001b[0m\n\u001b[0;32m      2\u001b[0m \u001b[38;5;28;01mwith\u001b[39;00m \u001b[38;5;28mopen\u001b[39m(\u001b[38;5;124m'\u001b[39m\u001b[38;5;124mdemo.json\u001b[39m\u001b[38;5;124m'\u001b[39m,\u001b[38;5;124m'\u001b[39m\u001b[38;5;124mr\u001b[39m\u001b[38;5;124m'\u001b[39m) \u001b[38;5;28;01mas\u001b[39;00m f:\n\u001b[0;32m      3\u001b[0m     \u001b[38;5;28mprint\u001b[39m(json\u001b[38;5;241m.\u001b[39mload(f))\n\u001b[1;32m----> 4\u001b[0m     \u001b[38;5;28mprint\u001b[39m(\u001b[38;5;28mtype\u001b[39m(json\u001b[38;5;241m.\u001b[39mload()))\n",
      "\u001b[1;31mTypeError\u001b[0m: load() missing 1 required positional argument: 'fp'"
     ]
    }
   ],
   "source": [
    "import json\n",
    "with open('demo.json','r') as f:\n",
    "    print(json.load(f))\n",
    "    print(type(json.load()))"
   ]
  },
  {
   "cell_type": "code",
   "execution_count": 58,
   "id": "302e7dbb-cd15-4efc-b83e-5b2a516e8cff",
   "metadata": {},
   "outputs": [
    {
     "name": "stdout",
     "output_type": "stream",
     "text": [
      "{'name': 'rohan', 'age': 24, 'gender': 'male', 'occupation': 'engineer'}\n",
      "<class 'dict'>\n"
     ]
    }
   ],
   "source": [
    "import json\n",
    "with open('demo.json','r') as f:\n",
    "    d=json.load(f)\n",
    "    print(d)\n",
    "    print(type(d))"
   ]
  },
  {
   "cell_type": "markdown",
   "id": "611b67c9-8d87-4014-9ed5-05d533811e19",
   "metadata": {},
   "source": [
    "<h4>Serialization and Deserialization in Tuple</h4>\n",
    "\n",
    "- When we dump or load a tuple we always get a list and not tuple because JSON format doesn’t have a direct way to represent tuples, so it falls back to using lists instead."
   ]
  },
  {
   "cell_type": "code",
   "execution_count": 11,
   "id": "a006ea9a-3957-40a2-a815-a732f1f22ba8",
   "metadata": {},
   "outputs": [],
   "source": [
    "import json\n",
    "t=(1,2,3,4,5,6,7,8)\n",
    "with open('demo1.json','w') as f:\n",
    "    json.dump(t,f)\n",
    "#it is stored as a list."
   ]
  },
  {
   "cell_type": "code",
   "execution_count": 13,
   "id": "ad966c58-c7d9-4404-98a4-ccb0f7ca1c94",
   "metadata": {},
   "outputs": [
    {
     "name": "stdout",
     "output_type": "stream",
     "text": [
      "[1, 2, 3, 4, 5, 6, 7, 8]\n"
     ]
    }
   ],
   "source": [
    "import json \n",
    "with open('demo1.json','r') as f:\n",
    "    print(json.load(f))"
   ]
  },
  {
   "cell_type": "code",
   "execution_count": 15,
   "id": "74836c6f-b036-4031-ab83-5faa7b4bd199",
   "metadata": {},
   "outputs": [
    {
     "name": "stdout",
     "output_type": "stream",
     "text": [
      "[1, 2, 3, 4, 5, 6, 7, 8]\n",
      "<class 'list'>\n"
     ]
    }
   ],
   "source": [
    "import json \n",
    "with open('demo1.json','r') as f:\n",
    "    d=json.load(f)\n",
    "    print(d)\n",
    "    print(type(d))"
   ]
  },
  {
   "cell_type": "code",
   "execution_count": 21,
   "id": "9f01ffeb-5878-4de0-8093-eacd709d47c3",
   "metadata": {},
   "outputs": [
    {
     "name": "stdout",
     "output_type": "stream",
     "text": [
      "(1, 2, 3, 4, 5, 6, 7, 8)\n",
      "<class 'tuple'> <class 'list'>\n"
     ]
    }
   ],
   "source": [
    "import json \n",
    "with open('demo1.json','r') as f:\n",
    "    d=json.load(f)\n",
    "    t=tuple(d)\n",
    "    print(t)\n",
    "    print(type(t),type(d))\n",
    "# typecasted to tuple"
   ]
  },
  {
   "cell_type": "markdown",
   "id": "11fcb622-affe-437c-844f-39de0918b6bb",
   "metadata": {},
   "source": [
    "<h5>Serialization and Deserializtion in nested dict</h5>"
   ]
  },
  {
   "cell_type": "code",
   "execution_count": 30,
   "id": "5a20e9a6-883c-45bb-8a9b-4b1df046f9b3",
   "metadata": {},
   "outputs": [],
   "source": [
    "import json\n",
    "students={'stu1':{'name':'ayush','marks':[45,34,33,21,27]},\n",
    "         'stu2':{'name':'abhay','marks':[34,35,45,42,38]}\n",
    "        }\n",
    "with open('demo1.json','w') as f:\n",
    "    json.dump(students,f,indent=4)"
   ]
  },
  {
   "cell_type": "code",
   "execution_count": 32,
   "id": "2ade7a1e-59b0-4e95-b37f-5303bed85b11",
   "metadata": {},
   "outputs": [
    {
     "name": "stdout",
     "output_type": "stream",
     "text": [
      "{'stu1': {'name': 'ayush', 'marks': [45, 34, 33, 21, 27]}, 'stu2': {'name': 'abhay', 'marks': [34, 35, 45, 42, 38]}}\n"
     ]
    }
   ],
   "source": [
    "import json \n",
    "with open ('demo1.json','r') as f:\n",
    "    print(json.load(f))"
   ]
  },
  {
   "cell_type": "markdown",
   "id": "83c22a9f-a84d-445d-bbc2-c31dacda2908",
   "metadata": {},
   "source": [
    "<h3>Serialization and Deserialization of Custom Object</h3>\n",
    "\n",
    "- Till now we have moved (dumped/loaded) our inbuilt datatypes.\n",
    "- How to move your custome objects to a file?\n",
    "    - we cannot move our custome object simply like other datatypes ,we have to\n",
    "      clearly specify how we want to serialize our object."
   ]
  },
  {
   "cell_type": "code",
   "execution_count": null,
   "id": "c43bd97e-b896-4b9d-a0c4-df4ffa71d557",
   "metadata": {},
   "outputs": [],
   "source": [
    "class Person:\n",
    "    def __init__(self,fname,lname,age,profession):\n",
    "        self.fname=fname\n",
    "        self.lname=lname\n",
    "        self.age=age\n",
    "        self.profession=profession \n",
    "\n",
    "# format to printed in\n",
    "# -> Nitish Singh age -> 33 gender -> male"
   ]
  },
  {
   "cell_type": "code",
   "execution_count": null,
   "id": "19355aa7-43c8-4c56-85f5-f489dc74f5fe",
   "metadata": {},
   "outputs": [],
   "source": [
    "obj1=Person('Bhumika','Parihar','21','Data Scientist')"
   ]
  },
  {
   "cell_type": "code",
   "execution_count": 41,
   "id": "79869514-7aa8-42f9-ba21-44af5540e9dd",
   "metadata": {},
   "outputs": [
    {
     "ename": "NameError",
     "evalue": "name 'obj1' is not defined",
     "output_type": "error",
     "traceback": [
      "\u001b[1;31m---------------------------------------------------------------------------\u001b[0m",
      "\u001b[1;31mNameError\u001b[0m                                 Traceback (most recent call last)",
      "Cell \u001b[1;32mIn[41], line 3\u001b[0m\n\u001b[0;32m      1\u001b[0m \u001b[38;5;28;01mimport\u001b[39;00m \u001b[38;5;21;01mjson\u001b[39;00m \n\u001b[0;32m      2\u001b[0m \u001b[38;5;28;01mwith\u001b[39;00m \u001b[38;5;28mopen\u001b[39m(\u001b[38;5;124m'\u001b[39m\u001b[38;5;124mdemo1.json\u001b[39m\u001b[38;5;124m'\u001b[39m,\u001b[38;5;124m'\u001b[39m\u001b[38;5;124mw\u001b[39m\u001b[38;5;124m'\u001b[39m)\u001b[38;5;28;01mas\u001b[39;00m f:\n\u001b[1;32m----> 3\u001b[0m     json\u001b[38;5;241m.\u001b[39mdump(obj1,f)\n",
      "\u001b[1;31mNameError\u001b[0m: name 'obj1' is not defined"
     ]
    }
   ],
   "source": [
    "import json \n",
    "with open('demo1.json','w')as f:\n",
    "    json.dump(obj1,f)"
   ]
  },
  {
   "cell_type": "code",
   "execution_count": 59,
   "id": "cd1a22c4-3232-462b-bd3c-04f567b65da3",
   "metadata": {},
   "outputs": [],
   "source": [
    "# as a string: -> Nitish Singh age -> 33 profession -> Data scientist\n",
    "import json\n",
    "def show(obj1):\n",
    "    if isinstance(obj1,Person):\n",
    "        return \"{} {} age -> {} profession->{}\".format(obj1.fname,obj1.lname,obj1.age,obj1.profession)\n",
    "with open('demo1.json','w') as f:\n",
    "    json.dump(obj1,f,default=show)"
   ]
  },
  {
   "cell_type": "code",
   "execution_count": 69,
   "id": "03e3ea03-04ea-4e62-8dcf-624881e1a4b7",
   "metadata": {},
   "outputs": [],
   "source": [
    "# as a dict \n",
    "import json\n",
    "def show(obj1):\n",
    "    if isinstance(obj1,Person):\n",
    "        return {'name':obj1.fname+' '+obj1.lname,'age':obj1.age,'profession':obj1.profession}\n",
    "with open ('demo1.json','w') as f:\n",
    "    json.dump(obj1,f,default=show)"
   ]
  },
  {
   "cell_type": "code",
   "execution_count": 73,
   "id": "8e5baa21-ce96-4428-898e-a2ea20ae67d6",
   "metadata": {},
   "outputs": [
    {
     "name": "stdout",
     "output_type": "stream",
     "text": [
      "{'name': 'Bhumika Parihar', 'age': '21', 'profession': 'Data Scientist'}\n"
     ]
    }
   ],
   "source": [
    "# read\n",
    "import json\n",
    "with open('demo1.json','r') as f:\n",
    "    print(json.load(f))"
   ]
  },
  {
   "cell_type": "markdown",
   "id": "e4657e8d-f5c8-4215-916e-bb6e8c951d93",
   "metadata": {},
   "source": [
    "##### what if i want to serialize our object as it is and deserialize that object as it is to i can do operations that i can do with objects.\n",
    "\n",
    "- to move our objects as it is in file we use pickling module.\n",
    "- it is the most import thing we do as a data scientist, we will pickle our machine learning models.\n",
    "\n",
    "<h4>Pickling</h4>\n",
    "\n",
    "- Pickling is the process whereby a Python object hierarchy is converted into a byte stream, and unpickling is the inverse operation, whereby a byte stream (from a binary file or bytes-like object) is converted back into an object hierarchy.\n",
    "\n"
   ]
  },
  {
   "cell_type": "code",
   "execution_count": 44,
   "id": "999db82f-be20-4fe3-9ff8-9b6935379a9a",
   "metadata": {},
   "outputs": [],
   "source": [
    "import pickle\n",
    "class Person:\n",
    "    def __init__(self,name,age):\n",
    "        self.name=name\n",
    "        self.age=age\n",
    "    def display(self):\n",
    "        print(f\"hii my name is{self.name},my age is{self.age}\")\n",
    "        "
   ]
  },
  {
   "cell_type": "code",
   "execution_count": 46,
   "id": "87ba5323-0a32-4ee7-be85-ccc4196d7c3d",
   "metadata": {},
   "outputs": [],
   "source": [
    "per1=Person('bhumika parihar',21)"
   ]
  },
  {
   "cell_type": "code",
   "execution_count": 48,
   "id": "2e044451-0a4a-4319-a0d0-49c17aa85d9c",
   "metadata": {},
   "outputs": [],
   "source": [
    "import pickle\n",
    "with open('demo.pkl','wb') as f:\n",
    "    pickle.dump(per1,f)"
   ]
  },
  {
   "cell_type": "code",
   "execution_count": 50,
   "id": "062dc529-57d8-4804-a963-c3440cf1ff9d",
   "metadata": {},
   "outputs": [
    {
     "name": "stdout",
     "output_type": "stream",
     "text": [
      "hii my name isbhumika parihar,my age is21\n"
     ]
    }
   ],
   "source": [
    "import pickle\n",
    "with open ('demo.pkl','rb')as f:\n",
    "    per1=pickle.load(f)\n",
    "    per1.display()"
   ]
  },
  {
   "cell_type": "markdown",
   "id": "6b6a5ad8-f975-4b86-a82f-4d1ff645b2e2",
   "metadata": {},
   "source": [
    "<h4>Pickle Vs JSON</h4>\n",
    "\n",
    "\n",
    "- Pickle lets the user to store data in binary format. JSON lets the user store data in a human-readable text format\n",
    "- To give Custom Object text representation we use JSON format but if we want to retain the functionality of our object and pass it to another file we\n",
    "  use pickle."
   ]
  },
  {
   "cell_type": "code",
   "execution_count": 52,
   "id": "2f085d96-4d9d-4d9d-aacf-c7aa7989850a",
   "metadata": {},
   "outputs": [],
   "source": []
  },
  {
   "cell_type": "code",
   "execution_count": null,
   "id": "05c9c59a-fef0-48de-8feb-16a84fd341af",
   "metadata": {},
   "outputs": [],
   "source": []
  },
  {
   "cell_type": "code",
   "execution_count": null,
   "id": "dce578ce-e8de-4272-b648-e9c69963c778",
   "metadata": {},
   "outputs": [],
   "source": []
  }
 ],
 "metadata": {
  "kernelspec": {
   "display_name": "Python 3 (ipykernel)",
   "language": "python",
   "name": "python3"
  },
  "language_info": {
   "codemirror_mode": {
    "name": "ipython",
    "version": 3
   },
   "file_extension": ".py",
   "mimetype": "text/x-python",
   "name": "python",
   "nbconvert_exporter": "python",
   "pygments_lexer": "ipython3",
   "version": "3.12.4"
  }
 },
 "nbformat": 4,
 "nbformat_minor": 5
}
