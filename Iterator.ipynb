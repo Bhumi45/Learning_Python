{
 "cells": [
  {
   "cell_type": "markdown",
   "id": "05861f1b-cb13-4266-aff2-fc2f37f06298",
   "metadata": {},
   "source": [
    "<h2>What is Iterations</h2>\n",
    "\n",
    "- <h5>Iteration is a general term for taking each item of something, one after another. Any time you use a loop, explicit or implicit, to go over a group of items, that is iteration.</h5>"
   ]
  },
  {
   "cell_type": "code",
   "execution_count": 3,
   "id": "a149a8ae-9cff-4fb7-b4a2-2dc3e523633d",
   "metadata": {},
   "outputs": [
    {
     "name": "stdout",
     "output_type": "stream",
     "text": [
      "1\n",
      "2\n",
      "3\n",
      "4\n"
     ]
    }
   ],
   "source": [
    "#example\n",
    "num=[1,2,3,4]\n",
    "for i in num:\n",
    "    print(i)"
   ]
  },
  {
   "cell_type": "markdown",
   "id": "97ec63bf-b8d8-4dfb-8a66-84dda126d580",
   "metadata": {},
   "source": [
    "<h2>What is Iterator</h2>\n",
    "\n",
    "- <h5>An Iterator is an object that allows the programmer to traverse through a sequence of data without having to store the entire data in the memory</h5>\n",
    "- it is the object which help in iteration."
   ]
  },
  {
   "cell_type": "code",
   "execution_count": 21,
   "id": "febe9083-fd60-4018-9310-a3b91ee58ea7",
   "metadata": {},
   "outputs": [],
   "source": [
    "#example\n",
    "L=[x for x  in range(1,1000)]\n",
    "# for i in L:\n",
    "    # print(i*2)"
   ]
  },
  {
   "cell_type": "code",
   "execution_count": 39,
   "id": "b1d19d5a-05b9-49ad-86db-6d48bc3c1d92",
   "metadata": {},
   "outputs": [
    {
     "name": "stdout",
     "output_type": "stream",
     "text": [
      "8.6484375\n",
      "0.046875\n"
     ]
    }
   ],
   "source": [
    "import sys\n",
    "print(sys.getsizeof(L)/1024) # return in kb\n",
    "x=range(1,1000000000)\n",
    "# for i in x:\n",
    "#     print(i*2)\n",
    "print(sys.getsizeof(x)/1024) # range is an iterator"
   ]
  },
  {
   "cell_type": "markdown",
   "id": "79d03208-b159-4b76-be3b-a36509c08e58",
   "metadata": {},
   "source": [
    "<h2>What are Iterables</h2>\n",
    "\n",
    "- Iterable is an object, which one can iterate over\r",
    "- \r\n",
    "It generates an Iterator when passed to iter() meth.od"
   ]
  },
  {
   "cell_type": "code",
   "execution_count": 45,
   "id": "1e4aff72-0e44-4fd1-b8e5-0519971f309f",
   "metadata": {},
   "outputs": [
    {
     "data": {
      "text/plain": [
       "list_iterator"
      ]
     },
     "execution_count": 45,
     "metadata": {},
     "output_type": "execute_result"
    }
   ],
   "source": [
    "L=[1,2,3]\n",
    "type(L)\n",
    "type(iter(L)) # list is an iterable.\n",
    "#iter(L) is my iterator."
   ]
  },
  {
   "cell_type": "markdown",
   "id": "2d1b93dc-5032-4db7-8c1b-9d9247376841",
   "metadata": {},
   "source": [
    "<h3>IMPORTANT POINTS</h3>\n",
    "\n",
    "- Every Iterator is also and Iterable\r",
    "- \n",
    "Not all Iterables are Iterator.\n",
    "- Every Iterable has an iter function. (helps to identify whether the object is iterator or iterable.)\r",
    "- \n",
    "Every Iterator has both iter function as well as a next functions"
   ]
  },
  {
   "cell_type": "code",
   "execution_count": 49,
   "id": "314652eb-4cbc-4eef-a228-46ea122e271c",
   "metadata": {},
   "outputs": [
    {
     "ename": "TypeError",
     "evalue": "'int' object is not iterable",
     "output_type": "error",
     "traceback": [
      "\u001b[1;31m---------------------------------------------------------------------------\u001b[0m",
      "\u001b[1;31mTypeError\u001b[0m                                 Traceback (most recent call last)",
      "Cell \u001b[1;32mIn[49], line 3\u001b[0m\n\u001b[0;32m      1\u001b[0m \u001b[38;5;66;03m#example\u001b[39;00m\n\u001b[0;32m      2\u001b[0m a\u001b[38;5;241m=\u001b[39m\u001b[38;5;241m2\u001b[39m\n\u001b[1;32m----> 3\u001b[0m \u001b[38;5;28;01mfor\u001b[39;00m i \u001b[38;5;129;01min\u001b[39;00m a:\n\u001b[0;32m      4\u001b[0m     \u001b[38;5;28mprint\u001b[39m(i)\n",
      "\u001b[1;31mTypeError\u001b[0m: 'int' object is not iterable"
     ]
    }
   ],
   "source": [
    "#example\n",
    "a=2\n",
    "for i in a:\n",
    "    print(i)"
   ]
  },
  {
   "cell_type": "code",
   "execution_count": 53,
   "id": "0263cc3f-804f-46b0-8941-f680f416af77",
   "metadata": {},
   "outputs": [],
   "source": [
    "dir(a)\n",
    "#since dir(a) has no iter() , it is not an iterable"
   ]
  },
  {
   "cell_type": "code",
   "execution_count": 55,
   "id": "4ccb60e6-fdd4-4c2a-a157-06461b387507",
   "metadata": {},
   "outputs": [
    {
     "data": {
      "text/plain": [
       "['__class__',\n",
       " '__class_getitem__',\n",
       " '__contains__',\n",
       " '__delattr__',\n",
       " '__delitem__',\n",
       " '__dir__',\n",
       " '__doc__',\n",
       " '__eq__',\n",
       " '__format__',\n",
       " '__ge__',\n",
       " '__getattribute__',\n",
       " '__getitem__',\n",
       " '__getstate__',\n",
       " '__gt__',\n",
       " '__hash__',\n",
       " '__init__',\n",
       " '__init_subclass__',\n",
       " '__ior__',\n",
       " '__iter__',\n",
       " '__le__',\n",
       " '__len__',\n",
       " '__lt__',\n",
       " '__ne__',\n",
       " '__new__',\n",
       " '__or__',\n",
       " '__reduce__',\n",
       " '__reduce_ex__',\n",
       " '__repr__',\n",
       " '__reversed__',\n",
       " '__ror__',\n",
       " '__setattr__',\n",
       " '__setitem__',\n",
       " '__sizeof__',\n",
       " '__str__',\n",
       " '__subclasshook__',\n",
       " 'clear',\n",
       " 'copy',\n",
       " 'fromkeys',\n",
       " 'get',\n",
       " 'items',\n",
       " 'keys',\n",
       " 'pop',\n",
       " 'popitem',\n",
       " 'setdefault',\n",
       " 'update',\n",
       " 'values']"
      ]
     },
     "execution_count": 55,
     "metadata": {},
     "output_type": "execute_result"
    }
   ],
   "source": [
    "T = {1:2,3:4}\n",
    "dir(T)\n",
    "# here dict has iter() but not next(), it is an iterable but not an iterator."
   ]
  },
  {
   "cell_type": "code",
   "execution_count": 59,
   "id": "fde8ba38-2c65-434b-9441-411117ac55b7",
   "metadata": {},
   "outputs": [
    {
     "data": {
      "text/plain": [
       "['__class__',\n",
       " '__delattr__',\n",
       " '__dir__',\n",
       " '__doc__',\n",
       " '__eq__',\n",
       " '__format__',\n",
       " '__ge__',\n",
       " '__getattribute__',\n",
       " '__getstate__',\n",
       " '__gt__',\n",
       " '__hash__',\n",
       " '__init__',\n",
       " '__init_subclass__',\n",
       " '__iter__',\n",
       " '__le__',\n",
       " '__length_hint__',\n",
       " '__lt__',\n",
       " '__ne__',\n",
       " '__new__',\n",
       " '__next__',\n",
       " '__reduce__',\n",
       " '__reduce_ex__',\n",
       " '__repr__',\n",
       " '__setattr__',\n",
       " '__setstate__',\n",
       " '__sizeof__',\n",
       " '__str__',\n",
       " '__subclasshook__']"
      ]
     },
     "execution_count": 59,
     "metadata": {},
     "output_type": "execute_result"
    }
   ],
   "source": [
    "l=[1,2,3,4]\n",
    "list_iterator=iter(l) # it generates an iterator for l.\n",
    "dir(list_iterator) # here list_iterator has both iter() and next()."
   ]
  },
  {
   "cell_type": "markdown",
   "id": "e715fad4-bc61-4b7a-8695-b3f7e70f6f49",
   "metadata": {},
   "source": [
    "<h3>Understanding for loop</h3>\n",
    "\n",
    "- it works on two steps:\n",
    "   - 1. fetch the iterator: using iter()\n",
    "   - 2. it uses iterator and calls the next function: next(iterator), it prints the current item at which the iterator is."
   ]
  },
  {
   "cell_type": "code",
   "execution_count": 84,
   "id": "c485f482-4415-47ed-8381-d0e38c5e65c1",
   "metadata": {},
   "outputs": [
    {
     "name": "stdout",
     "output_type": "stream",
     "text": [
      "1\n",
      "2\n",
      "3\n",
      "4\n"
     ]
    }
   ],
   "source": [
    "#example\n",
    "num=[1,2,3,4]\n",
    "#fetch\n",
    "num_it=iter(num)\n",
    "#next()\n",
    "print(next(num_it))\n",
    "print(next(num_it))\n",
    "print(next(num_it))\n",
    "print(next(num_it))"
   ]
  },
  {
   "cell_type": "code",
   "execution_count": 86,
   "id": "f839b27d-d621-4dc2-95ed-1f79fe8ac552",
   "metadata": {},
   "outputs": [],
   "source": [
    "# create your own for loop\n",
    "def own_loop(iterables):\n",
    "    iterator=iter(iterables)\n",
    "    while True:\n",
    "        try:\n",
    "            print(next(iterator))\n",
    "        except StopIteration:\n",
    "            # print('iteration has stoped')\n",
    "            break;\n",
    "    "
   ]
  },
  {
   "cell_type": "code",
   "execution_count": 88,
   "id": "4af8d8c8-a800-494a-99c5-c75ce9af7e10",
   "metadata": {},
   "outputs": [
    {
     "name": "stdout",
     "output_type": "stream",
     "text": [
      "1\n",
      "2\n",
      "3\n"
     ]
    }
   ],
   "source": [
    "dict={1:2,2:4,3:5}\n",
    "own_loop(dict)"
   ]
  },
  {
   "cell_type": "code",
   "execution_count": 90,
   "id": "184bc62d-31eb-44cf-807b-9788256e0597",
   "metadata": {},
   "outputs": [
    {
     "name": "stdout",
     "output_type": "stream",
     "text": [
      "1\n",
      "2\n",
      "3\n",
      "4\n",
      "riya\n"
     ]
    }
   ],
   "source": [
    "l=[1,2,3,4,'riya']\n",
    "own_loop(l)"
   ]
  },
  {
   "cell_type": "markdown",
   "id": "c0c644c0-d619-42e3-849f-6f6514dd4629",
   "metadata": {},
   "source": [
    "- with iterators we can work with infinitely large data."
   ]
  },
  {
   "cell_type": "code",
   "execution_count": null,
   "id": "3340aa08-6b94-4f96-8ffb-1b27d2477e72",
   "metadata": {},
   "outputs": [],
   "source": []
  }
 ],
 "metadata": {
  "kernelspec": {
   "display_name": "Python 3 (ipykernel)",
   "language": "python",
   "name": "python3"
  },
  "language_info": {
   "codemirror_mode": {
    "name": "ipython",
    "version": 3
   },
   "file_extension": ".py",
   "mimetype": "text/x-python",
   "name": "python",
   "nbconvert_exporter": "python",
   "pygments_lexer": "ipython3",
   "version": "3.12.4"
  }
 },
 "nbformat": 4,
 "nbformat_minor": 5
}
