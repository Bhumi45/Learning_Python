{
 "cells": [
  {
   "cell_type": "markdown",
   "id": "88a2ae79-a870-4b3a-b08d-41d8a2cd7e42",
   "metadata": {},
   "source": [
    "# Mutuable Data Types\n",
    "- List\n",
    "- Set\n",
    "- Dictionary"
   ]
  },
  {
   "cell_type": "markdown",
   "id": "71777f41-77b8-49dd-a03d-cc659a11918e",
   "metadata": {},
   "source": [
    "# **List**\n",
    "- Mutuable\n",
    "- Iterable\n",
    "- Ordered\n",
    "- Duplicates\n",
    "- Heterogeneous (can contain any datatype).\n",
    "- list can be nested.\n",
    "- list is dynamic (we can grow or shrink the size of list)\n",
    "- Denoted by [ ] square bracket"
   ]
  },
  {
   "cell_type": "markdown",
   "id": "b639f47d-269d-4cc6-b92e-c95f9c9480ce",
   "metadata": {},
   "source": [
    "# List Method\n",
    "- append():-adds an element at the end of the list.\n",
    "- extend():-adds the element of a given iterables (list,tuple,etc) to the end of the list.\n",
    "- insert():-inserts an element at a given index in the list.\n",
    "- remove():-removes the first occurrence of a given element from the list.\n",
    "- pop():- removes and returns the element at a given index in the  list. If no index is specified,removes and return the last element from the list.\n",
    "- clear():- removes all elements from the list.\n",
    "- index():- returns the index of the first occurance of a given element in the list.\n",
    "- count():- returns the number of times a element occurs in a list.\n",
    "- sort():- sorts the list in ascending order.\n",
    "- reverse():- reverse the order of the elements in the list.\n",
    "- copy():- returns a shallow copy of the list."
   ]
  },
  {
   "cell_type": "code",
   "execution_count": 17,
   "id": "a8544cf6-6312-44ea-89b8-c6e0e32f5b6d",
   "metadata": {},
   "outputs": [
    {
     "name": "stdout",
     "output_type": "stream",
     "text": [
      "2208469801600\n",
      "2208469801600\n"
     ]
    }
   ],
   "source": [
    "#mutuable\n",
    "a=[1,2]\n",
    "print(id(a))\n",
    "b=[1,2]\n",
    "a+=b\n",
    "print(id(a))"
   ]
  },
  {
   "cell_type": "code",
   "execution_count": 1,
   "id": "8adaf97c-4759-4ecd-bb9f-ea9da1aed92b",
   "metadata": {},
   "outputs": [
    {
     "name": "stdout",
     "output_type": "stream",
     "text": [
      "2254584660096\n",
      "2254584660096\n"
     ]
    }
   ],
   "source": [
    "#mutuable\n",
    "a=[1,2]\n",
    "print(id(a))\n",
    "b=[1,2]\n",
    "a.extend(b)\n",
    "print(id(a))"
   ]
  },
  {
   "cell_type": "code",
   "execution_count": 19,
   "id": "d09c97bb-0899-4232-b27a-c7d497fd11ca",
   "metadata": {},
   "outputs": [
    {
     "name": "stdout",
     "output_type": "stream",
     "text": [
      "[1, 2, 3]\n"
     ]
    }
   ],
   "source": [
    "a=[1,2]\n",
    "a=[1,2,3]\n",
    "print(a)"
   ]
  },
  {
   "cell_type": "code",
   "execution_count": 3,
   "id": "21af1e14-dd3b-4863-a618-f6e1782e2c45",
   "metadata": {},
   "outputs": [
    {
     "name": "stdout",
     "output_type": "stream",
     "text": [
      "True\n",
      "False\n"
     ]
    }
   ],
   "source": [
    "#iterable\n",
    "a=[1,2,3]\n",
    "print(1 in a)\n",
    "print(4 in a)\n"
   ]
  },
  {
   "cell_type": "code",
   "execution_count": 9,
   "id": "263d0048-a25c-465c-bca1-aee81fed935f",
   "metadata": {},
   "outputs": [
    {
     "ename": "TypeError",
     "evalue": "argument of type 'int' is not iterable",
     "output_type": "error",
     "traceback": [
      "\u001b[1;31m---------------------------------------------------------------------------\u001b[0m",
      "\u001b[1;31mTypeError\u001b[0m                                 Traceback (most recent call last)",
      "Cell \u001b[1;32mIn[9], line 2\u001b[0m\n\u001b[0;32m      1\u001b[0m b\u001b[38;5;241m=\u001b[39m\u001b[38;5;241m1\u001b[39m\n\u001b[1;32m----> 2\u001b[0m \u001b[38;5;28mprint\u001b[39m(\u001b[38;5;241m1\u001b[39m \u001b[38;5;129;01min\u001b[39;00m b)\n",
      "\u001b[1;31mTypeError\u001b[0m: argument of type 'int' is not iterable"
     ]
    }
   ],
   "source": [
    "b=1\n",
    "print(1 in b)"
   ]
  },
  {
   "cell_type": "code",
   "execution_count": 37,
   "id": "7f073360-0a5b-4853-ae70-49259c40cd53",
   "metadata": {},
   "outputs": [
    {
     "data": {
      "text/plain": [
       "['apple', 'banana', 'cherry']"
      ]
     },
     "execution_count": 37,
     "metadata": {},
     "output_type": "execute_result"
    }
   ],
   "source": [
    "# creating a list\n",
    "my_list = [\"apple\", \"banana\", \"cherry\"]\n",
    "my_list"
   ]
  },
  {
   "cell_type": "code",
   "execution_count": 37,
   "id": "8bcd2614-5648-485c-9d1d-132437794e9d",
   "metadata": {},
   "outputs": [
    {
     "data": {
      "text/plain": [
       "'riya'"
      ]
     },
     "execution_count": 37,
     "metadata": {},
     "output_type": "execute_result"
    }
   ],
   "source": [
    "# heterogeneous list\n",
    "a=[1,'riya',2,2.8] \n",
    "a[0]\n",
    "a[1]\n"
   ]
  },
  {
   "cell_type": "code",
   "execution_count": 39,
   "id": "4db6cc98-d356-40e8-a4c3-00c4bb074cf2",
   "metadata": {},
   "outputs": [
    {
     "data": {
      "text/plain": [
       "'cherry'"
      ]
     },
     "execution_count": 39,
     "metadata": {},
     "output_type": "execute_result"
    }
   ],
   "source": [
    "# negetive indexing\n",
    "my_list[-1]"
   ]
  },
  {
   "cell_type": "code",
   "execution_count": 41,
   "id": "3e36153f-64c5-4834-8867-e1ef0bda8b96",
   "metadata": {},
   "outputs": [
    {
     "data": {
      "text/plain": [
       "['apple', 'banana']"
      ]
     },
     "execution_count": 41,
     "metadata": {},
     "output_type": "execute_result"
    }
   ],
   "source": [
    "# slicing\n",
    "my_list[0:2]"
   ]
  },
  {
   "cell_type": "code",
   "execution_count": 49,
   "id": "f13556f2-507e-48fa-b0f7-06addb89ecaf",
   "metadata": {},
   "outputs": [
    {
     "data": {
      "text/plain": [
       "['banana']"
      ]
     },
     "execution_count": 49,
     "metadata": {},
     "output_type": "execute_result"
    }
   ],
   "source": [
    "my_list[-2:-1]"
   ]
  },
  {
   "cell_type": "code",
   "execution_count": 57,
   "id": "baea5565-6202-4031-8014-991525d9841e",
   "metadata": {},
   "outputs": [
    {
     "name": "stdout",
     "output_type": "stream",
     "text": [
      "1\n",
      "2\n",
      "[1, 2, 3, 5]\n",
      "[1, 3, 6]\n"
     ]
    }
   ],
   "source": [
    "# order (indexing,slice,stride)\n",
    "a=[1,2,3,5,6,7]\n",
    "print(a[0])\n",
    "print(a[1])\n",
    "print(a[0:4])\n",
    "print(a[0:5:2])"
   ]
  },
  {
   "cell_type": "code",
   "execution_count": 61,
   "id": "46d9db43-071e-4a6b-9cab-149f27e680fc",
   "metadata": {},
   "outputs": [
    {
     "name": "stdout",
     "output_type": "stream",
     "text": [
      "[7, 6, 5, 3, 2, 1]\n"
     ]
    }
   ],
   "source": [
    "#Reversing a list using negative slicing:\n",
    "a=[1,2,3,5,6,7]\n",
    "print(a[::-1])"
   ]
  },
  {
   "cell_type": "code",
   "execution_count": 70,
   "id": "29711387-f7fb-4ddb-8322-f15c3e58de9a",
   "metadata": {},
   "outputs": [
    {
     "name": "stdout",
     "output_type": "stream",
     "text": [
      "<class 'list'>\n",
      "[1, 2, 4, 'abc', True]\n"
     ]
    }
   ],
   "source": [
    "my_list=[1,2,4,'abc',True]\n",
    "print(type(my_list))\n",
    "print(my_list)"
   ]
  },
  {
   "cell_type": "markdown",
   "id": "13c18fde-c370-4227-b29c-7e7440090af2",
   "metadata": {},
   "source": [
    "### append()\n",
    "- adds item to the end of the list."
   ]
  },
  {
   "cell_type": "code",
   "execution_count": 76,
   "id": "e7e2f962-4dc7-4644-87f3-2cfdfd749ca6",
   "metadata": {},
   "outputs": [
    {
     "ename": "TypeError",
     "evalue": "'list' object is not callable",
     "output_type": "error",
     "traceback": [
      "\u001b[1;31m---------------------------------------------------------------------------\u001b[0m",
      "\u001b[1;31mTypeError\u001b[0m                                 Traceback (most recent call last)",
      "Cell \u001b[1;32mIn[76], line 2\u001b[0m\n\u001b[0;32m      1\u001b[0m \u001b[38;5;66;03m#append an element to the list\u001b[39;00m\n\u001b[1;32m----> 2\u001b[0m my_list(\u001b[38;5;241m8.9\u001b[39m)\n\u001b[0;32m      3\u001b[0m my_list\n",
      "\u001b[1;31mTypeError\u001b[0m: 'list' object is not callable"
     ]
    }
   ],
   "source": [
    "#append an element to the list\n",
    "my_list(8.9)\n",
    "my_list"
   ]
  },
  {
   "cell_type": "code",
   "execution_count": 78,
   "id": "f4254c27-a3cd-4563-a266-daba4a8ac4f1",
   "metadata": {},
   "outputs": [
    {
     "name": "stdout",
     "output_type": "stream",
     "text": [
      "[1, 2, 4, 'abc', True, 8.9, 8.9]\n"
     ]
    }
   ],
   "source": [
    "#append an element to the list\n",
    "my_list.append(8.9)\n",
    "print(my_list)"
   ]
  },
  {
   "cell_type": "code",
   "execution_count": 80,
   "id": "8345b88e-0785-4101-820a-da13f28f961d",
   "metadata": {},
   "outputs": [
    {
     "ename": "TypeError",
     "evalue": "list.append() takes exactly one argument (2 given)",
     "output_type": "error",
     "traceback": [
      "\u001b[1;31m---------------------------------------------------------------------------\u001b[0m",
      "\u001b[1;31mTypeError\u001b[0m                                 Traceback (most recent call last)",
      "Cell \u001b[1;32mIn[80], line 2\u001b[0m\n\u001b[0;32m      1\u001b[0m \u001b[38;5;66;03m#append an element to the list\u001b[39;00m\n\u001b[1;32m----> 2\u001b[0m my_list\u001b[38;5;241m.\u001b[39mappend(\u001b[38;5;241m8.9\u001b[39m,\u001b[38;5;124m'\u001b[39m\u001b[38;5;124mriya\u001b[39m\u001b[38;5;124m'\u001b[39m)\n\u001b[0;32m      3\u001b[0m \u001b[38;5;28mprint\u001b[39m(my_list)\n",
      "\u001b[1;31mTypeError\u001b[0m: list.append() takes exactly one argument (2 given)"
     ]
    }
   ],
   "source": [
    "#append an element to the list\n",
    "my_list.append(8.9,'riya')\n",
    "print(my_list)"
   ]
  },
  {
   "cell_type": "code",
   "execution_count": 25,
   "id": "df8df023-244a-40e6-9e47-5a9dbb7519b2",
   "metadata": {},
   "outputs": [
    {
     "data": {
      "text/plain": [
       "[1, 2, 4, 'abc', True, 8.9, [24, 35]]"
      ]
     },
     "execution_count": 25,
     "metadata": {},
     "output_type": "execute_result"
    }
   ],
   "source": [
    "my_list.append([24,35])\n",
    "(my_list)"
   ]
  },
  {
   "cell_type": "code",
   "execution_count": 86,
   "id": "9fc74a39-47ee-4ca7-81ac-dd86c41e4334",
   "metadata": {},
   "outputs": [],
   "source": [
    "my_list.append([1,2,3])"
   ]
  },
  {
   "cell_type": "markdown",
   "id": "a8871fa6-abdc-4f0d-a419-50667e7ffc40",
   "metadata": {},
   "source": [
    "### extend()\n",
    "- Extends the list by adding all elements from another list (or any iterable)."
   ]
  },
  {
   "cell_type": "code",
   "execution_count": 68,
   "id": "bec84983-6b2f-4ed1-9389-2e40eab289be",
   "metadata": {},
   "outputs": [
    {
     "name": "stdout",
     "output_type": "stream",
     "text": [
      "['apple', 'banana', 'cherry', 34, 45, 'h', 'e', 'l', 'l', 'o']\n"
     ]
    }
   ],
   "source": [
    "#extend(arg1,arg2)\n",
    "my_list.extend((34,45))\n",
    "my_list.extend(\"hello\")\n",
    "print(my_list)"
   ]
  },
  {
   "cell_type": "code",
   "execution_count": 84,
   "id": "3fde8bd5-4d76-4f9c-bf2b-8c45e553b027",
   "metadata": {},
   "outputs": [
    {
     "name": "stdout",
     "output_type": "stream",
     "text": [
      "[1, 2, 4, 'abc', True, 8.9, 8.9, 'hello', 'world', 'hello', 'world']\n"
     ]
    }
   ],
   "source": [
    "my_list.extend(['hello','world'])\n",
    "print(my_list)"
   ]
  },
  {
   "cell_type": "code",
   "execution_count": 88,
   "id": "6644abbe-6dd4-4987-8a11-9cdf38a0b868",
   "metadata": {},
   "outputs": [
    {
     "data": {
      "text/plain": [
       "[1, 2, 4, 'abc', True, 8.9, 8.9, 'hello', 'world', 'hello', 'world', [1, 2, 3]]"
      ]
     },
     "execution_count": 88,
     "metadata": {},
     "output_type": "execute_result"
    }
   ],
   "source": [
    "my_list"
   ]
  },
  {
   "cell_type": "markdown",
   "id": "02edde37-351f-47e2-bad9-4b0f50a4ba4b",
   "metadata": {},
   "source": [
    "### insert()\n",
    "- Inserts an item at a specified index."
   ]
  },
  {
   "cell_type": "code",
   "execution_count": 97,
   "id": "7fed911d-b366-4047-8839-06e393ba3f0d",
   "metadata": {},
   "outputs": [
    {
     "name": "stdout",
     "output_type": "stream",
     "text": [
      "[1, 2, 3, 4, 'abc', True, 8.9, 8.9, 'hello', 'world', 'hello', 'world', [1, 2, 3]]\n"
     ]
    }
   ],
   "source": [
    "#insert()\n",
    "my_list.insert(2,3)\n",
    "print(my_list)"
   ]
  },
  {
   "cell_type": "code",
   "execution_count": 99,
   "id": "c6a997a1-8df5-406f-9bbc-29647be0bc31",
   "metadata": {},
   "outputs": [
    {
     "name": "stdout",
     "output_type": "stream",
     "text": [
      "[1, 2, 3, 4, 'r', 'abc', True, 8.9, 8.9, 'hello', 'world', 'hello', 'world', [1, 2, 3]]\n"
     ]
    }
   ],
   "source": [
    "#insert()\n",
    "my_list.insert(4,'r')\n",
    "print(my_list)"
   ]
  },
  {
   "cell_type": "code",
   "execution_count": 103,
   "id": "4a0a3de1-2e06-41af-86b2-1bc4e91a60e9",
   "metadata": {},
   "outputs": [],
   "source": [
    "my_list.insert(5,[24,35])"
   ]
  },
  {
   "cell_type": "markdown",
   "id": "fb5f86ed-f8f5-4fc1-8bf6-e294f0e17ddd",
   "metadata": {},
   "source": [
    "### remove()\n",
    "- Removes the first occurrence of the specified element."
   ]
  },
  {
   "cell_type": "code",
   "execution_count": 33,
   "id": "ff6b3865-736e-44c7-a3d5-17e09c09b03d",
   "metadata": {},
   "outputs": [
    {
     "name": "stdout",
     "output_type": "stream",
     "text": [
      "[1, 2, 3, 4, 'r', 'abc', True, [24, 35], 34, 45, 'h', 'e', 'l', 'l', 'o']\n"
     ]
    }
   ],
   "source": [
    "#remove()\n",
    "my_list.remove(8.9)\n",
    "print(my_list)"
   ]
  },
  {
   "cell_type": "code",
   "execution_count": 105,
   "id": "bfc10916-6fa7-468b-a484-0e85c58c7047",
   "metadata": {},
   "outputs": [
    {
     "name": "stdout",
     "output_type": "stream",
     "text": [
      "[1, 2, 3, 4, 'r', 'abc', True, 8.9, 8.9, 'hello', 'world', 'hello', 'world', [1, 2, 3]]\n"
     ]
    }
   ],
   "source": [
    "my_list.remove([24,35])\n",
    "print(my_list)"
   ]
  },
  {
   "cell_type": "markdown",
   "id": "607d1704-8f0f-43a6-a7ab-1cdeb1a81a03",
   "metadata": {},
   "source": [
    "### pop():\n",
    "- Removes and returns the element at the specified index (default is the last element if no index is provided)."
   ]
  },
  {
   "cell_type": "code",
   "execution_count": 35,
   "id": "a14926da-2b15-4956-956d-1a66c1dc13f0",
   "metadata": {},
   "outputs": [
    {
     "name": "stdout",
     "output_type": "stream",
     "text": [
      "[1, 2, 3, 4, 'r', 'abc', [24, 35], 34, 45, 'h', 'e', 'l', 'l', 'o']\n"
     ]
    }
   ],
   "source": [
    "#pop()\n",
    "my_list.pop(6)\n",
    "print(my_list)"
   ]
  },
  {
   "cell_type": "code",
   "execution_count": 37,
   "id": "21229b14-c0bb-4334-9d07-1134076df885",
   "metadata": {},
   "outputs": [
    {
     "name": "stdout",
     "output_type": "stream",
     "text": [
      "r\n"
     ]
    }
   ],
   "source": [
    "a=my_list.pop(4)\n",
    "print(a)"
   ]
  },
  {
   "cell_type": "code",
   "execution_count": 39,
   "id": "201f7e61-8067-4f5e-8868-cd2bbc0a1dd2",
   "metadata": {},
   "outputs": [],
   "source": [
    "# clear ()\n",
    "# my_list.clear()\n",
    "# print(my_list)"
   ]
  },
  {
   "cell_type": "code",
   "execution_count": 41,
   "id": "b89f896f-a9fd-46de-9abb-ee8eae1ede6f",
   "metadata": {},
   "outputs": [
    {
     "name": "stdout",
     "output_type": "stream",
     "text": [
      "[1, 2, 3, 4, 'abc', [24, 35], 34, 45, 'h', 'e', 'l', 'l', 'o', 8]\n"
     ]
    }
   ],
   "source": [
    "my_list.append(8) \n",
    "print(my_list)"
   ]
  },
  {
   "cell_type": "code",
   "execution_count": 114,
   "id": "f074c93f-39ea-42b2-8e17-7a2060d0b7ba",
   "metadata": {},
   "outputs": [],
   "source": [
    "my_list.append(8)"
   ]
  },
  {
   "cell_type": "code",
   "execution_count": 116,
   "id": "2f2f6047-5617-450f-93e5-0a54f75e10e5",
   "metadata": {},
   "outputs": [
    {
     "name": "stdout",
     "output_type": "stream",
     "text": [
      "[1, 2, 3, 4, 'r', 'abc', True, 8.9, 8.9, 'hello', 'world', 'hello', 'world', [1, 2, 3], 8]\n"
     ]
    }
   ],
   "source": [
    "print(my_list)"
   ]
  },
  {
   "cell_type": "markdown",
   "id": "28198fdb-9285-41ee-a97b-7ae92e46e44c",
   "metadata": {},
   "source": [
    "### index():\n",
    "- Returns the index of the first occurrence of the specified element."
   ]
  },
  {
   "cell_type": "code",
   "execution_count": 43,
   "id": "966672df-0a1b-4874-bd16-556336a1ae42",
   "metadata": {},
   "outputs": [
    {
     "data": {
      "text/plain": [
       "4"
      ]
     },
     "execution_count": 43,
     "metadata": {},
     "output_type": "execute_result"
    }
   ],
   "source": [
    "#index()\n",
    "my_list.index('abc')"
   ]
  },
  {
   "cell_type": "code",
   "execution_count": 45,
   "id": "006376b3-493c-41cd-9712-94de7245adae",
   "metadata": {},
   "outputs": [
    {
     "data": {
      "text/plain": [
       "3"
      ]
     },
     "execution_count": 45,
     "metadata": {},
     "output_type": "execute_result"
    }
   ],
   "source": [
    "my_list.index(4)"
   ]
  },
  {
   "cell_type": "code",
   "execution_count": 47,
   "id": "0879040e-0c79-4c79-a00c-48a498ffe020",
   "metadata": {},
   "outputs": [
    {
     "data": {
      "text/plain": [
       "5"
      ]
     },
     "execution_count": 47,
     "metadata": {},
     "output_type": "execute_result"
    }
   ],
   "source": [
    "my_list.index([24,35])"
   ]
  },
  {
   "cell_type": "code",
   "execution_count": 118,
   "id": "1d543e64-c922-4b2e-8bbd-4da919fc589b",
   "metadata": {},
   "outputs": [
    {
     "data": {
      "text/plain": [
       "7"
      ]
     },
     "execution_count": 118,
     "metadata": {},
     "output_type": "execute_result"
    }
   ],
   "source": [
    "my_list.index(8.9)"
   ]
  },
  {
   "cell_type": "markdown",
   "id": "807befb4-7665-4a66-b7c9-47b3d521a9a6",
   "metadata": {},
   "source": [
    "### count():\n",
    "- Returns the number of occurrences of the specified element."
   ]
  },
  {
   "cell_type": "code",
   "execution_count": 49,
   "id": "e08a225c-306c-4889-8c03-5f203c74ab85",
   "metadata": {},
   "outputs": [
    {
     "data": {
      "text/plain": [
       "2"
      ]
     },
     "execution_count": 49,
     "metadata": {},
     "output_type": "execute_result"
    }
   ],
   "source": [
    "#count()\n",
    "my_list.count('l')"
   ]
  },
  {
   "cell_type": "code",
   "execution_count": 128,
   "id": "3d7c107a-4c35-45af-a6ca-51e9f75186f2",
   "metadata": {},
   "outputs": [
    {
     "data": {
      "text/plain": [
       "0"
      ]
     },
     "execution_count": 128,
     "metadata": {},
     "output_type": "execute_result"
    }
   ],
   "source": [
    "my_list.count('y')"
   ]
  },
  {
   "cell_type": "markdown",
   "id": "8b3401f0-cfad-43ab-aec2-652b448801a2",
   "metadata": {},
   "source": [
    "### sort():\n",
    "- Sorts the list in ascending order (by default). You can use reverse=True to sort in descending order.\n",
    "- Sort does not return anything(return None) as it modify the original list."
   ]
  },
  {
   "cell_type": "code",
   "execution_count": 131,
   "id": "d13507e8-9bc6-4255-b271-511aac1886dd",
   "metadata": {},
   "outputs": [
    {
     "name": "stdout",
     "output_type": "stream",
     "text": [
      "[2, 8, 10, 50, 76, 99]\n"
     ]
    }
   ],
   "source": [
    "#sort()\n",
    "b=[2,8,99,10,50,76]\n",
    "b.sort()\n",
    "print(b)"
   ]
  },
  {
   "cell_type": "code",
   "execution_count": 145,
   "id": "9e3b2f91-213f-4db1-86e7-a2109bce93d2",
   "metadata": {},
   "outputs": [
    {
     "name": "stdout",
     "output_type": "stream",
     "text": [
      "[99, 76, 50, 10, 8, 2]\n",
      "None\n"
     ]
    }
   ],
   "source": [
    "a=b.sort(reverse=True) \n",
    "print(b)\n",
    "print(a)"
   ]
  },
  {
   "cell_type": "markdown",
   "id": "04bafb30-4eec-4a5b-9728-fa71d79fc380",
   "metadata": {},
   "source": [
    "#### sorted():\n",
    "- The sorted() function returns a new sorted list and does not modify the original list.\n",
    "- Return Value: It returns a new list containing the sorted elements.\n",
    "- Usage: Can be used with any iterable (lists, tuples, strings, dictionaries, etc.).\n",
    "- Syntax: sorted(iterable)"
   ]
  },
  {
   "cell_type": "code",
   "execution_count": 159,
   "id": "83b892d0-3452-48a4-839e-7807c99ba47d",
   "metadata": {},
   "outputs": [
    {
     "name": "stdout",
     "output_type": "stream",
     "text": [
      "[99, 76, 50, 10, 8, 2]\n",
      "[2, 8, 10, 50, 76, 99]\n",
      "2249760195264\n",
      "2249761151936\n"
     ]
    }
   ],
   "source": [
    "a=sorted(b,reverse=False)\n",
    "print(b)\n",
    "print(a)\n",
    "print(id(a))\n",
    "print(id(b))"
   ]
  },
  {
   "cell_type": "markdown",
   "id": "11f37f3b-b997-4443-906f-d141a9a90db3",
   "metadata": {},
   "source": [
    "### reverse():\n",
    "- The reverse() method is used to reverse the elements of a list in place, meaning it modifies the original list.\n",
    "- This method doesn’tIt returns None (the original list is reversed in place).\n",
    "- It returns None (the original list is reversed in place).\n",
    "- It reverses the list in place, i.e., the elements are swapped from the first to the last."
   ]
  },
  {
   "cell_type": "code",
   "execution_count": 162,
   "id": "be97bbb1-46fc-413b-83c8-50ac5f2edb62",
   "metadata": {},
   "outputs": [
    {
     "name": "stdout",
     "output_type": "stream",
     "text": [
      "[99, 76, 50, 10, 8, 2]\n",
      "[2, 8, 10, 50, 76, 99]\n",
      "None\n"
     ]
    }
   ],
   "source": [
    "#reverse()\n",
    "print(b)\n",
    "a=b.reverse()\n",
    "print(b)\n",
    "print(a)"
   ]
  },
  {
   "cell_type": "markdown",
   "id": "42cf0cdd-2fcd-47cf-8d28-3519d9c77569",
   "metadata": {},
   "source": [
    "### copy()\n",
    "- The copy() method creates a shallow copy of the list.\n",
    "- Shallow Copy: Copies the elements, but for nested objects (like lists within lists), it only copies references to the inner objects.\n",
    "  Changes to nested objects will affect both the original and the copied list."
   ]
  },
  {
   "cell_type": "code",
   "execution_count": 167,
   "id": "84bad247-8b41-44c6-8085-49c6c0b25734",
   "metadata": {},
   "outputs": [
    {
     "name": "stdout",
     "output_type": "stream",
     "text": [
      "[1, 2, 3, 4, 'r', 'abc', True, 8.9, 8.9, 'hello', 'world', 'hello', 'world', [1, 2, 3], 8, 'p']\n"
     ]
    }
   ],
   "source": [
    "#copy the list\n",
    "my_copy_list=my_list.copy()\n",
    "print(my_copy_list)"
   ]
  },
  {
   "cell_type": "code",
   "execution_count": 173,
   "id": "42c784f6-5575-4e19-a123-60e13218145d",
   "metadata": {},
   "outputs": [
    {
     "name": "stdout",
     "output_type": "stream",
     "text": [
      "[1, 2, 3, 4, 'r', 'abc', True, 8.9, 8.9, 'hello', 'world', 'hello', 'world', [1, 2, 3], 8, 'p']\n",
      "[1, 2, 3, 4, 'r', 'abc', True, 8.9, 8.9, 'hello', 'world', 'hello', 'world', [1, 2, 3], 8, 'p', 'p', 'p', 'p']\n"
     ]
    }
   ],
   "source": [
    "my_list.append('p')\n",
    "print(my_copy_list)\n",
    "print(my_list)"
   ]
  },
  {
   "cell_type": "code",
   "execution_count": 181,
   "id": "be2d787b-8eef-4665-b304-79fff1c39fef",
   "metadata": {},
   "outputs": [
    {
     "name": "stdout",
     "output_type": "stream",
     "text": [
      "[1, 2, 3, 4, 'r', 'abc', True, 8.9, 8.9, 'hello', 'world', 'hello', 'world', [1, 2, 3], 8, 'p']\n",
      "[1, 2, 3, 4, 'r', 'abc', True, 8.9, 8.9, 'hello', 'world', 'hello', 'world', [1, 2, 3], 8, 'p']\n"
     ]
    }
   ],
   "source": [
    "# my_list.pop() # shallow copy\n",
    "print(my_list)\n",
    "print(my_copy_list) # here changes made in copy list affect the original list too."
   ]
  },
  {
   "cell_type": "markdown",
   "id": "0a8e5eaf-7307-4f8b-91cf-4c5ca8c4ee56",
   "metadata": {},
   "source": [
    "#### Deep Copy: \n",
    "- Recursively copies all objects, including nested ones, ensuring the copied list is entirely independent of the original."
   ]
  },
  {
   "cell_type": "code",
   "execution_count": 187,
   "id": "40f55526-85df-403a-966a-158ea3cc3f17",
   "metadata": {},
   "outputs": [
    {
     "name": "stdout",
     "output_type": "stream",
     "text": [
      "[[1, 2], [3, 4], {1: 'riys'}]\n",
      "[[100, 2], [3, 4], {1: 'riys'}]\n"
     ]
    }
   ],
   "source": [
    "import copy\n",
    "original_list = [[1, 2], [3, 4],{1:'riys'}]\n",
    "deep_copy = copy.deepcopy(original_list)\n",
    "\n",
    "deep_copy[0][0] = 100\n",
    "print(original_list)  # Output: [[1, 2], [3, 4]] (original list remains unaffected)\n",
    "print(deep_copy)"
   ]
  },
  {
   "cell_type": "code",
   "execution_count": 64,
   "id": "fec59acf-f633-44a3-97b8-fe0acee39be2",
   "metadata": {},
   "outputs": [
    {
     "name": "stdout",
     "output_type": "stream",
     "text": [
      "[1, 2, 3, 4, 'abc', [24, 35], 34, 45, 'h', 'e', 'l', 'l', 'o', 8, 'p', 1, 3, 4, 1, 3, 4, 1, 3, 4]\n",
      "[1, 2, 3, 4, 'abc', [24, 35], 34, 45, 'h', 'e', 'l', 'l', 'o', 8]\n"
     ]
    }
   ],
   "source": [
    "my_list.extend({1,3,4})\n",
    "print(my_list)\n",
    "print(my_copy_list)"
   ]
  },
  {
   "cell_type": "code",
   "execution_count": 74,
   "id": "12da4ce3-dca0-4efa-8262-d9bd0258bb7a",
   "metadata": {},
   "outputs": [
    {
     "name": "stdout",
     "output_type": "stream",
     "text": [
      "4\n",
      "['abc', [24, 35], 34, 45, 'h', 'e', 'l', 'l', 'o', 8, 'p', 1, 3, 4, 1, 3, 4, 1, 3, 4]\n",
      "[1, 2, 3, 4, 'abc', [24, 35], 34, 45, 'h', 'e', 'l', 'l', 'o', 8]\n"
     ]
    }
   ],
   "source": [
    "a=my_list.pop(0)\n",
    "print(a)\n",
    "print(my_list)\n",
    "print(my_copy_list)"
   ]
  },
  {
   "cell_type": "code",
   "execution_count": 1,
   "id": "4dff8556-993e-4973-adbe-edba2c3602c2",
   "metadata": {},
   "outputs": [
    {
     "name": "stdout",
     "output_type": "stream",
     "text": [
      "None\n"
     ]
    }
   ],
   "source": [
    "list=[1,3,4,5]\n",
    "x=list.append(7)\n",
    "print(x)"
   ]
  },
  {
   "cell_type": "code",
   "execution_count": 13,
   "id": "c36b17af-b873-40d8-9f70-bbe27f6db5c5",
   "metadata": {},
   "outputs": [
    {
     "name": "stdout",
     "output_type": "stream",
     "text": [
      "1\n"
     ]
    }
   ],
   "source": [
    "list1=[2,'hello',4.5,(1,2,3),{1,2,4},True,{1:'riya',2:'diya'}]\n",
    "grocery_list=['pulses','biscuits','fruits','detergent','spices']\n",
    "print(grocery_list.index('biscuits'))"
   ]
  },
  {
   "cell_type": "code",
   "execution_count": 77,
   "id": "b0f4d8e3-1980-4334-a94b-fa49ba4453d0",
   "metadata": {},
   "outputs": [
    {
     "name": "stdout",
     "output_type": "stream",
     "text": [
      "['spices']\n"
     ]
    }
   ],
   "source": [
    "x=grocery_list[4]\n",
    "list2=[]\n",
    "list2.append(x)\n",
    "print(list2)"
   ]
  },
  {
   "cell_type": "code",
   "execution_count": 83,
   "id": "ebacf08b-de3a-4d21-a931-b9b95b0cd2b8",
   "metadata": {},
   "outputs": [
    {
     "data": {
      "text/plain": [
       "['spices', 'pulses', 'biscuits', 'fruits', 'detergent', 'spices']"
      ]
     },
     "execution_count": 83,
     "metadata": {},
     "output_type": "execute_result"
    }
   ],
   "source": [
    "list2+grocery_list"
   ]
  },
  {
   "cell_type": "code",
   "execution_count": 85,
   "id": "54754536-1388-4267-9304-aa98fda59233",
   "metadata": {},
   "outputs": [
    {
     "data": {
      "text/plain": [
       "[5, 'spices']"
      ]
     },
     "execution_count": 85,
     "metadata": {},
     "output_type": "execute_result"
    }
   ],
   "source": [
    "l=[5]\n",
    "l+list2"
   ]
  },
  {
   "cell_type": "markdown",
   "id": "50d3ee05-5353-4bad-a1e5-ef5e7536d64d",
   "metadata": {},
   "source": [
    "## <b>Summary\n",
    "| **Method**        | **Description**                                                                                                                                                  | **Example**                                                                                                        |\r\n",
    "|-------------------|------------------------------------------------------------------------------------------------------------------------------------------------------------------|--------------------------------------------------------------------------------------------------------------------|\r\n",
    "| **append()**      | Adds an element to the end of the list.                                                                                                                           | `my_list.append(5)` adds `5` to the end of `my_list`.                                                              |\r\n",
    "| **extend()**      | Extends the list by adding all elements from another list or iterable.                                                                                            | `my_list.extend([6, 7])` adds `6` and `7` to `my_list`.                                                            |\r\n",
    "| **insert()**      | Inserts an element at a specified index.                                                                                                                          | `my_list.insert(2, 'a')` inserts `'a'` at index `2`.                                                               |\r\n",
    "| **remove()**      | Removes the first occurrence of a specified value.                                                                                                                | `my_list.remove(3)` removes the first occurrence of `3` from `my_list`.                                            |\r\n",
    "| **pop()**         | Removes and returns the element at a specified index (default is the last item).                                                                                   | `my_list.pop()` removes and returns the last element. `my_list.pop(0)` removes and returns the element at index `0`.|\r\n",
    "| **clear()**       | Removes all elements from the list.                                                                                                                               | `my_list.clear()` empties `my_list`.                                                                               |\r\n",
    "| **index()**       | Returns the index of the first occurrence of a specified value.                                                                                                   | `my_list.index(2)` returns the index of the first occurrence of `2`.                                               |\r\n",
    "| **count()**       | Returns the number of occurrences of a specified value.                                                                                                           | `my_list.count(2)` returns the number of occurrences of `2`.                                                       |\r\n",
    "| **sort()**        | Sorts the list **in place** in ascending order (can also be sorted in descending order with `reverse=True`).                                                       | `my_list.sort()` sorts `my_list` in ascending order.                                                               |\r\n",
    "| **reverse()**     | Reverses the elements of the list **in place**.                                                                                                                   | `my_list.reverse()` reverses `my_list`.                                                                            |\r\n",
    "| **copy()**        | Returns a shallow copy of the list.                                                                                                                               | `new_list = my_list.copy()` creates a shallow copy of `my_list`.                                                   |\r\n",
    "| **sorted()**      | Returns a new sorted list (does not modify the original list).                                                                                                     | `sorted(my_list)` returns a new sorted list.                                                                       |\r\n",
    "| **list()**        | Creates a list from an iterable.                                                                                                                                  | `list((1, 2, 3))` converts a tuple to a list.                                                                      |\r\n",
    "\r\n",
    "### **Additional Methods**\r\n",
    "\r\n",
    "| **Method**        | **Description**                                                                                                                                                  | **Example**                                                                                                        |\r\n",
    "|-------------------|------------------------------------------------------------------------------------------------------------------------------------------------------------------|--------------------------------------------------------------------------------------------------------------------|\r\n",
    "| **reverse()**     | Reverses the order of elements in the list.                                                                                                                       | `my_list.reverse()` reverses the order of the list.                                                                |\r\n",
    "| **list comprehension** | A concise way to create lists from iterables.                                                                                                               | `[x for x in range(5)]` creates `[0, 1, 2, 3, 4]`.                                                                 |\r\n"
   ]
  },
  {
   "cell_type": "code",
   "execution_count": 115,
   "id": "aef55a8c-436e-4041-845e-72ba4e169d74",
   "metadata": {},
   "outputs": [
    {
     "name": "stdout",
     "output_type": "stream",
     "text": [
      "[1, 2, 3, 4, 5, 11]\n"
     ]
    }
   ],
   "source": [
    "list_int=[5,10,15,20,25,55]\n",
    "d1=list_int[0]//5\n",
    "d2=list_int[1]//5\n",
    "d3=list_int[2]//5\n",
    "d4=list_int[3]//5\n",
    "d5=list_int[4]//5\n",
    "d6=list_int[5]//5\n",
    "list_quo=[d1,d2,d3,d4,d5,d6]\n",
    "print(list_quo)\n",
    "\n",
    "    \n"
   ]
  },
  {
   "cell_type": "code",
   "execution_count": 119,
   "id": "5a6f598f-4dce-4c05-9c88-614035b2eecd",
   "metadata": {},
   "outputs": [
    {
     "name": "stdout",
     "output_type": "stream",
     "text": [
      "[False]\n"
     ]
    }
   ],
   "source": [
    "l1=[True and True]\n",
    "l2=[True and False]\n",
    "print(l1 and l2)"
   ]
  },
  {
   "cell_type": "code",
   "execution_count": 127,
   "id": "3f9d127a-200f-4582-b142-45b6610f0e8a",
   "metadata": {},
   "outputs": [
    {
     "name": "stdout",
     "output_type": "stream",
     "text": [
      "(2, 5, 4)\n",
      "2\n"
     ]
    }
   ],
   "source": [
    "list1=[1,(2,5,4)]\n",
    "x=list1[1]\n",
    "print(x)\n",
    "print(x[0])"
   ]
  },
  {
   "cell_type": "code",
   "execution_count": 137,
   "id": "79d02ccf-6040-4b71-a731-6c9501c92208",
   "metadata": {},
   "outputs": [
    {
     "data": {
      "text/plain": [
       "5"
      ]
     },
     "execution_count": 137,
     "metadata": {},
     "output_type": "execute_result"
    }
   ],
   "source": [
    "list1=[1,(2,5,4)]\n",
    "list1[1][1]"
   ]
  },
  {
   "cell_type": "code",
   "execution_count": 170,
   "id": "399c9478-00d9-4e4a-9677-fe2bf48ce68b",
   "metadata": {},
   "outputs": [
    {
     "data": {
      "text/plain": [
       "5"
      ]
     },
     "execution_count": 170,
     "metadata": {},
     "output_type": "execute_result"
    }
   ],
   "source": [
    "list1=[1,3,(2,3,(4,5)),556]\n",
    "list1[2][2][1]"
   ]
  },
  {
   "cell_type": "code",
   "execution_count": 203,
   "id": "8e7cdcc5-e82a-407f-bc72-6e484ecdd017",
   "metadata": {},
   "outputs": [
    {
     "name": "stdout",
     "output_type": "stream",
     "text": [
      "riya\n",
      "hello\n",
      "(5, 1)\n",
      "5\n",
      "1\n"
     ]
    }
   ],
   "source": [
    "list2=[3,4,{1:'riya',2:'hello'},(2,(5,1)),'diya']\n",
    "print(list2[2][1])\n",
    "print(list2[2][2])\n",
    "print(list2[3][1])\n",
    "print(list2[3][1][0])\n",
    "print(list2[3][1][1])"
   ]
  },
  {
   "cell_type": "code",
   "execution_count": 207,
   "id": "50e02bd1-e8aa-42e7-b101-24e3b25155a6",
   "metadata": {},
   "outputs": [
    {
     "name": "stdout",
     "output_type": "stream",
     "text": [
      "[5]\n"
     ]
    }
   ],
   "source": [
    "x=list2[3][1][0]\n",
    "list3=[]\n",
    "list3.append(x)\n",
    "print(list3)"
   ]
  },
  {
   "cell_type": "code",
   "execution_count": 23,
   "id": "156e1f24-14dc-4033-ac30-9b140283303e",
   "metadata": {},
   "outputs": [
    {
     "name": "stdout",
     "output_type": "stream",
     "text": [
      "riya scored 90 % from whitehall\n",
      "diya scored 90 % from nirmala\n",
      "siya scored 98 % from birla\n"
     ]
    }
   ],
   "source": [
    "student=['riya','diya','siya']\n",
    "scores=[90,90,98]\n",
    "school=['whitehall','nirmala','birla']\n",
    "for i in range(0,3):\n",
    "    print(student[i],'scored',scores[i],'%','from',school[i])"
   ]
  },
  {
   "cell_type": "code",
   "execution_count": 35,
   "id": "c81fed1d-ce00-4f59-839d-0a2a9c86ddbf",
   "metadata": {},
   "outputs": [
    {
     "name": "stdin",
     "output_type": "stream",
     "text": [
      "enter the name bhumika\n",
      "enter scores in 10th boards 89\n",
      "enter the name of school whitehall\n",
      "enter the name diya\n",
      "enter scores in 10th boards 99\n",
      "enter the name of school whitehall\n",
      "enter the name siya\n",
      "enter scores in 10th boards 90\n",
      "enter the name of school birla\n",
      "enter the name sanchay\n",
      "enter scores in 10th boards 98\n",
      "enter the name of school nirmala\n",
      "enter the name kartik\n",
      "enter scores in 10th boards 90\n",
      "enter the name of school doon public'\n"
     ]
    },
    {
     "name": "stdout",
     "output_type": "stream",
     "text": [
      "bhumika scored 89 % in 10th boards from whitehall\n",
      "diya scored 99 % in 10th boards from whitehall\n",
      "siya scored 90 % in 10th boards from birla\n",
      "sanchay scored 98 % in 10th boards from nirmala\n",
      "kartik scored 90 % in 10th boards from doon public'\n"
     ]
    }
   ],
   "source": [
    "students=[]\n",
    "scores=[]\n",
    "schools=[]\n",
    "for i in range(5):\n",
    "    name=input('enter the name')\n",
    "    students.append(name)\n",
    "    marks=int(input('enter scores in 10th boards'))\n",
    "    scores.append(marks)\n",
    "    school=input('enter the name of school')\n",
    "    schools.append(school)\n",
    "for i in range(5):\n",
    "    print(students[i],'scored',scores[i],'%','in 10th boards from',schools[i])\n",
    "    "
   ]
  },
  {
   "cell_type": "code",
   "execution_count": null,
   "id": "887b5457-7cd5-4cdc-a720-edcfda3b14f6",
   "metadata": {},
   "outputs": [
    {
     "name": "stdin",
     "output_type": "stream",
     "text": [
      "enter the name bhumika\n",
      "enter scores in 10th boards 77\n",
      "enter the name of school whitehall\n",
      "enter the name diya\n",
      "enter scores in 10th boards 67\n",
      "enter the name of school birla\n"
     ]
    }
   ],
   "source": [
    "students=[]\n",
    "scores=[]\n",
    "schools=[]\n",
    "for i in range(5):\n",
    "    name=input('enter the name')\n",
    "    students.append(name)\n",
    "    marks=int(input('enter scores in 10th boards'))\n",
    "    scores.append(marks)\n",
    "    school=input('enter the name of school')\n",
    "    schools.append(school)\n",
    "for i in range(5):\n",
    "    if(scores[i]>80):\n",
    "        print(students[i],'scored',scores[i],'%','in 10th boards from',schools[i])\n",
    "    else:\n",
    "        print(students[i],'not scored above 80 %')\n",
    "    "
   ]
  },
  {
   "cell_type": "code",
   "execution_count": 5,
   "id": "fbcd00f2-6b72-4530-a285-ac465241c51c",
   "metadata": {},
   "outputs": [
    {
     "name": "stdout",
     "output_type": "stream",
     "text": [
      "(8, 9, 7, 8)\n"
     ]
    },
    {
     "data": {
      "text/plain": [
       "{7, 8, 9}"
      ]
     },
     "execution_count": 5,
     "metadata": {},
     "output_type": "execute_result"
    }
   ],
   "source": [
    "t=(8,9,7,8)\n",
    "print(t)\n",
    "set(t)"
   ]
  },
  {
   "cell_type": "code",
   "execution_count": 83,
   "id": "e325d019-2034-44dd-a991-3984f8d2251c",
   "metadata": {},
   "outputs": [
    {
     "name": "stderr",
     "output_type": "stream",
     "text": [
      "<>:1: SyntaxWarning: 'int' object is not callable; perhaps you missed a comma?\n",
      "<>:1: SyntaxWarning: 'int' object is not callable; perhaps you missed a comma?\n",
      "C:\\Users\\acer\\AppData\\Local\\Temp\\ipykernel_9556\\621431057.py:1: SyntaxWarning: 'int' object is not callable; perhaps you missed a comma?\n",
      "  tupl=[(9,5,4,(3,4,5(56,8,99)),45)]\n"
     ]
    },
    {
     "ename": "TypeError",
     "evalue": "'int' object is not callable",
     "output_type": "error",
     "traceback": [
      "\u001b[1;31m---------------------------------------------------------------------------\u001b[0m",
      "\u001b[1;31mTypeError\u001b[0m                                 Traceback (most recent call last)",
      "Cell \u001b[1;32mIn[83], line 1\u001b[0m\n\u001b[1;32m----> 1\u001b[0m tupl\u001b[38;5;241m=\u001b[39m[(\u001b[38;5;241m9\u001b[39m,\u001b[38;5;241m5\u001b[39m,\u001b[38;5;241m4\u001b[39m,(\u001b[38;5;241m3\u001b[39m,\u001b[38;5;241m4\u001b[39m,\u001b[38;5;241m5\u001b[39m(\u001b[38;5;241m56\u001b[39m,\u001b[38;5;241m8\u001b[39m,\u001b[38;5;241m99\u001b[39m)),\u001b[38;5;241m45\u001b[39m)]\n\u001b[0;32m      2\u001b[0m \u001b[38;5;28mprint\u001b[39m(tupl[\u001b[38;5;241m3\u001b[39m][\u001b[38;5;241m1\u001b[39m])\n",
      "\u001b[1;31mTypeError\u001b[0m: 'int' object is not callable"
     ]
    }
   ],
   "source": [
    "tupl=[(9,5,4,(3,4,5(56,8,99)),45)]\n",
    "print(tupl[3][1])\n"
   ]
  },
  {
   "cell_type": "code",
   "execution_count": 5,
   "id": "83c5e326-4ca0-40ed-ad0a-5676e57135ec",
   "metadata": {},
   "outputs": [
    {
     "name": "stdout",
     "output_type": "stream",
     "text": [
      "[2, 4, 6, 8, 10, 24, 90]\n"
     ]
    }
   ],
   "source": [
    "## Given a list of integers, create a new list that contains only the even numbers from the original list using list comprehension.\n",
    "my_list=[2,3,4,5,6,7,8,9,10,55,24,89,90]\n",
    "list_even=[]\n",
    "for i in my_list:\n",
    "    if(i%2==0):\n",
    "        list_even.append(i)\n",
    "\n",
    "print(list_even)     \n",
    "        \n"
   ]
  },
  {
   "cell_type": "code",
   "execution_count": 22,
   "id": "8bab2cde-2d29-4af5-aaaf-afbdec79b731",
   "metadata": {},
   "outputs": [
    {
     "name": "stdout",
     "output_type": "stream",
     "text": [
      "common elements in both list are:\n"
     ]
    },
    {
     "data": {
      "text/plain": [
       "[3, 'hello', 4, 7.888888]"
      ]
     },
     "execution_count": 22,
     "metadata": {},
     "output_type": "execute_result"
    }
   ],
   "source": [
    "## Given two lists, write a function to return a list that contains the elements that are present in both lists (intersection).\n",
    "my_list1=[2,3,'hello',34.7,4,'parihar',777,89,7.888888]\n",
    "my_list2=[4,5,'riya','hello',89.9,3,7.888888]\n",
    "inter_list=[]\n",
    "def intersection(list1,list2):\n",
    "    for i in list1:\n",
    "        for j in list2:\n",
    "            if(i==j):\n",
    "                inter_list.append(i)\n",
    "    print('common elements in both list are:')\n",
    "    return inter_list\n",
    "intersection(my_list1,my_list2)"
   ]
  },
  {
   "cell_type": "code",
   "execution_count": 53,
   "id": "aace0341-976e-4bbb-840b-97d78d52ab53",
   "metadata": {},
   "outputs": [
    {
     "name": "stdin",
     "output_type": "stream",
     "text": [
      "from how many elements you want to rotate the elements 2\n",
      "enter the elements 2\n",
      "enter the elements 3\n",
      "enter the elements 4\n",
      "enter the elements 1\n",
      "enter the elements 5\n"
     ]
    },
    {
     "ename": "IndexError",
     "evalue": "list index out of range",
     "output_type": "error",
     "traceback": [
      "\u001b[1;31m---------------------------------------------------------------------------\u001b[0m",
      "\u001b[1;31mIndexError\u001b[0m                                Traceback (most recent call last)",
      "Cell \u001b[1;32mIn[53], line 15\u001b[0m\n\u001b[0;32m     13\u001b[0m         list1\u001b[38;5;241m.\u001b[39mappend(rotated_list[i])\n\u001b[0;32m     14\u001b[0m     \u001b[38;5;28mprint\u001b[39m(list1)\n\u001b[1;32m---> 15\u001b[0m rotate(list1,k)\n",
      "Cell \u001b[1;32mIn[53], line 13\u001b[0m, in \u001b[0;36mrotate\u001b[1;34m(list1, k)\u001b[0m\n\u001b[0;32m     11\u001b[0m     \u001b[38;5;66;03m# list1.remove(list1[i])\u001b[39;00m\n\u001b[0;32m     12\u001b[0m \u001b[38;5;28;01mfor\u001b[39;00m i \u001b[38;5;129;01min\u001b[39;00m rotated_list:\n\u001b[1;32m---> 13\u001b[0m     list1\u001b[38;5;241m.\u001b[39mappend(rotated_list[i])\n\u001b[0;32m     14\u001b[0m \u001b[38;5;28mprint\u001b[39m(list1)\n",
      "\u001b[1;31mIndexError\u001b[0m: list index out of range"
     ]
    }
   ],
   "source": [
    "## Write a function that rotates a list to the right by k elements. For example, given [1, 2, 3, 4, 5] and k=2, the result should be [4, 5, 1, 2, 3].\n",
    "list1=[]\n",
    "k=int(input('from how many elements you want to rotate the elements'))\n",
    "for i in range(5):\n",
    "    n=int(input('enter the elements'))\n",
    "    list1.append(n)\n",
    "def rotate(list1,k):\n",
    "    rotated_list=[]\n",
    "    for i in range(k):\n",
    "        rotated_list.append(list1[i])\n",
    "        # list1.remove(list1[i])\n",
    "    for i in rotated_list:\n",
    "        list1.append(rotated_list[i])\n",
    "    print(list1)\n",
    "rotate(list1,k)\n",
    "    "
   ]
  },
  {
   "cell_type": "code",
   "execution_count": 103,
   "id": "6c8ebafa-d6d5-4ff7-b81a-9a3fcc5a17b1",
   "metadata": {},
   "outputs": [
    {
     "name": "stdin",
     "output_type": "stream",
     "text": [
      "from how many elements you want to rotate the elements 5\n",
      "enter the elements 1\n",
      "enter the elements 2\n",
      "enter the elements 3\n",
      "enter the elements 4\n",
      "enter the elements 5\n"
     ]
    },
    {
     "name": "stdout",
     "output_type": "stream",
     "text": [
      "list after roatation is [5, 4, 3, 2, 1]\n"
     ]
    }
   ],
   "source": [
    "list1=[]\n",
    "k=int(input('from how many elements you want to rotate the elements'))\n",
    "for i in range(5):\n",
    "    n=int(input('enter the elements'))\n",
    "    list1.append(n)\n",
    "def rotate(list1,k):\n",
    "   return list1[k::]+list1[k-1::-1]\n",
    "        \n",
    "\n",
    "print('list after roatation is',rotate(list1,k))\n",
    "    "
   ]
  },
  {
   "cell_type": "code",
   "execution_count": 1,
   "id": "5d660a5e-cd83-4cd6-8e0c-d90318861a3a",
   "metadata": {},
   "outputs": [],
   "source": [
    "##  Given a list of tuples, where each tuple contains a string and a number, sort the list based on the number in ascending order. \n",
    "##  For example, [(‘apple’, 2), (‘banana’, 1), (‘cherry’, 3)] should become [(‘banana’, 1), (‘apple’, 2), (‘cherry’, 3)]."
   ]
  },
  {
   "cell_type": "code",
   "execution_count": 23,
   "id": "c58d70ad-7147-4676-94db-0981930ffef9",
   "metadata": {},
   "outputs": [
    {
     "ename": "TypeError",
     "evalue": "list indices must be integers or slices, not tuple",
     "output_type": "error",
     "traceback": [
      "\u001b[1;31m---------------------------------------------------------------------------\u001b[0m",
      "\u001b[1;31mTypeError\u001b[0m                                 Traceback (most recent call last)",
      "Cell \u001b[1;32mIn[23], line 3\u001b[0m\n\u001b[0;32m      1\u001b[0m fruits\u001b[38;5;241m=\u001b[39m[(\u001b[38;5;124m'\u001b[39m\u001b[38;5;124mapple\u001b[39m\u001b[38;5;124m'\u001b[39m,\u001b[38;5;241m2\u001b[39m),(\u001b[38;5;124m'\u001b[39m\u001b[38;5;124mbanana\u001b[39m\u001b[38;5;124m'\u001b[39m,\u001b[38;5;241m1\u001b[39m),(\u001b[38;5;124m'\u001b[39m\u001b[38;5;124mcherry\u001b[39m\u001b[38;5;124m'\u001b[39m,\u001b[38;5;241m3\u001b[39m)]\n\u001b[0;32m      2\u001b[0m \u001b[38;5;28;01mfor\u001b[39;00m i \u001b[38;5;129;01min\u001b[39;00m fruits:\n\u001b[1;32m----> 3\u001b[0m     n\u001b[38;5;241m=\u001b[39mfruits[i][\u001b[38;5;241m1\u001b[39m]\n\u001b[0;32m      4\u001b[0m     \u001b[38;5;28;01mfor\u001b[39;00m j \u001b[38;5;129;01min\u001b[39;00m fruits:\n\u001b[0;32m      5\u001b[0m         \u001b[38;5;28;01mif\u001b[39;00m(fruits[j][\u001b[38;5;241m0\u001b[39m]\u001b[38;5;241m>\u001b[39mn):\n",
      "\u001b[1;31mTypeError\u001b[0m: list indices must be integers or slices, not tuple"
     ]
    }
   ],
   "source": [
    "fruits=[('apple',2),('banana',1),('cherry',3)]\n",
    "for i in fruits:\n",
    "    n=fruits[i][1]\n",
    "    for j in fruits:\n",
    "        if(fruits[j][0]>n):\n",
    "            temp=n\n",
    "            n=fruits[j][0]\n",
    "            fruits[j][0]=temp"
   ]
  },
  {
   "cell_type": "code",
   "execution_count": 28,
   "id": "eca0a482-950f-4a60-a72a-e628611faf04",
   "metadata": {},
   "outputs": [
    {
     "name": "stdout",
     "output_type": "stream",
     "text": [
      "[2, 1, 3, 4]\n"
     ]
    }
   ],
   "source": [
    "list1=[1,2,3,4]\n",
    "list1[0]=2\n",
    "list1[1]=1\n",
    "print(list1)"
   ]
  },
  {
   "cell_type": "code",
   "execution_count": 15,
   "id": "9aaaeed4-8b23-4a95-b0a8-43b29bacad35",
   "metadata": {},
   "outputs": [
    {
     "ename": "IndexError",
     "evalue": "list index out of range",
     "output_type": "error",
     "traceback": [
      "\u001b[1;31m---------------------------------------------------------------------------\u001b[0m",
      "\u001b[1;31mIndexError\u001b[0m                                Traceback (most recent call last)",
      "Cell \u001b[1;32mIn[15], line 3\u001b[0m\n\u001b[0;32m      1\u001b[0m fruits\u001b[38;5;241m=\u001b[39m[(\u001b[38;5;124m'\u001b[39m\u001b[38;5;124mapple\u001b[39m\u001b[38;5;124m'\u001b[39m,\u001b[38;5;241m1\u001b[39m),(\u001b[38;5;124m'\u001b[39m\u001b[38;5;124mbanana\u001b[39m\u001b[38;5;124m'\u001b[39m,\u001b[38;5;241m2\u001b[39m),(\u001b[38;5;124m'\u001b[39m\u001b[38;5;124mcherry\u001b[39m\u001b[38;5;124m'\u001b[39m,\u001b[38;5;241m3\u001b[39m)]\n\u001b[0;32m      2\u001b[0m \u001b[38;5;28;01mfor\u001b[39;00m i \u001b[38;5;129;01min\u001b[39;00m \u001b[38;5;28mrange\u001b[39m(\u001b[38;5;241m0\u001b[39m,\u001b[38;5;28mlen\u001b[39m(fruits)):\n\u001b[1;32m----> 3\u001b[0m     \u001b[38;5;28;01mif\u001b[39;00m fruits[i][\u001b[38;5;241m1\u001b[39m]\u001b[38;5;241m>\u001b[39mfruits[i\u001b[38;5;241m+\u001b[39m\u001b[38;5;241m1\u001b[39m][\u001b[38;5;241m1\u001b[39m]:\n\u001b[0;32m      4\u001b[0m         fruits[i],fruits[i\u001b[38;5;241m+\u001b[39m\u001b[38;5;241m1\u001b[39m]\u001b[38;5;241m=\u001b[39mfruits[i\u001b[38;5;241m+\u001b[39m\u001b[38;5;241m1\u001b[39m],fruits[i]\n\u001b[0;32m      5\u001b[0m \u001b[38;5;28mprint\u001b[39m(fruits)\n",
      "\u001b[1;31mIndexError\u001b[0m: list index out of range"
     ]
    }
   ],
   "source": [
    "fruits=[('apple',1),('banana',2),('cherry',3)]\n",
    "for i in range(0,len(fruits)):\n",
    "    if fruits[i][1]>fruits[i+1][1]:\n",
    "        fruits[i],fruits[i+1]=fruits[i+1],fruits[i]\n",
    "print(fruits)\n",
    " "
   ]
  },
  {
   "cell_type": "code",
   "execution_count": 27,
   "id": "4f7eed82-189a-4615-8c57-427428b30a47",
   "metadata": {},
   "outputs": [
    {
     "name": "stdout",
     "output_type": "stream",
     "text": [
      "1\n"
     ]
    }
   ],
   "source": [
    "fruits=[('apple',1),('banana',2)]\n",
    "print(fruits[0][1])"
   ]
  },
  {
   "cell_type": "code",
   "execution_count": 73,
   "id": "38af045b-d1e5-4b8d-836f-28692cac0053",
   "metadata": {},
   "outputs": [
    {
     "ename": "TypeError",
     "evalue": "'int' object is not subscriptable",
     "output_type": "error",
     "traceback": [
      "\u001b[1;31m---------------------------------------------------------------------------\u001b[0m",
      "\u001b[1;31mTypeError\u001b[0m                                 Traceback (most recent call last)",
      "Cell \u001b[1;32mIn[73], line 5\u001b[0m\n\u001b[0;32m      2\u001b[0m \u001b[38;5;28;01mfor\u001b[39;00m i \u001b[38;5;129;01min\u001b[39;00m \u001b[38;5;28mrange\u001b[39m(\u001b[38;5;241m0\u001b[39m,\u001b[38;5;28mlen\u001b[39m(fruits)):\n\u001b[0;32m      3\u001b[0m     \u001b[38;5;66;03m# small=fruits[i]\u001b[39;00m\n\u001b[0;32m      4\u001b[0m     \u001b[38;5;28;01mfor\u001b[39;00m j \u001b[38;5;129;01min\u001b[39;00m \u001b[38;5;28mrange\u001b[39m(\u001b[38;5;241m0\u001b[39m,\u001b[38;5;28mlen\u001b[39m(fruits)):\n\u001b[1;32m----> 5\u001b[0m         \u001b[38;5;28;01mif\u001b[39;00m fruits[i][\u001b[38;5;241m1\u001b[39m]\u001b[38;5;241m>\u001b[39mfruits[j][\u001b[38;5;241m1\u001b[39m]:\n\u001b[0;32m      6\u001b[0m             small\u001b[38;5;241m=\u001b[39mfruits[j][\u001b[38;5;241m1\u001b[39m]\n\u001b[0;32m      7\u001b[0m     fruits[i]\u001b[38;5;241m=\u001b[39msmall\n",
      "\u001b[1;31mTypeError\u001b[0m: 'int' object is not subscriptable"
     ]
    }
   ],
   "source": [
    "fruits=[('apple',1),('banana',2),('cherry',3)]\n",
    "for i in range(0,len(fruits)):\n",
    "    # small=fruits[i]\n",
    "    for j in range(0,len(fruits)):\n",
    "        if fruits[i][1]>fruits[j][1]:\n",
    "            small=fruits[j][1]\n",
    "    fruits[i]=small"
   ]
  },
  {
   "cell_type": "code",
   "execution_count": 75,
   "id": "5f1172be-f9b0-4797-8929-0b9ec598a812",
   "metadata": {},
   "outputs": [
    {
     "name": "stdout",
     "output_type": "stream",
     "text": [
      "[('apple', 1), ('banana', 2), ('cherry', 3)]\n"
     ]
    }
   ],
   "source": [
    "fruits=[('apple',1),('banana',2),('cherry',3)]\n",
    "for i in range(0,len(fruits)):\n",
    "    # small=fruits[i]\n",
    "    for j in range(0,len(fruits)):\n",
    "        if fruits[i][1]<fruits[j][1]:\n",
    "           fruits[i],fruits[j]=fruits[j],fruits[i]\n",
    "print(fruits)"
   ]
  },
  {
   "cell_type": "code",
   "execution_count": null,
   "id": "2ea355f7-b1cc-420b-844b-8ba0cef4da4e",
   "metadata": {},
   "outputs": [],
   "source": [
    "#Write a function to flatten a nested list. For example, given [[1, 2, [3]], [4, 5], [6]], the function should return [1, 2, 3, 4, 5, 6].\n",
    "my_list=[[1,2,[3]],[4,5],[6]]\n",
    "for i in my_list:\n",
    "    "
   ]
  },
  {
   "cell_type": "code",
   "execution_count": 142,
   "id": "02aee0b8-1b7e-494b-9c9e-68111e7e5e2f",
   "metadata": {},
   "outputs": [
    {
     "name": "stdout",
     "output_type": "stream",
     "text": [
      "3\n",
      "hy\n",
      "[1, 2, 3]\n",
      "2\n"
     ]
    }
   ],
   "source": [
    "my_list=[[1,2,[3]],[4,5],[6]]\n",
    "n=my_list[0]\n",
    "print(len(n))\n",
    "temp=[]\n",
    "temp.append(n[0])\n",
    "temp.append(n[1])\n",
    "temp.append(n[2][0])\n",
    "if type(n[2])==list:\n",
    "    print('hy')\n",
    "print(temp)\n",
    "\n",
    "print(n[1])\n",
    "# temp=[]\n",
    "# temp.extend(my_list[0])\n",
    "# print(temp)"
   ]
  },
  {
   "cell_type": "code",
   "execution_count": 1,
   "id": "7fd62dfa-80df-48f1-beb6-1d499370e9a0",
   "metadata": {},
   "outputs": [
    {
     "name": "stdout",
     "output_type": "stream",
     "text": [
      "[1, 2, 3, 4, 5, 6]\n"
     ]
    }
   ],
   "source": [
    "my_list=[[1,2,[3]],[4,5],[6]]\n",
    "temp=[]\n",
    "for i in range(len(my_list)):\n",
    "    n=my_list[i]\n",
    "    l=len(n)\n",
    "    for j in range(l):\n",
    "        if type(n[j])==list:\n",
    "            for k in range(len(n[j])):\n",
    "                temp.append(n[j][k])\n",
    "        else:temp.append(n[j])\n",
    "print(temp)        \n"
   ]
  },
  {
   "cell_type": "code",
   "execution_count": 3,
   "id": "0db1bd40-60e9-432a-b555-3936c87fcfdd",
   "metadata": {},
   "outputs": [
    {
     "name": "stdout",
     "output_type": "stream",
     "text": [
      "<class 'list'>\n",
      "<class 'list'>\n",
      "<class 'list'>\n",
      "[1, 2, 3, 4, 5, 6]\n"
     ]
    }
   ],
   "source": [
    "my_list=[[1,2,[3]],[4,5],[6]]\n",
    "temp=[]\n",
    "for i in range(len(my_list)):\n",
    "    n=my_list[i]\n",
    "    print(type(n))\n",
    "    l=len(n)\n",
    "    for j in range(l):\n",
    "        if type(my_list[i][j])==list: \n",
    "            for k in range(0,len([j])):\n",
    "                temp.append(my_list[i][j][k])\n",
    "        else: temp.append(n[j])\n",
    "print(temp)        \n"
   ]
  },
  {
   "cell_type": "code",
   "execution_count": 43,
   "id": "ea22b653-0a86-481d-8a6d-848da6e74b5b",
   "metadata": {},
   "outputs": [
    {
     "name": "stdin",
     "output_type": "stream",
     "text": [
      "enter the no. of strings you want to enter 3\n",
      "enter the string riya\n",
      "enter the string siya\n",
      "enter the string dddd\n"
     ]
    },
    {
     "name": "stdout",
     "output_type": "stream",
     "text": [
      "['riya', 'siya']\n"
     ]
    }
   ],
   "source": [
    "# Write a function that takes a list of strings and returns a list of the strings that contain at least one vowel.\n",
    "n=int(input('enter the no. of strings you want to enter'))\n",
    "string_list=[]\n",
    "def isvowel(string):\n",
    "    str=[]\n",
    "    for i in range(len(string)):\n",
    "        s=string[i]\n",
    "        for j in range(len(s)):\n",
    "            if s[j]=='a'or s[j]=='e' or s[j]=='i' or s[j]=='o' or s[j]=='u':\n",
    "                str.append(s)\n",
    "                break;\n",
    "            \n",
    "            \n",
    "    return str;\n",
    "for i in range(n):\n",
    "    str=input('enter the string')\n",
    "    string_list.append(str)\n",
    "print(isvowel(string_list))"
   ]
  },
  {
   "cell_type": "code",
   "execution_count": 62,
   "id": "cd4604bd-c8f7-48f0-b22d-97f9239e454d",
   "metadata": {},
   "outputs": [
    {
     "name": "stdout",
     "output_type": "stream",
     "text": [
      "cumulative sum is: [1, 3, 6, 10]\n"
     ]
    }
   ],
   "source": [
    "# Given a list of integers, write a function to return a list containing the cumulative sum of the elements. For example, [1, 2, 3, 4] should become [1, 3, 6, 10].\n",
    "my_num=[1,2,3,4]\n",
    "cum=[]\n",
    "for i in range(len(my_num)):\n",
    "    num=int(my_num[i])\n",
    "    if i!=(len(my_num)-1):\n",
    "        num1=int(my_num[i+1])\n",
    "    if i==0:\n",
    "        s=int(num)\n",
    "        cum.append(s)\n",
    "    if i==(len(my_num)-1):\n",
    "       break;\n",
    "    else:\n",
    "        s+=my_num[i+1]\n",
    "        cum.append(s)\n",
    "print('cumulative sum is:',cum)"
   ]
  },
  {
   "cell_type": "code",
   "execution_count": null,
   "id": "ea5eb3f4-ea58-41f9-91fc-98212b11aa93",
   "metadata": {},
   "outputs": [],
   "source": [
    "#Write a function that takes a list of numbers and returns a new list with each number squared, but only if the original number was positive.\n"
   ]
  }
 ],
 "metadata": {
  "kernelspec": {
   "display_name": "Python 3 (ipykernel)",
   "language": "python",
   "name": "python3"
  },
  "language_info": {
   "codemirror_mode": {
    "name": "ipython",
    "version": 3
   },
   "file_extension": ".py",
   "mimetype": "text/x-python",
   "name": "python",
   "nbconvert_exporter": "python",
   "pygments_lexer": "ipython3",
   "version": "3.12.4"
  }
 },
 "nbformat": 4,
 "nbformat_minor": 5
}
