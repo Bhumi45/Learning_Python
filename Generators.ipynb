{
 "cells": [
  {
   "cell_type": "markdown",
   "id": "528edeb4-3a73-4e23-b13a-9a2f4c1368ea",
   "metadata": {},
   "source": [
    "<h2>What are Generators?</h2>\n",
    "\n",
    "- Generators are the simplest way to create iterator.\n",
    "- Genrators are special function which in return give an generator object.\n",
    "- Genrator function do not have any return statement, they have <font color='red'>yield</font> instead.\n",
    "- with the help of Genrator object we can run next function to print all yield statements."
   ]
  },
  {
   "cell_type": "code",
   "execution_count": 1,
   "id": "738f681c-c9dd-451d-9bc5-629e6f358b81",
   "metadata": {},
   "outputs": [
    {
     "data": {
      "text/plain": [
       "'hey beautiful people'"
      ]
     },
     "execution_count": 1,
     "metadata": {},
     "output_type": "execute_result"
    }
   ],
   "source": [
    "def generator():\n",
    "    yield 'hello world'\n",
    "    yield 'hey beautiful people'\n",
    "gen=generator()\n",
    "next(gen)\n",
    "next(gen)"
   ]
  },
  {
   "cell_type": "code",
   "execution_count": 3,
   "id": "2e4bfd8c-79c6-4471-9006-08016276ea29",
   "metadata": {},
   "outputs": [
    {
     "name": "stdout",
     "output_type": "stream",
     "text": [
      "hello world\n",
      "hey beautiful people\n",
      "have a great day\n"
     ]
    }
   ],
   "source": [
    "# or another way\n",
    "def generator():\n",
    "    yield 'hello world'\n",
    "    yield 'hey beautiful people'\n",
    "    yield 'have a great day'\n",
    "gen=generator()\n",
    "for i in gen:\n",
    "    print(i)"
   ]
  },
  {
   "cell_type": "markdown",
   "id": "fc12c72b-137e-4d40-bc15-cafd2799b28f",
   "metadata": {},
   "source": [
    "<h3>key-points</h3>\n",
    "\n",
    "- in the above code : gen=generator() this is not calling the function , at this line the generator returns an gernerator object.\n",
    "- the generator function is called when loop starts or when next function is called."
   ]
  },
  {
   "cell_type": "markdown",
   "id": "7e7a4fde-361f-425b-a291-a91ccb380fe9",
   "metadata": {},
   "source": [
    "<h3>Difference between return and yield</h3>\n",
    "\n",
    "- Gernerally in normal function once the function is called and is executed it exists the memory and when another time it is called it starts fresh.\n",
    "- But in generator function it temporary gets paused and remembers the state of the variable , when next time the fucntion is called\n",
    "  it updated the value according to the previous value."
   ]
  },
  {
   "cell_type": "code",
   "execution_count": 5,
   "id": "0c594a23-dc34-45b0-adf8-559bffe3ecf7",
   "metadata": {},
   "outputs": [
    {
     "name": "stdout",
     "output_type": "stream",
     "text": [
      "1\n",
      "4\n",
      "9\n",
      "16\n",
      "25\n",
      "36\n",
      "49\n",
      "64\n",
      "81\n",
      "100\n"
     ]
    }
   ],
   "source": [
    "def square(num):\n",
    "    for i in range(1,num+1):\n",
    "        yield i**2\n",
    "gen=square(10)\n",
    "print(next(gen))\n",
    "print(next(gen))\n",
    "for i in gen: # from here it will start printing from where it left.\n",
    "    print(i)"
   ]
  },
  {
   "cell_type": "code",
   "execution_count": 7,
   "id": "32039a61-5d75-46c9-b052-7976f5a4fbae",
   "metadata": {},
   "outputs": [
    {
     "data": {
      "text/plain": [
       "[1, 4, 9, 16, 25, 36, 49, 64, 81]"
      ]
     },
     "execution_count": 7,
     "metadata": {},
     "output_type": "execute_result"
    }
   ],
   "source": [
    "# list comprehension\n",
    "L=[x**2 for x in range(1,10)]\n",
    "L"
   ]
  },
  {
   "cell_type": "code",
   "execution_count": 9,
   "id": "bf979e18-7e91-4262-9276-0570d6923ebd",
   "metadata": {},
   "outputs": [
    {
     "name": "stdout",
     "output_type": "stream",
     "text": [
      "1\n",
      "4\n",
      "9\n",
      "16\n",
      "25\n",
      "36\n",
      "49\n",
      "64\n",
      "81\n"
     ]
    }
   ],
   "source": [
    "# create it using generator\n",
    "gen=(x**2 for x in range(1,10))\n",
    "print(next(gen))\n",
    "print(next(gen))\n",
    "print(next(gen))\n",
    "for i in gen:\n",
    "    print(i)"
   ]
  },
  {
   "cell_type": "markdown",
   "id": "e00153b1-a284-460f-94f6-02ad175a7510",
   "metadata": {},
   "source": [
    "<h2>Benefits of Using Generators</h2>"
   ]
  },
  {
   "cell_type": "markdown",
   "id": "673b5fb9-e2fe-42ef-b8c9-3b37cc726428",
   "metadata": {},
   "source": [
    "<h4>1. Ease of implementation</h4>"
   ]
  },
  {
   "cell_type": "code",
   "execution_count": null,
   "id": "b0e9edc1-1da3-4ae6-8964-c95d6a85dc23",
   "metadata": {},
   "outputs": [],
   "source": [
    "class mera_range:\n",
    "    \n",
    "    def __init__(self,start,end):\n",
    "        self.start = start\n",
    "        self.end = end\n",
    "        \n",
    "    def __iter__(self):\n",
    "        return mera_iterator(self)"
   ]
  },
  {
   "cell_type": "code",
   "execution_count": null,
   "id": "4ef01f6d-7366-424d-81e3-82c53e57de4b",
   "metadata": {},
   "outputs": [],
   "source": [
    "# iterator\n",
    "class mera_iterator:\n",
    "    \n",
    "    def __init__(self,iterable_obj):\n",
    "        self.iterable = iterable_obj\n",
    "    \n",
    "    def __iter__(self):\n",
    "        return self\n",
    "    \n",
    "    def __next__(self):\n",
    "        \n",
    "        if self.iterable.start >= self.iterable.end:\n",
    "            raise StopIteration\n",
    "        \n",
    "        current = self.iterable.start\n",
    "        self.iterable.start+=1\n",
    "        return current"
   ]
  },
  {
   "cell_type": "code",
   "execution_count": 11,
   "id": "81bfde36-27ef-4d64-a736-c043bd2c764c",
   "metadata": {},
   "outputs": [
    {
     "name": "stdout",
     "output_type": "stream",
     "text": [
      "1\n",
      "2\n",
      "3\n",
      "4\n",
      "5\n",
      "6\n",
      "7\n",
      "8\n",
      "9\n",
      "10\n",
      "11\n",
      "12\n",
      "13\n",
      "14\n",
      "15\n",
      "16\n",
      "17\n",
      "18\n",
      "19\n"
     ]
    }
   ],
   "source": [
    "# # by using generator\n",
    "def range_num(start,end):\n",
    "    for i in range(start,end):\n",
    "        yield i\n",
    "gen1=range_num(1,20)\n",
    "for j in gen1:\n",
    "    print(j)"
   ]
  },
  {
   "cell_type": "markdown",
   "id": "6ba6c2f6-1235-43fb-b485-dae2eb58d88e",
   "metadata": {},
   "source": [
    "<h4>2.Memory Efficient</h4>"
   ]
  },
  {
   "cell_type": "code",
   "execution_count": 23,
   "id": "2728199c-b9c2-41f6-b218-fbe2f4c29442",
   "metadata": {},
   "outputs": [
    {
     "name": "stdout",
     "output_type": "stream",
     "text": [
      "173016\n",
      "200\n"
     ]
    }
   ],
   "source": [
    "l=[x**2 for x in range(1,20000)]\n",
    "g=(x**2 for x in range(1,20000))\n",
    "import sys\n",
    "print(sys.getsizeof(l))\n",
    "print(sys.getsizeof(g))"
   ]
  },
  {
   "cell_type": "markdown",
   "id": "3e7270c9-1f5c-42a2-9676-0a8e82a2fddf",
   "metadata": {},
   "source": [
    "<h4>3.Used for Infintie Streams</h4>"
   ]
  },
  {
   "cell_type": "code",
   "execution_count": 2,
   "id": "b6b535c4-8b15-4a2d-8d8c-813c5ad30555",
   "metadata": {},
   "outputs": [
    {
     "data": {
      "text/plain": [
       "2"
      ]
     },
     "execution_count": 2,
     "metadata": {},
     "output_type": "execute_result"
    }
   ],
   "source": [
    "def all_even():\n",
    "    n = 0\n",
    "    while True:\n",
    "        yield n\n",
    "        n += 2\n",
    "even_num_gen = all_even()\n",
    "next(even_num_gen)\n",
    "next(even_num_gen)"
   ]
  },
  {
   "cell_type": "markdown",
   "id": "d0f2dd37-6422-4cf2-a162-5f5b29139063",
   "metadata": {},
   "source": [
    "<h2>Difference between Iterators and Generators</h2>"
   ]
  },
  {
   "cell_type": "code",
   "execution_count": 17,
   "id": "71347c3e-0651-4327-8477-d67fbd0a5d72",
   "metadata": {},
   "outputs": [
    {
     "name": "stdout",
     "output_type": "stream",
     "text": [
      "2\n",
      "4\n",
      "6\n",
      "8\n",
      "10\n",
      "2\n",
      "4\n",
      "6\n",
      "8\n",
      "10\n",
      "<class 'list_iterator'>\n"
     ]
    }
   ],
   "source": [
    "l=[2,4,6,8,10]\n",
    "for i in l:\n",
    "    print(i)\n",
    "import sys\n",
    "sys.getsizeof(l)\n",
    "iterator=iter(l)\n",
    "for i in iterator:\n",
    "    print(i)\n",
    "print(type(iterator))"
   ]
  },
  {
   "cell_type": "code",
   "execution_count": 19,
   "id": "0684403f-8f6f-4bea-9a5b-0304d61a3685",
   "metadata": {},
   "outputs": [
    {
     "name": "stdout",
     "output_type": "stream",
     "text": [
      "0\n",
      "1\n",
      "4\n",
      "9\n",
      "16\n",
      "25\n",
      "36\n"
     ]
    }
   ],
   "source": [
    "def sq(n):\n",
    "    for i in range(n):\n",
    "        yield i**2\n",
    "for i in sq(7):\n",
    "    print(i)"
   ]
  },
  {
   "cell_type": "markdown",
   "id": "cb0871bd-de9a-4e44-97fd-978247a22f4d",
   "metadata": {},
   "source": [
    "<h4>key-points</h4>\n",
    "\n",
    "- To create an iterator we use iter() ,whereas to create a generator we use function along 'yield' statement.\n",
    "- Generator use yield keyword which saves local variable value.\n",
    "- Generator helps to write fast and compact code.\n",
    "- Python iterators are much memory efficient."
   ]
  },
  {
   "cell_type": "code",
   "execution_count": null,
   "id": "ab23b9b3-3b0a-4a68-be3e-9af11efec5e7",
   "metadata": {},
   "outputs": [],
   "source": []
  }
 ],
 "metadata": {
  "kernelspec": {
   "display_name": "Python 3 (ipykernel)",
   "language": "python",
   "name": "python3"
  },
  "language_info": {
   "codemirror_mode": {
    "name": "ipython",
    "version": 3
   },
   "file_extension": ".py",
   "mimetype": "text/x-python",
   "name": "python",
   "nbconvert_exporter": "python",
   "pygments_lexer": "ipython3",
   "version": "3.12.4"
  }
 },
 "nbformat": 4,
 "nbformat_minor": 5
}
