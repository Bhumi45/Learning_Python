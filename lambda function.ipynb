{
 "cells": [
  {
   "cell_type": "markdown",
   "id": "196919a7-6209-4953-98dc-440708eb1850",
   "metadata": {},
   "source": [
    "## <b>Lambda Function</b>\n",
    "- It is also called annonymous function(a function without name).\n",
    "- It is useful when we need a simple function that we don't want to define explicitly using 'def' keyword.\n",
    "   - syntax:\n",
    "      - lambda agruments:expression.\n",
    "- Here argument refer to the input arguments for the function and expression is the single expressuon that gets evaluated and returened as the\n",
    "  result of the function. The result automatically is returned by the lambda function,so there is no need to use the return statement.\n",
    "- You cannot write two different expression inside a lambda function.\n",
    "- lambda function is called by varibale with arguments passed."
   ]
  },
  {
   "cell_type": "markdown",
   "id": "7a2a7c88-fb27-4156-8e4a-56a279af53f2",
   "metadata": {},
   "source": [
    "## <b>Difference</b>\n",
    "- Lambda function has no return value or statement.\n",
    "- It automatically return entire function.\n",
    "- One line function.\n",
    "- Not used for code reusability.\n",
    "- No name of the functuion."
   ]
  },
  {
   "cell_type": "markdown",
   "id": "a25bd5e7-5ec2-4f5c-bb1e-381512c8ac2f",
   "metadata": {},
   "source": [
    "### <b>Why it is used?</b>\n",
    "- Lambda function is used along with higher order functions(functions that require one more function as its input to complete its work)\n",
    "- higher order fucntions are function that return another function."
   ]
  },
  {
   "cell_type": "code",
   "execution_count": 58,
   "id": "e18f0104-7b05-4efe-89fa-689c53c94b73",
   "metadata": {},
   "outputs": [
    {
     "name": "stdout",
     "output_type": "stream",
     "text": [
      "<class 'function'>\n"
     ]
    }
   ],
   "source": [
    "## function\n",
    "def addition(a,b):\n",
    "    return a+b\n",
    "addition(5,4)"
   ]
  },
  {
   "cell_type": "code",
   "execution_count": 15,
   "id": "c846b5f8-39de-4ec9-835a-9c3693cc25e3",
   "metadata": {},
   "outputs": [
    {
     "data": {
      "text/plain": [
       "9"
      ]
     },
     "execution_count": 15,
     "metadata": {},
     "output_type": "execute_result"
    }
   ],
   "source": [
    "## using lannbda function\n",
    "addition=lambda a,b:a+b\n",
    "addition(4,5)"
   ]
  },
  {
   "cell_type": "code",
   "execution_count": 43,
   "id": "2a24592a-f9b9-4cc2-8476-40294851b208",
   "metadata": {},
   "outputs": [
    {
     "data": {
      "text/plain": [
       "12"
      ]
     },
     "execution_count": 43,
     "metadata": {},
     "output_type": "execute_result"
    }
   ],
   "source": [
    "## return the lemgth of the string\n",
    "length = lambda str:len(str)\n",
    "length('riya parihar')"
   ]
  },
  {
   "cell_type": "code",
   "execution_count": 1,
   "id": "75ca2423-a4cf-4af1-b5b5-b0c7763802f9",
   "metadata": {},
   "outputs": [
    {
     "name": "stdout",
     "output_type": "stream",
     "text": [
      "False\n",
      "True\n"
     ]
    }
   ],
   "source": [
    "# first character of string should be 'b'\n",
    "b= lambda x:x[0]=='b'\n",
    "print(b('apple'))\n",
    "print(b('banana'))"
   ]
  },
  {
   "cell_type": "code",
   "execution_count": 4,
   "id": "05e8a7be-45ad-4131-b4b5-bd2a2fc28082",
   "metadata": {},
   "outputs": [
    {
     "name": "stdin",
     "output_type": "stream",
     "text": [
      " 40\n"
     ]
    },
    {
     "data": {
      "text/plain": [
       "'Even'"
      ]
     },
     "execution_count": 4,
     "metadata": {},
     "output_type": "execute_result"
    }
   ],
   "source": [
    "# we can also apply conditions\n",
    "n=lambda x:'Even' if x%2==0 else 'Odd'\n",
    "n(int(input()))"
   ]
  },
  {
   "cell_type": "markdown",
   "id": "46bfddc8-2005-4183-a9d2-d5551d647555",
   "metadata": {},
   "source": [
    "##### <b>Higher order function\n",
    "- They can be user defined also.\n",
    "- 3 inbuilt fucntions are:\n",
    "   - map():\n",
    "        - It expects two arguments: 1. lambda function 2. iterables.\n",
    "        - in this fucntion can be performed on each element of iterables.\n",
    "        - it return a map type object which is not understandable that's why we have to convert it to list.\n",
    "   - filter()\n",
    "   - reduce()"
   ]
  },
  {
   "cell_type": "code",
   "execution_count": 91,
   "id": "23d228a6-e257-4136-9955-8522b33b1eb9",
   "metadata": {},
   "outputs": [
    {
     "name": "stdout",
     "output_type": "stream",
     "text": [
      "the sum of even numbers:98\n",
      "the sum of even numbers:27\n",
      "the sum of numbers divisible by 3:39\n"
     ]
    }
   ],
   "source": [
    "# we have a list of numbers we want sum of even numbers, odd number and numbers divisible by 3\n",
    "def return_sum(func,L):   # here a single function is performing different task.\n",
    "    result=0\n",
    "    for i in L:\n",
    "        if(func(i)):\n",
    "            result+=i\n",
    "    return result\n",
    "my_list1=[11,12,34,22,7,4,9,8,18]\n",
    "x=lambda x:x%2==0\n",
    "y=lambda y:y%2!=0\n",
    "z=lambda z:z%3==0\n",
    "print(f\"the sum of even numbers:{return_sum(x,my_list1)}\")\n",
    "print(f\"the sum of even numbers:{return_sum(y,my_list1)}\")\n",
    "print(f\"the sum of numbers divisible by 3:{return_sum(z,my_list1)}\")"
   ]
  },
  {
   "cell_type": "code",
   "execution_count": 98,
   "id": "0eef8e7b-1031-44e8-86eb-3be47d179943",
   "metadata": {},
   "outputs": [
    {
     "data": {
      "text/plain": [
       "[4, 16, 9, 25, 36]"
      ]
     },
     "execution_count": 98,
     "metadata": {},
     "output_type": "execute_result"
    }
   ],
   "source": [
    "L=[2,4,3,5,6]\n",
    "list(map(lambda x: x**2,L))\n"
   ]
  },
  {
   "cell_type": "code",
   "execution_count": 110,
   "id": "603dc709-6237-4be7-8ba3-fe5dde2cd6f8",
   "metadata": {},
   "outputs": [
    {
     "data": {
      "text/plain": [
       "['riya', 'diya', 'sanchay', 'gaurang', 'kartik']"
      ]
     },
     "execution_count": 110,
     "metadata": {},
     "output_type": "execute_result"
    }
   ],
   "source": [
    "students=[\n",
    "    { \n",
    "        \n",
    "       'name':'riya',\n",
    "       'age':21,\n",
    "       'course':'btech'\n",
    "},\n",
    "    { \n",
    "        'name':'diya',\n",
    "        'age':22,\n",
    "        'course':'bba'\n",
    "},\n",
    "    {\n",
    "        'name':'sanchay',\n",
    "        'age':21,\n",
    "        'course':'bba'\n",
    "},\n",
    "    {\n",
    "        'name':'gaurang',\n",
    "        'age':20,\n",
    "        'course':'btech'\n",
    "},\n",
    "    {\n",
    "        'name':'kartik',\n",
    "        'age':22,\n",
    "        'course':'btech'\n",
    "}\n",
    "]\n",
    "list(map(lambda student:student['name'],students))\n",
    "        \n",
    "    \n",
    "     \n",
    "    "
   ]
  },
  {
   "cell_type": "code",
   "execution_count": 1,
   "id": "ec047ec0-9910-45e8-b610-efeabcde5f16",
   "metadata": {},
   "outputs": [
    {
     "name": "stdout",
     "output_type": "stream",
     "text": [
      "[1, 4, 9, 16]\n"
     ]
    }
   ],
   "source": [
    "## convert the list of integers to the correspond square values.\n",
    "num=[1,2,3,4]\n",
    "square=list(map(lambda i:i**2,num)) \n",
    "print(square)"
   ]
  },
  {
   "cell_type": "code",
   "execution_count": 3,
   "id": "5a39161d-413f-40ec-b51f-64e0e945f486",
   "metadata": {},
   "outputs": [
    {
     "name": "stdout",
     "output_type": "stream",
     "text": [
      "[True, False, True, True, False, True]\n"
     ]
    }
   ],
   "source": [
    "numbers=[2,3,4,6,7,8]\n",
    "even=list(map(lambda i:i%2==0,numbers))\n",
    "print(even)"
   ]
  },
  {
   "cell_type": "markdown",
   "id": "158e2fe4-0f17-4172-8281-18ae8e24fed3",
   "metadata": {},
   "source": [
    "## <b>filter()\n",
    "- The filter() function in Python is used to filter elements from an iterable (like a list, tuple, or string) based on a specified condition. \n",
    "- It applies a function to each element in the iterable and only includes the elements for which the function returns True.\n",
    "- It is use to filter out elements from list if given condition is not met.\n",
    "- similary like map() we have to convert it to list.                                                                          "
   ]
  },
  {
   "cell_type": "code",
   "execution_count": 114,
   "id": "326d04f6-26c6-4ea4-af2f-c1015b2899a2",
   "metadata": {},
   "outputs": [
    {
     "ename": "TypeError",
     "evalue": "'>' not supported between instances of 'list' and 'int'",
     "output_type": "error",
     "traceback": [
      "\u001b[1;31m---------------------------------------------------------------------------\u001b[0m",
      "\u001b[1;31mTypeError\u001b[0m                                 Traceback (most recent call last)",
      "Cell \u001b[1;32mIn[114], line 3\u001b[0m\n\u001b[0;32m      1\u001b[0m l\u001b[38;5;241m=\u001b[39m[\u001b[38;5;241m2\u001b[39m,\u001b[38;5;241m4\u001b[39m,\u001b[38;5;241m5\u001b[39m,\u001b[38;5;241m6\u001b[39m,\u001b[38;5;241m7\u001b[39m]\n\u001b[0;32m      2\u001b[0m s\u001b[38;5;241m=\u001b[39m\u001b[38;5;28;01mlambda\u001b[39;00m x:x\u001b[38;5;241m>\u001b[39m\u001b[38;5;241m4\u001b[39m\n\u001b[1;32m----> 3\u001b[0m s(l)\n",
      "Cell \u001b[1;32mIn[114], line 2\u001b[0m, in \u001b[0;36m<lambda>\u001b[1;34m(x)\u001b[0m\n\u001b[0;32m      1\u001b[0m l\u001b[38;5;241m=\u001b[39m[\u001b[38;5;241m2\u001b[39m,\u001b[38;5;241m4\u001b[39m,\u001b[38;5;241m5\u001b[39m,\u001b[38;5;241m6\u001b[39m,\u001b[38;5;241m7\u001b[39m]\n\u001b[1;32m----> 2\u001b[0m s\u001b[38;5;241m=\u001b[39m\u001b[38;5;28;01mlambda\u001b[39;00m x:x\u001b[38;5;241m>\u001b[39m\u001b[38;5;241m4\u001b[39m\n\u001b[0;32m      3\u001b[0m s(l)\n",
      "\u001b[1;31mTypeError\u001b[0m: '>' not supported between instances of 'list' and 'int'"
     ]
    }
   ],
   "source": [
    "l=[2,4,5,6,7]\n",
    "s=lambda x:x>4\n",
    "s(l)"
   ]
  },
  {
   "cell_type": "code",
   "execution_count": 119,
   "id": "59ddb688-b4a6-426d-a3ed-03e5da95eca9",
   "metadata": {},
   "outputs": [
    {
     "data": {
      "text/plain": [
       "[5, 6, 7]"
      ]
     },
     "execution_count": 119,
     "metadata": {},
     "output_type": "execute_result"
    }
   ],
   "source": [
    "l=[2,3,5,6,7]\n",
    "list(filter(lambda x:x>4,l))"
   ]
  },
  {
   "cell_type": "code",
   "execution_count": 122,
   "id": "6ded096d-bcf1-4498-bfac-3e829f2c7d62",
   "metadata": {},
   "outputs": [
    {
     "data": {
      "text/plain": [
       "[2, 4, 6, 8]"
      ]
     },
     "execution_count": 122,
     "metadata": {},
     "output_type": "execute_result"
    }
   ],
   "source": [
    "numbers=[2,3,4,6,7,8]\n",
    "list(filter(lambda i:i%2==0,numbers)) # it will print the list of numbers which are even."
   ]
  },
  {
   "cell_type": "code",
   "execution_count": 136,
   "id": "e491f01e-953c-45ec-89f6-1531ee15f706",
   "metadata": {},
   "outputs": [
    {
     "data": {
      "text/plain": [
       "['apple', 'cherry']"
      ]
     },
     "execution_count": 136,
     "metadata": {},
     "output_type": "execute_result"
    }
   ],
   "source": [
    "# extract the elements from list which contain 'e'\n",
    "items1=['apple','banana','guava','cherry']\n",
    "list(filter(lambda fruit:'e' in fruit,items1))"
   ]
  },
  {
   "cell_type": "markdown",
   "id": "f6515e30-c8da-49ed-9d4a-6d709e8fd0d0",
   "metadata": {},
   "source": [
    "## <b>reduce()\n",
    "- It is not directly present in python.\n",
    "- import functools.\n",
    "- The reduce() function in Python is used to apply a binary function (a function that takes two arguments) to the elements of an iterable \n",
    " cumulatively reducing the iterable to a single value.\n",
    "- reduce() works by applying the given function to the first two elements of the iterable, \n",
    "  then taking the result and applying the function to it and the next element, and so on, until the iterable is reduced to a single value."
   ]
  },
  {
   "cell_type": "code",
   "execution_count": 143,
   "id": "cf8617ee-73f4-4ddc-b1a0-cd61f52ed19a",
   "metadata": {},
   "outputs": [
    {
     "ename": "NameError",
     "evalue": "name 'reduce' is not defined",
     "output_type": "error",
     "traceback": [
      "\u001b[1;31m---------------------------------------------------------------------------\u001b[0m",
      "\u001b[1;31mNameError\u001b[0m                                 Traceback (most recent call last)",
      "Cell \u001b[1;32mIn[143], line 3\u001b[0m\n\u001b[0;32m      1\u001b[0m \u001b[38;5;28;01mimport\u001b[39;00m \u001b[38;5;21;01mfunctools\u001b[39;00m\n\u001b[0;32m      2\u001b[0m e\u001b[38;5;241m=\u001b[39m[\u001b[38;5;241m2\u001b[39m,\u001b[38;5;241m4\u001b[39m,\u001b[38;5;241m5\u001b[39m,\u001b[38;5;241m6\u001b[39m]\n\u001b[1;32m----> 3\u001b[0m reduce(\u001b[38;5;28;01mlambda\u001b[39;00m x,y:x\u001b[38;5;241m+\u001b[39my,e)\n",
      "\u001b[1;31mNameError\u001b[0m: name 'reduce' is not defined"
     ]
    }
   ],
   "source": [
    "import functools\n",
    "e=[2,4,5,6]\n",
    "reduce(lambda x,y:x+y,e)"
   ]
  },
  {
   "cell_type": "code",
   "execution_count": 145,
   "id": "a3f43910-85e4-4cf6-8586-a0f88a240ad0",
   "metadata": {},
   "outputs": [
    {
     "data": {
      "text/plain": [
       "17"
      ]
     },
     "execution_count": 145,
     "metadata": {},
     "output_type": "execute_result"
    }
   ],
   "source": [
    "import functools as f\n",
    "e=[2,4,5,6]\n",
    "f.reduce(lambda x,y:x+y,e)"
   ]
  },
  {
   "cell_type": "code",
   "execution_count": 147,
   "id": "9e2df429-ef92-42bc-a1dd-494ef82e7249",
   "metadata": {},
   "outputs": [
    {
     "data": {
      "text/plain": [
       "87"
      ]
     },
     "execution_count": 147,
     "metadata": {},
     "output_type": "execute_result"
    }
   ],
   "source": [
    "import functools as f\n",
    "items=[12,14,45,87,-9]\n",
    "f.reduce(lambda x,y:x if x>y else y,items)"
   ]
  },
  {
   "cell_type": "code",
   "execution_count": 124,
   "id": "da2bb8dc-f304-4dca-9feb-ab2e0621fdca",
   "metadata": {},
   "outputs": [
    {
     "data": {
      "text/plain": [
       "['date', 'apple', 'banana', 'cherry', 'orange']"
      ]
     },
     "execution_count": 124,
     "metadata": {},
     "output_type": "execute_result"
    }
   ],
   "source": [
    "# sort the list of string based on there alphabetical character and length :\n",
    "fruits=['apple','banana','cherry','date','orange']\n",
    "sorted(fruits,key=lambda x:len(x))"
   ]
  },
  {
   "cell_type": "code",
   "execution_count": 40,
   "id": "1e70c8ec-2b86-4274-b2c3-a7428dbd01d8",
   "metadata": {},
   "outputs": [
    {
     "data": {
      "text/plain": [
       "[{'name': 'gaurang', 'age': 19},\n",
       " {'name': 'sanchay', 'age': 20},\n",
       " {'name': 'bhumika', 'age': 21},\n",
       " {'name': 'diya', 'age': 22}]"
      ]
     },
     "execution_count": 40,
     "metadata": {},
     "output_type": "execute_result"
    }
   ],
   "source": [
    "## sort a dictionary based on specific key\n",
    "people=[\n",
    "        {'name':'bhumika','age':21},\n",
    "        {'name':'diya','age':22},\n",
    "        {'name':'sanchay','age':20},\n",
    "        {'name':'gaurang','age':19}\n",
    "]\n",
    "sorted(people,key=lambda x:x['age'])"
   ]
  },
  {
   "cell_type": "code",
   "execution_count": 44,
   "id": "3b667b43-595b-4f01-bc54-8394ffbac710",
   "metadata": {},
   "outputs": [
    {
     "data": {
      "text/plain": [
       "[{'name': 'gaurang', 'age': 19},\n",
       " {'name': 'sanchay', 'age': 20},\n",
       " {'name': 'bhumika', 'age': 21},\n",
       " {'name': 'diya', 'age': 22}]"
      ]
     },
     "execution_count": 44,
     "metadata": {},
     "output_type": "execute_result"
    }
   ],
   "source": [
    "#sort according to 2 keys\n",
    "people=[\n",
    "        {'name':'bhumika','age':21},\n",
    "        {'name':'diya','age':22},\n",
    "        {'name':'sanchay','age':20},\n",
    "        {'name':'gaurang','age':19}\n",
    "]\n",
    "sorted(people,key=lambda x:(x['age'],['name']))"
   ]
  },
  {
   "cell_type": "code",
   "execution_count": 56,
   "id": "86ec80bb-cb98-4924-b979-c71c3d2fe5e2",
   "metadata": {},
   "outputs": [
    {
     "data": {
      "text/plain": [
       "'c'"
      ]
     },
     "execution_count": 56,
     "metadata": {},
     "output_type": "execute_result"
    }
   ],
   "source": [
    "# find the maximun value in a dictionary\n",
    "data={'a':10,'b':15,'c':30,'d':12}\n",
    "max(data,key=lambda x:data[x])  # since c has max value"
   ]
  },
  {
   "cell_type": "markdown",
   "id": "9ffafb58-ed4f-41a5-9fad-3bdcb5621684",
   "metadata": {},
   "source": [
    "# <b>List Comprehension\n",
    "- List comprehension is a concise way to create lists in Python.\n",
    "- It allows us to generate a new list by applying an expression to each element of an existing iterable (like a list, tuple, string, etc.) in just one     line of code.\n",
    "- Basic syntax:\n",
    "     new_list = [expression for item in iterable]\n"
   ]
  },
  {
   "cell_type": "code",
   "execution_count": 9,
   "id": "9ef608ba-1e1d-4f5e-83bb-7e3b5779116d",
   "metadata": {},
   "outputs": [
    {
     "name": "stdout",
     "output_type": "stream",
     "text": [
      "[0, 1, 2, 3, 4]\n"
     ]
    }
   ],
   "source": [
    "list1=[]\n",
    "for i in range(0,5):\n",
    "    list1.append(i)\n",
    "print(list1)"
   ]
  },
  {
   "cell_type": "code",
   "execution_count": 13,
   "id": "1c9cce81-e8c4-4b25-b199-b3498090dc18",
   "metadata": {},
   "outputs": [
    {
     "name": "stdout",
     "output_type": "stream",
     "text": [
      "[1, 4, 9, 16, 25]\n"
     ]
    }
   ],
   "source": [
    "l1=[1,2,3,4,5] ## in general we write this code to create a new list consisting of\n",
    "l2=[]          # square of elements of existing list.\n",
    "for i in l1:\n",
    "    l2.append(i**2)\n",
    "print(l2)"
   ]
  },
  {
   "cell_type": "code",
   "execution_count": 17,
   "id": "d6648da9-9365-4eca-9f62-162b693068be",
   "metadata": {},
   "outputs": [
    {
     "name": "stdout",
     "output_type": "stream",
     "text": [
      "[1, 4, 9, 16, 25]\n"
     ]
    }
   ],
   "source": [
    "lst=[1,2,3,4,5]  #using list comprehension a new list lst1 is generated from lst.\n",
    "lst1=[i**2 for i in lst]\n",
    "print(lst1)"
   ]
  },
  {
   "cell_type": "markdown",
   "id": "5a321203-89e7-49b4-8d1e-bfc7c9bedd35",
   "metadata": {},
   "source": [
    "#### Q.filtering even numbers from the list"
   ]
  },
  {
   "cell_type": "code",
   "execution_count": 36,
   "id": "2457d6ff-5211-4716-8481-a08f39cb46df",
   "metadata": {},
   "outputs": [
    {
     "name": "stdout",
     "output_type": "stream",
     "text": [
      "[2, 4, 6, 8, 10, 12]\n"
     ]
    }
   ],
   "source": [
    "# in general\n",
    "l1=[1,2,3,4,5,6,7,8,9,10,11,12]\n",
    "l2=[]\n",
    "for i in l1:\n",
    "    if i%2==0:\n",
    "        l2.append(i)\n",
    "print(l2)"
   ]
  },
  {
   "cell_type": "code",
   "execution_count": 33,
   "id": "f11aaff5-6a31-4214-8bd8-47a2392e75cc",
   "metadata": {},
   "outputs": [
    {
     "name": "stdout",
     "output_type": "stream",
     "text": [
      "[2, 4, 6, 8, 10, 12]\n"
     ]
    }
   ],
   "source": [
    "l1=[1,2,3,4,5,6,7,8,9,10,11,12]\n",
    "even_number=[i for i in l1 if i%2==0]\n",
    "print (even_number)"
   ]
  },
  {
   "cell_type": "markdown",
   "id": "789c05e8-aba9-47f1-9779-e5528b71f0d2",
   "metadata": {},
   "source": [
    "#### <b>Q.flattening a list pf list"
   ]
  },
  {
   "cell_type": "code",
   "execution_count": 60,
   "id": "c03516d5-3ab6-42f3-a4c6-54230814c402",
   "metadata": {},
   "outputs": [
    {
     "name": "stdout",
     "output_type": "stream",
     "text": [
      "[1, 2, 3, 4, 5, 6, 7, 8, 9]\n"
     ]
    }
   ],
   "source": [
    "list1=[[1,2,3],[4,5,6],[7,8,9]] # in general\n",
    "list2=[]\n",
    "for i in list1:\n",
    "    for j in i:\n",
    "        list2.append(j)\n",
    "print(list2)\n",
    "        "
   ]
  },
  {
   "cell_type": "code",
   "execution_count": 62,
   "id": "34f7a350-bc9f-4d65-b589-4b33712dad92",
   "metadata": {},
   "outputs": [
    {
     "name": "stdout",
     "output_type": "stream",
     "text": [
      "[1, 2, 3, 4, 5, 6, 7, 8, 9]\n"
     ]
    }
   ],
   "source": [
    "list1=[[1,2,3],[4,5,6],[7,8,9]]\n",
    "list2=[item for sublist in list1 for item in sublist]\n",
    "print(list2)"
   ]
  },
  {
   "cell_type": "markdown",
   "id": "937e6971-8794-46e1-9f42-932abbe6885f",
   "metadata": {},
   "source": [
    "#### <b>Q. generating a list of the first letters of words in a list"
   ]
  },
  {
   "cell_type": "code",
   "execution_count": 86,
   "id": "bb9b0daa-5839-486d-a75a-797c7b04a599",
   "metadata": {},
   "outputs": [
    {
     "name": "stdout",
     "output_type": "stream",
     "text": [
      "['a', 'b', 'o']\n"
     ]
    }
   ],
   "source": [
    "fruits=['apple','banana','orange']\n",
    "words=[]\n",
    "for fruit in fruits:\n",
    "    words.append(fruit[0])\n",
    "print(words)        "
   ]
  },
  {
   "cell_type": "code",
   "execution_count": 88,
   "id": "3a31c902-c1ac-4263-b607-c5ef6e48473a",
   "metadata": {},
   "outputs": [
    {
     "name": "stdout",
     "output_type": "stream",
     "text": [
      "['a', 'b', 'o']\n"
     ]
    }
   ],
   "source": [
    "fruits=['apple','banana','orange']\n",
    "words=[fruit[0] for fruit in fruits ]\n",
    "print(words)"
   ]
  },
  {
   "cell_type": "markdown",
   "id": "2e562ec7-96e5-4102-a3d5-fa1bf80fda38",
   "metadata": {},
   "source": [
    "#### <b>Q. generating a list of square of even numbers"
   ]
  },
  {
   "cell_type": "code",
   "execution_count": 91,
   "id": "feeac345-53d6-41e5-bfa9-dfb611847226",
   "metadata": {},
   "outputs": [
    {
     "name": "stdout",
     "output_type": "stream",
     "text": [
      "[4, 16, 36, 64, 100]\n"
     ]
    }
   ],
   "source": [
    "numbers=[1,2,3,4,5,6,7,8,9,10]\n",
    "square=[i**2 for i in numbers if i%2==0]\n",
    "print(square)"
   ]
  },
  {
   "cell_type": "markdown",
   "id": "a43162ec-a1c4-44b5-89b2-6e32c5d6c51c",
   "metadata": {},
   "source": [
    "### <b> Q.converting a list of string to a list of integers"
   ]
  },
  {
   "cell_type": "code",
   "execution_count": 103,
   "id": "151dfd3e-bb29-4508-a4e2-ad7093cfbcfd",
   "metadata": {},
   "outputs": [
    {
     "name": "stdout",
     "output_type": "stream",
     "text": [
      "[1, 2, 3, 4, 5, 6, 7, 8, 9, 10]\n"
     ]
    }
   ],
   "source": [
    "numbers=['1','2','3','4','5']\n",
    "str=[]\n",
    "for i in numbers:\n",
    "    str.append(int(i))\n",
    "print(str)   "
   ]
  },
  {
   "cell_type": "code",
   "execution_count": 105,
   "id": "b7ac5ea3-2451-4b51-a5cc-1021cdfa22a7",
   "metadata": {},
   "outputs": [
    {
     "name": "stdout",
     "output_type": "stream",
     "text": [
      "[1, 2, 3, 4, 5]\n"
     ]
    }
   ],
   "source": [
    "numbers=['1','2','3','4','5']\n",
    "str=[int(i) for i in numbers]\n",
    "print(str)"
   ]
  },
  {
   "cell_type": "markdown",
   "id": "17c7ac93-db0d-4671-b9f8-834264f6de99",
   "metadata": {},
   "source": [
    "#### <b> Q.fibonnaci series"
   ]
  },
  {
   "cell_type": "code",
   "execution_count": 114,
   "id": "4e5fd616-adf6-4dc5-b315-ced72fd108e9",
   "metadata": {},
   "outputs": [
    {
     "name": "stdout",
     "output_type": "stream",
     "text": [
      "[1, 2, 3, 5, 8, 13, 21, 34, 55]\n"
     ]
    }
   ],
   "source": [
    "li1=[0,1,1,2,3,5,8,13,21,34,55]\n",
    "fib=[li1[i-1]+li1[i-2]for i in range(2,len(li1))]\n",
    "print(fib)"
   ]
  },
  {
   "cell_type": "markdown",
   "id": "914a39c6-4889-4c55-b735-5a7db167fd5a",
   "metadata": {},
   "source": [
    "#### <b>Q.generating a list of all divisors of a number"
   ]
  },
  {
   "cell_type": "code",
   "execution_count": 125,
   "id": "af3991a5-99bd-4f60-bec1-9e026ff3e5f3",
   "metadata": {},
   "outputs": [
    {
     "name": "stdout",
     "output_type": "stream",
     "text": [
      "[1, 2, 3, 4, 5, 6, 7, 8, 9, 10, 11, 12, 13, 14, 15, 16, 17, 18, 19, 20, 21, 22, 23, 24, 25, 26, 27, 28, 29, 30, 31, 32, 33, 34, 35, 36, 37, 38, 39, 40, 41, 42, 43, 44, 45, 46, 47, 48, 49, 50, 51, 52, 53, 54, 55, 56]\n"
     ]
    }
   ],
   "source": [
    "lst1=56\n",
    "lst2=[i for i in range(1,lst1+1) if lst1%2==0 ]\n",
    "print(lst2)"
   ]
  },
  {
   "cell_type": "code",
   "execution_count": 131,
   "id": "218f8334-c7d6-4f03-8b57-a68e9acfc61b",
   "metadata": {},
   "outputs": [
    {
     "name": "stdout",
     "output_type": "stream",
     "text": [
      "[2, 3, 5, 7]\n"
     ]
    }
   ],
   "source": [
    "numbers = [1, 2, 3, 4, 5, 6, 7, 8, 9, 10]\n",
    "prime = [i for i in numbers if i > 1 and all(i % j != 0 for j in range(2, i))]\n",
    "print(prime)\n"
   ]
  },
  {
   "cell_type": "code",
   "execution_count": null,
   "id": "1ad80749-5baa-4ff5-bfd1-b87f83feca67",
   "metadata": {},
   "outputs": [],
   "source": []
  }
 ],
 "metadata": {
  "kernelspec": {
   "display_name": "Python 3 (ipykernel)",
   "language": "python",
   "name": "python3"
  },
  "language_info": {
   "codemirror_mode": {
    "name": "ipython",
    "version": 3
   },
   "file_extension": ".py",
   "mimetype": "text/x-python",
   "name": "python",
   "nbconvert_exporter": "python",
   "pygments_lexer": "ipython3",
   "version": "3.12.4"
  }
 },
 "nbformat": 4,
 "nbformat_minor": 5
}
