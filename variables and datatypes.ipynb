{
 "cells": [
  {
   "cell_type": "markdown",
   "id": "f0352da8-acd8-489d-be13-baac7f67c16c",
   "metadata": {},
   "source": [
    "# Variables and Datatypes\n",
    "- variables are container that can hold data in memory\n",
    "- data types specifies the type of value data hold"
   ]
  },
  {
   "attachments": {
    "385106b3-423f-4522-b669-861b50192bc2.png": {
     "image/png": "[encoded data removed]"
    }
   },
   "cell_type": "markdown",
   "id": "288e2827-2f16-481a-ae31-169efac14ad2",
   "metadata": {},
   "source": [
    "# Rules of Variable:\n",
    "![image.png](attachment:385106b3-423f-4522-b669-861b50192bc2.png)hon."
   ]
  },
  {
   "cell_type": "markdown",
   "id": "7bfa8eb9-1f83-4b78-aee1-c1b032587abe",
   "metadata": {},
   "source": [
    "## We can use the type() function to know which class a variable or a value belongs to."
   ]
  },
  {
   "cell_type": "code",
   "execution_count": 8,
   "id": "9323a990-4913-431f-a7ab-e0691f37af85",
   "metadata": {},
   "outputs": [
    {
     "name": "stdout",
     "output_type": "stream",
     "text": [
      "<class 'int'>\n"
     ]
    }
   ],
   "source": [
    "t=2\n",
    "print(type(t))"
   ]
  },
  {
   "cell_type": "code",
   "execution_count": 12,
   "id": "aefa776d-6e7a-44e4-8dc8-54c530e10bc5",
   "metadata": {},
   "outputs": [
    {
     "name": "stdout",
     "output_type": "stream",
     "text": [
      "<class 'int'>\n",
      "<class 'float'>\n",
      "<class 'complex'>\n"
     ]
    }
   ],
   "source": [
    "a=1\n",
    "b=1.1\n",
    "c=1+2j\n",
    "print(type(a))\n",
    "print(type(b))\n",
    "print(type(c))"
   ]
  },
  {
   "cell_type": "code",
   "execution_count": 20,
   "id": "d8f4d3ee-296c-4f70-8dc5-cbc96d67edef",
   "metadata": {},
   "outputs": [
    {
     "name": "stdout",
     "output_type": "stream",
     "text": [
      "[1, 2, 4]\n",
      "('parrot', 'sparrow', 'lion')\n"
     ]
    }
   ],
   "source": [
    "list1=[1,2,4] # these are sequence data\n",
    "print(list1)\n",
    "tup1=('parrot','sparrow','lion')\n",
    "print(tup1)"
   ]
  },
  {
   "cell_type": "code",
   "execution_count": 24,
   "id": "bd693973-016b-4e6d-83ab-7731fe48f1dc",
   "metadata": {},
   "outputs": [
    {
     "name": "stdout",
     "output_type": "stream",
     "text": [
      "{1: 'riya', 2: 'kartik', 3: 'diksha', 4: 'harshita'}\n"
     ]
    }
   ],
   "source": [
    "dict={1:\"riya\",2:'kartik',3:'diksha',4:'harshita'} # mapping \n",
    "print(dict)"
   ]
  },
  {
   "cell_type": "markdown",
   "id": "bccb9999-c9f2-4a88-aa49-0c9f02b1d42a",
   "metadata": {},
   "source": [
    "## Typecasting \n",
    "- it is used to convert one datatype to another.\n",
    "- There are two types of typecasting : 1. Explicit 2.Implicit"
   ]
  },
  {
   "cell_type": "code",
   "execution_count": 30,
   "id": "c41e3210-db32-4d0d-9cac-3773c56b9274",
   "metadata": {},
   "outputs": [
    {
     "name": "stdout",
     "output_type": "stream",
     "text": [
      "91\n"
     ]
    }
   ],
   "source": [
    "a='9'\n",
    "b='1'\n",
    "print(a+b)"
   ]
  },
  {
   "cell_type": "code",
   "execution_count": 33,
   "id": "a548a397-b3c7-4fb5-94ce-56c35c9d13ce",
   "metadata": {},
   "outputs": [
    {
     "ename": "TypeError",
     "evalue": "'int' object is not callable",
     "output_type": "error",
     "traceback": [
      "\u001b[1;31m---------------------------------------------------------------------------\u001b[0m",
      "\u001b[1;31mTypeError\u001b[0m                                 Traceback (most recent call last)",
      "Cell \u001b[1;32mIn[33], line 3\u001b[0m\n\u001b[0;32m      1\u001b[0m a\u001b[38;5;241m=\u001b[39m\u001b[38;5;124m'\u001b[39m\u001b[38;5;124m9\u001b[39m\u001b[38;5;124m'\u001b[39m\n\u001b[0;32m      2\u001b[0m b\u001b[38;5;241m=\u001b[39m\u001b[38;5;124m'\u001b[39m\u001b[38;5;124m1\u001b[39m\u001b[38;5;124m'\u001b[39m\n\u001b[1;32m----> 3\u001b[0m \u001b[38;5;28mprint\u001b[39m((\u001b[38;5;28mint\u001b[39m)(a)\u001b[38;5;241m+\u001b[39m(\u001b[38;5;28mint\u001b[39m)(b))\n",
      "\u001b[1;31mTypeError\u001b[0m: 'int' object is not callable"
     ]
    }
   ],
   "source": [
    "a='9'\n",
    "b='1'\n",
    "print((int)(a)+(int)(b))"
   ]
  },
  {
   "cell_type": "code",
   "execution_count": 45,
   "id": "14422ad1-53a8-4aa3-83c6-dc42423af143",
   "metadata": {},
   "outputs": [
    {
     "name": "stdout",
     "output_type": "stream",
     "text": [
      "10.0\n"
     ]
    }
   ],
   "source": [
    "a='9'\n",
    "b='1'\n",
    "print(float(a)+float(b)) # this is explicit conversion."
   ]
  },
  {
   "cell_type": "code",
   "execution_count": 66,
   "id": "be404843-8d6b-4c06-820c-9acc6ace9ecb",
   "metadata": {},
   "outputs": [
    {
     "ename": "TypeError",
     "evalue": "'int' object is not callable",
     "output_type": "error",
     "traceback": [
      "\u001b[1;31m---------------------------------------------------------------------------\u001b[0m",
      "\u001b[1;31mTypeError\u001b[0m                                 Traceback (most recent call last)",
      "Cell \u001b[1;32mIn[66], line 3\u001b[0m\n\u001b[0;32m      1\u001b[0m a\u001b[38;5;241m=\u001b[39m\u001b[38;5;124m'\u001b[39m\u001b[38;5;124m9\u001b[39m\u001b[38;5;124m'\u001b[39m\n\u001b[0;32m      2\u001b[0m b\u001b[38;5;241m=\u001b[39m\u001b[38;5;124m'\u001b[39m\u001b[38;5;124m1\u001b[39m\u001b[38;5;124m'\u001b[39m\n\u001b[1;32m----> 3\u001b[0m \u001b[38;5;28mprint\u001b[39m(\u001b[38;5;28mint\u001b[39m(a)\u001b[38;5;241m+\u001b[39m\u001b[38;5;28mint\u001b[39m(b))\n",
      "\u001b[1;31mTypeError\u001b[0m: 'int' object is not callable"
     ]
    }
   ],
   "source": [
    "a='9'\n",
    "b='1'\n",
    "print(int(a)+int(b))"
   ]
  },
  {
   "cell_type": "code",
   "execution_count": 68,
   "id": "51e38fc4-879a-4cff-a94d-ace08fc1c3c9",
   "metadata": {},
   "outputs": [
    {
     "name": "stdout",
     "output_type": "stream",
     "text": [
      "0x7\n"
     ]
    }
   ],
   "source": [
    "c=7\n",
    "print(hex(c))"
   ]
  },
  {
   "cell_type": "code",
   "execution_count": 70,
   "id": "c14c54c1-f482-4fdb-a3d1-3c9cb9816562",
   "metadata": {},
   "outputs": [
    {
     "name": "stdout",
     "output_type": "stream",
     "text": [
      "13.8\n"
     ]
    }
   ],
   "source": [
    "## implicit conversion : it converts data type into other by the python interpreter.\n",
    "c=9.8\n",
    "a=4\n",
    "print(a+c)\n"
   ]
  },
  {
   "attachments": {
    "4f378515-14fd-489a-91c1-e7a7ba125350.png": {
     "image/png": "[encoded data removed]"
    }
   },
   "cell_type": "markdown",
   "id": "6def11c3-5722-469c-89ab-26e33d7df370",
   "metadata": {},
   "source": [
    "# DataTypes In Python:\n",
    "![image.png](attachment:4f378515-14fd-489a-91c1-e7a7ba125350.png)"
   ]
  },
  {
   "cell_type": "markdown",
   "id": "370fe153-eff2-4738-ae7f-7697b9b1e481",
   "metadata": {},
   "source": [
    "# MUTABLE DATATYPES(list,set,dictionary)\n",
    "- Mutable objects can be modified after they are created. This means you can change their internal state without creating a new object.\n",
    "- Benefits: Flexibility, efficiency for large datasets.\n",
    "- if we make changes in them , there id does not change.\n",
    "- Examples: Lists, dictionaries, sets.\n",
    "\n",
    "# IMMUTABLE DATATYPES(string,int,float,tuple etc)\n",
    "- Immutable objects cannot be changed after they are created. Any operation that appears to modify the object actually creates a new object with the      updated value.\n",
    "- if we make changes , id changes.\n",
    "- Examples: Numbers (int, float), strings, tuples.\r",
    "- \n",
    "Benefits: Data integrity, thread safety."
   ]
  },
  {
   "cell_type": "markdown",
   "id": "f06b3f80-6cf2-46a1-ae19-ded69ad7ca61",
   "metadata": {},
   "source": [
    "<h3>id()</h3>\n",
    "\n",
    "- id fucntion it is a function which tells the address of the variable , where the variable is stored.\n",
    "- it returns the address of a variable."
   ]
  },
  {
   "cell_type": "code",
   "execution_count": 3,
   "id": "51159f27-1288-4b68-a165-ecc951187950",
   "metadata": {},
   "outputs": [
    {
     "name": "stdout",
     "output_type": "stream",
     "text": [
      "<class 'str'>\n"
     ]
    }
   ],
   "source": [
    "a=\"hii\"\n",
    "print(type(a)) #use of type function"
   ]
  },
  {
   "cell_type": "code",
   "execution_count": 5,
   "id": "c29d77e9-b196-4beb-8d24-687f380e44f3",
   "metadata": {},
   "outputs": [
    {
     "name": "stdout",
     "output_type": "stream",
     "text": [
      "140737322957464\n",
      "140737322957464\n",
      "140737322957464\n"
     ]
    }
   ],
   "source": [
    "\n",
    "a=8\n",
    "b=8\n",
    "c=a\n",
    "print(id(a))\n",
    "print(id(b))\n",
    "print(id(c))"
   ]
  },
  {
   "cell_type": "code",
   "execution_count": 8,
   "id": "09c1890e-210c-4319-bb38-ec97e6d53e1b",
   "metadata": {},
   "outputs": [
    {
     "name": "stdout",
     "output_type": "stream",
     "text": [
      "140737322957496\n",
      "140737322957528\n"
     ]
    }
   ],
   "source": [
    "a=9\n",
    "print(id(a))\n",
    "a=10\n",
    "print(id(a))"
   ]
  },
  {
   "cell_type": "code",
   "execution_count": 10,
   "id": "fcb555e9-bfe4-4cc8-b568-b917e4859d3c",
   "metadata": {},
   "outputs": [
    {
     "name": "stdout",
     "output_type": "stream",
     "text": [
      "140737322957400\n",
      "140737322957848\n"
     ]
    }
   ],
   "source": [
    "a=6\n",
    "print(id(a))\n",
    "b=20\n",
    "print(id(b))"
   ]
  },
  {
   "cell_type": "code",
   "execution_count": 12,
   "id": "5566cb53-b78c-4291-abce-979ddda37613",
   "metadata": {},
   "outputs": [
    {
     "name": "stdout",
     "output_type": "stream",
     "text": [
      "riya\n",
      "bhumika\n"
     ]
    }
   ],
   "source": [
    "a=\"riya\"\n",
    "A=\"bhumika\"\n",
    "print(a)\n",
    "print(A)"
   ]
  },
  {
   "cell_type": "code",
   "execution_count": 20,
   "id": "8c37ed65-8e23-48d8-bb20-e1229647fe14",
   "metadata": {},
   "outputs": [
    {
     "name": "stdout",
     "output_type": "stream",
     "text": [
      "2831114327872\n",
      "2831114336512\n"
     ]
    }
   ],
   "source": [
    "a\n",
    "A\n",
    "print(id(a))\n",
    "print (id(A))"
   ]
  },
  {
   "cell_type": "code",
   "execution_count": 22,
   "id": "21c319c4-af2d-4d58-a95f-77006b53c5e1",
   "metadata": {},
   "outputs": [
    {
     "ename": "SyntaxError",
     "evalue": "invalid syntax (1770913821.py, line 1)",
     "output_type": "error",
     "traceback": [
      "\u001b[1;36m  Cell \u001b[1;32mIn[22], line 1\u001b[1;36m\u001b[0m\n\u001b[1;33m    _$=3\u001b[0m\n\u001b[1;37m     ^\u001b[0m\n\u001b[1;31mSyntaxError\u001b[0m\u001b[1;31m:\u001b[0m invalid syntax\n"
     ]
    }
   ],
   "source": [
    "_$=3\n",
    "print(_$) #variable can only start with underscore or alphabets"
   ]
  },
  {
   "cell_type": "code",
   "execution_count": 24,
   "id": "a5385c5f-472e-4d07-be70-598de402999b",
   "metadata": {},
   "outputs": [
    {
     "ename": "SyntaxError",
     "evalue": "cannot assign to expression here. Maybe you meant '==' instead of '='? (626119676.py, line 1)",
     "output_type": "error",
     "traceback": [
      "\u001b[1;36m  Cell \u001b[1;32mIn[24], line 1\u001b[1;36m\u001b[0m\n\u001b[1;33m    python&h=90\u001b[0m\n\u001b[1;37m    ^\u001b[0m\n\u001b[1;31mSyntaxError\u001b[0m\u001b[1;31m:\u001b[0m cannot assign to expression here. Maybe you meant '==' instead of '='?\n"
     ]
    }
   ],
   "source": [
    "python&h=90\n",
    "print(python&h)"
   ]
  },
  {
   "cell_type": "markdown",
   "id": "44113ebc-7b48-4f53-b4da-ebdb2634737b",
   "metadata": {},
   "source": [
    "<h3>Escape Sequences<h3>"
   ]
  },
  {
   "cell_type": "code",
   "execution_count": 30,
   "id": "08ea2a9f-2ecc-4593-b766-2e56b3f99857",
   "metadata": {},
   "outputs": [
    {
     "name": "stderr",
     "output_type": "stream",
     "text": [
      "<>:1: SyntaxWarning: invalid escape sequence '\\ '\n",
      "<>:1: SyntaxWarning: invalid escape sequence '\\ '\n",
      "C:\\Users\\acer\\AppData\\Local\\Temp\\ipykernel_18200\\1198288769.py:1: SyntaxWarning: invalid escape sequence '\\ '\n",
      "  print(\"Hello my name is \\ \" BHumika parihar\" \") # single backslash is used when we want to print something inside quotations\n"
     ]
    },
    {
     "ename": "SyntaxError",
     "evalue": "invalid syntax. Perhaps you forgot a comma? (1198288769.py, line 1)",
     "output_type": "error",
     "traceback": [
      "\u001b[1;36m  Cell \u001b[1;32mIn[30], line 1\u001b[1;36m\u001b[0m\n\u001b[1;33m    print(\"Hello my name is \\ \" BHumika parihar\" \") # single backslash is used when we want to print something inside quotations\u001b[0m\n\u001b[1;37m          ^\u001b[0m\n\u001b[1;31mSyntaxError\u001b[0m\u001b[1;31m:\u001b[0m invalid syntax. Perhaps you forgot a comma?\n"
     ]
    }
   ],
   "source": [
    "print(\"Hello my name is \\ \" BHumika parihar\" \") # single backslash is used when we want to print something inside quotations"
   ]
  },
  {
   "cell_type": "code",
   "execution_count": 32,
   "id": "bc29a89c-365a-47bf-9f61-907f120f6737",
   "metadata": {},
   "outputs": [
    {
     "name": "stderr",
     "output_type": "stream",
     "text": [
      "<>:1: SyntaxWarning: invalid escape sequence '\\ '\n",
      "<>:1: SyntaxWarning: invalid escape sequence '\\ '\n",
      "C:\\Users\\acer\\AppData\\Local\\Temp\\ipykernel_18200\\1952143394.py:1: SyntaxWarning: invalid escape sequence '\\ '\n",
      "  print(\"hello my name is \\ \" bhumika parihar \"\\\")\n"
     ]
    },
    {
     "ename": "SyntaxError",
     "evalue": "unterminated string literal (detected at line 1) (1952143394.py, line 1)",
     "output_type": "error",
     "traceback": [
      "\u001b[1;36m  Cell \u001b[1;32mIn[32], line 1\u001b[1;36m\u001b[0m\n\u001b[1;33m    print(\"hello my name is \\ \" bhumika parihar \"\\\")\u001b[0m\n\u001b[1;37m                                                ^\u001b[0m\n\u001b[1;31mSyntaxError\u001b[0m\u001b[1;31m:\u001b[0m unterminated string literal (detected at line 1)\n"
     ]
    }
   ],
   "source": [
    "print(\"hello my name is \\ \" bhumika parihar \"\\\")"
   ]
  },
  {
   "cell_type": "code",
   "execution_count": 34,
   "id": "130038dc-fe6e-4501-8a8d-0592d684e50a",
   "metadata": {},
   "outputs": [
    {
     "name": "stdout",
     "output_type": "stream",
     "text": [
      "hello my name is ! 'bhumika parihar' \n"
     ]
    }
   ],
   "source": [
    "print(\"hello my name is ! \\'bhumika parihar\\' \")"
   ]
  },
  {
   "cell_type": "code",
   "execution_count": 36,
   "id": "5be3c921-e1a1-4ed1-be52-c65a8f3b41ec",
   "metadata": {},
   "outputs": [
    {
     "name": "stdout",
     "output_type": "stream",
     "text": [
      "'python' \n"
     ]
    }
   ],
   "source": [
    "print ('\\'python\\' ')"
   ]
  },
  {
   "cell_type": "code",
   "execution_count": 38,
   "id": "c4e8d6e7-9058-41e5-ae3f-7ba1bbf19a6e",
   "metadata": {},
   "outputs": [
    {
     "name": "stdout",
     "output_type": "stream",
     "text": [
      "hello world\n"
     ]
    }
   ],
   "source": [
    "print(\"\"\"hello world\"\"\")"
   ]
  },
  {
   "cell_type": "code",
   "execution_count": 40,
   "id": "df724498-4b27-4e02-a420-332576713809",
   "metadata": {},
   "outputs": [
    {
     "name": "stdout",
     "output_type": "stream",
     "text": [
      "hello\n",
      "       world\n"
     ]
    }
   ],
   "source": [
    "print(\"\"\"hello\n",
    "       world\"\"\")"
   ]
  },
  {
   "cell_type": "code",
   "execution_count": 42,
   "id": "4bd1ba6a-aa4c-4b87-9cf1-dd8b92589902",
   "metadata": {},
   "outputs": [
    {
     "ename": "SyntaxError",
     "evalue": "unterminated string literal (detected at line 1) (3636858050.py, line 1)",
     "output_type": "error",
     "traceback": [
      "\u001b[1;36m  Cell \u001b[1;32mIn[42], line 1\u001b[1;36m\u001b[0m\n\u001b[1;33m    print(\"bhumika\u001b[0m\n\u001b[1;37m          ^\u001b[0m\n\u001b[1;31mSyntaxError\u001b[0m\u001b[1;31m:\u001b[0m unterminated string literal (detected at line 1)\n"
     ]
    }
   ],
   "source": [
    "print(\"bhumika\n",
    "      parihar\")"
   ]
  },
  {
   "cell_type": "code",
   "execution_count": 44,
   "id": "85352cc3-bdeb-4773-8110-53c9c6619705",
   "metadata": {},
   "outputs": [
    {
     "name": "stdout",
     "output_type": "stream",
     "text": [
      "bhumika \n",
      " parihar\n"
     ]
    }
   ],
   "source": [
    "print(\"bhumika \\n parihar\")"
   ]
  },
  {
   "cell_type": "code",
   "execution_count": 46,
   "id": "81be0eae-99a4-4b3b-ad2e-b102f2e18f51",
   "metadata": {},
   "outputs": [
    {
     "name": "stdout",
     "output_type": "stream",
     "text": [
      "\\n\n"
     ]
    }
   ],
   "source": [
    "print(\"\\\\n\")"
   ]
  },
  {
   "cell_type": "code",
   "execution_count": 48,
   "id": "a3e3f74c-7874-4c8a-9d08-e4ce6eaedb56",
   "metadata": {},
   "outputs": [
    {
     "name": "stdout",
     "output_type": "stream",
     "text": [
      "'\n",
      "'\n"
     ]
    }
   ],
   "source": [
    "print('\\'\\n\\'')"
   ]
  },
  {
   "cell_type": "code",
   "execution_count": 50,
   "id": "751b280e-f8db-4cda-8976-dd6792dea8cf",
   "metadata": {},
   "outputs": [
    {
     "ename": "SyntaxError",
     "evalue": "unterminated string literal (detected at line 1) (4138952293.py, line 1)",
     "output_type": "error",
     "traceback": [
      "\u001b[1;36m  Cell \u001b[1;32mIn[50], line 1\u001b[1;36m\u001b[0m\n\u001b[1;33m    print('\\')\u001b[0m\n\u001b[1;37m          ^\u001b[0m\n\u001b[1;31mSyntaxError\u001b[0m\u001b[1;31m:\u001b[0m unterminated string literal (detected at line 1)\n"
     ]
    }
   ],
   "source": [
    "print('\\')"
   ]
  },
  {
   "cell_type": "code",
   "execution_count": 52,
   "id": "c1003d84-e168-4f1e-92d5-4d715f33b908",
   "metadata": {},
   "outputs": [
    {
     "name": "stdout",
     "output_type": "stream",
     "text": [
      "bhumika \t parihar\n"
     ]
    }
   ],
   "source": [
    "print(\"bhumika \\t parihar\")"
   ]
  },
  {
   "cell_type": "code",
   "execution_count": 54,
   "id": "4c8eb9fd-7ec6-44fa-809e-7c40a82235c8",
   "metadata": {},
   "outputs": [
    {
     "ename": "SyntaxError",
     "evalue": "unexpected character after line continuation character (3414357970.py, line 2)",
     "output_type": "error",
     "traceback": [
      "\u001b[1;36m  Cell \u001b[1;32mIn[54], line 2\u001b[1;36m\u001b[0m\n\u001b[1;33m    print(name\\b)\u001b[0m\n\u001b[1;37m               ^\u001b[0m\n\u001b[1;31mSyntaxError\u001b[0m\u001b[1;31m:\u001b[0m unexpected character after line continuation character\n"
     ]
    }
   ],
   "source": [
    "name= riyaaaa\n",
    "print(name\\b)"
   ]
  },
  {
   "cell_type": "code",
   "execution_count": 56,
   "id": "14333547-4cd9-41f5-9d06-fc9d44c945ce",
   "metadata": {},
   "outputs": [
    {
     "name": "stdout",
     "output_type": "stream",
     "text": [
      "riyaaaa\n"
     ]
    }
   ],
   "source": [
    "name=\"riyaaaa\"\n",
    "print(name)"
   ]
  },
  {
   "cell_type": "code",
   "execution_count": 58,
   "id": "bfae90e9-99e7-42f0-b801-bb3d349f57f5",
   "metadata": {},
   "outputs": [
    {
     "name": "stdout",
     "output_type": "stream",
     "text": [
      "riyaaa\n"
     ]
    }
   ],
   "source": [
    "print(\"riyaaaa\\b\")"
   ]
  },
  {
   "cell_type": "code",
   "execution_count": 60,
   "id": "8a5c8a8a-195c-4290-ad38-4309a9e549fa",
   "metadata": {},
   "outputs": [
    {
     "name": "stdout",
     "output_type": "stream",
     "text": [
      "name\n",
      "class\n",
      "rollno\n"
     ]
    }
   ],
   "source": [
    "print(\"name\\nclass\\nrollno\")"
   ]
  },
  {
   "cell_type": "code",
   "execution_count": 62,
   "id": "ac600f9f-0290-402c-af07-d5880ebf2264",
   "metadata": {},
   "outputs": [
    {
     "name": "stdout",
     "output_type": "stream",
     "text": [
      "priya is a good girl,'she is an athelete',\t she is a baseball player,\n",
      " she lives in london\n"
     ]
    }
   ],
   "source": [
    "print(\"priya is a good girl,\\'she is an athelete\\',\\t she is a baseball playerr\\b,\\n she lives in london\")"
   ]
  },
  {
   "cell_type": "code",
   "execution_count": null,
   "id": "1525f671-4fca-43ae-8a8f-817a445089af",
   "metadata": {},
   "outputs": [],
   "source": []
  }
 ],
 "metadata": {
  "kernelspec": {
   "display_name": "Python 3 (ipykernel)",
   "language": "python",
   "name": "python3"
  },
  "language_info": {
   "codemirror_mode": {
    "name": "ipython",
    "version": 3
   },
   "file_extension": ".py",
   "mimetype": "text/x-python",
   "name": "python",
   "nbconvert_exporter": "python",
   "pygments_lexer": "ipython3",
   "version": "3.12.4"
  }
 },
 "nbformat": 4,
 "nbformat_minor": 5
}
