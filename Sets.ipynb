{
 "cells": [
  {
   "cell_type": "markdown",
   "id": "5a1c9fa8-4c12-4398-aa52-faa2cc11baf2",
   "metadata": {},
   "source": [
    "# Sets: \n",
    "- A set is an unordered collection of unique items. Each element in a set must be immutable (i.e., cannot be changed), but the set itself is mutable- ,    meaning you can add or remove elements.\n",
    "- <b>Key Features:\n",
    "   - 1.Unordered:- the items in the set are unordered, i.e., it will not maintain the order in which the items are inserted.\n",
    "   - 2.Unindexed:- set items are unindexed.\n",
    "   - 3.Unique:- there cannot be two items with same values i.e, no duplictes.\n",
    "   - 4.Set items must be immutuable(string,int,float,boolean,complex).\n",
    "   - 5.Set is mutuable."
   ]
  },
  {
   "cell_type": "markdown",
   "id": "9f6002d0-58b7-49b6-a98a-c757d7c7dafd",
   "metadata": {},
   "source": [
    "### creating a set:\n",
    "- Sets can be created using curly braces {} or the set() constructor."
   ]
  },
  {
   "cell_type": "code",
   "execution_count": 5,
   "id": "a8c4c2d6-7881-4686-a51c-6615d64989a6",
   "metadata": {},
   "outputs": [
    {
     "name": "stdout",
     "output_type": "stream",
     "text": [
      "{'riya', 1, 2, 3}\n",
      "{}\n"
     ]
    }
   ],
   "source": [
    "# sets\n",
    "a={1,2,3,'riya'}\n",
    "print(a)\n",
    "empty_set ={}  # or empty_set=set()\n",
    "print(empty_set)"
   ]
  },
  {
   "cell_type": "markdown",
   "id": "3de53dd4-2907-495c-a91b-4a0a75f251e4",
   "metadata": {},
   "source": [
    "## <b> Set Methods"
   ]
  },
  {
   "cell_type": "markdown",
   "id": "3479bcd1-5722-47f9-809d-8637e1775bac",
   "metadata": {},
   "source": [
    "### add() \n",
    "- This method adds a single element to the set."
   ]
  },
  {
   "cell_type": "code",
   "execution_count": 9,
   "id": "303247c5-f2b8-49d8-be6f-dee12977df4c",
   "metadata": {},
   "outputs": [
    {
     "name": "stdout",
     "output_type": "stream",
     "text": [
      "{'riya', 1, 2, 3, 'hello', 20}\n"
     ]
    }
   ],
   "source": [
    "# add(): similar to append() in list\n",
    "a.add('hello')\n",
    "a.add(20)\n",
    "print(a)"
   ]
  },
  {
   "cell_type": "markdown",
   "id": "7b52786e-95be-4df5-85d2-afea665c4eb5",
   "metadata": {},
   "source": [
    "### update()\n",
    "- Adds elements from another set or iterable (like a list or tuple) to the original set."
   ]
  },
  {
   "cell_type": "code",
   "execution_count": 14,
   "id": "55b40b3b-6fcc-4cbe-a1ba-b0db57e06c51",
   "metadata": {},
   "outputs": [
    {
     "name": "stdout",
     "output_type": "stream",
     "text": [
      "{'riya', 1, 2, 3, 'hello', 'siya', 20, 'diya'}\n"
     ]
    }
   ],
   "source": [
    "# update(): similar to extend(iterables or string) in list\n",
    "b=['diya','siya']\n",
    "a.update(b)\n",
    "print(a)"
   ]
  },
  {
   "cell_type": "markdown",
   "id": "62111b72-f85a-4969-bc53-05df2e97ea39",
   "metadata": {},
   "source": [
    "### <b>remove() \n",
    "- method removes a specified element from the set. If the element does not exist, it raises a KeyError.\n",
    "- discard():\n",
    "   -  this method also removes an element, but it does not raise an error if the element is not found."
   ]
  },
  {
   "cell_type": "code",
   "execution_count": 17,
   "id": "461fca31-8a67-46f7-a7ad-acef9523b6a9",
   "metadata": {},
   "outputs": [
    {
     "name": "stdout",
     "output_type": "stream",
     "text": [
      "{1, 2, 3, 5}\n"
     ]
    }
   ],
   "source": [
    "# remove():it is used to remove an item from the set.\n",
    "s={1,2,3,4,5}\n",
    "s.remove(4)\n",
    "print(s)"
   ]
  },
  {
   "cell_type": "code",
   "execution_count": 19,
   "id": "571b1fdc-cf26-40b3-a5aa-a4c80efda0fb",
   "metadata": {},
   "outputs": [
    {
     "ename": "KeyError",
     "evalue": "10",
     "output_type": "error",
     "traceback": [
      "\u001b[1;31m---------------------------------------------------------------------------\u001b[0m",
      "\u001b[1;31mKeyError\u001b[0m                                  Traceback (most recent call last)",
      "Cell \u001b[1;32mIn[19], line 1\u001b[0m\n\u001b[1;32m----> 1\u001b[0m s\u001b[38;5;241m.\u001b[39mremove(\u001b[38;5;241m10\u001b[39m)\n",
      "\u001b[1;31mKeyError\u001b[0m: 10"
     ]
    }
   ],
   "source": [
    "s.remove(10)"
   ]
  },
  {
   "cell_type": "code",
   "execution_count": 25,
   "id": "4878dddd-b307-413b-9790-c113dbafb0d2",
   "metadata": {},
   "outputs": [],
   "source": [
    "s.discard(11) # it give no key error."
   ]
  },
  {
   "cell_type": "markdown",
   "id": "a731192d-d473-4fba-bb88-b8c4aaf675c5",
   "metadata": {},
   "source": [
    "### <b> Union (| or union())\n",
    "Combines elements from both sets, eliminating duplicates."
   ]
  },
  {
   "cell_type": "code",
   "execution_count": 106,
   "id": "bc10b652-4e67-485d-aecc-13f51c1ff15b",
   "metadata": {},
   "outputs": [
    {
     "name": "stdout",
     "output_type": "stream",
     "text": [
      "{1, 2, 3, 5, 'hello', 'riya', 20}\n",
      "{1, 2, 3, 'hello', 'riya', 20}\n"
     ]
    }
   ],
   "source": [
    "# union\n",
    "print(a.union(s)) # this union function is temperory \n",
    "print(a)"
   ]
  },
  {
   "cell_type": "code",
   "execution_count": 108,
   "id": "f4a23b32-164c-47da-b3d9-ebe902b2ca6e",
   "metadata": {},
   "outputs": [
    {
     "name": "stdout",
     "output_type": "stream",
     "text": [
      "{1, 2, 3, 5, 'hello', 'riya', 20}\n"
     ]
    }
   ],
   "source": [
    "# if want to make merge elements of two sets permanently then we can use update function.\n",
    "a.update(s)\n",
    "print(a)"
   ]
  },
  {
   "cell_type": "code",
   "execution_count": 36,
   "id": "7c915b32-5c17-462e-9556-1768ac150161",
   "metadata": {},
   "outputs": [
    {
     "name": "stdout",
     "output_type": "stream",
     "text": [
      "{'riya', 'diya', 'siya'}\n"
     ]
    }
   ],
   "source": [
    "set1={'riya','diya','siya'}\n",
    "set2={'kartik','gaurang','sanchay'}\n",
    "set1|set2  ## this is union sign (temporary)\n",
    "print(set1)"
   ]
  },
  {
   "cell_type": "code",
   "execution_count": 42,
   "id": "666f6daf-b292-42b6-b7ba-b83ddb615caf",
   "metadata": {},
   "outputs": [
    {
     "name": "stdout",
     "output_type": "stream",
     "text": [
      "{'riya', 'gaurang', 'kartik', 'siya', 'diya', 'sanchay'}\n",
      "{'gaurang', 'kartik', 'sanchay'}\n"
     ]
    }
   ],
   "source": [
    "set1.update(set2)\n",
    "print(set1)\n",
    "print(set2)\n",
    "# here set1 is updates and now it contains all elements of set2."
   ]
  },
  {
   "cell_type": "markdown",
   "id": "a97d1f6d-97b7-47c3-8f7c-5e3134d42636",
   "metadata": {},
   "source": [
    "### <b> Intersection (& or intersection())\n",
    "- Returns elements that are common to both sets."
   ]
  },
  {
   "cell_type": "code",
   "execution_count": 47,
   "id": "968ed5cc-8f66-4b8f-824d-2182d73640b8",
   "metadata": {},
   "outputs": [
    {
     "name": "stdout",
     "output_type": "stream",
     "text": [
      "{2, 4, 6, 8, 10}\n",
      "{1, 2, 3, 4, 5, 6, 7, 8, 9, 10}\n"
     ]
    }
   ],
   "source": [
    "# intersection\n",
    "a={1,2,3,4,5,6,7,8,9,10}\n",
    "b={2,4,6,8,10,12,14,16,18,20}\n",
    "print(a.intersection(b)) # this change is temperarory.\n",
    "print(a)\n"
   ]
  },
  {
   "cell_type": "code",
   "execution_count": 53,
   "id": "93e44293-4a90-46f5-a485-a4f739298436",
   "metadata": {},
   "outputs": [
    {
     "name": "stdout",
     "output_type": "stream",
     "text": [
      "{1, 2, 3, 4, 5, 6, 7, 8, 9, 10}\n"
     ]
    }
   ],
   "source": [
    "a&b # it is temporary\n",
    "print(a)"
   ]
  },
  {
   "cell_type": "code",
   "execution_count": 116,
   "id": "7234835c-56b1-49e3-bfb1-773ff80a1b38",
   "metadata": {},
   "outputs": [
    {
     "name": "stdout",
     "output_type": "stream",
     "text": [
      "{2, 4, 6, 8, 10}\n"
     ]
    }
   ],
   "source": [
    "# if we want to make it permanent\n",
    "a.intersection_update(b)\n",
    "print(a)"
   ]
  },
  {
   "cell_type": "markdown",
   "id": "4f2b65d4-5e75-4296-b5b7-199e2e47e64b",
   "metadata": {},
   "source": [
    "### <b> Difference (- or difference())\n",
    "Returns elements that are in the first set but not in the second."
   ]
  },
  {
   "cell_type": "code",
   "execution_count": 22,
   "id": "a3eb4b7c-92c2-49d1-ab13-50618e264e65",
   "metadata": {},
   "outputs": [
    {
     "name": "stdout",
     "output_type": "stream",
     "text": [
      "{'hii', 'riya'}\n",
      "{'hii', True, 'riya'}\n"
     ]
    }
   ],
   "source": [
    "# difference : The difference() method will return a new set that will contain only the items from the first set that are not present in the other set.\n",
    "x={'riya','hii',True,1}\n",
    "y={1,2,3,'hello','str'}\n",
    "print(x.difference(y))\n",
    "print(x)  ## this change is temporary"
   ]
  },
  {
   "cell_type": "code",
   "execution_count": 28,
   "id": "62343b8a-c897-4050-bbea-fd2cd82165c9",
   "metadata": {},
   "outputs": [
    {
     "name": "stdout",
     "output_type": "stream",
     "text": [
      "{'hii', 'riya'}\n",
      "{'hii', True, 'riya'}\n"
     ]
    }
   ],
   "source": [
    "x={'riya','hii',True}\n",
    "y={1,2,3,'hello','str'}\n",
    "ab=x-y\n",
    "print(str)\n",
    "print(x)"
   ]
  },
  {
   "cell_type": "markdown",
   "id": "3a759f77-99c7-4d80-9658-82fbc6923500",
   "metadata": {},
   "source": [
    "### <b>Symmetric Difference (^ or symmetric_difference())\n",
    "Returns elements that are in either of the sets but not in both."
   ]
  },
  {
   "cell_type": "code",
   "execution_count": 136,
   "id": "82da7924-9795-486c-bec5-c78d2fcea0e4",
   "metadata": {},
   "outputs": [
    {
     "data": {
      "text/plain": [
       "{2, 3, str, 'hello', 'hii', 'riya'}"
      ]
     },
     "execution_count": 136,
     "metadata": {},
     "output_type": "execute_result"
    }
   ],
   "source": [
    "# symmetric difference: The symmetric_difference() method will keep only the elements that are NOT present in both sets.\n",
    "x={'riya','hii',True,1}\n",
    "y={1,2,3,'hello',str}\n",
    "x.symmetric_difference(y)"
   ]
  },
  {
   "cell_type": "code",
   "execution_count": 34,
   "id": "100685ba-4223-4340-998b-a02eef4e8faa",
   "metadata": {},
   "outputs": [
    {
     "data": {
      "text/plain": [
       "{'hii', 'riya'}"
      ]
     },
     "execution_count": 34,
     "metadata": {},
     "output_type": "execute_result"
    }
   ],
   "source": [
    "x={'riya','hii',True,}\n",
    "y={1,2,3,'hello','str'}\n",
    "x-y"
   ]
  },
  {
   "cell_type": "markdown",
   "id": "7bd620f9-a65e-47f9-b27a-9aa82de589e2",
   "metadata": {},
   "source": [
    "#### <b> symmetric_difference_update()\n",
    "Updates the set with the symmetric difference of itself and another set."
   ]
  },
  {
   "cell_type": "code",
   "execution_count": 128,
   "id": "859e5746-0333-4a51-9b5e-373b72df482c",
   "metadata": {},
   "outputs": [
    {
     "name": "stdout",
     "output_type": "stream",
     "text": [
      "{2, 3, 'hello', 'hii', 'riya', <class 'str'>}\n"
     ]
    }
   ],
   "source": [
    "x.symmetric_difference_update(y)\n",
    "print(x)"
   ]
  },
  {
   "cell_type": "markdown",
   "id": "003d31dd-783a-4e56-ac2f-3658a807f9d5",
   "metadata": {},
   "source": [
    "### <b> union() \n",
    "- method in Python combines two or more sets and returns a new set that contains all unique elements from the sets involved. \n",
    "  It eliminates duplicates, so even if an element appears in multiple sets, it will only appear once in the resulting set."
   ]
  },
  {
   "cell_type": "code",
   "execution_count": 37,
   "id": "060072fc-ff6e-412d-bcb0-d60473861d45",
   "metadata": {},
   "outputs": [
    {
     "name": "stdout",
     "output_type": "stream",
     "text": [
      "{1, 2, 3, 6, 7, 8}\n",
      "2406823513440\n",
      "2406823511648\n",
      "2406823515008\n"
     ]
    }
   ],
   "source": [
    "a={1,2,3,6,7,8}\n",
    "b={1,2,3,7}\n",
    "print(a.union(b))\n",
    "print(id(a))\n",
    "print(id(b))\n",
    "print(id(a.union(b)))"
   ]
  },
  {
   "cell_type": "code",
   "execution_count": 161,
   "id": "bb86dbd9-e3a7-477d-bd43-d251be887f47",
   "metadata": {},
   "outputs": [
    {
     "data": {
      "text/plain": [
       "3"
      ]
     },
     "execution_count": 161,
     "metadata": {},
     "output_type": "execute_result"
    }
   ],
   "source": [
    "# finding length of the set\n",
    "a={1,2,3}\n",
    "len(a)"
   ]
  },
  {
   "cell_type": "code",
   "execution_count": 165,
   "id": "76af0a97-fd1b-41bb-b9ba-fe72c3648061",
   "metadata": {},
   "outputs": [
    {
     "name": "stdout",
     "output_type": "stream",
     "text": [
      "1\n",
      "6\n"
     ]
    }
   ],
   "source": [
    "#minimum and maximum values\n",
    "a={1,2,3,4,5,6}\n",
    "print(min(a))\n",
    "print(max(a))"
   ]
  },
  {
   "cell_type": "code",
   "execution_count": 3,
   "id": "5c69393c-5835-41bd-9aeb-7d68a61a802f",
   "metadata": {},
   "outputs": [
    {
     "name": "stdout",
     "output_type": "stream",
     "text": [
      "a\n",
      "e\n"
     ]
    }
   ],
   "source": [
    "set={'a','b','c','d','e'}\n",
    "print(min(set))\n",
    "print(max(set))"
   ]
  },
  {
   "cell_type": "code",
   "execution_count": 5,
   "id": "a06b196d-0a08-47a9-a41a-8d98a9814662",
   "metadata": {},
   "outputs": [
    {
     "ename": "TypeError",
     "evalue": "'set' object does not support item assignment",
     "output_type": "error",
     "traceback": [
      "\u001b[1;31m---------------------------------------------------------------------------\u001b[0m",
      "\u001b[1;31mTypeError\u001b[0m                                 Traceback (most recent call last)",
      "Cell \u001b[1;32mIn[5], line 1\u001b[0m\n\u001b[1;32m----> 1\u001b[0m \u001b[38;5;28mset\u001b[39m[\u001b[38;5;241m0\u001b[39m]\u001b[38;5;241m=\u001b[39m\u001b[38;5;124m'\u001b[39m\u001b[38;5;124mapple\u001b[39m\u001b[38;5;124m'\u001b[39m\n",
      "\u001b[1;31mTypeError\u001b[0m: 'set' object does not support item assignment"
     ]
    }
   ],
   "source": [
    "set[0]='apple'"
   ]
  },
  {
   "cell_type": "code",
   "execution_count": 9,
   "id": "1d530112-6bcb-4768-9d30-e1c0fdbc1762",
   "metadata": {},
   "outputs": [
    {
     "name": "stdout",
     "output_type": "stream",
     "text": [
      "{1, 2, 3, 5, 7, 8}\n"
     ]
    }
   ],
   "source": [
    "a={1,2,5,4,3,7,8}\n",
    "a.remove(4)\n",
    "print(a)"
   ]
  },
  {
   "cell_type": "code",
   "execution_count": 13,
   "id": "3ff0a4a3-cda6-4bda-9557-d890dfae076e",
   "metadata": {},
   "outputs": [
    {
     "ename": "KeyError",
     "evalue": "88",
     "output_type": "error",
     "traceback": [
      "\u001b[1;31m---------------------------------------------------------------------------\u001b[0m",
      "\u001b[1;31mKeyError\u001b[0m                                  Traceback (most recent call last)",
      "Cell \u001b[1;32mIn[13], line 2\u001b[0m\n\u001b[0;32m      1\u001b[0m a\u001b[38;5;241m=\u001b[39m{\u001b[38;5;241m1\u001b[39m,\u001b[38;5;241m2\u001b[39m,\u001b[38;5;241m5\u001b[39m,\u001b[38;5;241m4\u001b[39m,\u001b[38;5;241m3\u001b[39m,\u001b[38;5;241m7\u001b[39m,\u001b[38;5;241m8\u001b[39m}\n\u001b[1;32m----> 2\u001b[0m a\u001b[38;5;241m.\u001b[39mremove(\u001b[38;5;241m88\u001b[39m)\n",
      "\u001b[1;31mKeyError\u001b[0m: 88"
     ]
    }
   ],
   "source": [
    "a={1,2,5,4,3,7,8}\n",
    "a.remove(88)"
   ]
  },
  {
   "cell_type": "code",
   "execution_count": 17,
   "id": "460a2fa1-152f-4c60-98d0-4b663e5aa79e",
   "metadata": {},
   "outputs": [
    {
     "name": "stdout",
     "output_type": "stream",
     "text": [
      "{1, 2, 3, 4, 5, 7, 8}\n"
     ]
    }
   ],
   "source": [
    "# discard(): If the item to remove does not exist, discard() will NOT raise an error.\n",
    "a={1,2,5,4,3,7,8}\n",
    "a.discard(44)\n",
    "print(a)"
   ]
  },
  {
   "cell_type": "code",
   "execution_count": 21,
   "id": "c22f6c81-a868-45fd-8eb8-3d9a8b732323",
   "metadata": {},
   "outputs": [
    {
     "name": "stdout",
     "output_type": "stream",
     "text": [
      "{2, 3, 4, 5, 7, 8}\n",
      "{3, 4, 5, 7, 8}\n"
     ]
    }
   ],
   "source": [
    "#pop():the pop() method to remove an item, but this method will remove a random item, so you cannot be sure what item that gets removed. \n",
    "a={1,2,5,4,3,7,8}\n",
    "a.pop()\n",
    "print(a)\n",
    "a.pop()\n",
    "print(a)"
   ]
  },
  {
   "cell_type": "code",
   "execution_count": 25,
   "id": "95c7d968-54a4-4028-af22-a0832e4d88e3",
   "metadata": {},
   "outputs": [
    {
     "name": "stdout",
     "output_type": "stream",
     "text": [
      "diya\n",
      "{'riya', 'shanaya'}\n"
     ]
    }
   ],
   "source": [
    "a={'riya','diya','shanaya'}\n",
    "print(a.pop())\n",
    "print(a)"
   ]
  },
  {
   "cell_type": "code",
   "execution_count": 31,
   "id": "c9239d84-0806-4634-abea-6f9c631890d9",
   "metadata": {},
   "outputs": [
    {
     "name": "stdout",
     "output_type": "stream",
     "text": [
      "set()\n"
     ]
    }
   ],
   "source": [
    "#clear(): \n",
    "a={1,2,3,4}\n",
    "a.clear()\n",
    "print(a)"
   ]
  },
  {
   "cell_type": "code",
   "execution_count": 29,
   "id": "c185cf27-233d-450f-8673-c250f59a0af2",
   "metadata": {},
   "outputs": [
    {
     "ename": "NameError",
     "evalue": "name 'a' is not defined",
     "output_type": "error",
     "traceback": [
      "\u001b[1;31m---------------------------------------------------------------------------\u001b[0m",
      "\u001b[1;31mNameError\u001b[0m                                 Traceback (most recent call last)",
      "Cell \u001b[1;32mIn[29], line 3\u001b[0m\n\u001b[0;32m      1\u001b[0m a\u001b[38;5;241m=\u001b[39m{\u001b[38;5;241m1\u001b[39m,\u001b[38;5;241m2\u001b[39m,\u001b[38;5;241m3\u001b[39m,\u001b[38;5;241m4\u001b[39m,\u001b[38;5;241m5\u001b[39m,\u001b[38;5;241m6\u001b[39m,\u001b[38;5;241m7\u001b[39m}\n\u001b[0;32m      2\u001b[0m \u001b[38;5;28;01mdel\u001b[39;00m a\n\u001b[1;32m----> 3\u001b[0m \u001b[38;5;28mprint\u001b[39m(a)\n",
      "\u001b[1;31mNameError\u001b[0m: name 'a' is not defined"
     ]
    }
   ],
   "source": [
    "a={1,2,3,4,5,6,7}\n",
    "del a\n",
    "print(a)"
   ]
  },
  {
   "cell_type": "code",
   "execution_count": 37,
   "id": "09db88b4-8c5c-4a84-a818-2d74f87d419a",
   "metadata": {},
   "outputs": [
    {
     "ename": "NameError",
     "evalue": "name 'a' is not defined",
     "output_type": "error",
     "traceback": [
      "\u001b[1;31m---------------------------------------------------------------------------\u001b[0m",
      "\u001b[1;31mNameError\u001b[0m                                 Traceback (most recent call last)",
      "Cell \u001b[1;32mIn[37], line 1\u001b[0m\n\u001b[1;32m----> 1\u001b[0m \u001b[38;5;28;01mdel\u001b[39;00m a\n\u001b[0;32m      2\u001b[0m \u001b[38;5;28mprint\u001b[39m(a)\n",
      "\u001b[1;31mNameError\u001b[0m: name 'a' is not defined"
     ]
    }
   ],
   "source": [
    "del a\n",
    "print(a)"
   ]
  },
  {
   "cell_type": "markdown",
   "id": "794abc97-8891-40f1-82f4-11adcce5027a",
   "metadata": {},
   "source": [
    "# Subset And Superset\n",
    "- Superset must have all values of subset."
   ]
  },
  {
   "cell_type": "code",
   "execution_count": 147,
   "id": "cfe675c2-0843-482e-9bb5-d9808f74af34",
   "metadata": {},
   "outputs": [
    {
     "name": "stdout",
     "output_type": "stream",
     "text": [
      "True\n"
     ]
    }
   ],
   "source": [
    "p={1,2,3,4,5}\n",
    "q={2,4,5}\n",
    "print(p.issuperset(q))"
   ]
  },
  {
   "cell_type": "code",
   "execution_count": 149,
   "id": "f9aa3766-4167-498b-aa33-9d62b4dcb09d",
   "metadata": {},
   "outputs": [
    {
     "name": "stdout",
     "output_type": "stream",
     "text": [
      "True\n"
     ]
    }
   ],
   "source": [
    "print(q.issubset(p))"
   ]
  },
  {
   "cell_type": "code",
   "execution_count": 7,
   "id": "a0d67541-e911-4881-93b2-d64e054dbf38",
   "metadata": {},
   "outputs": [
    {
     "name": "stdout",
     "output_type": "stream",
     "text": [
      "{}\n"
     ]
    },
    {
     "ename": "AttributeError",
     "evalue": "'dict' object has no attribute 'add'",
     "output_type": "error",
     "traceback": [
      "\u001b[1;31m---------------------------------------------------------------------------\u001b[0m",
      "\u001b[1;31mAttributeError\u001b[0m                            Traceback (most recent call last)",
      "Cell \u001b[1;32mIn[7], line 3\u001b[0m\n\u001b[0;32m      1\u001b[0m \u001b[38;5;28mset\u001b[39m\u001b[38;5;241m=\u001b[39m{}\n\u001b[0;32m      2\u001b[0m \u001b[38;5;28mprint\u001b[39m(\u001b[38;5;28mset\u001b[39m)\n\u001b[1;32m----> 3\u001b[0m \u001b[38;5;28mset\u001b[39m\u001b[38;5;241m.\u001b[39madd({\u001b[38;5;241m8\u001b[39m})\n",
      "\u001b[1;31mAttributeError\u001b[0m: 'dict' object has no attribute 'add'"
     ]
    }
   ],
   "source": []
  },
  {
   "cell_type": "code",
   "execution_count": null,
   "id": "240820af-9e4a-4ee6-ae94-4f8dd8ad818e",
   "metadata": {},
   "outputs": [],
   "source": []
  },
  {
   "cell_type": "code",
   "execution_count": null,
   "id": "655d3f90-155b-497a-8cdd-bf9fd353160d",
   "metadata": {},
   "outputs": [],
   "source": []
  },
  {
   "cell_type": "code",
   "execution_count": null,
   "id": "7dcea7b8-e49d-40a9-adaf-4eb79556d861",
   "metadata": {},
   "outputs": [],
   "source": []
  },
  {
   "cell_type": "markdown",
   "id": "ab6a6379-8b2b-4e1d-9ac9-fa4ef0f2cc97",
   "metadata": {},
   "source": [
    "# Disjoint\n",
    "- if in any two sets any one or more element is common then it is not a disjoint.\n",
    "- Checks if two sets have no elements in common."
   ]
  },
  {
   "cell_type": "code",
   "execution_count": 155,
   "id": "ebb0f473-a95e-429c-941e-26af4b04d235",
   "metadata": {},
   "outputs": [
    {
     "ename": "AttributeError",
     "evalue": "'set' object has no attribute 'disjoint'",
     "output_type": "error",
     "traceback": [
      "\u001b[1;31m---------------------------------------------------------------------------\u001b[0m",
      "\u001b[1;31mAttributeError\u001b[0m                            Traceback (most recent call last)",
      "Cell \u001b[1;32mIn[155], line 3\u001b[0m\n\u001b[0;32m      1\u001b[0m p\u001b[38;5;241m=\u001b[39m{\u001b[38;5;241m2\u001b[39m,\u001b[38;5;241m3\u001b[39m,\u001b[38;5;241m5\u001b[39m}\n\u001b[0;32m      2\u001b[0m q\u001b[38;5;241m=\u001b[39m{\u001b[38;5;241m1\u001b[39m,\u001b[38;5;241m4\u001b[39m,\u001b[38;5;241m6\u001b[39m}\n\u001b[1;32m----> 3\u001b[0m \u001b[38;5;28mprint\u001b[39m(p\u001b[38;5;241m.\u001b[39mdisjoint(q))\n",
      "\u001b[1;31mAttributeError\u001b[0m: 'set' object has no attribute 'disjoint'"
     ]
    }
   ],
   "source": [
    "p={2,3,5}\n",
    "q={1,4,6}\n",
    "print(p.disjoint(q))"
   ]
  },
  {
   "cell_type": "code",
   "execution_count": 157,
   "id": "0958552d-5986-483b-b1dd-c9f9d7545caa",
   "metadata": {},
   "outputs": [
    {
     "name": "stdout",
     "output_type": "stream",
     "text": [
      "True\n"
     ]
    }
   ],
   "source": [
    "p={2,3,5}\n",
    "q={1,4,6}\n",
    "print(p.isdisjoint(q))"
   ]
  },
  {
   "cell_type": "code",
   "execution_count": 159,
   "id": "cd41a9b3-a164-4ba3-ac83-4547578f1507",
   "metadata": {},
   "outputs": [
    {
     "name": "stdout",
     "output_type": "stream",
     "text": [
      "False\n"
     ]
    }
   ],
   "source": [
    "p={1,2,3,4,5,6,7,8,9,10}\n",
    "q={2,4,6}\n",
    "print(p.isdisjoint(q))"
   ]
  },
  {
   "cell_type": "markdown",
   "id": "d1dc865f-c746-4c31-b701-9b2feb9a841e",
   "metadata": {},
   "source": [
    "# <span style='color: green'>Dictionaries </span>\n",
    "- Dictionaries are oredered collection of unique items stored in (key-value) pairs.key and value pair are treated as single item.\n",
    "1. Ordered: Dict are ordered which means that items have a defined order, and that order will not change.\n",
    "2. Unique: The keys in dictionaries should be unique.If we store any value with a key that already exists,then the most recent value will be replaced.\n",
    "3. Key must be of immutable data types\n",
    "4. Dictionaries is mutuable"
   ]
  },
  {
   "cell_type": "code",
   "execution_count": 5,
   "id": "28760e32-9400-49f7-98b1-73e3cc8efee8",
   "metadata": {},
   "outputs": [
    {
     "data": {
      "text/plain": [
       "{1: 'riya', 2: 'diya', 3: 'diksha'}"
      ]
     },
     "execution_count": 5,
     "metadata": {},
     "output_type": "execute_result"
    }
   ],
   "source": [
    "dict={1:'riya',2:'diya',3:'diksha'}\n",
    "dict"
   ]
  },
  {
   "cell_type": "code",
   "execution_count": 7,
   "id": "8cca8f89-72ee-4077-8441-0a8df0899fb5",
   "metadata": {},
   "outputs": [
    {
     "data": {
      "text/plain": [
       "dict"
      ]
     },
     "execution_count": 7,
     "metadata": {},
     "output_type": "execute_result"
    }
   ],
   "source": [
    "type(dict)"
   ]
  },
  {
   "cell_type": "code",
   "execution_count": 9,
   "id": "51c14240-fbb5-4c5b-ad38-37d03eb5a654",
   "metadata": {},
   "outputs": [
    {
     "data": {
      "text/plain": [
       "'diya'"
      ]
     },
     "execution_count": 9,
     "metadata": {},
     "output_type": "execute_result"
    }
   ],
   "source": [
    "dict[2]"
   ]
  },
  {
   "cell_type": "code",
   "execution_count": 11,
   "id": "74d55d78-ab5c-4481-a0c2-e2105f1cc388",
   "metadata": {},
   "outputs": [
    {
     "ename": "KeyError",
     "evalue": "0",
     "output_type": "error",
     "traceback": [
      "\u001b[1;31m---------------------------------------------------------------------------\u001b[0m",
      "\u001b[1;31mKeyError\u001b[0m                                  Traceback (most recent call last)",
      "Cell \u001b[1;32mIn[11], line 2\u001b[0m\n\u001b[0;32m      1\u001b[0m dict1\u001b[38;5;241m=\u001b[39m{\u001b[38;5;124m'\u001b[39m\u001b[38;5;124mnamaste\u001b[39m\u001b[38;5;124m'\u001b[39m:\u001b[38;5;124m'\u001b[39m\u001b[38;5;124mindia\u001b[39m\u001b[38;5;124m'\u001b[39m,\u001b[38;5;124m'\u001b[39m\u001b[38;5;124mbonjour\u001b[39m\u001b[38;5;124m'\u001b[39m:\u001b[38;5;124m'\u001b[39m\u001b[38;5;124mfrance\u001b[39m\u001b[38;5;124m'\u001b[39m}\n\u001b[1;32m----> 2\u001b[0m \u001b[38;5;28mdict\u001b[39m[\u001b[38;5;241m0\u001b[39m]\n",
      "\u001b[1;31mKeyError\u001b[0m: 0"
     ]
    }
   ],
   "source": [
    "dict1={'namaste':'india','bonjour':'france'}\n",
    "dict[0] # key is used to access value."
   ]
  },
  {
   "cell_type": "code",
   "execution_count": 58,
   "id": "2d3bbac5-dd9d-48ac-8f29-2ecc837f0b23",
   "metadata": {},
   "outputs": [
    {
     "data": {
      "text/plain": [
       "2"
      ]
     },
     "execution_count": 58,
     "metadata": {},
     "output_type": "execute_result"
    }
   ],
   "source": [
    "len(dict1)"
   ]
  },
  {
   "cell_type": "code",
   "execution_count": 60,
   "id": "eaddde93-7611-4a4f-9f70-89e22719ccdc",
   "metadata": {},
   "outputs": [
    {
     "data": {
      "text/plain": [
       "'india'"
      ]
     },
     "execution_count": 60,
     "metadata": {},
     "output_type": "execute_result"
    }
   ],
   "source": [
    "dict1['namaste'] # accesing value through key."
   ]
  },
  {
   "cell_type": "code",
   "execution_count": null,
   "id": "68adabaa-c0b3-4ff3-834d-ce2426cf8047",
   "metadata": {},
   "outputs": [],
   "source": []
  },
  {
   "cell_type": "code",
   "execution_count": 66,
   "id": "4dfd287a-c43a-4f62-9946-bf82d8c93fbe",
   "metadata": {},
   "outputs": [
    {
     "name": "stdout",
     "output_type": "stream",
     "text": [
      "france\n"
     ]
    }
   ],
   "source": [
    "a=dict1.get('bonjour')\n",
    "print(a)"
   ]
  },
  {
   "cell_type": "code",
   "execution_count": 68,
   "id": "00292cf5-38e7-4f90-b537-7032b0037667",
   "metadata": {},
   "outputs": [
    {
     "data": {
      "text/plain": [
       "dict_keys([1, 2, 3])"
      ]
     },
     "execution_count": 68,
     "metadata": {},
     "output_type": "execute_result"
    }
   ],
   "source": [
    "dict.keys()"
   ]
  },
  {
   "cell_type": "code",
   "execution_count": 70,
   "id": "ccf90956-e23c-4655-a594-4770561dbfbb",
   "metadata": {},
   "outputs": [
    {
     "data": {
      "text/plain": [
       "dict_values(['riya', 'diya', 'diksha'])"
      ]
     },
     "execution_count": 70,
     "metadata": {},
     "output_type": "execute_result"
    }
   ],
   "source": [
    "dict.values()"
   ]
  },
  {
   "cell_type": "code",
   "execution_count": 18,
   "id": "872527fd-68c3-4663-a170-5b9642523a0b",
   "metadata": {},
   "outputs": [
    {
     "data": {
      "text/plain": [
       "dict_items([(1, 'riya'), (2, 'diya'), (3, 'diksha')])"
      ]
     },
     "execution_count": 18,
     "metadata": {},
     "output_type": "execute_result"
    }
   ],
   "source": [
    "dict.items()"
   ]
  },
  {
   "cell_type": "code",
   "execution_count": 26,
   "id": "e711f755-f224-418f-a462-62f8aab7dfa8",
   "metadata": {},
   "outputs": [
    {
     "name": "stdout",
     "output_type": "stream",
     "text": [
      "{1: 'riya', 2: 'diya', 3: 'diksha', 4: 'kriti', 5: 'priya', 6: 'kavya'}\n"
     ]
    }
   ],
   "source": [
    "dict[4]='kriti'\n",
    "print(dict)"
   ]
  },
  {
   "cell_type": "code",
   "execution_count": 28,
   "id": "c082affd-dbe2-46d6-8d85-af31e0e3e6f4",
   "metadata": {},
   "outputs": [
    {
     "ename": "SyntaxError",
     "evalue": "invalid syntax (3227863660.py, line 2)",
     "output_type": "error",
     "traceback": [
      "\u001b[1;36m  Cell \u001b[1;32mIn[28], line 2\u001b[1;36m\u001b[0m\n\u001b[1;33m    dict.update(5:'priya')\u001b[0m\n\u001b[1;37m                 ^\u001b[0m\n\u001b[1;31mSyntaxError\u001b[0m\u001b[1;31m:\u001b[0m invalid syntax\n"
     ]
    }
   ],
   "source": [
    "#update()\n",
    "dict.update(5:'priya')"
   ]
  },
  {
   "cell_type": "code",
   "execution_count": 30,
   "id": "3a4f276c-a152-4d40-8ce9-1d9112b76e81",
   "metadata": {},
   "outputs": [
    {
     "name": "stdout",
     "output_type": "stream",
     "text": [
      "{1: 'riya', 2: 'diya', 3: 'diksha', 4: 'kriti', 5: 'priya', 6: 'kavya'}\n",
      "{1: 'riya', 2: 'diya', 3: 'diksha', 4: 'kriti', 5: 'priya', 6: 'kavya'}\n"
     ]
    }
   ],
   "source": [
    "dict.update({5:'priya'})\n",
    "print(dict)\n",
    "dict.update({6:'kavya'})\n",
    "print(dict)"
   ]
  },
  {
   "cell_type": "code",
   "execution_count": 32,
   "id": "0c1ad7b6-4c41-49c0-84ab-d5df1d1f6623",
   "metadata": {},
   "outputs": [
    {
     "data": {
      "text/plain": [
       "'priya'"
      ]
     },
     "execution_count": 32,
     "metadata": {},
     "output_type": "execute_result"
    }
   ],
   "source": [
    "# pop():The pop() method removes the item with the specified key name:\n",
    "dict.pop(5)"
   ]
  },
  {
   "cell_type": "code",
   "execution_count": 34,
   "id": "90e637db-4505-4c28-83cd-ef934d26d0a2",
   "metadata": {},
   "outputs": [
    {
     "name": "stdout",
     "output_type": "stream",
     "text": [
      "{1: 'riya', 2: 'diya', 3: 'diksha', 4: 'kriti', 6: 'kavya'}\n"
     ]
    }
   ],
   "source": [
    "print(dict)"
   ]
  },
  {
   "cell_type": "code",
   "execution_count": 107,
   "id": "d5c5b14b-325c-4b1c-bf79-567e178d0b57",
   "metadata": {},
   "outputs": [
    {
     "data": {
      "text/plain": [
       "(6, 'kavya')"
      ]
     },
     "execution_count": 107,
     "metadata": {},
     "output_type": "execute_result"
    }
   ],
   "source": [
    "#popitem():The popitem() method removes the last inserted item\n",
    "dict.popitem()"
   ]
  },
  {
   "cell_type": "code",
   "execution_count": 38,
   "id": "f9edbe19-f8f3-420b-ba66-8ee72b3a0242",
   "metadata": {},
   "outputs": [
    {
     "data": {
      "text/plain": [
       "(6, 'kavya')"
      ]
     },
     "execution_count": 38,
     "metadata": {},
     "output_type": "execute_result"
    }
   ],
   "source": [
    "dict.popitem()"
   ]
  },
  {
   "cell_type": "code",
   "execution_count": 109,
   "id": "698d4870-fae4-48ba-8480-62aad0ea37c6",
   "metadata": {},
   "outputs": [],
   "source": [
    "del dict[3]"
   ]
  },
  {
   "cell_type": "code",
   "execution_count": 111,
   "id": "06196b63-08be-44b1-94e7-12a0ade1864f",
   "metadata": {},
   "outputs": [
    {
     "name": "stdout",
     "output_type": "stream",
     "text": [
      "{1: 'riya', 2: 'diya', 4: 'kriti'}\n"
     ]
    }
   ],
   "source": [
    "print(dict)"
   ]
  },
  {
   "cell_type": "code",
   "execution_count": 125,
   "id": "11582525-b4b9-47df-b151-b98a34a9c138",
   "metadata": {},
   "outputs": [
    {
     "name": "stdout",
     "output_type": "stream",
     "text": [
      "{1: {'name': 'riya', 'roll': 1}, 2: {'name': 'diya', 'roll': 2}}\n"
     ]
    }
   ],
   "source": [
    "# nested dictionaries\n",
    "stu1={'name':'riya',\n",
    "      'roll': 1}\n",
    "stu2={'name':'diya',\n",
    "      'roll':2}\n",
    "set1={1:stu1,2:stu2}\n",
    "print(set1)"
   ]
  },
  {
   "cell_type": "code",
   "execution_count": 127,
   "id": "18b8f701-7f70-4c0b-89a8-2915e8984792",
   "metadata": {},
   "outputs": [
    {
     "ename": "TypeError",
     "evalue": "'int' object is not iterable",
     "output_type": "error",
     "traceback": [
      "\u001b[1;31m---------------------------------------------------------------------------\u001b[0m",
      "\u001b[1;31mTypeError\u001b[0m                                 Traceback (most recent call last)",
      "Cell \u001b[1;32mIn[127], line 2\u001b[0m\n\u001b[0;32m      1\u001b[0m \u001b[38;5;66;03m# fromkeys() : method returns a dictionary with the specified keys and the specified value.\u001b[39;00m\n\u001b[1;32m----> 2\u001b[0m \u001b[38;5;28mdict\u001b[39m\u001b[38;5;241m.\u001b[39mfromkeys(\u001b[38;5;241m1\u001b[39m)\n",
      "\u001b[1;31mTypeError\u001b[0m: 'int' object is not iterable"
     ]
    }
   ],
   "source": [
    "# fromkeys() : method returns a dictionary with the specified keys and the specified value.\n",
    "dict.fromkeys(1)"
   ]
  },
  {
   "cell_type": "code",
   "execution_count": 137,
   "id": "368ffe1a-ef97-48de-ab0f-390b1172b2dd",
   "metadata": {},
   "outputs": [
    {
     "name": "stdout",
     "output_type": "stream",
     "text": [
      "{'name': None, 'roll': None}\n"
     ]
    }
   ],
   "source": [
    "#fromkeys():returns the dictionary with key mapped and specific value. It creates a new dictionary from the given sequence with the specific value.\n",
    "x=dict.fromkeys(stu1)\n",
    "print(x)"
   ]
  },
  {
   "cell_type": "code",
   "execution_count": 135,
   "id": "8566d451-324b-45d1-afee-a0ad2ab165e2",
   "metadata": {},
   "outputs": [
    {
     "name": "stdout",
     "output_type": "stream",
     "text": [
      "{'name': 'hello', 'roll': 'hello'}\n"
     ]
    }
   ],
   "source": [
    "x=dict.fromkeys(stu1,'hello')\n",
    "print(x)"
   ]
  },
  {
   "cell_type": "code",
   "execution_count": 143,
   "id": "172b1736-3c68-4c08-9e36-2bb06a8d2825",
   "metadata": {},
   "outputs": [
    {
     "data": {
      "text/plain": [
       "range(0, 10)"
      ]
     },
     "execution_count": 143,
     "metadata": {},
     "output_type": "execute_result"
    }
   ],
   "source": [
    "a=range(0,10)\n",
    "a"
   ]
  },
  {
   "cell_type": "code",
   "execution_count": 149,
   "id": "ae20ef87-3598-451f-8945-7ffea30a2a81",
   "metadata": {},
   "outputs": [
    {
     "data": {
      "text/plain": [
       "[2, 3, 4, 5, 6, 7, 8]"
      ]
     },
     "execution_count": 149,
     "metadata": {},
     "output_type": "execute_result"
    }
   ],
   "source": [
    "a=list(range(2,9))\n",
    "a"
   ]
  },
  {
   "cell_type": "code",
   "execution_count": 157,
   "id": "d473a85c-9fcc-4f66-bf2c-3def237e44f6",
   "metadata": {},
   "outputs": [
    {
     "data": {
      "text/plain": [
       "(1, 3, 5, 7, 9, 11, 13)"
      ]
     },
     "execution_count": 157,
     "metadata": {},
     "output_type": "execute_result"
    }
   ],
   "source": [
    "b=tuple(range(1,15,2))\n",
    "b"
   ]
  },
  {
   "cell_type": "code",
   "execution_count": 161,
   "id": "18c212d3-4297-4196-aec1-9441a2cb5a7d",
   "metadata": {},
   "outputs": [
    {
     "data": {
      "text/plain": [
       "()"
      ]
     },
     "execution_count": 161,
     "metadata": {},
     "output_type": "execute_result"
    }
   ],
   "source": [
    "b=tuple(range(1,15,-1))\n",
    "b"
   ]
  },
  {
   "cell_type": "code",
   "execution_count": 37,
   "id": "5d9419f2-be27-497b-95d6-9a162463fc15",
   "metadata": {},
   "outputs": [
    {
     "name": "stdin",
     "output_type": "stream",
     "text": [
      "enter no of digits 3\n",
      "enter your number 153\n"
     ]
    },
    {
     "ename": "TypeError",
     "evalue": "unsupported operand type(s) for +: 'builtin_function_or_method' and 'str'",
     "output_type": "error",
     "traceback": [
      "\u001b[1;31m---------------------------------------------------------------------------\u001b[0m",
      "\u001b[1;31mTypeError\u001b[0m                                 Traceback (most recent call last)",
      "Cell \u001b[1;32mIn[37], line 5\u001b[0m\n\u001b[0;32m      3\u001b[0m \u001b[38;5;28;01mfor\u001b[39;00m i  \u001b[38;5;129;01min\u001b[39;00m \u001b[38;5;28mrange\u001b[39m(\u001b[38;5;28mint\u001b[39m(n)):\n\u001b[0;32m      4\u001b[0m         d\u001b[38;5;241m=\u001b[39mnum\u001b[38;5;241m%\u001b[39m\u001b[38;5;241m10\u001b[39m\n\u001b[1;32m----> 5\u001b[0m         \u001b[38;5;28msum\u001b[39m\u001b[38;5;241m=\u001b[39m\u001b[38;5;28msum\u001b[39m\u001b[38;5;241m+\u001b[39mn\u001b[38;5;241m*\u001b[39md\n\u001b[0;32m      6\u001b[0m         num\u001b[38;5;241m=\u001b[39mnum\u001b[38;5;241m/\u001b[39m\u001b[38;5;241m10\u001b[39m\n\u001b[0;32m      7\u001b[0m \u001b[38;5;28;01mif\u001b[39;00m(\u001b[38;5;28msum\u001b[39m\u001b[38;5;241m==\u001b[39mnum):\n",
      "\u001b[1;31mTypeError\u001b[0m: unsupported operand type(s) for +: 'builtin_function_or_method' and 'str'"
     ]
    }
   ],
   "source": [
    "n=input('enter no of digits')\n",
    "num=int(input('enter your number'))\n",
    "for i  in range(int(n)):\n",
    "        d=num%10\n",
    "        sum=sum+n*d\n",
    "        num=num/10\n",
    "if(sum==num):\n",
    "    print('its a armstrong number')\n",
    "else: print('its not a armstrong number')\n"
   ]
  },
  {
   "cell_type": "code",
   "execution_count": 21,
   "id": "58432c6e-3e04-44de-b657-8c76f6b5ec8c",
   "metadata": {},
   "outputs": [
    {
     "name": "stdout",
     "output_type": "stream",
     "text": [
      "[908]\n"
     ]
    }
   ],
   "source": [
    "list=[]\n",
    "num=908\n",
    "list.append(num)\n",
    "print(list)"
   ]
  },
  {
   "cell_type": "code",
   "execution_count": 26,
   "id": "9ff68f70-1fc0-479a-9244-b3d7a725f0c4",
   "metadata": {},
   "outputs": [
    {
     "name": "stdin",
     "output_type": "stream",
     "text": [
      "enter the string riya\n"
     ]
    },
    {
     "name": "stdout",
     "output_type": "stream",
     "text": [
      "{'r': 1, 'i': 2, 'y': 3, 'a': 4}\n"
     ]
    }
   ],
   "source": [
    "# take string as input an count the freq of each character of that string and save the char with its freq in dictionary\n",
    "str=input('enter the string')\n",
    "n=len(str)\n",
    "cnt=0\n",
    "str_dict={}\n",
    "for i in range(n):\n",
    "    if str[i] not in str_dict:\n",
    "         for j in range(n):\n",
    "            if(str[i]==str[j]):\n",
    "                 cnt=cnt+1\n",
    "                 str_dict[str[i]]=cnt\n",
    "print(str_dict)"
   ]
  },
  {
   "cell_type": "code",
   "execution_count": 30,
   "id": "5f5a756e-efb5-408d-8451-30f77ced5c8b",
   "metadata": {},
   "outputs": [
    {
     "name": "stdin",
     "output_type": "stream",
     "text": [
      "enter the string hello this is riya\n"
     ]
    },
    {
     "name": "stdout",
     "output_type": "stream",
     "text": [
      "{'h': 2, 'e': 1, 'l': 2, 'o': 1, ' ': 3, 't': 1, 'i': 3, 's': 2, 'r': 1, 'y': 1, 'a': 1}\n"
     ]
    }
   ],
   "source": [
    "# take string as input an count the freq of each character of that string and save the char with its freq in dictionary\n",
    "str=input('enter the string')\n",
    "n=len(str)\n",
    "str_dict={}\n",
    "for i in range(n):\n",
    "    n=str.count(str[i])\n",
    "    str_dict[str[i]]=n\n",
    "print(str_dict)"
   ]
  },
  {
   "cell_type": "code",
   "execution_count": null,
   "id": "039aadf0-f004-44ed-a6d4-76da04e395a9",
   "metadata": {},
   "outputs": [],
   "source": []
  }
 ],
 "metadata": {
  "kernelspec": {
   "display_name": "Python 3 (ipykernel)",
   "language": "python",
   "name": "python3"
  },
  "language_info": {
   "codemirror_mode": {
    "name": "ipython",
    "version": 3
   },
   "file_extension": ".py",
   "mimetype": "text/x-python",
   "name": "python",
   "nbconvert_exporter": "python",
   "pygments_lexer": "ipython3",
   "version": "3.12.4"
  }
 },
 "nbformat": 4,
 "nbformat_minor": 5
}
