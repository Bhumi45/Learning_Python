{
 "cells": [
  {
   "cell_type": "markdown",
   "id": "db3eb81e-c5ed-4b99-9459-fef7d48d4aa1",
   "metadata": {},
   "source": [
    "<h1>Dictionary-Key:Value Pairs</h1>\n",
    "\n",
    "- Dictionary are simply another type of collection in Python , rather than having an index associated with each data-item dictionaries in python have a \"key\" and a \"value of that key\".Therefore dictionary is a collection of key-value pairs.\n",
    "\n",
    "<h2>Properties of Dictionary</h2>\n",
    "\n",
    "- Dictionaries are mutable, meaning you can change, add, or remove items after the\n",
    "  dictionary has been created.\n",
    "\n",
    "- Dictionaries do not maintain any specific order of items. However, as of Python 3.7, dictionaries preserve the insertion order (the order in which the items are added).\n",
    "\n",
    "- The keys in a dictionary must be of an immutable data type, such as strings, numbers, or tuples. Lists or other dictionaries cannot be used as keys.\n",
    "\n",
    "- The values in a dictionary can be of any data type, including lists, other dictionaries, or even functions.\n",
    "\n",
    "- In dictionary keys should be unique but values can be duplicate.\n",
    "\n",
    "- Internally dictionaries are indexed on the basis of keys.\n"
   ]
  },
  {
   "cell_type": "markdown",
   "id": "a4088ad4-0058-4cd6-a63c-cf20b04b587e",
   "metadata": {},
   "source": [
    "<h4>Creating a list</h4>"
   ]
  },
  {
   "cell_type": "code",
   "execution_count": 78,
   "id": "cb821fc8-1c20-48a1-b565-2d80e7d6435f",
   "metadata": {},
   "outputs": [],
   "source": [
    "# creating a dictionary\n",
    "# syntax: <dict_name>={key:value,key:value..}\n",
    "my_d={1:'Abhay',2:'Aman',3:'Anubhuti',4:'Anusha'}"
   ]
  },
  {
   "cell_type": "code",
   "execution_count": 80,
   "id": "99f277ae-fead-4507-ae48-0682cf63c081",
   "metadata": {},
   "outputs": [
    {
     "data": {
      "text/plain": [
       "{1: 'Abhay', 2: 'Aman', 3: 'Anubhuti', 4: 'Anusha'}"
      ]
     },
     "execution_count": 80,
     "metadata": {},
     "output_type": "execute_result"
    }
   ],
   "source": [
    "my_d"
   ]
  },
  {
   "cell_type": "code",
   "execution_count": 82,
   "id": "dfdfd9aa-b4dd-4e31-9565-423c389ea5c4",
   "metadata": {},
   "outputs": [],
   "source": [
    "# empty dictionary\n",
    "dictionary={}"
   ]
  },
  {
   "cell_type": "code",
   "execution_count": 90,
   "id": "ff150a0c-d908-4ec5-be5c-c592c209b9f0",
   "metadata": {},
   "outputs": [
    {
     "ename": "TypeError",
     "evalue": "'dict' object is not callable",
     "output_type": "error",
     "traceback": [
      "\u001b[1;31m---------------------------------------------------------------------------\u001b[0m",
      "\u001b[1;31mTypeError\u001b[0m                                 Traceback (most recent call last)",
      "Cell \u001b[1;32mIn[90], line 1\u001b[0m\n\u001b[1;32m----> 1\u001b[0m d\u001b[38;5;241m=\u001b[39m\u001b[38;5;28mdict\u001b[39m()\n",
      "\u001b[1;31mTypeError\u001b[0m: 'dict' object is not callable"
     ]
    }
   ],
   "source": [
    "d=dict() # an empty dictionary"
   ]
  },
  {
   "cell_type": "markdown",
   "id": "93804223-1e76-4b3d-8c16-0745402f18aa",
   "metadata": {},
   "source": [
    "<h4><font color='red'>Note</font></h4>\n",
    "\n",
    "- Dictionaries are also called associative arrays or mappings or hashes.\n",
    "- when you try to assign a key with mutuable type you will get error-  TypeError: unhashable type\n",
    "- In dictionary one cannnot access element as per specific order.The only way to access a value is thorugh key. Thus keys act like indexes to access values from a dictionary.\n"
   ]
  },
  {
   "cell_type": "markdown",
   "id": "a52acd91-b39a-4cf0-a51a-f220e0ed67b7",
   "metadata": {},
   "source": [
    "<h4>Accessing Element</h4>"
   ]
  },
  {
   "cell_type": "code",
   "execution_count": 88,
   "id": "84e35bab-d704-41ac-b0dc-4e54fc3516c4",
   "metadata": {},
   "outputs": [
    {
     "name": "stdout",
     "output_type": "stream",
     "text": [
      "roll-number 1:Abhay\n"
     ]
    }
   ],
   "source": [
    "# accessing element\n",
    "#syntax:<dict_name>[key]\n",
    "my_d1={1:'Abhay',2:'Aman',3:'Anubhuti',4:'Anusha',5:'Abhishekh',}\n",
    "my_d1[2]\n",
    "print(f\"roll-number 1:{my_d[1]}\")"
   ]
  },
  {
   "cell_type": "markdown",
   "id": "cbcd43e7-8027-427e-9a20-2455e9025cef",
   "metadata": {},
   "source": [
    "<h4>Traversing Dictionary</h4>\n",
    "\n",
    "- The 'for loops' makes it easy to traverse or loop over the items in a dictionary."
   ]
  },
  {
   "cell_type": "code",
   "execution_count": 29,
   "id": "5a244fe3-0f50-4586-8505-28f0094182a7",
   "metadata": {},
   "outputs": [
    {
     "name": "stdout",
     "output_type": "stream",
     "text": [
      "5 : number\n",
      "a : string\n",
      "(1, 2) : tuple\n"
     ]
    }
   ],
   "source": [
    "d1={5:'number','a':'string',(1,2):'tuple'}\n",
    "for key in d1:\n",
    "    print(key,':',d1[key])"
   ]
  },
  {
   "cell_type": "code",
   "execution_count": 31,
   "id": "41510d16-04ed-4b8e-9d6b-90dc73015577",
   "metadata": {},
   "outputs": [
    {
     "name": "stdout",
     "output_type": "stream",
     "text": [
      "madhav : 9997802457\n",
      "steven : 8907685432\n",
      "rabiya : 7930762441\n",
      "dilpreet : 8194029348\n",
      "sampree : 7896545532\n"
     ]
    }
   ],
   "source": [
    "Phone_dict={'madhav':9997802457,'steven':8907685432,'rabiya':7930762441,'dilpreet':8194029348,'sampree':7896545532}\n",
    "for name in Phone_dict:\n",
    "    print(name,':',Phone_dict[name])"
   ]
  },
  {
   "cell_type": "code",
   "execution_count": 33,
   "id": "7e15729b-f8e2-4542-9b6c-560c67a77b5b",
   "metadata": {},
   "outputs": [
    {
     "name": "stdout",
     "output_type": "stream",
     "text": [
      "('madhav', 9997802457)\n",
      "('steven', 8907685432)\n",
      "('rabiya', 7930762441)\n",
      "('dilpreet', 8194029348)\n",
      "('sampree', 7896545532)\n"
     ]
    }
   ],
   "source": [
    "for i in Phone_dict.items():\n",
    "    print(i)"
   ]
  },
  {
   "cell_type": "code",
   "execution_count": 35,
   "id": "77bb7a3c-c514-4bb1-82e1-182c86e3a981",
   "metadata": {},
   "outputs": [
    {
     "data": {
      "text/plain": [
       "dict_keys(['madhav', 'steven', 'rabiya', 'dilpreet', 'sampree'])"
      ]
     },
     "execution_count": 35,
     "metadata": {},
     "output_type": "execute_result"
    }
   ],
   "source": [
    "# Accessing kes or values simultaneously\n",
    "phone_dict={'madhav':9997802457,'steven':8907685432,\n",
    "            'rabiya':7930762441,'dilpreet':8194029348,'sampree':7896545532}\n",
    "phone_dict.keys()"
   ]
  },
  {
   "cell_type": "code",
   "execution_count": 37,
   "id": "7a836249-1ba4-4d05-99c0-70c415b112e6",
   "metadata": {},
   "outputs": [
    {
     "data": {
      "text/plain": [
       "dict_values([9997802457, 8907685432, 7930762441, 8194029348, 7896545532])"
      ]
     },
     "execution_count": 37,
     "metadata": {},
     "output_type": "execute_result"
    }
   ],
   "source": [
    "phone_dict.values()"
   ]
  },
  {
   "cell_type": "code",
   "execution_count": 39,
   "id": "6c4c9489-2b7b-48f9-88ba-3bb423eeea42",
   "metadata": {},
   "outputs": [
    {
     "data": {
      "text/plain": [
       "dict_items([('madhav', 9997802457), ('steven', 8907685432), ('rabiya', 7930762441), ('dilpreet', 8194029348), ('sampree', 7896545532)])"
      ]
     },
     "execution_count": 39,
     "metadata": {},
     "output_type": "execute_result"
    }
   ],
   "source": [
    "phone_dict.items()"
   ]
  },
  {
   "cell_type": "markdown",
   "id": "cd7f4e86-35b3-471b-a9c6-b56e5839099a",
   "metadata": {},
   "source": [
    "<h4>Adding key:value pairs in empty dictionary</h4>"
   ]
  },
  {
   "cell_type": "code",
   "execution_count": 62,
   "id": "a2c55426-f8be-4275-891d-1595137d0a95",
   "metadata": {},
   "outputs": [],
   "source": [
    "student={}"
   ]
  },
  {
   "cell_type": "code",
   "execution_count": 66,
   "id": "2286fbd6-f936-48c2-acf2-d11ba765332a",
   "metadata": {},
   "outputs": [],
   "source": [
    "student['name']='bhumika'\n",
    "student['class']='12th'\n",
    "student['stream']='PCM'"
   ]
  },
  {
   "cell_type": "code",
   "execution_count": 68,
   "id": "4bc08953-98cd-4d6f-a4f5-1734acd71469",
   "metadata": {},
   "outputs": [
    {
     "data": {
      "text/plain": [
       "{'name': 'bhumika', 'class': '12th', 'stream': 'PCM'}"
      ]
     },
     "execution_count": 68,
     "metadata": {},
     "output_type": "execute_result"
    }
   ],
   "source": [
    "student"
   ]
  },
  {
   "cell_type": "code",
   "execution_count": 74,
   "id": "8f319f61-9bac-4b2a-badc-83001fc3bce7",
   "metadata": {},
   "outputs": [
    {
     "ename": "TypeError",
     "evalue": "'dict' object is not callable",
     "output_type": "error",
     "traceback": [
      "\u001b[1;31m---------------------------------------------------------------------------\u001b[0m",
      "\u001b[1;31mTypeError\u001b[0m                                 Traceback (most recent call last)",
      "Cell \u001b[1;32mIn[74], line 1\u001b[0m\n\u001b[1;32m----> 1\u001b[0m stu\u001b[38;5;241m=\u001b[39m\u001b[38;5;28mdict\u001b[39m({\u001b[38;5;124m'\u001b[39m\u001b[38;5;124mname\u001b[39m\u001b[38;5;124m'\u001b[39m:\u001b[38;5;124m'\u001b[39m\u001b[38;5;124mabhay\u001b[39m\u001b[38;5;124m'\u001b[39m,\u001b[38;5;124m'\u001b[39m\u001b[38;5;124msalary\u001b[39m\u001b[38;5;124m'\u001b[39m:\u001b[38;5;241m50000\u001b[39m,\u001b[38;5;124m'\u001b[39m\u001b[38;5;124mage\u001b[39m\u001b[38;5;124m'\u001b[39m:\u001b[38;5;241m24\u001b[39m})\n",
      "\u001b[1;31mTypeError\u001b[0m: 'dict' object is not callable"
     ]
    }
   ],
   "source": [
    "stu=dict({'name':'abhay','salary':50000,'age':24})"
   ]
  },
  {
   "cell_type": "code",
   "execution_count": 94,
   "id": "53983697-ba7b-426d-a150-45f6fd2ebaa6",
   "metadata": {},
   "outputs": [
    {
     "ename": "TypeError",
     "evalue": "'dict' object is not callable",
     "output_type": "error",
     "traceback": [
      "\u001b[1;31m---------------------------------------------------------------------------\u001b[0m",
      "\u001b[1;31mTypeError\u001b[0m                                 Traceback (most recent call last)",
      "Cell \u001b[1;32mIn[94], line 1\u001b[0m\n\u001b[1;32m----> 1\u001b[0m employee\u001b[38;5;241m=\u001b[39m\u001b[38;5;28mdict\u001b[39m(\u001b[38;5;28mzip\u001b[39m((\u001b[38;5;124m'\u001b[39m\u001b[38;5;124mname\u001b[39m\u001b[38;5;124m'\u001b[39m,\u001b[38;5;124m'\u001b[39m\u001b[38;5;124msalary\u001b[39m\u001b[38;5;124m'\u001b[39m,\u001b[38;5;124m'\u001b[39m\u001b[38;5;124mage\u001b[39m\u001b[38;5;124m'\u001b[39m),(\u001b[38;5;124m'\u001b[39m\u001b[38;5;124msukriti\u001b[39m\u001b[38;5;124m'\u001b[39m,\u001b[38;5;241m20000\u001b[39m,\u001b[38;5;241m24\u001b[39m)))\n",
      "\u001b[1;31mTypeError\u001b[0m: 'dict' object is not callable"
     ]
    }
   ],
   "source": [
    "employee=dict(zip(('name','salary','age'),('sukriti',20000,24)))\n",
    "# the zip function clubs first value from first set with the first value of second set."
   ]
  },
  {
   "cell_type": "markdown",
   "id": "f9571c24-d440-463f-a181-49122bdba9e6",
   "metadata": {},
   "source": [
    "<h4>Adding Element in Dictionary</h4>\n",
    "\n",
    "- you can add new elements to a dictionay using assignement but the key being added must not exist in dictionary and must be unique.\n",
    "- if the key already exist than this will change the value of existing key,no new key will be added."
   ]
  },
  {
   "cell_type": "code",
   "execution_count": 101,
   "id": "ac166c08-0297-4ea5-be45-ca60fc45e5c2",
   "metadata": {},
   "outputs": [
    {
     "ename": "NameError",
     "evalue": "name 'dept' is not defined",
     "output_type": "error",
     "traceback": [
      "\u001b[1;31m---------------------------------------------------------------------------\u001b[0m",
      "\u001b[1;31mNameError\u001b[0m                                 Traceback (most recent call last)",
      "Cell \u001b[1;32mIn[101], line 2\u001b[0m\n\u001b[0;32m      1\u001b[0m employee\u001b[38;5;241m=\u001b[39m{\u001b[38;5;124m'\u001b[39m\u001b[38;5;124mname\u001b[39m\u001b[38;5;124m'\u001b[39m:\u001b[38;5;124m'\u001b[39m\u001b[38;5;124mJohn\u001b[39m\u001b[38;5;124m'\u001b[39m,\u001b[38;5;124m'\u001b[39m\u001b[38;5;124mage\u001b[39m\u001b[38;5;124m'\u001b[39m:\u001b[38;5;241m27\u001b[39m,\u001b[38;5;124m'\u001b[39m\u001b[38;5;124msalary\u001b[39m\u001b[38;5;124m'\u001b[39m:\u001b[38;5;241m25000\u001b[39m}\n\u001b[1;32m----> 2\u001b[0m employee[dept]\u001b[38;5;241m=\u001b[39m\u001b[38;5;124m'\u001b[39m\u001b[38;5;124mManagement\u001b[39m\u001b[38;5;124m'\u001b[39m\n",
      "\u001b[1;31mNameError\u001b[0m: name 'dept' is not defined"
     ]
    }
   ],
   "source": [
    "employee={'name':'John','age':27,'salary':25000}\n",
    "employee[dept]='Management'"
   ]
  },
  {
   "cell_type": "code",
   "execution_count": 105,
   "id": "ecff70ba-ed30-4070-b59b-e35181630820",
   "metadata": {},
   "outputs": [
    {
     "data": {
      "text/plain": [
       "{'name': 'John', 'age': 27, 'salary': 25000, 'dept': 'Management'}"
      ]
     },
     "execution_count": 105,
     "metadata": {},
     "output_type": "execute_result"
    }
   ],
   "source": [
    "employee['dept']='Management'\n",
    "employee"
   ]
  },
  {
   "cell_type": "markdown",
   "id": "0f1cac17-b5a3-4c35-af15-7b694f7be01c",
   "metadata": {},
   "source": [
    "<h4>Nesting Dictionaries</h4>"
   ]
  },
  {
   "cell_type": "code",
   "execution_count": 116,
   "id": "fa144335-7351-476b-b0c8-69ccd283c80f",
   "metadata": {},
   "outputs": [
    {
     "name": "stdout",
     "output_type": "stream",
     "text": [
      "john = {'age': 27, 'salary': 25000, 'dept': 'Management'}\n",
      "kate = {'age': 23, 'salary': 30000, 'dept': 'Marketing'}\n"
     ]
    }
   ],
   "source": [
    "# make a dictionary that consist info about two workers.\n",
    "employee={'john':{'age':27,'salary':25000,'dept':'Management'},\n",
    "          'kate':{'age':23,'salary':30000,'dept':'Marketing'}}\n",
    "for key in employee:\n",
    "    print(key,'=',employee[key])"
   ]
  },
  {
   "cell_type": "markdown",
   "id": "0a253c25-2acd-4d19-87e3-6e18ce01ff5f",
   "metadata": {},
   "source": [
    "<h4>Updating Existing Elements in Dictionary</h4>\n",
    "\n",
    "- we can change value of existing key using assignment ."
   ]
  },
  {
   "cell_type": "code",
   "execution_count": 123,
   "id": "2d7f68f2-0c4b-4ce9-b5d9-8b740a6d8738",
   "metadata": {},
   "outputs": [
    {
     "data": {
      "text/plain": [
       "{'john': {'age': 27, 'salary': 35000, 'dept': 'Management'},\n",
       " 'kate': {'age': 23, 'salary': 30000, 'dept': 'Marketing'}}"
      ]
     },
     "execution_count": 123,
     "metadata": {},
     "output_type": "execute_result"
    }
   ],
   "source": [
    "employee['john']['salary']=35000\n",
    "employee"
   ]
  },
  {
   "cell_type": "markdown",
   "id": "9f74e247-21d1-4747-b161-2baba9b972fd",
   "metadata": {},
   "source": [
    "<h4>Q. write a program to create a dictionary containing names of competition winner students as keys and number of their wins as values</h4>"
   ]
  },
  {
   "cell_type": "code",
   "execution_count": 136,
   "id": "e22d94d8-c0c7-4769-8fab-cb3ed7e0dd96",
   "metadata": {},
   "outputs": [
    {
     "name": "stdin",
     "output_type": "stream",
     "text": [
      "enter the number of students: 5\n",
      "enter the name of winner: abhay\n",
      "number of matches won 3\n",
      "enter the name of winner: abhishek\n",
      "number of matches won 3\n",
      "enter the name of winner: bhumika\n",
      "number of matches won 4\n",
      "enter the name of winner: deepal\n",
      "number of matches won 5\n",
      "enter the name of winner: vikram\n",
      "number of matches won 4\n"
     ]
    },
    {
     "name": "stdout",
     "output_type": "stream",
     "text": [
      "winners are: {'abhay': 3, 'abhishek': 3, 'bhumika': 4, 'deepal': 5, 'vikram': 4}\n"
     ]
    }
   ],
   "source": [
    "\n",
    "n=int(input('enter the number of students:'))\n",
    "winners={}\n",
    "for i in range(n):\n",
    "    key=input('enter the name of winner:')\n",
    "    value=int(input('number of matches won'))\n",
    "    winners[key]=value\n",
    "print('winners are:',winners)"
   ]
  },
  {
   "cell_type": "markdown",
   "id": "36d9152b-961c-4ad2-bf5e-6e3f36b7ffba",
   "metadata": {},
   "source": [
    "<h4>Deleting elements</h4>\n",
    "\n",
    "- to delete we can use 'del' keyword.\n",
    "  - del dictionary_name[key]\n",
    "- another method is by using pop() method.pop() method will also return the value deleted.It also allows us to specify a default error message if a key does not exist.\n",
    "  - dictionary_name.pop(key)"
   ]
  },
  {
   "cell_type": "code",
   "execution_count": 148,
   "id": "40e63fae-7785-47b0-9775-c10066c50ba9",
   "metadata": {},
   "outputs": [
    {
     "ename": "NameError",
     "evalue": "name 'kate' is not defined",
     "output_type": "error",
     "traceback": [
      "\u001b[1;31m---------------------------------------------------------------------------\u001b[0m",
      "\u001b[1;31mNameError\u001b[0m                                 Traceback (most recent call last)",
      "Cell \u001b[1;32mIn[148], line 5\u001b[0m\n\u001b[0;32m      1\u001b[0m employee\u001b[38;5;241m=\u001b[39m{\u001b[38;5;124m'\u001b[39m\u001b[38;5;124mjohn\u001b[39m\u001b[38;5;124m'\u001b[39m:{\u001b[38;5;124m'\u001b[39m\u001b[38;5;124mage\u001b[39m\u001b[38;5;124m'\u001b[39m:\u001b[38;5;241m27\u001b[39m,\u001b[38;5;124m'\u001b[39m\u001b[38;5;124msalary\u001b[39m\u001b[38;5;124m'\u001b[39m:\u001b[38;5;241m25000\u001b[39m,\u001b[38;5;124m'\u001b[39m\u001b[38;5;124mdept\u001b[39m\u001b[38;5;124m'\u001b[39m:\u001b[38;5;124m'\u001b[39m\u001b[38;5;124mManagement\u001b[39m\u001b[38;5;124m'\u001b[39m},\n\u001b[0;32m      2\u001b[0m           \u001b[38;5;124m'\u001b[39m\u001b[38;5;124mkate\u001b[39m\u001b[38;5;124m'\u001b[39m:{\u001b[38;5;124m'\u001b[39m\u001b[38;5;124mage\u001b[39m\u001b[38;5;124m'\u001b[39m:\u001b[38;5;241m23\u001b[39m,\u001b[38;5;124m'\u001b[39m\u001b[38;5;124msalary\u001b[39m\u001b[38;5;124m'\u001b[39m:\u001b[38;5;241m30000\u001b[39m,\u001b[38;5;124m'\u001b[39m\u001b[38;5;124mdept\u001b[39m\u001b[38;5;124m'\u001b[39m:\u001b[38;5;124m'\u001b[39m\u001b[38;5;124mMarketing\u001b[39m\u001b[38;5;124m'\u001b[39m},\n\u001b[0;32m      3\u001b[0m           \u001b[38;5;124m'\u001b[39m\u001b[38;5;124mwilliam\u001b[39m\u001b[38;5;124m'\u001b[39m:{\u001b[38;5;124m'\u001b[39m\u001b[38;5;124mage\u001b[39m\u001b[38;5;124m'\u001b[39m:\u001b[38;5;241m28\u001b[39m,\u001b[38;5;124m'\u001b[39m\u001b[38;5;124msalary\u001b[39m\u001b[38;5;124m'\u001b[39m:\u001b[38;5;241m40000\u001b[39m,\u001b[38;5;124m'\u001b[39m\u001b[38;5;124mdept\u001b[39m\u001b[38;5;124m'\u001b[39m:\u001b[38;5;124m'\u001b[39m\u001b[38;5;124mdeveloper\u001b[39m\u001b[38;5;124m'\u001b[39m}\n\u001b[0;32m      4\u001b[0m          }\n\u001b[1;32m----> 5\u001b[0m \u001b[38;5;28;01mdel\u001b[39;00m employee[kate]\n",
      "\u001b[1;31mNameError\u001b[0m: name 'kate' is not defined"
     ]
    }
   ],
   "source": [
    "employee={'john':{'age':27,'salary':25000,'dept':'Management'},\n",
    "          'kate':{'age':23,'salary':30000,'dept':'Marketing'},\n",
    "          'william':{'age':28,'salary':40000,'dept':'developer'}\n",
    "         }\n",
    "del employee[kate]"
   ]
  },
  {
   "cell_type": "code",
   "execution_count": 152,
   "id": "87981277-2e05-4d01-8fbb-a1411c59371f",
   "metadata": {},
   "outputs": [
    {
     "name": "stdout",
     "output_type": "stream",
     "text": [
      "{'john': {'age': 27, 'salary': 25000, 'dept': 'Management'}, 'william': {'age': 28, 'salary': 40000, 'dept': 'developer'}}\n"
     ]
    }
   ],
   "source": [
    "employee={'john':{'age':27,'salary':25000,'dept':'Management'},\n",
    "          'kate':{'age':23,'salary':30000,'dept':'Marketing'},\n",
    "          'william':{'age':28,'salary':40000,'dept':'developer'}\n",
    "         }\n",
    "del employee['kate']\n",
    "print(employee)"
   ]
  },
  {
   "cell_type": "code",
   "execution_count": 158,
   "id": "84ee38fc-c275-4968-b3fe-3b871fd444e3",
   "metadata": {},
   "outputs": [
    {
     "data": {
      "text/plain": [
       "{'age': 28, 'salary': 40000, 'dept': 'developer'}"
      ]
     },
     "execution_count": 158,
     "metadata": {},
     "output_type": "execute_result"
    }
   ],
   "source": [
    "employee={'john':{'age':27,'salary':25000,'dept':'Management'},\n",
    "          'kate':{'age':23,'salary':30000,'dept':'Marketing'},\n",
    "          'william':{'age':28,'salary':40000,'dept':'developer'}}\n",
    "employee.pop('william')"
   ]
  },
  {
   "cell_type": "code",
   "execution_count": 163,
   "id": "8764a2a6-8054-4ced-a907-dfda4f2e4f89",
   "metadata": {},
   "outputs": [
    {
     "data": {
      "text/plain": [
       "'does not exist'"
      ]
     },
     "execution_count": 163,
     "metadata": {},
     "output_type": "execute_result"
    }
   ],
   "source": [
    "employee.pop('riya','does not exist')"
   ]
  },
  {
   "cell_type": "markdown",
   "id": "9a856bea-4a72-425b-8882-044a1e8b8ebb",
   "metadata": {},
   "source": [
    "<h5>Checking for existence of a key</h5>\n",
    "\n",
    "- The 'in' and 'not in' operatror check for membership only in keys of the dictionary and not in values."
   ]
  },
  {
   "cell_type": "code",
   "execution_count": 8,
   "id": "928e9287-4fb6-4ba0-9a94-b89190a97980",
   "metadata": {},
   "outputs": [
    {
     "name": "stdout",
     "output_type": "stream",
     "text": [
      "True\n",
      "False\n",
      "False\n"
     ]
    }
   ],
   "source": [
    "employee={'john':{'age':27,'salary':25000,'dept':'Management'},\n",
    "          'kate':{'age':23,'salary':30000,'dept':'Marketing'},\n",
    "          'william':{'age':28,'salary':40000,'dept':'developer'}}\n",
    "print('john' in employee)\n",
    "print('age' in employee)\n",
    "print('william' not in employee)"
   ]
  },
  {
   "cell_type": "markdown",
   "id": "39245d02-1924-4b6f-8af5-6cfdd5cba042",
   "metadata": {},
   "source": [
    "<h3>Dictionary Functions and Methods:</h3>"
   ]
  },
  {
   "cell_type": "markdown",
   "id": "eb0f032f-5049-4839-9f6e-947c43ac9b59",
   "metadata": {},
   "source": [
    "<h4>len()</h4>\n",
    "\n",
    "- returns length of the dictionary,i.e. the count of elements(key:value) in a dictionary.\n",
    "- syntax:  len(dict_name)"
   ]
  },
  {
   "cell_type": "code",
   "execution_count": 13,
   "id": "602ef153-d541-4f07-90a3-ee2d00a1bae1",
   "metadata": {},
   "outputs": [
    {
     "name": "stdout",
     "output_type": "stream",
     "text": [
      "3\n"
     ]
    }
   ],
   "source": [
    "employee={'john':{'age':27,'salary':25000,'dept':'Management'},\n",
    "          'kate':{'age':23,'salary':30000,'dept':'Marketing'},\n",
    "          'william':{'age':28,'salary':40000,'dept':'developer'}}\n",
    "print(len(employee)) \n",
    "# there are 3 key-value pair"
   ]
  },
  {
   "cell_type": "markdown",
   "id": "2436b906-075a-432d-ba29-b564a79b5996",
   "metadata": {},
   "source": [
    "#### clear() :\n",
    "\n",
    "- removes all the items from dictionary and the dictionary become empty.\n",
    "- syntax: dict_name.clear()\n",
    "- it takes no arguement and returns no value."
   ]
  },
  {
   "cell_type": "code",
   "execution_count": 18,
   "id": "8d797bdf-dd1b-4bba-bbee-0180cce5ed95",
   "metadata": {},
   "outputs": [],
   "source": [
    "employee={'john':{'age':27,'salary':25000,'dept':'Management'},\n",
    "          'kate':{'age':23,'salary':30000,'dept':'Marketing'},\n",
    "          'william':{'age':28,'salary':40000,'dept':'developer'}}\n",
    "employee.clear()"
   ]
  },
  {
   "cell_type": "code",
   "execution_count": 20,
   "id": "5521cafb-8915-4381-bc91-fff7ebfde0e3",
   "metadata": {},
   "outputs": [
    {
     "data": {
      "text/plain": [
       "{}"
      ]
     },
     "execution_count": 20,
     "metadata": {},
     "output_type": "execute_result"
    }
   ],
   "source": [
    "employee"
   ]
  },
  {
   "cell_type": "markdown",
   "id": "6a97e09d-f3a4-401e-a42b-0ad43de9f628",
   "metadata": {},
   "source": [
    "#### get():\n",
    "\n",
    "- with this method we can get the item with the given key,similar to dict_name[key] .\n",
    "- if key is not present , it by default gives an error ,but you can specify your own message through default argument"
   ]
  },
  {
   "cell_type": "code",
   "execution_count": 31,
   "id": "501cc0c6-8d9b-45c0-89dc-c5bbb9321fee",
   "metadata": {},
   "outputs": [
    {
     "name": "stdout",
     "output_type": "stream",
     "text": [
      "{'age': 23, 'salary': 30000, 'dept': 'Marketing'}\n",
      "None\n"
     ]
    }
   ],
   "source": [
    "employee={'john':{'age':27,'salary':25000,'dept':'Management'},\n",
    "          'kate':{'age':23,'salary':30000,'dept':'Marketing'},\n",
    "          'william':{'age':28,'salary':40000,'dept':'developer'}}\n",
    "print(employee.get('kate'))\n",
    "print(employee.get('age'))"
   ]
  },
  {
   "cell_type": "code",
   "execution_count": 33,
   "id": "d513ffe2-2fc1-498e-8f61-80ea559916d1",
   "metadata": {},
   "outputs": [
    {
     "data": {
      "text/plain": [
       "'not found'"
      ]
     },
     "execution_count": 33,
     "metadata": {},
     "output_type": "execute_result"
    }
   ],
   "source": [
    "employee.get('age','not found')"
   ]
  },
  {
   "cell_type": "code",
   "execution_count": 35,
   "id": "fa56c442-c76d-4602-86c9-184b041fd930",
   "metadata": {},
   "outputs": [
    {
     "data": {
      "text/plain": [
       "23"
      ]
     },
     "execution_count": 35,
     "metadata": {},
     "output_type": "execute_result"
    }
   ],
   "source": [
    "employee.get('kate').get('age') \n",
    "# here i'm trying to access the key of the nested dictionary ."
   ]
  },
  {
   "cell_type": "code",
   "execution_count": 41,
   "id": "006ba9b2-8511-444a-80df-dc2e5ed45bb8",
   "metadata": {},
   "outputs": [
    {
     "data": {
      "text/plain": [
       "'not found'"
      ]
     },
     "execution_count": 41,
     "metadata": {},
     "output_type": "execute_result"
    }
   ],
   "source": [
    "employee.get('riya','not found')"
   ]
  },
  {
   "cell_type": "markdown",
   "id": "411cb5de-5f60-4861-b31f-dfec8e04c3ae",
   "metadata": {},
   "source": [
    "#### items()\n",
    "\n",
    "- this returns all the items in the dictionary as a sequence of(key,value)tuples.\n",
    "- these are not returned in any particular order.\n",
    "- syntax: dict_name.itmes()\n",
    "- it takes no arguement "
   ]
  },
  {
   "cell_type": "code",
   "execution_count": 51,
   "id": "40f0c421-c5e7-41e9-8bd7-a5cc3969f492",
   "metadata": {},
   "outputs": [
    {
     "data": {
      "text/plain": [
       "dict_items([('john', {'age': 27, 'salary': 25000, 'dept': 'Management'}), ('kate', {'age': 23, 'salary': 30000, 'dept': 'Marketing'}), ('william', {'age': 28, 'salary': 40000, 'dept': 'developer'}), ('alice', {'age': 26, 'salary': 45000, 'dept': 'data science'})])"
      ]
     },
     "execution_count": 51,
     "metadata": {},
     "output_type": "execute_result"
    }
   ],
   "source": [
    "employee={'john':{'age':27,'salary':25000,'dept':'Management'},\n",
    "          'kate':{'age':23,'salary':30000,'dept':'Marketing'},\n",
    "          'william':{'age':28,'salary':40000,'dept':'developer'},\n",
    "         'alice':{'age':26,'salary':45000,'dept':'data science'}\n",
    "         }\n",
    "employee.items()"
   ]
  },
  {
   "cell_type": "code",
   "execution_count": 53,
   "id": "d9da15a2-aabd-4910-913c-fbb7cc8a9d88",
   "metadata": {},
   "outputs": [
    {
     "name": "stdout",
     "output_type": "stream",
     "text": [
      "john:{'age': 27, 'salary': 25000, 'dept': 'Management'}\n",
      "kate:{'age': 23, 'salary': 30000, 'dept': 'Marketing'}\n",
      "william:{'age': 28, 'salary': 40000, 'dept': 'developer'}\n",
      "alice:{'age': 26, 'salary': 45000, 'dept': 'data science'}\n"
     ]
    }
   ],
   "source": [
    "employee={'john':{'age':27,'salary':25000,'dept':'Management'},\n",
    "          'kate':{'age':23,'salary':30000,'dept':'Marketing'},\n",
    "          'william':{'age':28,'salary':40000,'dept':'developer'},\n",
    "         'alice':{'age':26,'salary':45000,'dept':'data science'}\n",
    "         }\n",
    "seq=employee.items()\n",
    "for k,v in seq:\n",
    "    print(f'{k}:{v}')"
   ]
  },
  {
   "cell_type": "markdown",
   "id": "4738794b-2b62-4fd5-8fb2-91aae0e19f19",
   "metadata": {},
   "source": [
    "#### keys()\n",
    "\n",
    "- this returns all of the keys in dictionary as sequence of keys(in form of list).\n",
    "- syntax: dict_name.keys()\n",
    "- takes no argument "
   ]
  },
  {
   "cell_type": "code",
   "execution_count": 58,
   "id": "55bb50b4-a5ed-4d83-8b11-31d8783047eb",
   "metadata": {},
   "outputs": [
    {
     "data": {
      "text/plain": [
       "dict_keys(['john', 'kate', 'william', 'alice'])"
      ]
     },
     "execution_count": 58,
     "metadata": {},
     "output_type": "execute_result"
    }
   ],
   "source": [
    "employee={'john':{'age':27,'salary':25000,'dept':'Management'},\n",
    "          'kate':{'age':23,'salary':30000,'dept':'Marketing'},\n",
    "          'william':{'age':28,'salary':40000,'dept':'developer'},\n",
    "         'alice':{'age':26,'salary':45000,'dept':'data science'}\n",
    "         }\n",
    "employee.keys()"
   ]
  },
  {
   "cell_type": "markdown",
   "id": "157282ed-dddf-402a-837f-3fd0a0a6940e",
   "metadata": {},
   "source": [
    "#### values()\n",
    "\n",
    "- this return all the values from the dictionary as a sequence (a list).\n",
    "- syntax: dict_name.keys()\n",
    "- it takes no argument."
   ]
  },
  {
   "cell_type": "code",
   "execution_count": 63,
   "id": "5274e5e1-5ae2-4b08-bd48-e06381897d5e",
   "metadata": {},
   "outputs": [
    {
     "data": {
      "text/plain": [
       "dict_values([{'age': 27, 'salary': 25000, 'dept': 'Management'}, {'age': 23, 'salary': 30000, 'dept': 'Marketing'}, {'age': 28, 'salary': 40000, 'dept': 'developer'}, {'age': 26, 'salary': 45000, 'dept': 'data science'}])"
      ]
     },
     "execution_count": 63,
     "metadata": {},
     "output_type": "execute_result"
    }
   ],
   "source": [
    "employee={'john':{'age':27,'salary':25000,'dept':'Management'},\n",
    "          'kate':{'age':23,'salary':30000,'dept':'Marketing'},\n",
    "          'william':{'age':28,'salary':40000,'dept':'developer'},\n",
    "         'alice':{'age':26,'salary':45000,'dept':'data science'}\n",
    "         }\n",
    "employee.values()"
   ]
  },
  {
   "cell_type": "markdown",
   "id": "136ad61c-47a3-4932-a92b-f58e0f08142c",
   "metadata": {},
   "source": [
    "#### update()\n",
    "\n",
    "- this method merges key:value pairs from the new dictionary into the original dictionary,\n",
    "  adding or replacing as needed.\n",
    "- the items in the new dictionary are added to the old one and override any items already there\n",
    " there with the same keys.\n",
    "- syntax: dict_name.update(other_dict_name)"
   ]
  },
  {
   "cell_type": "code",
   "execution_count": 70,
   "id": "5fdf440a-7498-460f-a631-8a4a796615ee",
   "metadata": {},
   "outputs": [
    {
     "name": "stdout",
     "output_type": "stream",
     "text": [
      "{'diya': {'age': 21, 'salary': 30000, 'dept': 'marketing'}, 'sanchay': {'age': 22, 'salary': 30000, 'dept': 'sales'}}\n"
     ]
    }
   ],
   "source": [
    "emp1={'diya':{'age':21,\"salary\":30000,'dept':'marketing'}}\n",
    "emp2={'sanchay':{'age':22,'salary':30000,'dept':'sales'}}\n",
    "emp1.update(emp2)\n",
    "print(emp1)"
   ]
  },
  {
   "cell_type": "markdown",
   "id": "1a73602d-890b-445b-a6e6-8b1abf427d64",
   "metadata": {},
   "source": [
    "#### Q. write a program to print the maximum value from within all the values tuples at same index."
   ]
  },
  {
   "cell_type": "code",
   "execution_count": 103,
   "id": "f924e474-6e50-473c-8f6b-229f08ac29af",
   "metadata": {},
   "outputs": [
    {
     "name": "stdout",
     "output_type": "stream",
     "text": [
      "[4, 1, 5]\n",
      "[3, 2, 1]\n",
      "maximum element at 0th index :5\n",
      "maximum element at 1th index:3\n"
     ]
    }
   ],
   "source": [
    "my_points={'a':(4,3),'b':(1,2),'c':(5,1)}\n",
    "max_at_0=[]\n",
    "max_at_1=[]\n",
    "for key,value in my_points.items():\n",
    "    max_at_0.append(my_points[key][0])\n",
    "for key,value in my_points.items():\n",
    "    max_at_1.append(my_points[key][1])\n",
    "print(max_at_0)\n",
    "print(max_at_1)\n",
    "max_0=max_at_0[0]\n",
    "for i in max_at_0:\n",
    "    if max_0<i:\n",
    "        max_0=i\n",
    "max_1=max_at_1[0]\n",
    "for i in max_at_1:\n",
    "    if max_1<i:\n",
    "        max_1=i\n",
    "print(f'maximum element at 0th index :{max_0}')\n",
    "print(f'maximum element at 1th index:{max_1}')"
   ]
  },
  {
   "cell_type": "code",
   "execution_count": 83,
   "id": "b6c8412c-e758-4a11-a4d9-a2d8ef6bdf04",
   "metadata": {},
   "outputs": [
    {
     "name": "stdout",
     "output_type": "stream",
     "text": [
      "4\n"
     ]
    }
   ],
   "source": []
  },
  {
   "cell_type": "code",
   "execution_count": null,
   "id": "d0d2fbdb-7cf4-48a9-b40f-2091c9452488",
   "metadata": {},
   "outputs": [],
   "source": []
  }
 ],
 "metadata": {
  "kernelspec": {
   "display_name": "Python 3 (ipykernel)",
   "language": "python",
   "name": "python3"
  },
  "language_info": {
   "codemirror_mode": {
    "name": "ipython",
    "version": 3
   },
   "file_extension": ".py",
   "mimetype": "text/x-python",
   "name": "python",
   "nbconvert_exporter": "python",
   "pygments_lexer": "ipython3",
   "version": "3.12.4"
  }
 },
 "nbformat": 4,
 "nbformat_minor": 5
}
