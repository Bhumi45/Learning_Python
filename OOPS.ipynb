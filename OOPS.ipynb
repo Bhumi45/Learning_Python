{
 "cells": [
  {
   "cell_type": "markdown",
   "id": "38aa9d22-260c-4818-94cb-84223f09a5dd",
   "metadata": {},
   "source": [
    "#  <span style=\"color:green\">OOPS </style>: Object Oriented Programming"
   ]
  },
  {
   "cell_type": "markdown",
   "id": "20111a30-eb4a-4ec0-8f8c-e5ba654858f4",
   "metadata": {},
   "source": [
    "##  <span style=\"color:red\">CLASS AND INSTANCES(OBJECTS)</span>"
   ]
  },
  {
   "cell_type": "markdown",
   "id": "01200cb4-003a-47fd-9167-99456b8dad2b",
   "metadata": {},
   "source": [
    "## Class\n",
    "- It is a blueprint for creating objects.(class is a blueprint of how the object will behave.)\n",
    "- It defines the features of object (features a object should have).\n",
    "- To define a class we use 'class' keyword.\n",
    "- It consist of the information that needs to be stored for an object.\n",
    "- Methods and attributes of class can only be accessed with the help of object.\n",
    "- Without the object one method cannot call the other method ."
   ]
  },
  {
   "cell_type": "markdown",
   "id": "a2414690-f63e-4cd6-83e2-37dc5416d7b3",
   "metadata": {},
   "source": [
    "## Object:\n",
    "- objects are instances of class."
   ]
  },
  {
   "cell_type": "code",
   "execution_count": 17,
   "id": "d3c0f657-37ab-438a-8e81-7cf021a51bf3",
   "metadata": {},
   "outputs": [
    {
     "name": "stdout",
     "output_type": "stream",
     "text": [
      "<__main__.Student object at 0x00000212B17A9F70>\n",
      "karan\n",
      "karan\n",
      "2279256703696\n",
      "2279256703696\n",
      "2279310270320\n",
      "2279291386480\n"
     ]
    }
   ],
   "source": [
    "# syntax to create a class\n",
    "class Student:\n",
    "    name='karan'# this is the information that needs to be stored about the objects of class student.\n",
    "                # here all the objects(students) will have same name.\n",
    "# creating object(instance)\n",
    "s1=Student()\n",
    "print(s1)\n",
    "print(s1.name)\n",
    "s2=Student()\n",
    "print(s2.name)\n",
    "print(id(s1.name))\n",
    "print(id(s2.name))\n",
    "print(id(s1))\n",
    "print(id(s2))"
   ]
  },
  {
   "cell_type": "code",
   "execution_count": 232,
   "id": "7e8876bf-78de-40b2-b004-f6dc9134ef3d",
   "metadata": {},
   "outputs": [
    {
     "name": "stdout",
     "output_type": "stream",
     "text": [
      "<__main__.student object at 0x00000266E9F41D90>\n"
     ]
    }
   ],
   "source": [
    "class student:\n",
    "    pass\n",
    "s1=student() # syntax to create object.\n",
    "print(s1)"
   ]
  },
  {
   "cell_type": "code",
   "execution_count": 10,
   "id": "d7ebaf4b-1743-4ed9-a902-040275795a5f",
   "metadata": {},
   "outputs": [],
   "source": [
    "class student:\n",
    "    school_name=\"whitehall\"\n",
    "s1=student()\n",
    "s2=student() # s1 and s2 are objects"
   ]
  },
  {
   "cell_type": "code",
   "execution_count": 16,
   "id": "50c24510-a117-4562-bc39-d353754d779d",
   "metadata": {},
   "outputs": [
    {
     "name": "stdout",
     "output_type": "stream",
     "text": [
      "whitehall\n",
      "whitehall\n"
     ]
    }
   ],
   "source": [
    "print(s1.school_name) # since the atrribute is defined inside the class its value will be same for all the objects.\n",
    "print(s2.school_name)"
   ]
  },
  {
   "cell_type": "markdown",
   "id": "af1fdfa6-af0f-4600-8181-588318c8ecb7",
   "metadata": {},
   "source": [
    "### <span style=\"color:red\"> Constructor</span>: is a special type of function called to create an object\n",
    "-  ### <span style=\"color:green\">__init__ function</span>:\n",
    "  - All classes have a function __init__() which is always initiated when a object is created.\n",
    "  - This function is called automatically when a object is created.\n",
    "  - __init__() is executed automatically irrespective of whether we have created a one or not in or class.\n",
    "  - It always take at least one parameter that is 'self' parameter.\n",
    "  - self is the reference of the current object created.\n",
    "  - A class has its attributes which are the features of the object of that class.\n",
    "  - Data stored for an objects are called attributes.These are feature of object.\n",
    "\n",
    "                    "
   ]
  },
  {
   "cell_type": "code",
   "execution_count": null,
   "id": "092c2ee8-3e3d-4f2c-b573-fe87c92e0547",
   "metadata": {},
   "outputs": [],
   "source": [
    "class student:\n",
    "    pass\n",
    "s1=student()#automatically a init func is created and executed.\n",
    "print(s1)"
   ]
  },
  {
   "cell_type": "code",
   "execution_count": 19,
   "id": "065c1c3a-0a33-426d-a115-0322b458d02f",
   "metadata": {},
   "outputs": [
    {
     "name": "stdout",
     "output_type": "stream",
     "text": [
      "2279286756256\n",
      "adding new student in database\n",
      "<__main__.student object at 0x00000212B013D3A0>\n",
      "<__main__.student object at 0x00000212B013D3A0>\n",
      "2279286517600\n",
      "adding new student in database\n",
      "<__main__.student object at 0x00000212B0102F60>\n",
      "2279286756256\n"
     ]
    }
   ],
   "source": [
    "class student:\n",
    "    def __init__(self):# self is the new object created.it is the referene of object created.\n",
    "        print(id(self))\n",
    "        print('adding new student in database')\n",
    "        print(self)\n",
    "s1=student() #() calls the constructor.\n",
    "print(s1)\n",
    "s2=student()\n",
    "print(id(s1))"
   ]
  },
  {
   "cell_type": "code",
   "execution_count": 7,
   "id": "fd4656d4-2e6f-496c-8cfb-8e935da44651",
   "metadata": {},
   "outputs": [
    {
     "name": "stdout",
     "output_type": "stream",
     "text": [
      "<__main__.student object at 0x0000028310CAC5C0> object is called constructor is called\n",
      "whitehall\n",
      "<__main__.student object at 0x0000028310D10B00> object is called constructor is called\n"
     ]
    }
   ],
   "source": [
    "class student:\n",
    "    school_name='whitehall'\n",
    "    def __init__(self):\n",
    "        print(self,'object is called',\"constructor is called\")\n",
    "s1=student()\n",
    "print(s1.school_name)\n",
    "s2=student() #self is pointing to s1 object."
   ]
  },
  {
   "cell_type": "code",
   "execution_count": 27,
   "id": "c990af55-47fc-43c4-8cf0-146b9254ca11",
   "metadata": {},
   "outputs": [
    {
     "ename": "TypeError",
     "evalue": "Student.__init__() missing 2 required positional arguments: 'name' and 'standard'",
     "output_type": "error",
     "traceback": [
      "\u001b[1;31m---------------------------------------------------------------------------\u001b[0m",
      "\u001b[1;31mTypeError\u001b[0m                                 Traceback (most recent call last)",
      "Cell \u001b[1;32mIn[27], line 9\u001b[0m\n\u001b[0;32m      7\u001b[0m         \u001b[38;5;28mself\u001b[39m\u001b[38;5;241m.\u001b[39mname\u001b[38;5;241m=\u001b[39mname\n\u001b[0;32m      8\u001b[0m         \u001b[38;5;28mself\u001b[39m\u001b[38;5;241m.\u001b[39mstandard\u001b[38;5;241m=\u001b[39mstandard\n\u001b[1;32m----> 9\u001b[0m s1\u001b[38;5;241m=\u001b[39mStudent()\n",
      "\u001b[1;31mTypeError\u001b[0m: Student.__init__() missing 2 required positional arguments: 'name' and 'standard'"
     ]
    }
   ],
   "source": [
    "class Student:\n",
    "    #default constructor\n",
    "    def __init__(self):\n",
    "        print('welcome to default constructors')\n",
    "    # parameterized constructor\n",
    "    def __init__(self, name, standard):\n",
    "        self.name=name\n",
    "        self.standard=standard\n",
    "s1=Student()\n",
    "#, if a class has multiple methods with the same name, the last one defined will override any previous ones. \n",
    "#In your code, there are two __init__ methods defined in the Student class. \n",
    "#However, only the second one (the parameterized constructor) will be retained because it is defined last."
   ]
  },
  {
   "cell_type": "code",
   "execution_count": 36,
   "id": "9d6f62d9-ca52-406a-bcf1-3766acaca512",
   "metadata": {},
   "outputs": [
    {
     "name": "stdout",
     "output_type": "stream",
     "text": [
      "bhumika 12th\n"
     ]
    }
   ],
   "source": [
    "class Student:\n",
    "    #default constructor\n",
    "    def __init__(self):\n",
    "        print('welcome to default constructors')\n",
    "    # parameterized constructor\n",
    "    def __init__(self, name, standard):\n",
    "        self.name=name\n",
    "        self.standard=standard\n",
    "s1=Student('bhumika','12th')\n",
    "print(s1.name,s1.standard)"
   ]
  },
  {
   "cell_type": "markdown",
   "id": "b6bc4f3f-430e-4864-b6aa-71254b0090b0",
   "metadata": {},
   "source": [
    "<h4>What is the utility of constructor?</h4>\n",
    "\n",
    "- Since its a fucntion whose control is not within the user,it is automatically executed (suppose as we open an app)\n",
    "- So generally inside constructor we perform configuration related task for which we don't want user to have control like connecting to internet.\n",
    "- Task for which we don't have to rely on user."
   ]
  },
  {
   "cell_type": "markdown",
   "id": "bdb32dad-2481-4d34-ba08-113fecf39386",
   "metadata": {},
   "source": [
    "- ####  <span style=\"color:red\">Class and Instance(object) Attributes</span>:\n",
    "   - ##### Class attributes:\n",
    "     - Are those attributes whose values are same for all object.\n",
    "   - ##### Object attributes:\n",
    "     -  Are whoses which are defined inside the func() and have specific value for every          object.\n",
    "     -  Also calles instance variable.\n",
    "    "
   ]
  },
  {
   "cell_type": "code",
   "execution_count": 36,
   "id": "77e223ca-8367-4815-92bc-c16c5dc15fce",
   "metadata": {},
   "outputs": [
    {
     "name": "stdout",
     "output_type": "stream",
     "text": [
      "bhumika 2\n",
      "diya 3\n"
     ]
    }
   ],
   "source": [
    "class student:                        # the data stored inside the class of an object is called attributes of that object.\n",
    "    school_name='whitehall'           # here school_name is class attribute and name,rollno. is object attribute.\n",
    "    def __init__(abc,name,rollno):# instead of self we can also give any other name. but generally self is prefered.\n",
    "        abc.name=name\n",
    "        abc.rollno=rollno\n",
    "s1=student('bhumika',2)\n",
    "s2=student('diya',3)\n",
    "# print(s1.name , s1.rollno)\n",
    "# print(s2.name , s2.rollno)\n",
    "        "
   ]
  },
  {
   "cell_type": "code",
   "execution_count": 38,
   "id": "9151bd40-efa9-48bf-92dc-2ee2be7b9081",
   "metadata": {},
   "outputs": [
    {
     "name": "stdout",
     "output_type": "stream",
     "text": [
      "bhumika 2 whitehall\n",
      "<__main__.student object at 0x00000212AF665B50>\n",
      "diya , 3 , whitehall\n",
      "whitehall\n"
     ]
    }
   ],
   "source": [
    "print(s1.name,s1.rollno,s1.school_name)\n",
    "print(s1)\n",
    "print(s2.name,',',s2.rollno,',',s2.school_name)\n",
    "print(student.school_name)"
   ]
  },
  {
   "cell_type": "code",
   "execution_count": 40,
   "id": "c7188aad-6f00-483d-8236-16131ac343ea",
   "metadata": {},
   "outputs": [
    {
     "name": "stdout",
     "output_type": "stream",
     "text": [
      "<__main__.student object at 0x00000212AF665B50> <__main__.student object at 0x00000212B18ADAF0>\n"
     ]
    }
   ],
   "source": [
    "print(s1,s2)"
   ]
  },
  {
   "cell_type": "markdown",
   "id": "41e47456-15d2-41f5-aa41-08c3dd1256c9",
   "metadata": {},
   "source": [
    "#####  <span style=\"color:pink\">When both class and object attribute has same name.Then,\n",
    "- ##### The precedence of object attribute>class attribute.</span>"
   ]
  },
  {
   "cell_type": "code",
   "execution_count": 42,
   "id": "4fbe3cb5-32c4-4ba1-a1b6-2b92970de881",
   "metadata": {},
   "outputs": [
    {
     "name": "stdout",
     "output_type": "stream",
     "text": [
      "riya , DSB\n"
     ]
    }
   ],
   "source": [
    "class Student:\n",
    "    college_name=\"DSB\"\n",
    "    name=\"diya\"# class atr\n",
    "    def __init__(self,name):\n",
    "        self.name=name #object atr\n",
    "s1=Student('riya')\n",
    "print(s1.name,',',s1.college_name)"
   ]
  },
  {
   "cell_type": "code",
   "execution_count": 9,
   "id": "d11606da-92a0-4987-9759-1bd8b14b03cd",
   "metadata": {},
   "outputs": [
    {
     "name": "stdout",
     "output_type": "stream",
     "text": [
      "riya , DSB\n"
     ]
    }
   ],
   "source": [
    "class Student:\n",
    "    def __init__(self,name):\n",
    "        self.name=name #object atr\n",
    "    college_name=\"DSB\"\n",
    "    name=\"diya\"# class atr\n",
    "s2=Student('riya')\n",
    "print(s2.name,',',s2.college_name)"
   ]
  },
  {
   "cell_type": "code",
   "execution_count": 42,
   "id": "88ca1738-b1a9-4a34-982c-a8180b091f49",
   "metadata": {},
   "outputs": [],
   "source": [
    "class student  \n",
    "# the data stored inside the class of an object is called attributes of that object.\n",
    "    school_name='whitehall' # here school_name is class attribute and name,rollno. is object attribute.\n",
    "    name=\"Riya\" # class attr\n",
    "    def __init__(self,name,rollno):\n",
    "        self.name=name ## obj attr\n",
    "        self.rollno=rollno\n",
    " # here both class and obj attribute has same names.       "
   ]
  },
  {
   "cell_type": "code",
   "execution_count": 59,
   "id": "82e518b0-4629-40d9-88cb-17b77632a1c9",
   "metadata": {},
   "outputs": [
    {
     "name": "stdout",
     "output_type": "stream",
     "text": [
      "bhumika\n",
      "False\n"
     ]
    }
   ],
   "source": [
    "s1=student('bhumika',2) # obj attr > class attr.\n",
    "s2=student('diya',3)\n",
    "print(s1.name)\n",
    "print(s1==s2)"
   ]
  },
  {
   "cell_type": "code",
   "execution_count": 55,
   "id": "ae4a961f-96b9-4645-86c4-5bcb816ddafe",
   "metadata": {},
   "outputs": [
    {
     "name": "stdout",
     "output_type": "stream",
     "text": [
      "object is created\n"
     ]
    }
   ],
   "source": [
    "class dog:\n",
    "    print(\"object is created\")"
   ]
  },
  {
   "cell_type": "code",
   "execution_count": 57,
   "id": "43fa9336-6dfe-4681-8b8b-70674d20ff3c",
   "metadata": {},
   "outputs": [
    {
     "data": {
      "text/plain": [
       "<__main__.dog at 0x266e92c7560>"
      ]
     },
     "execution_count": 57,
     "metadata": {},
     "output_type": "execute_result"
    }
   ],
   "source": [
    "dog()"
   ]
  },
  {
   "cell_type": "markdown",
   "id": "cf72ff59-5ce8-4f2f-b89f-736231e2a35f",
   "metadata": {},
   "source": [
    "####  <span style=\"color:red\">Class is collection of two things</span>: 1. data/attributes. 2.Methods\n",
    " -  <span style=\"color:red\">Attributes</span> are the properties of the object.\n",
    " -  <span style=\"color:red\">Methods</span> are the functions that can object can perform.\n",
    " -  methods are functions that you define inside a class and can only call on an instance of that class.\n",
    " -  all the methods has one default parameter 'self'."
   ]
  },
  {
   "cell_type": "code",
   "execution_count": 122,
   "id": "2786b9da-d7b9-402e-aaa5-3fcc88eb2fad",
   "metadata": {},
   "outputs": [],
   "source": [
    "class student:\n",
    "    def __init__(self,name,rollno,marks):\n",
    "        self.name=name\n",
    "        self.rollno=rollno\n",
    "        self.marks=marks\n",
    "    def greet(self):\n",
    "        print(\"hello student\")\n",
    "    def display_info(self):\n",
    "        print(self.name,self.rollno,self.marks)\n",
    " # greet() , display_marks () are the methods        "
   ]
  },
  {
   "cell_type": "code",
   "execution_count": 124,
   "id": "cf4f7579-2fa8-4ec3-bed6-d18ed1218fc4",
   "metadata": {},
   "outputs": [
    {
     "name": "stdout",
     "output_type": "stream",
     "text": [
      "hello student\n",
      "siya 23 45\n"
     ]
    }
   ],
   "source": [
    "s1=student('siya',23,45)\n",
    "s1.greet()\n",
    "s1.display_info()"
   ]
  },
  {
   "cell_type": "code",
   "execution_count": 142,
   "id": "82cd9546-f0c3-4496-82f4-b299064e228d",
   "metadata": {},
   "outputs": [],
   "source": [
    "## create a student class that takes name and marks of three subjects as arguments in a constructor and create a method to print there average.\n",
    "class student:\n",
    "    def __init__(self,name,sub1,sub2,sub3):\n",
    "        self.name=name\n",
    "        self.english=sub1\n",
    "        self.maths=sub2\n",
    "        self.science=sub3\n",
    "    def average(self):\n",
    "        avg=(self.english+self.maths+self.science)/3\n",
    "        print(avg)"
   ]
  },
  {
   "cell_type": "code",
   "execution_count": 146,
   "id": "0eb5d68c-2ae2-4758-b79a-92adbf950205",
   "metadata": {},
   "outputs": [
    {
     "name": "stdout",
     "output_type": "stream",
     "text": [
      "84.0\n",
      "88.0\n"
     ]
    }
   ],
   "source": [
    "s1=student('bhumika',89,87,76)\n",
    "s1.average()\n",
    "s2=student('diya',88,98,78)\n",
    "s2.average()"
   ]
  },
  {
   "cell_type": "code",
   "execution_count": 164,
   "id": "19a5c31c-f251-41b5-80e6-d506f2a4551f",
   "metadata": {},
   "outputs": [
    {
     "name": "stdout",
     "output_type": "stream",
     "text": [
      "siya\n"
     ]
    },
    {
     "ename": "AttributeError",
     "evalue": "'student' object has no attribute 'var'",
     "output_type": "error",
     "traceback": [
      "\u001b[1;31m---------------------------------------------------------------------------\u001b[0m",
      "\u001b[1;31mAttributeError\u001b[0m                            Traceback (most recent call last)",
      "Cell \u001b[1;32mIn[164], line 12\u001b[0m\n\u001b[0;32m     10\u001b[0m         \u001b[38;5;28mprint\u001b[39m(avg)\n\u001b[0;32m     11\u001b[0m s1\u001b[38;5;241m=\u001b[39mstudent(\u001b[38;5;124m'\u001b[39m\u001b[38;5;124msiya\u001b[39m\u001b[38;5;124m'\u001b[39m,\u001b[38;5;241m88\u001b[39m,\u001b[38;5;241m98\u001b[39m,\u001b[38;5;241m86\u001b[39m)\n\u001b[1;32m---> 12\u001b[0m s1\u001b[38;5;241m.\u001b[39mvar\n",
      "\u001b[1;31mAttributeError\u001b[0m: 'student' object has no attribute 'var'"
     ]
    }
   ],
   "source": [
    "class student:\n",
    "    def __init__(self,name,sub1,sub2,sub3):\n",
    "        var=name\n",
    "        english=sub1\n",
    "        maths=sub2\n",
    "        science=sub3\n",
    "        print(var)\n",
    "    def average(self):\n",
    "        avg=(english+maths+science)/3\n",
    "        print(avg)\n",
    "s1=student('siya',88,98,86)\n",
    "s1.var"
   ]
  },
  {
   "cell_type": "code",
   "execution_count": 188,
   "id": "c6b9d4f2-b3da-4eaa-95a8-857ef4798105",
   "metadata": {},
   "outputs": [],
   "source": [
    "class student:\n",
    "    def __init__(self,name,marks):\n",
    "        self.name=name\n",
    "        self.marks= marks\n",
    "    def average(self):\n",
    "        for i in range(len(self.marks)):\n",
    "            sum+=marks[i]\n",
    "        avg=sum/3\n",
    "            "
   ]
  },
  {
   "cell_type": "code",
   "execution_count": 190,
   "id": "247213e9-7da1-4b2d-afe3-81b11c3c966d",
   "metadata": {},
   "outputs": [
    {
     "ename": "UnboundLocalError",
     "evalue": "cannot access local variable 'sum' where it is not associated with a value",
     "output_type": "error",
     "traceback": [
      "\u001b[1;31m---------------------------------------------------------------------------\u001b[0m",
      "\u001b[1;31mUnboundLocalError\u001b[0m                         Traceback (most recent call last)",
      "Cell \u001b[1;32mIn[190], line 2\u001b[0m\n\u001b[0;32m      1\u001b[0m s1\u001b[38;5;241m=\u001b[39mstudent(\u001b[38;5;124m'\u001b[39m\u001b[38;5;124mrahul\u001b[39m\u001b[38;5;124m'\u001b[39m,[\u001b[38;5;241m88\u001b[39m,\u001b[38;5;241m98\u001b[39m,\u001b[38;5;241m90\u001b[39m])\n\u001b[1;32m----> 2\u001b[0m s1\u001b[38;5;241m.\u001b[39maverage()\n",
      "Cell \u001b[1;32mIn[188], line 7\u001b[0m, in \u001b[0;36mstudent.average\u001b[1;34m(self)\u001b[0m\n\u001b[0;32m      5\u001b[0m \u001b[38;5;28;01mdef\u001b[39;00m \u001b[38;5;21maverage\u001b[39m(\u001b[38;5;28mself\u001b[39m):\n\u001b[0;32m      6\u001b[0m     \u001b[38;5;28;01mfor\u001b[39;00m i \u001b[38;5;129;01min\u001b[39;00m \u001b[38;5;28mrange\u001b[39m(\u001b[38;5;28mlen\u001b[39m(\u001b[38;5;28mself\u001b[39m\u001b[38;5;241m.\u001b[39mmarks)):\n\u001b[1;32m----> 7\u001b[0m         \u001b[38;5;28msum\u001b[39m\u001b[38;5;241m+\u001b[39m\u001b[38;5;241m=\u001b[39mmarks[i]\n\u001b[0;32m      8\u001b[0m     avg\u001b[38;5;241m=\u001b[39m\u001b[38;5;28msum\u001b[39m\u001b[38;5;241m/\u001b[39m\u001b[38;5;241m3\u001b[39m\n",
      "\u001b[1;31mUnboundLocalError\u001b[0m: cannot access local variable 'sum' where it is not associated with a value"
     ]
    }
   ],
   "source": [
    "s1=student('rahul',[88,98,90])\n",
    "s1.average()"
   ]
  },
  {
   "cell_type": "code",
   "execution_count": 200,
   "id": "8927cfa5-e348-496d-9f89-92b9fe469853",
   "metadata": {},
   "outputs": [],
   "source": [
    "class student:\n",
    "    def __init__(self,name,marks):\n",
    "        self.name=name\n",
    "        self.marks= marks\n",
    "    # instance method\n",
    "    def average(self):\n",
    "        sum=0\n",
    "        for i in range(len(self.marks)):\n",
    "            sum+=self.marks[i]\n",
    "        avg=sum/3\n",
    "        print('average score of', self.name,'is',avg)\n",
    "            "
   ]
  },
  {
   "cell_type": "code",
   "execution_count": 202,
   "id": "fc9f052f-267b-4dba-8dfa-5959295a8599",
   "metadata": {},
   "outputs": [
    {
     "name": "stdout",
     "output_type": "stream",
     "text": [
      "average score of rahul is 92.0\n"
     ]
    }
   ],
   "source": [
    "s1=student('rahul',[88,98,90])\n",
    "s1.average()"
   ]
  },
  {
   "cell_type": "markdown",
   "id": "a7c94073-9d39-4f8d-9ae5-06d574ef11bc",
   "metadata": {},
   "source": [
    "<h4>How object access attributes?</h4>"
   ]
  },
  {
   "cell_type": "code",
   "execution_count": 10,
   "id": "03639536-080c-4464-8ed4-b8058f1a7b0c",
   "metadata": {},
   "outputs": [],
   "source": [
    "class Person:\n",
    "    def __init__(self,n,c):\n",
    "        self.name=n\n",
    "        self.country=c\n",
    "    def greet(self):\n",
    "        if self.country==\"India\":\n",
    "            print(\"Namaste\",self.name)\n",
    "        else:\n",
    "            print('Hello',self.name)\n",
    "        "
   ]
  },
  {
   "cell_type": "code",
   "execution_count": 20,
   "id": "287f80f2-2230-447a-adf6-70d1f0c96baa",
   "metadata": {},
   "outputs": [
    {
     "name": "stdout",
     "output_type": "stream",
     "text": [
      "riya\n",
      "india\n"
     ]
    }
   ],
   "source": [
    "p1=Person('riya','india')\n",
    "print(p1.name) # objects can easily access class attributes.\n",
    "print(p1.country)"
   ]
  },
  {
   "cell_type": "code",
   "execution_count": 22,
   "id": "3085508b-6f4a-4e8d-bace-438ff3681d5d",
   "metadata": {},
   "outputs": [
    {
     "ename": "AttributeError",
     "evalue": "'Person' object has no attribute 'roll_no'",
     "output_type": "error",
     "traceback": [
      "\u001b[1;31m---------------------------------------------------------------------------\u001b[0m",
      "\u001b[1;31mAttributeError\u001b[0m                            Traceback (most recent call last)",
      "Cell \u001b[1;32mIn[22], line 1\u001b[0m\n\u001b[1;32m----> 1\u001b[0m p1\u001b[38;5;241m.\u001b[39mroll_no\n",
      "\u001b[1;31mAttributeError\u001b[0m: 'Person' object has no attribute 'roll_no'"
     ]
    }
   ],
   "source": [
    "p1.roll_no"
   ]
  },
  {
   "cell_type": "code",
   "execution_count": 24,
   "id": "e8310c7c-3468-411a-9f33-3eb733440147",
   "metadata": {},
   "outputs": [],
   "source": [
    "# but if we want we can create new attributes of object outside the class.\n",
    "p1.gender=\"female\""
   ]
  },
  {
   "cell_type": "markdown",
   "id": "f6fe9474-87b3-4356-8c62-5c93a2f15f01",
   "metadata": {},
   "source": [
    "<h3>Reference Varibles</h3>\n",
    "\n",
    "- Reference variables holds the object (memory address of the object).\n",
    "- We can create objects without reference variables as well.But we need refernce varible just to store the object so that we later use it in future.\n",
    "- An object can have multiple reference variables.\n",
    "- Assigning a new reference varible to an existing object does not create a new object.An object can have multiple reference varible pointing to it.\n"
   ]
  },
  {
   "cell_type": "code",
   "execution_count": 86,
   "id": "ca15df4e-fa20-4f8f-b4c5-f7eeb769a7f3",
   "metadata": {},
   "outputs": [
    {
     "data": {
      "text/plain": [
       "<__main__.Person at 0x1af885da3f0>"
      ]
     },
     "execution_count": 86,
     "metadata": {},
     "output_type": "execute_result"
    }
   ],
   "source": [
    "#object without reference\n",
    "class Person:\n",
    "    def __init__(self):\n",
    "        self.name='riya'\n",
    "        self.gender='female'\n",
    "Person() # an object is created.\n"
   ]
  },
  {
   "cell_type": "code",
   "execution_count": 88,
   "id": "c53cc748-c3e3-48f3-90ea-7ef091d3edd6",
   "metadata": {},
   "outputs": [],
   "source": [
    "class Person:\n",
    "    def __init__(self):\n",
    "        self.name='riya'\n",
    "        self.gender='female'\n",
    "p=Person() # p is not an object ,p is just a varible name that stores the memory address of the object."
   ]
  },
  {
   "cell_type": "code",
   "execution_count": 90,
   "id": "46e63af6-b251-4190-ba56-7b63bfa276bb",
   "metadata": {},
   "outputs": [],
   "source": [
    "class Person:\n",
    "    def __init__(self):\n",
    "        self.name='riya'\n",
    "        self.gender='female'\n",
    "p=Person()\n",
    "q=p # p and q both are variables pointing to the same memory address or object."
   ]
  },
  {
   "cell_type": "code",
   "execution_count": 92,
   "id": "5821bfe7-13e8-40fe-a068-d9927915bacb",
   "metadata": {},
   "outputs": [
    {
     "name": "stdout",
     "output_type": "stream",
     "text": [
      "1853450969136\n",
      "1853450969136\n"
     ]
    }
   ],
   "source": [
    "print(id(p))\n",
    "print(id(q))\n",
    "# one object can have multiple reference varible."
   ]
  },
  {
   "cell_type": "code",
   "execution_count": 94,
   "id": "497a3516-b3d3-4162-b409-17c44bf9940a",
   "metadata": {},
   "outputs": [
    {
     "name": "stdout",
     "output_type": "stream",
     "text": [
      "riya\n",
      "riya\n",
      "bhumika\n",
      "bhumika\n"
     ]
    }
   ],
   "source": [
    "print(p.name)\n",
    "print(q.name)\n",
    "q.name=\"bhumika\"\n",
    "print(q.name)\n",
    "print(p.name)\n",
    "# since both points to the same object , therefore changes made by any one reference variable is visible and same for other varibles as well.\n",
    "# therefore we need to be very careful while creating multiple reference variable for a single object as changes made by any one object reflects back in every object."
   ]
  },
  {
   "cell_type": "markdown",
   "id": "9e058c4a-a49d-4a04-9228-449dfcdbc8f3",
   "metadata": {},
   "source": [
    "<h3>Pass by reference</h3>\n",
    "\n",
    "- we can pass an object of a class as a input to the function or vice versa a function can also return an object of a class.\n"
   ]
  },
  {
   "cell_type": "code",
   "execution_count": 103,
   "id": "439e64fa-48c0-48ee-8b07-de9b91d0d7cc",
   "metadata": {},
   "outputs": [
    {
     "name": "stdout",
     "output_type": "stream",
     "text": [
      "hi my name is  riya and my age is: 21\n"
     ]
    }
   ],
   "source": [
    "class Person:\n",
    "    def __init__(self,name,age):\n",
    "        self.name=name\n",
    "        self.age=age\n",
    "def greet(person): # this is a fucntion not a method as: it is outside the class.\n",
    "    print('hi my name is ',person.name, 'and my age is:',person.age)\n",
    "p=Person('riya',21)\n",
    "greet(p) # oject reference p is passed to greet function and the person is now the reference of object i.e. p=person that's why person can access and change object attributes."
   ]
  },
  {
   "cell_type": "code",
   "execution_count": 122,
   "id": "c0809474-bd28-495b-aafd-5e641a3a494e",
   "metadata": {},
   "outputs": [
    {
     "name": "stdout",
     "output_type": "stream",
     "text": [
      "hi my name is  riya and my age is: 21\n",
      "diya\n",
      "22\n"
     ]
    }
   ],
   "source": [
    "class Person:\n",
    "    def __init__(self,name,age):\n",
    "        self.name=name\n",
    "        self.age=age\n",
    "def greet(person): # this is a fucntion not a method as: it is outside the class.\n",
    "    print('hi my name is ',person.name, 'and my age is:',person.age)\n",
    "    p1=Person('diya',22)\n",
    "    return p1\n",
    "p=Person('riya',21)\n",
    "m=greet(p)\n",
    "print(m.name)\n",
    "print(m.age)"
   ]
  },
  {
   "cell_type": "code",
   "execution_count": 132,
   "id": "8ca64fa3-6956-48a4-8136-fc49a0e41714",
   "metadata": {},
   "outputs": [
    {
     "name": "stdout",
     "output_type": "stream",
     "text": [
      "1853431738304\n",
      "diya\n",
      "1853431738304\n",
      "diya\n"
     ]
    }
   ],
   "source": [
    "class Person:\n",
    "    def __init__(self,name,age):\n",
    "        self.name=name\n",
    "        self.age=age\n",
    "def greet(person): # this is a fucntion not a method as: it is outside the class.\n",
    "    print(id(person))\n",
    "    person.name=\"diya\"\n",
    "    print(person.name)\n",
    "p=Person('riya',21)\n",
    "greet(p)\n",
    "print(id(p))\n",
    "print(p.name)"
   ]
  },
  {
   "cell_type": "markdown",
   "id": "dac66879-df16-4e0c-8945-5b69bf2ee189",
   "metadata": {},
   "source": [
    "<h3>Object Mutability</h3>\n",
    "\n",
    "- If an object is mutuable the address of the object will remain same even after changes are made to that object.\n",
    "- But if the object is immutable then the object will have different memory address after some changes are made to the object.\n",
    "- By default all the objects are mutuable.\n",
    "\n",
    "<h5>Are objects of user define classes mutuable?</h5>\n",
    "\n",
    "- yes, they are mutuable"
   ]
  },
  {
   "cell_type": "code",
   "execution_count": 140,
   "id": "f3bca45f-40e0-45b1-a5a3-753367cbba66",
   "metadata": {},
   "outputs": [
    {
     "name": "stdout",
     "output_type": "stream",
     "text": [
      "1853424672576\n",
      "1853424672576\n"
     ]
    },
    {
     "data": {
      "text/plain": [
       "'since changes are made in the same the object (as they all refer to same object) and no new object is created\\nso id will be same'"
      ]
     },
     "execution_count": 140,
     "metadata": {},
     "output_type": "execute_result"
    }
   ],
   "source": [
    "class Person:\n",
    "    def __init__(self,name,age):\n",
    "        self.name=name\n",
    "        self.age=age\n",
    "def greet(person): \n",
    "    person.name=\"diya\"\n",
    "    return person\n",
    "p=Person('riya',21)\n",
    "print(id(p))\n",
    "p1=greet(p)\n",
    "print(id(p1))\n",
    "\"\"\"since changes are made in the same the object (as they all refer to same object) and no new object is created\n",
    "so id will be same\"\"\""
   ]
  },
  {
   "cell_type": "code",
   "execution_count": 30,
   "id": "59de4131-f6db-46a5-8343-8dba0a0e92c4",
   "metadata": {},
   "outputs": [],
   "source": [
    "class student:\n",
    "    def __init__(self,name,course):\n",
    "        self.name=name\n",
    "        self.course=course\n",
    "        self.id=0\n",
    "        self.id+=1"
   ]
  },
  {
   "cell_type": "code",
   "execution_count": 32,
   "id": "12996705-9119-40ef-8aba-b2871c3b7f99",
   "metadata": {},
   "outputs": [
    {
     "data": {
      "text/plain": [
       "1"
      ]
     },
     "execution_count": 32,
     "metadata": {},
     "output_type": "execute_result"
    }
   ],
   "source": [
    "stu1=student('ashana','bba')\n",
    "stu1.id"
   ]
  },
  {
   "cell_type": "code",
   "execution_count": 34,
   "id": "9e9d98a8-1e51-4c71-b806-cce2e9cb079f",
   "metadata": {},
   "outputs": [
    {
     "data": {
      "text/plain": [
       "1"
      ]
     },
     "execution_count": 34,
     "metadata": {},
     "output_type": "execute_result"
    }
   ],
   "source": [
    "stu2=student('ankit','btecj')\n",
    "stu2.id"
   ]
  },
  {
   "cell_type": "markdown",
   "id": "292ea8e5-e048-40b1-a52d-ec68e635a7a8",
   "metadata": {},
   "source": [
    "- explaination of above code:\n",
    "   - here we want to increment the id of students but this is not possible using instance variable, because for different objects different instance varibles(or copies) are created.\n",
    "   - therefore we will use static variable"
   ]
  },
  {
   "cell_type": "markdown",
   "id": "66a16ef8-1b3c-45a5-8967-d2ee35439d1e",
   "metadata": {},
   "source": [
    "<h3><font color='green'>Static Variable</font></h3>\n",
    "\n",
    "- A static variable is a class attribute , declared inside the class and outside any method.\n",
    "- Static attributes are accessed using ClassName.\r",
    "- \n",
    "Static attributes are object independent. We can access them without creating instance (object) of the class in which they are defined.- \r\n",
    "The value stored in static attribute is shared between all instances(objects) of the class in which the static attribute is define\n",
    "- The value is same for each object.\n",
    "d."
   ]
  },
  {
   "cell_type": "code",
   "execution_count": 65,
   "id": "4f8ef4af-690c-49fa-ab1f-72b9e04a60df",
   "metadata": {},
   "outputs": [],
   "source": [
    "class student:\n",
    "    counter=1\n",
    "    def __init__(self,name,course):\n",
    "        self.name=name\n",
    "        self.course=course\n",
    "        self.id=0\n",
    "        self.id=student.counter\n",
    "        student.counter+=1"
   ]
  },
  {
   "cell_type": "code",
   "execution_count": 67,
   "id": "72aae2d9-01e6-4a97-b07c-c655ac6bc6fc",
   "metadata": {},
   "outputs": [],
   "source": [
    "stu1=student('aashana','bba')\n",
    "stu2=student('ankit','btech')"
   ]
  },
  {
   "cell_type": "code",
   "execution_count": 73,
   "id": "441a0730-9bac-4b2c-9025-3622cf1df03b",
   "metadata": {},
   "outputs": [
    {
     "name": "stdout",
     "output_type": "stream",
     "text": [
      "1 2\n"
     ]
    },
    {
     "data": {
      "text/plain": [
       "' here both the id of both the students is different , here copies of counter for each object is not created ,here the same variable is for all \\nobjects and values get updated'"
      ]
     },
     "execution_count": 73,
     "metadata": {},
     "output_type": "execute_result"
    }
   ],
   "source": [
    "print(stu1.id , stu2.id)\n",
    "''' here both the id of both the students is different , here copies of counter for each object is not created ,here the same variable is for all \n",
    "objects and values get updated'''"
   ]
  },
  {
   "cell_type": "code",
   "execution_count": 77,
   "id": "c898c592-65d0-41fc-862e-27017f578495",
   "metadata": {},
   "outputs": [
    {
     "name": "stdout",
     "output_type": "stream",
     "text": [
      "3\n"
     ]
    }
   ],
   "source": [
    "print(student.counter)\n",
    "# it will print the updated value of counter "
   ]
  },
  {
   "cell_type": "code",
   "execution_count": 79,
   "id": "093a94b9-1829-47df-9864-d6bc06314cff",
   "metadata": {},
   "outputs": [],
   "source": [
    "student.counter='hehehe'"
   ]
  },
  {
   "cell_type": "code",
   "execution_count": 81,
   "id": "715995c3-a85f-4ed7-8514-4486974d19a1",
   "metadata": {},
   "outputs": [
    {
     "ename": "TypeError",
     "evalue": "can only concatenate str (not \"int\") to str",
     "output_type": "error",
     "traceback": [
      "\u001b[1;31m---------------------------------------------------------------------------\u001b[0m",
      "\u001b[1;31mTypeError\u001b[0m                                 Traceback (most recent call last)",
      "Cell \u001b[1;32mIn[81], line 1\u001b[0m\n\u001b[1;32m----> 1\u001b[0m stu3\u001b[38;5;241m=\u001b[39mstudent(\u001b[38;5;124m'\u001b[39m\u001b[38;5;124mdiya\u001b[39m\u001b[38;5;124m'\u001b[39m,\u001b[38;5;124m'\u001b[39m\u001b[38;5;124mbtech\u001b[39m\u001b[38;5;124m'\u001b[39m)\n",
      "Cell \u001b[1;32mIn[65], line 8\u001b[0m, in \u001b[0;36mstudent.__init__\u001b[1;34m(self, name, course)\u001b[0m\n\u001b[0;32m      6\u001b[0m \u001b[38;5;28mself\u001b[39m\u001b[38;5;241m.\u001b[39mid\u001b[38;5;241m=\u001b[39m\u001b[38;5;241m0\u001b[39m\n\u001b[0;32m      7\u001b[0m \u001b[38;5;28mself\u001b[39m\u001b[38;5;241m.\u001b[39mid\u001b[38;5;241m=\u001b[39mstudent\u001b[38;5;241m.\u001b[39mcounter\n\u001b[1;32m----> 8\u001b[0m student\u001b[38;5;241m.\u001b[39mcounter\u001b[38;5;241m+\u001b[39m\u001b[38;5;241m=\u001b[39m\u001b[38;5;241m1\u001b[39m\n",
      "\u001b[1;31mTypeError\u001b[0m: can only concatenate str (not \"int\") to str"
     ]
    }
   ],
   "source": [
    "stu3=student('diya','btech')"
   ]
  },
  {
   "cell_type": "code",
   "execution_count": 83,
   "id": "04065746-4d19-4f99-8c04-6f3fb854a730",
   "metadata": {},
   "outputs": [],
   "source": [
    "class student:\n",
    "    __counter=1 # made counter private.\n",
    "    def __init__(self,name,course):\n",
    "        self.name=name\n",
    "        self.course=course\n",
    "        self.id=0\n",
    "        self.id=student.__counter\n",
    "        student.__counter+=1"
   ]
  },
  {
   "cell_type": "code",
   "execution_count": null,
   "id": "ccdbcea3-6124-416a-bc8f-4a7939db1c77",
   "metadata": {},
   "outputs": [],
   "source": [
    "student.counter='hehe' "
   ]
  },
  {
   "cell_type": "code",
   "execution_count": 93,
   "id": "4e0ca18d-95b7-4dd0-a3a4-eb75eb35acc3",
   "metadata": {},
   "outputs": [
    {
     "data": {
      "text/plain": [
       "' it will run because here a new variable counter will be created.As we made the counter private in our code'"
      ]
     },
     "execution_count": 93,
     "metadata": {},
     "output_type": "execute_result"
    }
   ],
   "source": [
    "stu4=student('siya','bba')\n",
    "''' it will run because here a new variable counter will be created.As we made the counter private in our code'''"
   ]
  },
  {
   "cell_type": "code",
   "execution_count": 115,
   "id": "d07e4dbb-8586-4311-888a-2e6505dc72ef",
   "metadata": {},
   "outputs": [],
   "source": [
    "'''now what if we the other programer needs it , we have to show it to other keeping it private , we will use getter and setter'''\n",
    "class student:\n",
    "    __counter=1 # made counter private.\n",
    "    def __init__(self,name,course):\n",
    "        self.name=name\n",
    "        self.course=course\n",
    "        self.id=0\n",
    "        self.id=student.__counter\n",
    "        student.__counter+=1\n",
    "    def get_counter(self):\n",
    "        return student.__counter"
   ]
  },
  {
   "cell_type": "code",
   "execution_count": 117,
   "id": "0a1eca70-f095-4698-8798-b6f896e01960",
   "metadata": {},
   "outputs": [],
   "source": [
    "stu9=student('priya','agriculture')"
   ]
  },
  {
   "cell_type": "code",
   "execution_count": 119,
   "id": "753a041c-80c4-45a4-b755-738df211f689",
   "metadata": {},
   "outputs": [
    {
     "data": {
      "text/plain": [
       "2"
      ]
     },
     "execution_count": 119,
     "metadata": {},
     "output_type": "execute_result"
    }
   ],
   "source": [
    "stu9.get_counter()"
   ]
  },
  {
   "cell_type": "code",
   "execution_count": 135,
   "id": "43487c79-a1e0-41dd-8830-072450615847",
   "metadata": {},
   "outputs": [],
   "source": [
    "''' since in get_counter() there is no use of self we are returning a class attribute or static attribute which do not require object\n",
    "therefore we can just remove the self '''\n",
    "class student:\n",
    "    __counter=1 # made counter private.\n",
    "    def __init__(self,name,course):\n",
    "        self.name=name\n",
    "        self.course=course\n",
    "        self.id=0\n",
    "        self.id=student.__counter\n",
    "        student.__counter+=1\n",
    "    def get_counter():\n",
    "        return student.__counter"
   ]
  },
  {
   "cell_type": "code",
   "execution_count": 137,
   "id": "2e0c8175-be81-40e2-909c-d559d731c38e",
   "metadata": {},
   "outputs": [],
   "source": [
    "stu4=student('rahul','bba')"
   ]
  },
  {
   "cell_type": "code",
   "execution_count": 139,
   "id": "9182fc95-9560-4715-a3b9-28d24abc7f63",
   "metadata": {},
   "outputs": [
    {
     "ename": "TypeError",
     "evalue": "student.get_counter() takes 0 positional arguments but 1 was given",
     "output_type": "error",
     "traceback": [
      "\u001b[1;31m---------------------------------------------------------------------------\u001b[0m",
      "\u001b[1;31mTypeError\u001b[0m                                 Traceback (most recent call last)",
      "Cell \u001b[1;32mIn[139], line 1\u001b[0m\n\u001b[1;32m----> 1\u001b[0m stu4\u001b[38;5;241m.\u001b[39mget_counter()\n\u001b[0;32m      2\u001b[0m \u001b[38;5;124;03m''' since we removed self as it was of no use , but we cannot access it in the same way as we use to, therefore convert it to an static method\u001b[39;00m\n\u001b[0;32m      3\u001b[0m \u001b[38;5;124;03mand access it through class name'''\u001b[39;00m\n",
      "\u001b[1;31mTypeError\u001b[0m: student.get_counter() takes 0 positional arguments but 1 was given"
     ]
    }
   ],
   "source": [
    "stu4.get_counter()\n",
    "''' since we removed self as it was of no use , but we cannot access it in the same way as we use to, therefore convert it to an static method\n",
    "and access it through class name'''"
   ]
  },
  {
   "cell_type": "code",
   "execution_count": 151,
   "id": "12f05e74-bc90-437b-b866-58e0ba99f78b",
   "metadata": {},
   "outputs": [
    {
     "data": {
      "text/plain": [
       "\" @staticmethod it is a decorator with the help of which we can identify that this is a static method and we don't need to access it using object\""
      ]
     },
     "execution_count": 151,
     "metadata": {},
     "output_type": "execute_result"
    }
   ],
   "source": [
    "class student:\n",
    "    __counter=1 # made counter private.\n",
    "    def __init__(self,name,course):\n",
    "        self.name=name\n",
    "        self.course=course\n",
    "        self.id=0\n",
    "        self.id=student.__counter\n",
    "        student.__counter+=1\n",
    "    @staticmethod #utility functions :small functions that do not require objects.\n",
    "    def get_counter():\n",
    "        return student.__counter\n",
    "''' @staticmethod it is a decorator with the help of which we can identify that this is a static method and we don't need to access it using object'''"
   ]
  },
  {
   "cell_type": "code",
   "execution_count": 141,
   "id": "c01669fd-0022-449d-b944-e11498aa4825",
   "metadata": {},
   "outputs": [
    {
     "data": {
      "text/plain": [
       "2"
      ]
     },
     "execution_count": 141,
     "metadata": {},
     "output_type": "execute_result"
    }
   ],
   "source": [
    "student.get_counter()"
   ]
  },
  {
   "cell_type": "markdown",
   "id": "140650fa-3e95-44b3-9682-59aa856f3645",
   "metadata": {},
   "source": [
    "### Static Variables vs. Instance Variables\n",
    "\n",
    "| **Feature**         | **Static Variables (Class Variables)**       | **Instance Variables**               |\n",
    "|---------------------|---------------------------------------------|--------------------------------------|\n",
    "| **Definition**      | Defined within a class, outside instance methods | Defined within instance methods, usually in `__init__` |\n",
    "| **Scope**           | Belongs to the class itself                 | Belongs to a specific object instance |\n",
    "| **Access**          | Accessed using the class name or any instance | Accessed using a specific instance   |\n",
    "| **Value**           | Shared among all instances of the class     | Unique to each instance              |\n",
    "| **Example Definition** | `class_attribute = value`               | `self.instance_var = value`          |\n",
    "| **Example Access**  | `MyClass.class_attribute` or `obj.class_attribute` | `obj.instance_var`                    |\n",
    "| **Changes**         | Changes affect all instances               | Changes affect only the specific instance |\n",
    "\n"
   ]
  },
  {
   "cell_type": "markdown",
   "id": "568aff89-f836-4335-9666-a536ba162fa9",
   "metadata": {},
   "source": [
    "## <span style=\"color:green\">Static method ()</span>:\n",
    "- These methods don't use the self parameter.\n",
    "- They work at class level.\n",
    "- @staticmethod is used to declare a method as static.\n",
    "- @staticmethod is a type of decorator that convert the normal function into static function.\n",
    "- Decorators take input a function , changes its behavior and returns function as an output.\n",
    "- This means that a static method can be called without an object for that class"
   ]
  },
  {
   "cell_type": "code",
   "execution_count": 46,
   "id": "546ffd94-0e0b-4b95-9cfe-fef1376b549d",
   "metadata": {},
   "outputs": [],
   "source": [
    "class student:\n",
    "    def __init__(self,name,rollno,marks):\n",
    "        self.name=name\n",
    "        self.rollno=rollno\n",
    "        self.marks=marks\n",
    "    @staticmethod # convert a normal function to a static method\n",
    "    def greet():\n",
    "        print(\"hello student\")\n",
    "    def display_info(self):\n",
    "        print(self.name,self.rollno,self.marks)"
   ]
  },
  {
   "cell_type": "code",
   "execution_count": 52,
   "id": "9d63ca5b-c1af-4848-a23a-ceeaeaa452db",
   "metadata": {},
   "outputs": [
    {
     "name": "stdout",
     "output_type": "stream",
     "text": [
      "hello student\n"
     ]
    }
   ],
   "source": [
    "# s1=student('akash',10,88)\n",
    "# s1.display_info()\n",
    "student.greet()# since it is a static method no object is required to call this method."
   ]
  },
  {
   "cell_type": "markdown",
   "id": "df663a12-c907-45f9-9c59-776cd13666cf",
   "metadata": {},
   "source": [
    "# <span style=\"color:green\">4 Pillars Of OOPS</span>:\n",
    "- Abstraction\n",
    "- Encapsulation\n",
    "- Inheritance\n",
    "- Polymorphisim"
   ]
  },
  {
   "attachments": {},
   "cell_type": "markdown",
   "id": "ba97492e-e216-4f64-b928-709329c19e21",
   "metadata": {},
   "source": [
    "# <span style=\"color:green\">ABSTRACTION</span>:\n",
    "- Hiding the implementation details of a class and only showing the essential features to   the user."
   ]
  },
  {
   "cell_type": "code",
   "execution_count": 5,
   "id": "048ea23e-7d06-4252-ae2e-a320468ea94c",
   "metadata": {},
   "outputs": [
    {
     "name": "stdout",
     "output_type": "stream",
     "text": [
      "car started\n"
     ]
    }
   ],
   "source": [
    "# for example\n",
    "class Car:\n",
    "    def __init__(self):\n",
    "        self.acc=False\n",
    "        self.brk=False\n",
    "        self.clutch=False\n",
    "    def start(self):\n",
    "        self.clutch=True\n",
    "        self.acc=True\n",
    "        print('car started')\n",
    "car1=Car()\n",
    "car1.start()\n",
    "# outside class no unnesserary details are not printed.\n",
    "#everything implemented inside the class is not printed."
   ]
  },
  {
   "cell_type": "markdown",
   "id": "219c7467-18d6-42f4-a11c-0f3abe020515",
   "metadata": {},
   "source": [
    "# <span style=\"color:green\">Encapsulation</span>\n",
    "- Wrapping data and functions into a single unit(object).\n",
    "- Simply a class is a capsule which consist of attributes and methods, this is encapsulation.\n",
    "- Attributes of a class are set private but sometimes they may be needed so with a very protected way getter and setter method these attributes are exposed to outside the class."
   ]
  },
  {
   "cell_type": "code",
   "execution_count": 29,
   "id": "c50e914e-c544-45c4-8958-41a6dea64447",
   "metadata": {},
   "outputs": [
    {
     "name": "stdout",
     "output_type": "stream",
     "text": [
      "balance in your account\n"
     ]
    },
    {
     "name": "stdin",
     "output_type": "stream",
     "text": [
      " 2000\n"
     ]
    },
    {
     "name": "stdout",
     "output_type": "stream",
     "text": [
      "Credit or Debit\n"
     ]
    },
    {
     "name": "stdin",
     "output_type": "stream",
     "text": [
      " debit\n",
      "enter the amount you want to debit 500\n"
     ]
    },
    {
     "name": "stdout",
     "output_type": "stream",
     "text": [
      "Rs 500 has been debited\n",
      "remaining balance is Rs 1500\n"
     ]
    }
   ],
   "source": [
    "# create Account class with 2 attributes - balance and account no.\n",
    "# Create methods for debit,credit and printing the balance.\n",
    "class Account:\n",
    "    def __init__(self,balance):\n",
    "        self.balance=balance\n",
    "    def debit(self):\n",
    "        deb=int(input('enter the amount you want to debit'))\n",
    "        remaining_bal=self.balance-deb;\n",
    "        print('Rs',deb,'has been debited')\n",
    "        print('remaining balance is Rs',remaining_bal)\n",
    "    def credit(self):\n",
    "        cre=int(input('amount to be credited'))\n",
    "        bal=self.balance+cre\n",
    "        print('Rs',cre,'has been credited')\n",
    "        print('your balance is Rs',bal)\n",
    "print('balance in your account')\n",
    "balance=int(input())\n",
    "acc1=Account(balance)\n",
    "print('Credit or Debit')\n",
    "n=input()\n",
    "if(n=='credit'):\n",
    "    balance=acc1.credit()\n",
    "elif(n=='debit'):\n",
    "    balance=acc1.debit()\n",
    "else:\n",
    "    print('remaining balance is Rs',balance)"
   ]
  },
  {
   "cell_type": "markdown",
   "id": "c6d043cc-0c32-4954-a063-dc8cd5d59211",
   "metadata": {},
   "source": [
    "### <span style=\"color:green\">Del Keywords</span>:\n",
    "- Used to delete object properties or object itself.\n",
    "- Whenever a object is created it occupy space in memmory(all its methods and attributes)."
   ]
  },
  {
   "cell_type": "code",
   "execution_count": 60,
   "id": "1e362075-445a-4138-a6b1-1fe2836ce4ae",
   "metadata": {},
   "outputs": [
    {
     "name": "stdout",
     "output_type": "stream",
     "text": [
      "riya\n"
     ]
    },
    {
     "ename": "AttributeError",
     "evalue": "'Student' object has no attribute 'name'",
     "output_type": "error",
     "traceback": [
      "\u001b[1;31m---------------------------------------------------------------------------\u001b[0m",
      "\u001b[1;31mAttributeError\u001b[0m                            Traceback (most recent call last)",
      "Cell \u001b[1;32mIn[60], line 8\u001b[0m\n\u001b[0;32m      6\u001b[0m \u001b[38;5;28mprint\u001b[39m(s1\u001b[38;5;241m.\u001b[39mname)\n\u001b[0;32m      7\u001b[0m \u001b[38;5;28;01mdel\u001b[39;00m s1\u001b[38;5;241m.\u001b[39mname\n\u001b[1;32m----> 8\u001b[0m \u001b[38;5;28mprint\u001b[39m(s1\u001b[38;5;241m.\u001b[39mname)\n",
      "\u001b[1;31mAttributeError\u001b[0m: 'Student' object has no attribute 'name'"
     ]
    }
   ],
   "source": [
    "# example\n",
    "class Student:\n",
    "    def __init__(self,name):\n",
    "        self.name=name\n",
    "s1=Student('riya')\n",
    "print(s1.name)\n",
    "del s1.name\n",
    "print(s1.name)"
   ]
  },
  {
   "cell_type": "code",
   "execution_count": 80,
   "id": "c7ed4f5e-41a9-4924-bc66-52293d09f140",
   "metadata": {},
   "outputs": [
    {
     "ename": "NameError",
     "evalue": "name 's1' is not defined",
     "output_type": "error",
     "traceback": [
      "\u001b[1;31m---------------------------------------------------------------------------\u001b[0m",
      "\u001b[1;31mNameError\u001b[0m                                 Traceback (most recent call last)",
      "Cell \u001b[1;32mIn[80], line 7\u001b[0m\n\u001b[0;32m      5\u001b[0m \u001b[38;5;28;01mdel\u001b[39;00m s1 \u001b[38;5;66;03m# entire object s1 is deleted.\u001b[39;00m\n\u001b[0;32m      6\u001b[0m \u001b[38;5;66;03m#  self.name=name\u001b[39;00m\n\u001b[1;32m----> 7\u001b[0m \u001b[38;5;28mprint\u001b[39m(s1)\n",
      "\u001b[1;31mNameError\u001b[0m: name 's1' is not defined"
     ]
    }
   ],
   "source": [
    "class Student : # since here name is class attribute.\n",
    "     name='riya'\n",
    "s1=Student()\n",
    "s1.name\n",
    "del s1 # entire object s1 is deleted.\n",
    "#  self.name=name\n",
    "print(s1)"
   ]
  },
  {
   "cell_type": "markdown",
   "id": "ef1b9361-3e88-47ad-9edb-bd1641c35829",
   "metadata": {},
   "source": [
    "# <span style=\"color:green\">Private(like) attributes and Methods</span>\n",
    "- Private attributes and methods are meant to be used only within the class and are not\n",
    "  accessible from outside the class.\n",
    "- In other languages like Java, C++ we have **Public** and **Private** keywords which are   used for accesing the methods and attributes either publicly even from outside the        class or privately within the class.\n",
    "- In python generally we can access all the attributes and methods in a class from outside\n",
    "  the class.\n",
    "- Therefore when in a code in object and classes we implement something that is a\n",
    "  sensitive information,or we don't want to pass it or access it outside the class\n",
    "  we can make it 'private' and we won't be able to access it outside the class.\n",
    "- If we want to make an attribut private, insert 2 underscores before it (__).\n",
    "  "
   ]
  },
  {
   "cell_type": "code",
   "execution_count": 86,
   "id": "8dd90e41-a99f-4fb2-ba65-8f2fef78b6c3",
   "metadata": {},
   "outputs": [
    {
     "name": "stdout",
     "output_type": "stream",
     "text": [
      "210121084\n"
     ]
    },
    {
     "ename": "AttributeError",
     "evalue": "'Account' object has no attribute '__acc_pass'",
     "output_type": "error",
     "traceback": [
      "\u001b[1;31m---------------------------------------------------------------------------\u001b[0m",
      "\u001b[1;31mAttributeError\u001b[0m                            Traceback (most recent call last)",
      "Cell \u001b[1;32mIn[86], line 10\u001b[0m\n\u001b[0;32m      8\u001b[0m acc1\u001b[38;5;241m=\u001b[39mAccount(\u001b[38;5;241m210121084\u001b[39m,\u001b[38;5;124m'\u001b[39m\u001b[38;5;124mriya1234\u001b[39m\u001b[38;5;124m'\u001b[39m)\n\u001b[0;32m      9\u001b[0m \u001b[38;5;28mprint\u001b[39m(acc1\u001b[38;5;241m.\u001b[39macc_no)\n\u001b[1;32m---> 10\u001b[0m \u001b[38;5;28mprint\u001b[39m(acc1\u001b[38;5;241m.\u001b[39m__acc_pass)\n",
      "\u001b[1;31mAttributeError\u001b[0m: 'Account' object has no attribute '__acc_pass'"
     ]
    }
   ],
   "source": [
    "# example \n",
    "class Account:\n",
    "    def __init__(self,acc_no,acc_pass):\n",
    "        self.acc_no=acc_no\n",
    "        self.__acc_pass=acc_pass #this is private attribute.\n",
    "    def reset_pass(self):\n",
    "        print(self.__acc_pass)\n",
    "acc1=Account(210121084,'riya1234')\n",
    "print(acc1.acc_no)\n",
    "print(acc1.__acc_pass) # we are not able to access the __acc_pass from outside the class as it is private.\n",
    "# acc1.reset_pass()"
   ]
  },
  {
   "cell_type": "code",
   "execution_count": 92,
   "id": "0db62dce-7d16-40c8-a9c1-0535078646c3",
   "metadata": {},
   "outputs": [
    {
     "name": "stdout",
     "output_type": "stream",
     "text": [
      "riya1234\n",
      "210121084\n",
      "riya1234\n"
     ]
    }
   ],
   "source": [
    "class Account:\n",
    "    def __init__(self,acc_no,acc_pass):\n",
    "        self.acc_no=acc_no\n",
    "        self.__acc_pass=acc_pass #this is private attribute.\n",
    "    def reset_pass(self):\n",
    "        print(self.__acc_pass) # private attribute can only be accessed within a class.\n",
    "acc1=Account(210121084,'riya1234')\n",
    "print(acc1.acc_no)\n",
    "acc1.reset_pass()"
   ]
  },
  {
   "cell_type": "markdown",
   "id": "037347fc-9b92-4000-95aa-5c48529def94",
   "metadata": {},
   "source": [
    "### <span style=\"color:green\">Name Mangling</span>\n",
    "-  When you define an attribute as private by prefixing its name with two underscores   -   (__), Python internally changes (or \"mangles\") the name of that attribute to make it   \n",
    "  more difficult to access it from outside the class.\n",
    "\n",
    "- How Name Mangling Works:\n",
    "  - If you define an attribute like __attribute in a class, Python will mangle this name\n",
    "   by adding a prefix based on the class name, followed by the attribute name.\n",
    "  - For example, if the class is named MyClass, the attribute __attribute will be\n",
    "   internally changed (mangled) to _MyClass__attribute."
   ]
  },
  {
   "cell_type": "code",
   "execution_count": 104,
   "id": "737385bd-ddb9-478b-a75a-ce8bcf025e93",
   "metadata": {},
   "outputs": [
    {
     "name": "stdout",
     "output_type": "stream",
     "text": [
      "90\n",
      "90\n",
      "2101\n",
      "riya@1234\n"
     ]
    }
   ],
   "source": [
    "# example \n",
    "class Account:\n",
    "    __pass=90\n",
    "    def __init__(self,acc_no,acc_pass):\n",
    "        self.acc_no=acc_no\n",
    "        self.__acc_pass=acc_pass #this is private attribute.\n",
    "    def reset_pass(self):\n",
    "        print(self.__acc_pass)\n",
    "    print(_Account__pass) # to access any private attribute of the class.\n",
    "    print(__pass)\n",
    "acc1=Account(2101,'riya@1234')\n",
    "print(acc1.acc_no)\n",
    "# print(acc1.__acc_pass)\n",
    "acc1.reset_pass()"
   ]
  },
  {
   "cell_type": "code",
   "execution_count": 91,
   "id": "d954ec47-ca32-4fec-891a-eab347fd421f",
   "metadata": {},
   "outputs": [
    {
     "ename": "AttributeError",
     "evalue": "'Person' object has no attribute '__hello'",
     "output_type": "error",
     "traceback": [
      "\u001b[1;31m---------------------------------------------------------------------------\u001b[0m",
      "\u001b[1;31mAttributeError\u001b[0m                            Traceback (most recent call last)",
      "Cell \u001b[1;32mIn[91], line 6\u001b[0m\n\u001b[0;32m      4\u001b[0m         \u001b[38;5;28mprint\u001b[39m(\u001b[38;5;124m'\u001b[39m\u001b[38;5;124mhello\u001b[39m\u001b[38;5;124m'\u001b[39m)\n\u001b[0;32m      5\u001b[0m p1\u001b[38;5;241m=\u001b[39mPerson()\n\u001b[1;32m----> 6\u001b[0m p1\u001b[38;5;241m.\u001b[39m__hello()\n",
      "\u001b[1;31mAttributeError\u001b[0m: 'Person' object has no attribute '__hello'"
     ]
    }
   ],
   "source": [
    "class Person:\n",
    "    __name='annonymus'\n",
    "    def __hello(self): # private method\n",
    "        print('hello')\n",
    "p1=Person()\n",
    "p1.__hello()"
   ]
  },
  {
   "cell_type": "code",
   "execution_count": 103,
   "id": "d85b3661-3809-4349-87ad-db0958ad942d",
   "metadata": {},
   "outputs": [
    {
     "name": "stdout",
     "output_type": "stream",
     "text": [
      "welcome\n",
      "hello\n"
     ]
    }
   ],
   "source": [
    "class Person:\n",
    "    __name='annonymous'\n",
    "    def __hello(self):\n",
    "        print('hello')\n",
    "    def welcome(self):\n",
    "        print('welcome')\n",
    "        self.__hello()\n",
    "p1=Person()\n",
    "p1.welcome()\n",
    "# therefore if a method is declared private it can only be accessed within method of the class."
   ]
  },
  {
   "cell_type": "markdown",
   "id": "1c970b6c-c258-41f5-a264-f76c8c4cd8ae",
   "metadata": {},
   "source": [
    "# <span style=\"color:green\">INHERITANCE</span>\n",
    "- When one class (child/derived)derives the properties and methods of another class\n",
    "  (parent/base).\n",
    "- Parent class is the class being inherited from, also called base class.\n",
    "- Child class is the class that inherits from another class, also called derived class.\r",
    "- To create a class that inherits the functionality from another class, send the parent class as a parameter when creating the child class.\n",
    "\n",
    "- class Car: # parent class\n",
    "\n",
    "\n",
    "  class ToyotaCar(Car): # child class  "
   ]
  },
  {
   "cell_type": "code",
   "execution_count": 129,
   "id": "4444f2d7-eb1f-4889-bd44-b6f790849018",
   "metadata": {},
   "outputs": [
    {
     "name": "stdout",
     "output_type": "stream",
     "text": [
      "fortuner\n",
      "car started\n"
     ]
    },
    {
     "data": {
      "text/plain": [
       "'black'"
      ]
     },
     "execution_count": 129,
     "metadata": {},
     "output_type": "execute_result"
    }
   ],
   "source": [
    "# example\n",
    "class Car:\n",
    "    color='black'\n",
    "    # @staticmethod #optional\n",
    "    def start(self):\n",
    "        print('car started')\n",
    "    @staticmethod\n",
    "    def stop():\n",
    "        print('car stopped')\n",
    "class ToyotaCar(Car):\n",
    "    def __init__(self,name):\n",
    "        self.name=name\n",
    "car1=ToyotaCar('fortuner')\n",
    "car2=ToyotaCar('prius')\n",
    "print(car1.name)\n",
    "car1.start()\n",
    "car2.color"
   ]
  },
  {
   "attachments": {
    "0d467f71-ee85-49f4-abbc-6916c0a92e2d.png": {
     "image/png": "[encoded data removed]"
    },
    "3e2b77fb-5aca-4ccd-87e5-dfbe67906fc8.png": {
     "image/png": "[encoded data removed]"
    },
    "6e95b8c2-998b-40c3-80de-b7202d0134e6.png": {
     "image/png": "[encoded data removed]"
    },
    "88a53436-c4c5-46d2-80a0-0910216d8339.png": {
     "image/png": "[encoded data removed]"
    },
    "e51487ba-4a4a-4cd9-9000-90857ee73482.png": {
     "image/png": "[encoded data removed]"
    }
   },
   "cell_type": "markdown",
   "id": "f9cd0d7e-d262-43f5-bbab-14f26d221785",
   "metadata": {},
   "source": [
    "# <span style='color:Green'>Types of Inheritance:</span>\n",
    "- 1. <span style='color:red'>Single Inheriteance</span> : Single inheritance enables a derived class to inherit\n",
    "     properties from a single parent class.\n",
    "\n",
    "     ![image.png](attachment:e51487ba-4a4a-4cd9-9000-90857ee73482.png)\n",
    "  2.  <span style='color:red'>Multi-level Inheritance</span>:In multilevel inheritance, features of the base class and\n",
    "     the derived class are further inherited into the new derived class.\n",
    "     \n",
    "     ![image.png](attachment:88a53436-c4c5-46d2-80a0-0910216d8339.png)\n",
    "  \n",
    "  3.  <span style='color:red'>Multiple Inheritance</span>:When a class can be derived from more than one base class\n",
    "     this type of inheritance is called multiple inheritance.\n",
    "\n",
    "     ![image.png](attachment:0d467f71-ee85-49f4-abbc-6916c0a92e2d.png)\n",
    "\n",
    "  4. <span style='color:red'>Hierarchical Inheritance</span>:When more than one derived class are created from a single base this type of inheritance is called hierarchical inheritance.\n",
    "\n",
    "     ![image.png](attachment:6e95b8c2-998b-40c3-80de-b7202d0134e6.png)\n",
    "\n",
    "  5. <span style='color:red'>Hybrid Inheritance</span>:Inheritance consisting of multiple types of inheritance is called hybrid inheritance.\n",
    "\n",
    "      \n",
    "    ![image.png](attachment:3e2b77fb-5aca-4ccd-87e5-dfbe67906fc8.png)"
   ]
  },
  {
   "cell_type": "code",
   "execution_count": null,
   "id": "c3615cdd-7cc2-48fa-8655-908b383b9b40",
   "metadata": {},
   "outputs": [],
   "source": [
    "# single inheritance:\n",
    "class Car:\n",
    "    color='black'\n",
    "    # @staticmethod #optional\n",
    "    def start(self):\n",
    "        print('car started')\n",
    "    @staticmethod\n",
    "    def stop():\n",
    "        print('car stopped')\n",
    "class ToyotaCar(Car):\n",
    "    def __init__(self,name):\n",
    "        self.name=name\n",
    "car1=ToyotaCar('fortuner')\n",
    "car2=ToyotaCar('prius')\n",
    "print(car1.name)\n",
    "car1.start()\n",
    "car2.color"
   ]
  },
  {
   "cell_type": "code",
   "execution_count": 182,
   "id": "1f8508e2-4e2a-4e3b-875c-10f88064e85d",
   "metadata": {},
   "outputs": [
    {
     "name": "stdout",
     "output_type": "stream",
     "text": [
      "non-medical student\n"
     ]
    },
    {
     "data": {
      "text/plain": [
       "'B.tech'"
      ]
     },
     "execution_count": 182,
     "metadata": {},
     "output_type": "execute_result"
    }
   ],
   "source": [
    "#multilevel inheritence\n",
    "class University:\n",
    "    def student(self,name):\n",
    "        self.name=name\n",
    "class Course(University):\n",
    "    def course_name(self,c_name):\n",
    "        self.c_name=c_name\n",
    "class students(Course):\n",
    "    def __init__(self,type):\n",
    "        self.type=type\n",
    "        print(type,'student')\n",
    "stu1=students('non-medical')\n",
    "stu1.student('riya')\n",
    "stu1.name\n",
    "stu1.course_name('B.tech')\n",
    "stu1.c_name\n"
   ]
  },
  {
   "cell_type": "code",
   "execution_count": 22,
   "id": "88e9bc96-3f11-451f-ae7a-5c5cf4fb17fa",
   "metadata": {},
   "outputs": [
    {
     "name": "stdout",
     "output_type": "stream",
     "text": [
      "welcome to university\n",
      "riya 210121084\n",
      "216116\n",
      "btech\n"
     ]
    }
   ],
   "source": [
    "# Multiple Inheritance\n",
    "class University:\n",
    "    print('welcome to university')\n",
    "    def uni(self,uni_roll):\n",
    "        self.uni_roll=uni_roll\n",
    "        print( self.uni_roll)\n",
    "class Courses:\n",
    "    def course(self,cour_name):\n",
    "        self.cour_name=cour_name\n",
    "        print( self.cour_name)\n",
    "class Students(University,Courses):\n",
    "    def student(self,stu_name,stu_id):\n",
    "        self.stu_name=stu_name\n",
    "        self.stu_id=stu_id\n",
    "        print(self.stu_name,self.stu_id)\n",
    "s1=Students()\n",
    "s1.student('riya',210121084)\n",
    "s1.uni(216116)\n",
    "s1.course('btech')\n",
    "        \n"
   ]
  },
  {
   "cell_type": "markdown",
   "id": "8e554803-fc69-49f6-83d1-a313b9cd05f7",
   "metadata": {},
   "source": [
    "# <span style='color:green'>SUPER METHOD </span>\n",
    "#### - Super() method is used to access methods of the parent class."
   ]
  },
  {
   "cell_type": "code",
   "execution_count": 109,
   "id": "cba53da0-4de5-4178-966f-98918470b9a6",
   "metadata": {},
   "outputs": [
    {
     "ename": "AttributeError",
     "evalue": "'super' object has no attribute 'uni'",
     "output_type": "error",
     "traceback": [
      "\u001b[1;31m---------------------------------------------------------------------------\u001b[0m",
      "\u001b[1;31mAttributeError\u001b[0m                            Traceback (most recent call last)",
      "Cell \u001b[1;32mIn[109], line 12\u001b[0m\n\u001b[0;32m     10\u001b[0m         \u001b[38;5;28mself\u001b[39m\u001b[38;5;241m.\u001b[39mname\u001b[38;5;241m=\u001b[39mname\n\u001b[0;32m     11\u001b[0m         \u001b[38;5;28msuper\u001b[39m()\u001b[38;5;241m.\u001b[39mwelcome()\n\u001b[1;32m---> 12\u001b[0m s1\u001b[38;5;241m=\u001b[39mstudents(\u001b[38;5;124m'\u001b[39m\u001b[38;5;124mRahul\u001b[39m\u001b[38;5;124m'\u001b[39m,\u001b[38;5;124m'\u001b[39m\u001b[38;5;124mDIT\u001b[39m\u001b[38;5;124m'\u001b[39m)\n",
      "Cell \u001b[1;32mIn[109], line 9\u001b[0m, in \u001b[0;36mstudents.__init__\u001b[1;34m(self, name, uni_name)\u001b[0m\n\u001b[0;32m      8\u001b[0m \u001b[38;5;28;01mdef\u001b[39;00m \u001b[38;5;21m__init__\u001b[39m(\u001b[38;5;28mself\u001b[39m,name,uni_name):\n\u001b[1;32m----> 9\u001b[0m     \u001b[38;5;28msuper\u001b[39m()\u001b[38;5;241m.\u001b[39muni(uni_name)\n\u001b[0;32m     10\u001b[0m     \u001b[38;5;28mself\u001b[39m\u001b[38;5;241m.\u001b[39mname\u001b[38;5;241m=\u001b[39mname\n\u001b[0;32m     11\u001b[0m     \u001b[38;5;28msuper\u001b[39m()\u001b[38;5;241m.\u001b[39mwelcome()\n",
      "\u001b[1;31mAttributeError\u001b[0m: 'super' object has no attribute 'uni'"
     ]
    }
   ],
   "source": [
    "class University:\n",
    "    def uni(self,uni_name):\n",
    "        self.uni_name=uni_name\n",
    "    @staticmethod\n",
    "    def welcome():\n",
    "        print('welcome to',self.uni_name)\n",
    "class students:\n",
    "    def __init__(self,name,uni_name):\n",
    "        super().uni(uni_name)\n",
    "        self.name=name\n",
    "        super().welcome()\n",
    "s1=students('Rahul','DIT')"
   ]
  },
  {
   "cell_type": "code",
   "execution_count": 111,
   "id": "5b36fb92-2002-43cb-b4cb-5bac8d2abfec",
   "metadata": {},
   "outputs": [
    {
     "name": "stdout",
     "output_type": "stream",
     "text": [
      "welcome to university\n",
      "welcome to university\n"
     ]
    }
   ],
   "source": [
    "class University:\n",
    "    def __init__(self,uni_name):\n",
    "        self.uni_name=uni_name\n",
    "    @staticmethod\n",
    "    def welcome():\n",
    "        print('welcome to university')\n",
    "class students(University):\n",
    "    def __init__(self,name,uni_name):\n",
    "        super().__init__(uni_name) \n",
    "        self.name=name\n",
    "        super().welcome()\n",
    "s1=students('Rahul','DIT')\n",
    "\n",
    "# by just calling the last class constructor and passing value to it we have assigned\n",
    "# the uni_name from that particular constructor."
   ]
  },
  {
   "cell_type": "code",
   "execution_count": 67,
   "id": "a0994720-a793-4830-83c2-8783b32932e9",
   "metadata": {},
   "outputs": [
    {
     "name": "stdout",
     "output_type": "stream",
     "text": [
      "welcome to university\n"
     ]
    }
   ],
   "source": [
    "class University:\n",
    "    def __init__(self,uni_name=None): # by default uni_name =None\n",
    "        self.uni_name=uni_name\n",
    "    @staticmethod\n",
    "    def welcome():\n",
    "        print('welcome to university')\n",
    "class Students(University):\n",
    "    def __init__(self):\n",
    "        super().__init__()\n",
    "    def student(self,name,uni_name):\n",
    "        self.name=name\n",
    "        super().__init__(uni_name)\n",
    "        super().welcome()\n",
    "s1=Students()\n",
    "s1.student('Sanchay','Uttranchal University')"
   ]
  },
  {
   "cell_type": "markdown",
   "id": "52c3f147-36e7-4400-8f55-ce033348fcf1",
   "metadata": {},
   "source": [
    "# <span style='color:Green'>CLASS METHOD</span>\n",
    "- A class method is bound to the class and receives the class as an implicit frist\n",
    "  arguement.\n",
    "- When a method is defined using the @classmethod decorator (which internally calls\n",
    "  classmethod()), the method is bound to the class and not to an instance of the class.\n",
    "  As a result, the method receives the class (cls) as its first argument, rather than an\n",
    "  instance (self).\n",
    "- A class method can access or modify the class state(class attributes) while a static      mehtod can't aceess\n",
    "  or modify it."
   ]
  },
  {
   "cell_type": "code",
   "execution_count": 79,
   "id": "4083740b-218d-4171-886a-a8977b77b1df",
   "metadata": {},
   "outputs": [
    {
     "name": "stdout",
     "output_type": "stream",
     "text": [
      "annonymous\n",
      "DIT\n"
     ]
    }
   ],
   "source": [
    "class University:\n",
    "    uni_name=\"annonymous\"\n",
    "    @classmethod\n",
    "    def change(cls,uni_name): # cls is not self it refering to class.\n",
    "        cls.uni_name=uni_name\n",
    "s1=University()\n",
    "print(s1.uni_name)\n",
    "s1.change('DIT')\n",
    "print(s1.uni_name)"
   ]
  },
  {
   "cell_type": "markdown",
   "id": "4fe63b22-c279-45f4-8322-9adaefd2b4ef",
   "metadata": {},
   "source": [
    " # <span style='color:Red'>Property() or @property </span>(decorator) :\n",
    "- It allows you to define methods in a class that can be accessed like attributes. \n",
    "- This is useful when you want to add some logic when getting or setting an attribute,\n",
    "  without changing how the attribute is accessed by the users of your class."
   ]
  },
  {
   "cell_type": "code",
   "execution_count": 92,
   "id": "f5298fb9-8bb2-4478-bf75-82a4733f7cc6",
   "metadata": {},
   "outputs": [
    {
     "name": "stdout",
     "output_type": "stream",
     "text": [
      "73.33333333333333%\n",
      "77.33333333333333%\n"
     ]
    }
   ],
   "source": [
    "class Student:\n",
    "    def __init__(self,phy,chem,maths):\n",
    "        self.phy=phy\n",
    "        self.chem=chem\n",
    "        self.maths=maths\n",
    "    def percentage(self):\n",
    "        per=str((self.phy+self.chem+self.maths)/3)\n",
    "        print(per+'%')\n",
    "s1=Student(67,76,77)\n",
    "s1.percentage()\n",
    "s1.chem=88\n",
    "s1.percentage\n",
    "# this is the genertal way to update the percentage as the markso of any one subject is \n",
    "#updated."
   ]
  },
  {
   "cell_type": "code",
   "execution_count": 112,
   "id": "8a3f38e7-a1b2-446e-a3f0-153dc87a9af0",
   "metadata": {},
   "outputs": [
    {
     "name": "stdout",
     "output_type": "stream",
     "text": [
      "73.33333333333333%\n",
      "80.33333333333333%\n"
     ]
    }
   ],
   "source": [
    "# Perform this with @property\n",
    "class Student:\n",
    "    def __init__(self,phy,chem,maths):\n",
    "        self.phy=phy\n",
    "        self.chem=chem\n",
    "        self.maths=maths\n",
    "    @property   \n",
    "    def percentage(self):\n",
    "        return str((self.phy+self.chem+self.maths)/3)+'%'\n",
    "s1=Student(67,76,77)\n",
    "print(s1.percentage)\n",
    "s1.phy=88\n",
    "print(s1.percentage)"
   ]
  },
  {
   "cell_type": "markdown",
   "id": "2c7a844e-5227-44ce-903e-4aabdb1981b1",
   "metadata": {},
   "source": [
    "# <span style='color:green'>POLYMORPHISM</span>\n",
    "- Poly means Many , Morph means forms\n",
    "- It also called <span style='color:purple'><b>Operator Overloading</b></span>\n",
    "- When the same operator is allowed to have different meaning according to the context.\n",
    "- In programming, polymorphism means the same function name (but different signatures)      being used for different types\n",
    "### <span style='color:red'>Dunder Functions</style>:\n",
    "    - A method that has double underscores before and after its name.\n",
    "    - They are used for operator overloading.\n",
    "    - They allow us to define behaviour of operator.\n"
   ]
  },
  {
   "cell_type": "code",
   "execution_count": 119,
   "id": "b8b4ead8-4763-41bb-a4a9-bfc551e18162",
   "metadata": {},
   "outputs": [
    {
     "name": "stdout",
     "output_type": "stream",
     "text": [
      "6\n",
      "hello world\n"
     ]
    }
   ],
   "source": [
    "print(3+3) # here '+' is adding the two numbers\n",
    "print('hello '+'world') #here '+' is used to concatenating the strings.\n",
    "#therefore '+' operator is used for different purpose according to the context."
   ]
  },
  {
   "cell_type": "code",
   "execution_count": 139,
   "id": "cc8d1204-e0a6-44bb-9cbd-d8e86d90f001",
   "metadata": {},
   "outputs": [
    {
     "name": "stdout",
     "output_type": "stream",
     "text": [
      "hello in class A\n",
      "hello in class B\n"
     ]
    }
   ],
   "source": [
    "class A:\n",
    "    def Print(self):\n",
    "        print('hello in class A')\n",
    "class B(A):\n",
    "    def Print(self):\n",
    "        print('hello in class B')\n",
    "obj1=B()\n",
    "obj1.Print()\n",
    "obj1.Print()\n",
    "# here two functions in different classes has same name."
   ]
  },
  {
   "cell_type": "code",
   "execution_count": 149,
   "id": "50c23dea-7c52-474f-8e78-0f66f49f357f",
   "metadata": {},
   "outputs": [
    {
     "name": "stdout",
     "output_type": "stream",
     "text": [
      "4 i + 6 j\n"
     ]
    }
   ],
   "source": [
    "# addition of two complex numbers\n",
    "class Complex:\n",
    "    def __init__(self,real,img):\n",
    "        self.real=real\n",
    "        self.img=img\n",
    "    def showNumber(self):\n",
    "        print(self.real,'i +',self.img,'j')\n",
    "    def add(self,num2):\n",
    "        newReal=self.real+num2.real\n",
    "        newImg=self.img+num2.img\n",
    "        return Complex(newReal,newImg)\n",
    "num1=Complex(1,2)\n",
    "num2=Complex(3,4)\n",
    "num3=num1.add(num2)\n",
    "num3.showNumber()"
   ]
  },
  {
   "cell_type": "code",
   "execution_count": 159,
   "id": "bda6de1b-48cf-49d5-8993-d3fd263e9612",
   "metadata": {},
   "outputs": [
    {
     "name": "stdout",
     "output_type": "stream",
     "text": [
      "4 i + 6 j\n",
      "2 i + 2 j\n"
     ]
    }
   ],
   "source": [
    "class Complex:\n",
    "    def __init__(self,real,img):\n",
    "        self.real=real\n",
    "        self.img=img\n",
    "    def showNumber(self):\n",
    "        print(self.real,'i +',self.img,'j')\n",
    "    def __add__(self,num2):\n",
    "        newReal=self.real+num2.real\n",
    "        newImg=self.img+num2.img\n",
    "        return Complex(newReal,newImg)\n",
    "    def __sub__(self,num2):\n",
    "        newReal=self.real-num2.real\n",
    "        newImg=self.img-num2.img\n",
    "        return Complex(newReal,newImg)\n",
    "num1=Complex(1,2)\n",
    "num2=Complex(3,4)\n",
    "num3=num1+num2\n",
    "num3.showNumber()\n",
    "num4=num2-num1\n",
    "num4.showNumber()"
   ]
  },
  {
   "cell_type": "code",
   "execution_count": 13,
   "id": "5d5b13be-1784-4025-8350-98554647f95f",
   "metadata": {},
   "outputs": [
    {
     "name": "stdin",
     "output_type": "stream",
     "text": [
      "enter the raddius cm 9\n"
     ]
    },
    {
     "name": "stdout",
     "output_type": "stream",
     "text": [
      "area of circle with radius 9 cm is: 254.34 and the perimeter of the circle of radius 9 cm is: 56.52\n"
     ]
    }
   ],
   "source": [
    "# Define a circle class to create a circle with radius r using the constructor.\n",
    "class Circle:\n",
    "    def __init__(self,radius):\n",
    "        self.radius=radius\n",
    "    def area(self,radius):\n",
    "        pi=3.14\n",
    "        ar=pi*pow(radius,2)\n",
    "        return ar\n",
    "    def perimeter(self,radius):\n",
    "        peri=2*3.14*radius\n",
    "        return peri\n",
    "n=int(input('enter the raddius in cm'))\n",
    "c1=Circle(n)\n",
    "c_area=c1.area(n)\n",
    "c_peri=c1.perimeter(n)\n",
    "print('area of circle with radius',n,'cm is:',c_area,'and the perimeter of the circle of radius',n,'cm is:',c_peri)\n"
   ]
  },
  {
   "cell_type": "code",
   "execution_count": 23,
   "id": "bd8fa13e-603a-4316-a4a1-7f1e0bbbef2d",
   "metadata": {},
   "outputs": [
    {
     "name": "stdout",
     "output_type": "stream",
     "text": [
      "role: sales manager ,department: management ,salary: 40000\n"
     ]
    }
   ],
   "source": [
    "# define an employee class with attributes role,department and salary. this class also has a method showDetails().\n",
    "class Employee:\n",
    "    def __init__(self,role,department,salary):\n",
    "        self.role=role\n",
    "        self.department=department\n",
    "        self.salary=salary\n",
    "    def showDetails(self):\n",
    "        print('role:',self.role,',''department:',self.department,',''salary:',self.salary)\n",
    "emp1=Employee('sales manager','management',40000)\n",
    "emp1.showDetails()"
   ]
  },
  {
   "cell_type": "code",
   "execution_count": 29,
   "id": "2f581984-263f-40e9-ab7e-1e740b020c0b",
   "metadata": {},
   "outputs": [
    {
     "name": "stdin",
     "output_type": "stream",
     "text": [
      "enter the role data analyst\n",
      "enter the department analysis\n",
      "enter the salary 50000\n"
     ]
    },
    {
     "name": "stdout",
     "output_type": "stream",
     "text": [
      "role: data analyst\n",
      "department: analysis\n",
      "salary: 50000\n"
     ]
    }
   ],
   "source": [
    "class Employee:\n",
    "    def __init__(self,role,department,salary):\n",
    "        self.role=role\n",
    "        self.department=department\n",
    "        self.salary=salary\n",
    "    def showDetails(self):\n",
    "        print('role:',self.role)\n",
    "        print('department:',self.department)\n",
    "        print('salary:',self.salary)\n",
    "role=input('enter the role')\n",
    "department=input('enter the department')\n",
    "salary=input('enter the salary')\n",
    "emp1=Employee(role,department,salary)\n",
    "emp1.showDetails()"
   ]
  },
  {
   "cell_type": "code",
   "execution_count": 35,
   "id": "b53d6b8a-64d3-49b8-b1e3-f392599e9aea",
   "metadata": {},
   "outputs": [
    {
     "name": "stdin",
     "output_type": "stream",
     "text": [
      "enter name riya\n",
      "enter the age 23\n",
      "enter the role data scientist\n",
      "enter the department analysis\n",
      "enter the salary 100000\n"
     ]
    },
    {
     "name": "stdout",
     "output_type": "stream",
     "text": [
      "name: riya age: 23\n",
      "role: data scientist\n",
      "department: analysis\n",
      "salary: 100000\n"
     ]
    }
   ],
   "source": [
    "class Employee:\n",
    "    def info(self,role,department,salary):\n",
    "        self.role=role\n",
    "        self.department=department\n",
    "        self.salary=salary\n",
    "    def showDetails(self):\n",
    "        print('role:',self.role)\n",
    "        print('department:',self.department)\n",
    "        print('salary:',self.salary)\n",
    "class Engineer(Employee):\n",
    "    def __init__(self,name,age):\n",
    "        self.name=name\n",
    "        self.age=age\n",
    "        print('name:',self.name,'age:',self.age)\n",
    "\n",
    "name=input('enter name')\n",
    "age=int(input('enter the age'))\n",
    "role=input('enter the role')\n",
    "department=input('enter the department')\n",
    "salary=input('enter the salary')\n",
    "emp1=Engineer(name,age)\n",
    "emp1.info(role,department,salary)\n",
    "\n",
    "emp1.showDetails()"
   ]
  },
  {
   "cell_type": "code",
   "execution_count": 74,
   "id": "25d5e753-bb1b-4292-ae94-113ecb2ff370",
   "metadata": {},
   "outputs": [
    {
     "ename": "NameError",
     "evalue": "name 'item' is not defined",
     "output_type": "error",
     "traceback": [
      "\u001b[1;31m---------------------------------------------------------------------------\u001b[0m",
      "\u001b[1;31mNameError\u001b[0m                                 Traceback (most recent call last)",
      "Cell \u001b[1;32mIn[74], line 20\u001b[0m\n\u001b[0;32m     18\u001b[0m ord1\u001b[38;5;241m=\u001b[39mOrder(\u001b[38;5;124m'\u001b[39m\u001b[38;5;124mchips\u001b[39m\u001b[38;5;124m'\u001b[39m,\u001b[38;5;241m500\u001b[39m)\n\u001b[0;32m     19\u001b[0m ord2\u001b[38;5;241m=\u001b[39mOrder(\u001b[38;5;124m'\u001b[39m\u001b[38;5;124mcoffee\u001b[39m\u001b[38;5;124m'\u001b[39m,\u001b[38;5;241m600\u001b[39m)\n\u001b[1;32m---> 20\u001b[0m ord3\u001b[38;5;241m=\u001b[39mord1\u001b[38;5;241m>\u001b[39mord2\n\u001b[0;32m     21\u001b[0m \u001b[38;5;28mprint\u001b[39m(\u001b[38;5;124m'\u001b[39m\u001b[38;5;124mgreater order is:\u001b[39m\u001b[38;5;124m'\u001b[39m,ord3)\n",
      "Cell \u001b[1;32mIn[74], line 13\u001b[0m, in \u001b[0;36mOrder.__gt__\u001b[1;34m(self, ord2)\u001b[0m\n\u001b[0;32m     11\u001b[0m     \u001b[38;5;28;01mreturn\u001b[39;00m greater\n\u001b[0;32m     12\u001b[0m \u001b[38;5;28;01melif\u001b[39;00m \u001b[38;5;28mself\u001b[39m\u001b[38;5;241m.\u001b[39mprice\u001b[38;5;241m<\u001b[39mord2\u001b[38;5;241m.\u001b[39mprice:\n\u001b[1;32m---> 13\u001b[0m     greater\u001b[38;5;241m=\u001b[39mitem\n\u001b[0;32m     14\u001b[0m     \u001b[38;5;66;03m# print(order_no,'is costly then',self.order_no)\u001b[39;00m\n\u001b[0;32m     15\u001b[0m     \u001b[38;5;28;01mreturn\u001b[39;00m greater\n",
      "\u001b[1;31mNameError\u001b[0m: name 'item' is not defined"
     ]
    }
   ],
   "source": [
    "# create a class order which stores items and its price\n",
    "#use dunder fund __gt__ to convey that order1>order2(price)\n",
    "class Order:\n",
    "    def __init__(self,item,price):\n",
    "        self.item=item\n",
    "        self.price=price\n",
    "    def __gt__(self,ord2):\n",
    "        if self.price>ord2.price:\n",
    "            greater=self.item\n",
    "          # print(self.order_no,'is costly then',order_no)  \n",
    "            return greater\n",
    "        elif self.price<ord2.price:\n",
    "            greater=item\n",
    "            # print(order_no,'is costly then',self.order_no)\n",
    "            return greater\n",
    "        else:\n",
    "            print('both orders are of same price')\n",
    "ord1=Order('chips',500)\n",
    "ord2=Order('coffee',600)\n",
    "ord3=ord1>ord2\n",
    "print('greater order is:',ord3)\n"
   ]
  },
  {
   "cell_type": "code",
   "execution_count": 72,
   "id": "42d3333b-6949-4466-a5d1-b47a6ce34df1",
   "metadata": {},
   "outputs": [
    {
     "name": "stdout",
     "output_type": "stream",
     "text": [
      "False\n"
     ]
    }
   ],
   "source": [
    "# use of dunder function \n",
    "class Order:\n",
    "    def __init__(self,item,price):\n",
    "        self.item=item\n",
    "        self.price=price\n",
    "    def __gt__(self,ord2):\n",
    "        return self.price>ord2.price\n",
    "ord1=Order('bedsheet',120)\n",
    "ord2=Order('kurti',500)\n",
    "print(ord1>ord2)"
   ]
  },
  {
   "cell_type": "code",
   "execution_count": 87,
   "id": "3730d0ee-f043-4774-8d03-d4167598d53f",
   "metadata": {},
   "outputs": [
    {
     "name": "stdout",
     "output_type": "stream",
     "text": [
      "[4, 3, 2]\n"
     ]
    }
   ],
   "source": [
    "# print inner list only.\n",
    "a=[2,8,5,[4,3,2]]\n",
    "for i in range(len(a)):\n",
    "    if type(a[i])==list:\n",
    "        print(a[i])"
   ]
  },
  {
   "cell_type": "code",
   "execution_count": null,
   "id": "ecd7a5d9-a2c3-4a07-b91c-06bec2692612",
   "metadata": {},
   "outputs": [],
   "source": [
    "str=input()\n",
    "\n",
    "str_replace("
   ]
  },
  {
   "cell_type": "code",
   "execution_count": 150,
   "id": "40ecc7d7-915f-48c0-bc12-ee145b68ccc2",
   "metadata": {},
   "outputs": [
    {
     "name": "stdout",
     "output_type": "stream",
     "text": [
      "0.9989161243928012\n",
      "4\n",
      "2.4624052184326586\n",
      "[4, 77, 2, 3, 6]\n"
     ]
    }
   ],
   "source": [
    "import random\n",
    "x=random.random()\n",
    "print(x)\n",
    "y=random.randint(3,4)\n",
    "print(y)\n",
    "z=random.uniform(3,2)\n",
    "print(z)\n",
    "my_list=[2,3,4,6,77]\n",
    "random.shuffle(my_list)\n",
    "print(my_list)"
   ]
  },
  {
   "cell_type": "code",
   "execution_count": 158,
   "id": "39ac8a06-4681-4ff4-95e4-d89a785ceb57",
   "metadata": {},
   "outputs": [
    {
     "name": "stdin",
     "output_type": "stream",
     "text": [
      " 4\n",
      " 5\n"
     ]
    },
    {
     "name": "stdout",
     "output_type": "stream",
     "text": [
      "have different datatype\n"
     ]
    }
   ],
   "source": [
    "x=input()\n",
    "y=int(input())\n",
    "if(type(x)==type(y)):\n",
    "    print('both have same datatypes')\n",
    "else:\n",
    "    print('have different datatype')"
   ]
  },
  {
   "cell_type": "code",
   "execution_count": null,
   "id": "31068a20-dec8-4ac8-9f38-d174226ca11b",
   "metadata": {},
   "outputs": [],
   "source": []
  },
  {
   "cell_type": "code",
   "execution_count": null,
   "id": "f8c5b624-df31-4d5e-a68b-3b94604024c3",
   "metadata": {},
   "outputs": [],
   "source": []
  },
  {
   "cell_type": "code",
   "execution_count": null,
   "id": "097c804c-2153-48a1-9056-64e2c7ab8348",
   "metadata": {},
   "outputs": [],
   "source": []
  },
  {
   "cell_type": "code",
   "execution_count": null,
   "id": "70712a8d-de8b-44e4-98d0-d2141ad725fb",
   "metadata": {},
   "outputs": [],
   "source": []
  },
  {
   "cell_type": "code",
   "execution_count": null,
   "id": "133d425d-31da-4538-8fa0-8cf5833195fd",
   "metadata": {},
   "outputs": [],
   "source": []
  }
 ],
 "metadata": {
  "kernelspec": {
   "display_name": "Python 3 (ipykernel)",
   "language": "python",
   "name": "python3"
  },
  "language_info": {
   "codemirror_mode": {
    "name": "ipython",
    "version": 3
   },
   "file_extension": ".py",
   "mimetype": "text/x-python",
   "name": "python",
   "nbconvert_exporter": "python",
   "pygments_lexer": "ipython3",
   "version": "3.12.4"
  }
 },
 "nbformat": 4,
 "nbformat_minor": 5
}
