{
 "cells": [
  {
   "cell_type": "markdown",
   "id": "3703c848-1561-495a-813b-e9861025da4b",
   "metadata": {},
   "source": [
    "# if else statements:\n",
    "- these statements are used for decision making. These statements used conditional operator.\n",
    "- if\n",
    "- elif\n",
    "- else"
   ]
  },
  {
   "cell_type": "markdown",
   "id": "48076cfa-e3f6-4e37-9336-a6c160a943f9",
   "metadata": {},
   "source": [
    "## Identation:\n",
    "- Python relies on indentation (whitespace at the beginning of a line) to define scope in the code. \n",
    "- Other programming languages often use curly-brackets for this purpose.\n",
    "- It bascically identify the block of code."
   ]
  },
  {
   "cell_type": "code",
   "execution_count": 16,
   "id": "f5461fa9-3953-498b-8c8a-d7aba67f6075",
   "metadata": {},
   "outputs": [
    {
     "ename": "IndentationError",
     "evalue": "expected an indented block after 'if' statement on line 4 (3577823451.py, line 5)",
     "output_type": "error",
     "traceback": [
      "\u001b[1;36m  Cell \u001b[1;32mIn[16], line 5\u001b[1;36m\u001b[0m\n\u001b[1;33m    print(\"True\")\u001b[0m\n\u001b[1;37m    ^\u001b[0m\n\u001b[1;31mIndentationError\u001b[0m\u001b[1;31m:\u001b[0m expected an indented block after 'if' statement on line 4\n"
     ]
    }
   ],
   "source": [
    "a='hello world'\n",
    "print(a)\n",
    "b=10\n",
    "if(b>5):\n",
    "print(\"True\")"
   ]
  },
  {
   "cell_type": "code",
   "execution_count": 26,
   "id": "cfb5cd91-f948-43e7-9516-ec1a04cf3520",
   "metadata": {},
   "outputs": [
    {
     "name": "stdout",
     "output_type": "stream",
     "text": [
      "you can register\n",
      "hello world\n"
     ]
    }
   ],
   "source": [
    "b=9\n",
    "if(b>5):\n",
    "    print('you can register')\n",
    "print(a)"
   ]
  },
  {
   "cell_type": "code",
   "execution_count": 54,
   "id": "b9fb43ed-db76-425e-8525-8242acb616d4",
   "metadata": {},
   "outputs": [
    {
     "name": "stdout",
     "output_type": "stream",
     "text": [
      "b is greater\n"
     ]
    }
   ],
   "source": [
    "# else is used when we want to execute a block of code , when if condition is false.\n",
    "a=10\n",
    "b=88\n",
    "if(a>b):\n",
    "    print('a is greater')\n",
    "else:\n",
    "    print('b is greater')"
   ]
  },
  {
   "cell_type": "code",
   "execution_count": 65,
   "id": "5db29206-8761-4e4f-a153-2909cc51df4b",
   "metadata": {},
   "outputs": [
    {
     "name": "stdout",
     "output_type": "stream",
     "text": [
      "hello\n",
      "hey\n",
      "num is not even\n",
      "yay\n"
     ]
    }
   ],
   "source": [
    "#if we have multiple 'if' in the code , then each 'if' condition is checked even if first 'if' condition is ture then also it will check other 'if' conditions.\n",
    "b=9      \n",
    "if(b>5):\n",
    "    print('hello')\n",
    "if(b<10):\n",
    "    print('hey')\n",
    "if(b%2!=0):\n",
    "    print(\"num is not even\")\n",
    "if(b<8):\n",
    "    print(\"false\")\n",
    "print('yay')"
   ]
  },
  {
   "cell_type": "code",
   "execution_count": 48,
   "id": "63352033-626c-4224-b9cd-c313f28bfac9",
   "metadata": {},
   "outputs": [
    {
     "name": "stdout",
     "output_type": "stream",
     "text": [
      "hello\n",
      "yay\n"
     ]
    }
   ],
   "source": [
    "# elif is used instead of using multiple 'if' , elif condition is only checked when the previous condition is false.\n",
    "b=9      \n",
    "if(b>8):\n",
    "    print('hello')\n",
    "elif(b<10):\n",
    "    print('hey')\n",
    "elif(b%2!=0):\n",
    "    print(\"num is not even\")\n",
    "elif(b<8):\n",
    "    print(\"false\")\n",
    "print('yay')"
   ]
  },
  {
   "cell_type": "code",
   "execution_count": 61,
   "id": "798b6087-cd45-490a-83e4-b4e467f86935",
   "metadata": {},
   "outputs": [
    {
     "name": "stdout",
     "output_type": "stream",
     "text": [
      "beautiful\n"
     ]
    }
   ],
   "source": [
    "#else is not executed if any of the conditinon above it matches.\n",
    "a=5\n",
    "b=9\n",
    "c=4\n",
    "if(5%2==0):\n",
    "    print('hey')\n",
    "elif(b%2==0):\n",
    "    print('hello')\n",
    "elif(c%2==0):\n",
    "    print('beautiful')\n",
    "else:\n",
    "    print('not matched')"
   ]
  },
  {
   "cell_type": "code",
   "execution_count": 63,
   "id": "cccb0a9e-6fb2-44d7-a94c-9361378ecf0b",
   "metadata": {},
   "outputs": [
    {
     "name": "stdout",
     "output_type": "stream",
     "text": [
      "not matched\n"
     ]
    }
   ],
   "source": [
    "# else condition is executed when all conditions above it are false.\n",
    "a=5\n",
    "b=9\n",
    "c=4\n",
    "if(5%2==0):\n",
    "    print('hey')\n",
    "elif(b%2==0):\n",
    "    print('hello')\n",
    "elif(c%3==0):\n",
    "    print('beautiful')\n",
    "else:\n",
    "    print('not matched')"
   ]
  },
  {
   "cell_type": "code",
   "execution_count": 67,
   "id": "f2fe2fe0-7713-412a-9131-2afdf5be6d31",
   "metadata": {},
   "outputs": [
    {
     "name": "stdout",
     "output_type": "stream",
     "text": [
      "you can buy puma shoe\n"
     ]
    }
   ],
   "source": [
    "salary=30000\n",
    "expenses=12000\n",
    "a=\"gucci bag\"\n",
    "b=\"puma shoe\"\n",
    "c=\"zara perfume\"\n",
    "if(salary-expenses>20000):\n",
    "    print(\"you can buy\",a)\n",
    "elif(salary-expenses>15000):\n",
    "    print(\"you can buy\",b)\n",
    "elif(salary-expenses>3000):\n",
    "    print('you can buy',c)"
   ]
  },
  {
   "cell_type": "code",
   "execution_count": 69,
   "id": "78aaa50a-6225-463e-85f1-0819d2a30647",
   "metadata": {},
   "outputs": [
    {
     "name": "stdout",
     "output_type": "stream",
     "text": [
      "try next month , save this month\n"
     ]
    }
   ],
   "source": [
    "salary=3000\n",
    "expenses=1200\n",
    "a=\"gucci bag\"\n",
    "b=\"puma shoe\"\n",
    "c=\"zara perfume\"\n",
    "if(salary-expenses>20000):\n",
    "    print(\"you can buy\",a)\n",
    "elif(salary-expenses>15000):\n",
    "    print(\"you can buy\",b)\n",
    "elif(salary-expenses>3000):\n",
    "    print('you can buy',c)\n",
    "else:\n",
    "    print('try next month , save this month')"
   ]
  },
  {
   "cell_type": "markdown",
   "id": "bb382c48-d22a-4a43-b437-4b5feac9065e",
   "metadata": {},
   "source": [
    "### Nested conditions"
   ]
  },
  {
   "cell_type": "code",
   "execution_count": 2,
   "id": "b19851f0-b322-4a39-bfb1-12d2e441e8ef",
   "metadata": {},
   "outputs": [
    {
     "name": "stdout",
     "output_type": "stream",
     "text": [
      "10 is even\n",
      "program executed\n"
     ]
    }
   ],
   "source": [
    "a=10\n",
    "if(a>5):\n",
    "    if(a%2==0):\n",
    "        print(a,'is even')\n",
    "print(\"program executed\")"
   ]
  },
  {
   "cell_type": "code",
   "execution_count": 8,
   "id": "120a3442-be73-4c1b-abfe-860eefc73b1d",
   "metadata": {},
   "outputs": [
    {
     "name": "stdout",
     "output_type": "stream",
     "text": [
      "18 is between 10-50\n",
      "program executed\n"
     ]
    }
   ],
   "source": [
    "a=18\n",
    "if(a>100):\n",
    "    print(a,'is above 100')\n",
    "elif(a%2==0):\n",
    "    if(a>10 and a<50):\n",
    "        print(a,'is between 10-50')\n",
    "    elif(a>0 and a<=10):\n",
    "        print(a,'is a between 0-10')\n",
    "    else:\n",
    "        print(a)\n",
    "print('program executed')"
   ]
  },
  {
   "cell_type": "code",
   "execution_count": 16,
   "id": "2047ec5d-a19c-4e17-b57d-8297ff1744ce",
   "metadata": {},
   "outputs": [
    {
     "name": "stdin",
     "output_type": "stream",
     "text": [
      "enter your number 87\n"
     ]
    },
    {
     "name": "stdout",
     "output_type": "stream",
     "text": [
      "a is odd number\n"
     ]
    }
   ],
   "source": [
    "a = int(input('enter your number'))\n",
    "if(a%2==0):\n",
    "    print(a, \"is a multiple if 2\")\n",
    "    if(a>10 and a<20):\n",
    "        print(a,'is greater than 10 but less than 20')\n",
    "    elif(a>20 and a<50):\n",
    "        print(a,'is between 20-50')\n",
    "    else:print(a,'is above 50')\n",
    "else:print('a is odd number')"
   ]
  },
  {
   "cell_type": "code",
   "execution_count": 18,
   "id": "dd7e131d-b76e-498e-87fd-5f7c39975561",
   "metadata": {},
   "outputs": [
    {
     "name": "stdin",
     "output_type": "stream",
     "text": [
      "enter how you greet in your country namaste\n",
      "enter your name bhumika\n"
     ]
    },
    {
     "name": "stdout",
     "output_type": "stream",
     "text": [
      "namaste bhumika\n"
     ]
    }
   ],
   "source": [
    "a=input('enter how you greet in your country')\n",
    "if(a=='namaste'):\n",
    "    name=input('enter your name')\n",
    "    print('namaste',name)\n",
    "elif(a=='bonjour'):\n",
    "    name=input('enter your name')\n",
    "    print('bonjour',name)\n",
    "elif(a=='hola'):\n",
    "    name=input('enter your name')\n",
    "    print('hola',name)\n",
    "else:print(\"user is of different country\")"
   ]
  },
  {
   "cell_type": "code",
   "execution_count": 27,
   "id": "d00419ab-3f64-4788-9019-c48987f40b30",
   "metadata": {},
   "outputs": [
    {
     "ename": "IndentationError",
     "evalue": "expected an indented block after 'if' statement on line 2 (3397099937.py, line 4)",
     "output_type": "error",
     "traceback": [
      "\u001b[1;36m  Cell \u001b[1;32mIn[27], line 4\u001b[1;36m\u001b[0m\n\u001b[1;33m    else:\u001b[0m\n\u001b[1;37m    ^\u001b[0m\n\u001b[1;31mIndentationError\u001b[0m\u001b[1;31m:\u001b[0m expected an indented block after 'if' statement on line 2\n"
     ]
    }
   ],
   "source": [
    "a=100\n",
    "if(a>10):\n",
    "    \n",
    "else:\n",
    "    print(a)"
   ]
  },
  {
   "cell_type": "code",
   "execution_count": 29,
   "id": "d3e204d2-6f8a-40f3-b09b-f830fb7ac9b4",
   "metadata": {},
   "outputs": [],
   "source": [
    "a=100\n",
    "if(a>10):\n",
    "    pass\n",
    "else:\n",
    "    print(a)"
   ]
  },
  {
   "cell_type": "code",
   "execution_count": 37,
   "id": "763ea6fd-643b-4572-a821-c20cf728d268",
   "metadata": {},
   "outputs": [
    {
     "name": "stderr",
     "output_type": "stream",
     "text": [
      "<>:6: SyntaxWarning: invalid decimal literal\n",
      "<>:6: SyntaxWarning: invalid decimal literal\n",
      "C:\\Users\\acer\\AppData\\Local\\Temp\\ipykernel_10372\\3221799974.py:6: SyntaxWarning: invalid decimal literal\n",
      "  elif(time>=16and time<=19):\n",
      "C:\\Users\\acer\\AppData\\Local\\Temp\\ipykernel_10372\\3221799974.py:6: SyntaxWarning: invalid decimal literal\n",
      "  elif(time>=16and time<=19):\n"
     ]
    },
    {
     "ename": "KeyboardInterrupt",
     "evalue": "Interrupted by user",
     "output_type": "error",
     "traceback": [
      "\u001b[1;31m---------------------------------------------------------------------------\u001b[0m",
      "\u001b[1;31mKeyboardInterrupt\u001b[0m                         Traceback (most recent call last)",
      "Cell \u001b[1;32mIn[37], line 1\u001b[0m\n\u001b[1;32m----> 1\u001b[0m time\u001b[38;5;241m=\u001b[39m\u001b[38;5;28mint\u001b[39m(\u001b[38;5;28minput\u001b[39m(\u001b[38;5;124m'\u001b[39m\u001b[38;5;124menter time\u001b[39m\u001b[38;5;124m'\u001b[39m))\n\u001b[0;32m      2\u001b[0m \u001b[38;5;28;01mif\u001b[39;00m(time\u001b[38;5;241m>\u001b[39m\u001b[38;5;241m=\u001b[39m\u001b[38;5;241m4\u001b[39m \u001b[38;5;129;01mand\u001b[39;00m time\u001b[38;5;241m<\u001b[39m\u001b[38;5;241m=\u001b[39m\u001b[38;5;241m12\u001b[39m):\n\u001b[0;32m      3\u001b[0m          \u001b[38;5;28mprint\u001b[39m(\u001b[38;5;124m'\u001b[39m\u001b[38;5;124mGood morning\u001b[39m\u001b[38;5;124m'\u001b[39m)\n",
      "File \u001b[1;32mC:\\ProgramData\\anaconda3\\Lib\\site-packages\\ipykernel\\kernelbase.py:1262\u001b[0m, in \u001b[0;36mKernel.raw_input\u001b[1;34m(self, prompt)\u001b[0m\n\u001b[0;32m   1260\u001b[0m     msg \u001b[38;5;241m=\u001b[39m \u001b[38;5;124m\"\u001b[39m\u001b[38;5;124mraw_input was called, but this frontend does not support input requests.\u001b[39m\u001b[38;5;124m\"\u001b[39m\n\u001b[0;32m   1261\u001b[0m     \u001b[38;5;28;01mraise\u001b[39;00m StdinNotImplementedError(msg)\n\u001b[1;32m-> 1262\u001b[0m \u001b[38;5;28;01mreturn\u001b[39;00m \u001b[38;5;28mself\u001b[39m\u001b[38;5;241m.\u001b[39m_input_request(\n\u001b[0;32m   1263\u001b[0m     \u001b[38;5;28mstr\u001b[39m(prompt),\n\u001b[0;32m   1264\u001b[0m     \u001b[38;5;28mself\u001b[39m\u001b[38;5;241m.\u001b[39m_parent_ident[\u001b[38;5;124m\"\u001b[39m\u001b[38;5;124mshell\u001b[39m\u001b[38;5;124m\"\u001b[39m],\n\u001b[0;32m   1265\u001b[0m     \u001b[38;5;28mself\u001b[39m\u001b[38;5;241m.\u001b[39mget_parent(\u001b[38;5;124m\"\u001b[39m\u001b[38;5;124mshell\u001b[39m\u001b[38;5;124m\"\u001b[39m),\n\u001b[0;32m   1266\u001b[0m     password\u001b[38;5;241m=\u001b[39m\u001b[38;5;28;01mFalse\u001b[39;00m,\n\u001b[0;32m   1267\u001b[0m )\n",
      "File \u001b[1;32mC:\\ProgramData\\anaconda3\\Lib\\site-packages\\ipykernel\\kernelbase.py:1305\u001b[0m, in \u001b[0;36mKernel._input_request\u001b[1;34m(self, prompt, ident, parent, password)\u001b[0m\n\u001b[0;32m   1302\u001b[0m \u001b[38;5;28;01mexcept\u001b[39;00m \u001b[38;5;167;01mKeyboardInterrupt\u001b[39;00m:\n\u001b[0;32m   1303\u001b[0m     \u001b[38;5;66;03m# re-raise KeyboardInterrupt, to truncate traceback\u001b[39;00m\n\u001b[0;32m   1304\u001b[0m     msg \u001b[38;5;241m=\u001b[39m \u001b[38;5;124m\"\u001b[39m\u001b[38;5;124mInterrupted by user\u001b[39m\u001b[38;5;124m\"\u001b[39m\n\u001b[1;32m-> 1305\u001b[0m     \u001b[38;5;28;01mraise\u001b[39;00m \u001b[38;5;167;01mKeyboardInterrupt\u001b[39;00m(msg) \u001b[38;5;28;01mfrom\u001b[39;00m \u001b[38;5;28;01mNone\u001b[39;00m\n\u001b[0;32m   1306\u001b[0m \u001b[38;5;28;01mexcept\u001b[39;00m \u001b[38;5;167;01mException\u001b[39;00m:\n\u001b[0;32m   1307\u001b[0m     \u001b[38;5;28mself\u001b[39m\u001b[38;5;241m.\u001b[39mlog\u001b[38;5;241m.\u001b[39mwarning(\u001b[38;5;124m\"\u001b[39m\u001b[38;5;124mInvalid Message:\u001b[39m\u001b[38;5;124m\"\u001b[39m, exc_info\u001b[38;5;241m=\u001b[39m\u001b[38;5;28;01mTrue\u001b[39;00m)\n",
      "\u001b[1;31mKeyboardInterrupt\u001b[0m: Interrupted by user"
     ]
    },
    {
     "name": "stdin",
     "output_type": "stream",
     "text": [
      "enter time 5\n"
     ]
    }
   ],
   "source": [
    "time=int(input('enter time'))\n",
    "if(time>=4 and time<=12):\n",
    "         print('Good morning')\n",
    "elif(time>12 and time<15):\n",
    "         print('Good afternoon')\n",
    "elif(time>=16and time<=19):\n",
    "         print('good evening')\n",
    "else: print('good night')"
   ]
  },
  {
   "cell_type": "markdown",
   "id": "f03568d8-aeaf-4107-9f4a-57a58b0edb22",
   "metadata": {},
   "source": [
    "## Match case\n",
    "- it is similar to switch case in c++ and c.\n",
    "- Here we have to first pass a parameter and then try to check with which case the parameter is getting satisfied. If we find a match we will execute some code and if there is no match at all, a default action will take place.\n",
    "- the match case consist of 3 main entities:\n",
    "    - 1.the match case.\n",
    "    - 2.one or more match case.\n",
    "    - 3.expression for each case.\n",
    "    - for default case we use '_'"
   ]
  },
  {
   "cell_type": "code",
   "execution_count": 42,
   "id": "be24116a-880a-4145-87f3-a3de492c4447",
   "metadata": {},
   "outputs": [
    {
     "name": "stdout",
     "output_type": "stream",
     "text": [
      "9\n"
     ]
    }
   ],
   "source": [
    "a=9\n",
    "match a:\n",
    "    case 0:\n",
    "       print(\"a is zero\")\n",
    "    case 1:\n",
    "        print(\"a is one\")\n",
    "    case 3:\n",
    "        print('a is three')\n",
    "    case _:\n",
    "        print(a)\n"
   ]
  },
  {
   "cell_type": "code",
   "execution_count": 50,
   "id": "736a017d-ecf2-400f-aa68-cca7c6cabb08",
   "metadata": {},
   "outputs": [
    {
     "name": "stdout",
     "output_type": "stream",
     "text": [
      "9\n"
     ]
    }
   ],
   "source": [
    "a=9\n",
    "match a:\n",
    "    case 0:\n",
    "       print(\"a is zero\")\n",
    "    case 1:\n",
    "        print(\"a is one\")\n",
    "    case 3:\n",
    "        print('a is three')\n",
    "    case _:\n",
    "        print(a)\n"
   ]
  },
  {
   "cell_type": "code",
   "execution_count": 4,
   "id": "f7c72c47-9125-4c3c-91c7-574180c6e347",
   "metadata": {},
   "outputs": [
    {
     "name": "stdin",
     "output_type": "stream",
     "text": [
      "enter how you greet namaste\n"
     ]
    },
    {
     "name": "stdout",
     "output_type": "stream",
     "text": [
      "user is from different country\n"
     ]
    }
   ],
   "source": [
    "a=input(\"enter how you greet\")\n",
    "match a:\n",
    "  case 1 if(a=='namaste'):\n",
    "          print('user is indian')\n",
    "  case 2 if(a=='bonjour'):\n",
    "          print('user is from france')\n",
    "  case _:\n",
    "      print('user is from different country')\n",
    "\n"
   ]
  },
  {
   "cell_type": "code",
   "execution_count": 11,
   "id": "54150207-efe1-4154-924b-e8bdc1f3858d",
   "metadata": {},
   "outputs": [
    {
     "name": "stdin",
     "output_type": "stream",
     "text": [
      "enter units 85\n"
     ]
    },
    {
     "name": "stdout",
     "output_type": "stream",
     "text": [
      "free\n"
     ]
    }
   ],
   "source": [
    "# write a program to calculate electricity bill in rs.\n",
    "units=int(input('enter units'))\n",
    "if(units<=100):\n",
    "    bill='free'\n",
    "elif(units>100 and units<=200):\n",
    "    bill=5*units\n",
    "else:\n",
    "    bill=units*10\n",
    "print(bill)"
   ]
  },
  {
   "cell_type": "code",
   "execution_count": 18,
   "id": "ec58bb3d-78c7-40eb-bed0-ec14d692b76f",
   "metadata": {},
   "outputs": [
    {
     "name": "stdin",
     "output_type": "stream",
     "text": [
      "enter the num1 1\n",
      "enter the num2 1\n",
      "enter the num3 1\n"
     ]
    },
    {
     "name": "stdout",
     "output_type": "stream",
     "text": [
      "sum1 is: 3\n",
      "0\n"
     ]
    }
   ],
   "source": [
    "n1=int(input('enter the num1'))\n",
    "n2=int(input('enter the num2'))\n",
    "n3=int(input('enter the num3'))\n",
    "sum1=n1+n2+n3\n",
    "print('sum1 is:',sum1)\n",
    "if(n1==n2 and n1==n3):\n",
    "    print(0)\n",
    "elif(n1==n2 and n1!=n3):\n",
    "    print(n3)\n",
    "elif(n1==n3 and n1!=n2):\n",
    "    print(n2)\n",
    "elif(n2==n3 and n2!=n1):\n",
    "    print(n1)\n",
    "else:\n",
    "    sum2=n1+n2+n3\n",
    "    print('sum2 is:',sum2)"
   ]
  },
  {
   "cell_type": "code",
   "execution_count": 21,
   "id": "648a3edd-b4a3-45c8-a54a-c50c01fd4512",
   "metadata": {},
   "outputs": [
    {
     "name": "stdin",
     "output_type": "stream",
     "text": [
      "enter the seconds 122\n"
     ]
    },
    {
     "name": "stdout",
     "output_type": "stream",
     "text": [
      "122 seconds is equal to 2 minutes and 2 seconds\n"
     ]
    }
   ],
   "source": [
    "#convert user input seconds into minutes.\n",
    "n=int(input('enter the seconds'))\n",
    "if(min%60==0):\n",
    "      min=n//60\n",
    "      sec=0;\n",
    "else:\n",
    "    min=n//60;\n",
    "    sec=n%60;\n",
    "\n",
    "print(n,'seconds is equal to',min,'minutes and', sec,'seconds')"
   ]
  },
  {
   "cell_type": "code",
   "execution_count": 1,
   "id": "02de86be-0d31-4f81-8fbf-01978ab89558",
   "metadata": {},
   "outputs": [
    {
     "name": "stdin",
     "output_type": "stream",
     "text": [
      "enter the number 34\n",
      "enter done or resart: restart\n",
      "enter the number 45\n",
      "enter done or resart: done\n"
     ]
    },
    {
     "name": "stdout",
     "output_type": "stream",
     "text": [
      "79\n"
     ]
    }
   ],
   "source": [
    "#\n",
    "list=[]\n",
    "i='restart'\n",
    "while(i!='done'):\n",
    "    n=int(input('enter the number'))\n",
    "    list.append(n)\n",
    "    i=input('enter done or resart:')\n",
    "print(sum(list))"
   ]
  },
  {
   "cell_type": "code",
   "execution_count": 46,
   "id": "d6c17fb0-c50d-4da5-8de0-4b58c7008aea",
   "metadata": {},
   "outputs": [
    {
     "name": "stdout",
     "output_type": "stream",
     "text": [
      "1\n",
      "2\n",
      "3\n",
      "4\n",
      "5\n",
      "6\n",
      "7\n",
      "8\n",
      "9\n",
      "2\n",
      "4\n",
      "6\n",
      "8\n",
      "10\n",
      "12\n",
      "14\n",
      "16\n",
      "18\n",
      "3\n",
      "6\n",
      "9\n",
      "12\n",
      "15\n",
      "18\n",
      "21\n",
      "24\n",
      "27\n",
      "4\n",
      "8\n",
      "12\n",
      "16\n",
      "20\n",
      "24\n",
      "28\n",
      "32\n",
      "36\n",
      "5\n",
      "10\n",
      "15\n",
      "20\n",
      "25\n",
      "30\n",
      "35\n",
      "40\n",
      "45\n",
      "6\n",
      "12\n",
      "18\n",
      "24\n",
      "30\n",
      "36\n",
      "42\n",
      "48\n",
      "54\n",
      "7\n",
      "14\n",
      "21\n",
      "28\n",
      "35\n",
      "42\n",
      "49\n",
      "56\n",
      "63\n",
      "8\n",
      "16\n",
      "24\n",
      "32\n",
      "40\n",
      "48\n",
      "56\n",
      "64\n",
      "72\n",
      "9\n",
      "18\n",
      "27\n",
      "36\n",
      "45\n",
      "54\n",
      "63\n",
      "72\n",
      "81\n"
     ]
    }
   ],
   "source": [
    "for i in range(1,10):\n",
    "    for j in range(1,10):\n",
    "        print(i*j)"
   ]
  },
  {
   "cell_type": "code",
   "execution_count": 28,
   "id": "5e03ce50-1961-4631-b7aa-dba94d7e9d3b",
   "metadata": {},
   "outputs": [
    {
     "name": "stdin",
     "output_type": "stream",
     "text": [
      "enter your password ········\n",
      "enter the password ········\n",
      "enter the password ········\n"
     ]
    }
   ],
   "source": [
    "#Create a while loop that asks the user for a password until they enter the correct one.\n",
    "pass_word=getpass.getpass('enter your password')\n",
    "password=\"\"\n",
    "while password!=pass_word:\n",
    "    passcode=getpass.getpass('enter the password')\n",
    "    if(passcode==pass_word):\n",
    "        break;\n",
    "\n"
   ]
  },
  {
   "cell_type": "code",
   "execution_count": 34,
   "id": "c531e5fd-b5e5-46bf-a5ae-701315ff618f",
   "metadata": {},
   "outputs": [
    {
     "name": "stdout",
     "output_type": "stream",
     "text": [
      "0\n",
      "1\n",
      "1\n",
      "2\n",
      "3\n",
      "5\n",
      "8\n",
      "13\n",
      "21\n",
      "34\n"
     ]
    }
   ],
   "source": [
    "#Write a while loop that prints the Fibonacci sequence up to the 10th term.\n",
    "a=0\n",
    "b=1\n",
    "i=3\n",
    "print(a)\n",
    "print(b)\n",
    "while(i<=10):\n",
    "    fab=a+b\n",
    "    print(fab)\n",
    "    a=b\n",
    "    b=fab\n",
    "    i+=1\n",
    "    "
   ]
  },
  {
   "cell_type": "code",
   "execution_count": 7,
   "id": "063c8ba4-fa56-49ff-83e9-3845e626340c",
   "metadata": {},
   "outputs": [
    {
     "name": "stdin",
     "output_type": "stream",
     "text": [
      "rock/paper/scissors: rock\n",
      "rock/paper/scissors: rock\n"
     ]
    },
    {
     "name": "stdout",
     "output_type": "stream",
     "text": [
      "tie\n"
     ]
    },
    {
     "name": "stdin",
     "output_type": "stream",
     "text": [
      "play/terminate: terminate\n"
     ]
    }
   ],
   "source": [
    "#Write a while loop that simulates a game of rock-paper-scissors.\n",
    "p='play'\n",
    "while(p=='play'):\n",
    "    input1=input('rock/paper/scissors:')\n",
    "    input2=input('rock/paper/scissors:')\n",
    "    if((input1=='rock' and input2=='paper') or (input1=='paper' and input2=='scissors')or (input1=='scissors'and input2=='rock')):\n",
    "        print('player2 is winner')\n",
    "    elif((input2=='rock' and input1=='paper') or (input2=='paper' and input1=='scissors')or (input2=='scissors'and input1=='rock')):\n",
    "        print('player1 is winner')\n",
    "    elif(input1==input2):\n",
    "        print('tie')\n",
    "    p=input('play/terminate:')"
   ]
  },
  {
   "cell_type": "code",
   "execution_count": null,
   "id": "55fb357c-0071-4d98-8f8a-2a8aca3a7a90",
   "metadata": {},
   "outputs": [],
   "source": []
  },
  {
   "cell_type": "code",
   "execution_count": null,
   "id": "f86d9f90-fb02-4d76-b9a2-1574418b1e1e",
   "metadata": {},
   "outputs": [],
   "source": []
  }
 ],
 "metadata": {
  "kernelspec": {
   "display_name": "Python 3 (ipykernel)",
   "language": "python",
   "name": "python3"
  },
  "language_info": {
   "codemirror_mode": {
    "name": "ipython",
    "version": 3
   },
   "file_extension": ".py",
   "mimetype": "text/x-python",
   "name": "python",
   "nbconvert_exporter": "python",
   "pygments_lexer": "ipython3",
   "version": "3.12.4"
  }
 },
 "nbformat": 4,
 "nbformat_minor": 5
}
